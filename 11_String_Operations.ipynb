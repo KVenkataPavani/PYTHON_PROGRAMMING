{
  "nbformat": 4,
  "nbformat_minor": 0,
  "metadata": {
    "colab": {
      "provenance": [],
      "authorship_tag": "ABX9TyMhJdtgKZvSZZKnhOdzj4h1",
      "include_colab_link": true
    },
    "kernelspec": {
      "name": "python3",
      "display_name": "Python 3"
    },
    "language_info": {
      "name": "python"
    }
  },
  "cells": [
    {
      "cell_type": "markdown",
      "metadata": {
        "id": "view-in-github",
        "colab_type": "text"
      },
      "source": [
        "<a href=\"https://colab.research.google.com/github/KVenkataPavani/PYTHON_PROGRAMMING/blob/main/11_String_Operations.ipynb\" target=\"_parent\"><img src=\"https://colab.research.google.com/assets/colab-badge.svg\" alt=\"Open In Colab\"/></a>"
      ]
    },
    {
      "cell_type": "markdown",
      "source": [
        "# **STRING OPERATIONS**"
      ],
      "metadata": {
        "id": "YsQIKnelWZpn"
      }
    },
    {
      "cell_type": "markdown",
      "source": [
        "* Concatenate Operator (+)\n",
        "* Repetition Operator (*)\n",
        "* String Comparsion Operators (==, !=, >=, <=, >, <)\n",
        "* Membership Operators (in, not in)\n",
        "* Escape Sequence Operator (\\, \\n, \\b, \\ooo, \\xhh)\n",
        "* String Formatting Operator (%s, %d, %f)"
      ],
      "metadata": {
        "id": "4QI-Sg5odHEV"
      }
    },
    {
      "cell_type": "markdown",
      "source": [
        "### **concatenate (+)**"
      ],
      "metadata": {
        "id": "hLxspV2QWkOL"
      }
    },
    {
      "cell_type": "code",
      "source": [
        "print(\"pavani\"+\"kv\")"
      ],
      "metadata": {
        "colab": {
          "base_uri": "https://localhost:8080/"
        },
        "id": "Zw3GXRPvcqwO",
        "outputId": "87566e34-1aa0-4e42-e3d2-5a4a63a8d9fd"
      },
      "execution_count": 1,
      "outputs": [
        {
          "output_type": "stream",
          "name": "stdout",
          "text": [
            "pavanikv\n"
          ]
        }
      ]
    },
    {
      "cell_type": "code",
      "source": [
        "print(\"pavani\"+\"kv\"+\"  hello\")"
      ],
      "metadata": {
        "colab": {
          "base_uri": "https://localhost:8080/"
        },
        "id": "bRLWkQWoc2-x",
        "outputId": "9b569ed0-af21-43d5-84ef-c9cc311f113b"
      },
      "execution_count": 2,
      "outputs": [
        {
          "output_type": "stream",
          "name": "stdout",
          "text": [
            "pavanikv  hello\n"
          ]
        }
      ]
    },
    {
      "cell_type": "code",
      "source": [
        "print(\"pavani \"+\" kv\"+\" hello\")"
      ],
      "metadata": {
        "colab": {
          "base_uri": "https://localhost:8080/"
        },
        "id": "QAHo7Z4pdado",
        "outputId": "18ca6285-5e6a-4810-e2cf-708b94be4ce8"
      },
      "execution_count": 4,
      "outputs": [
        {
          "output_type": "stream",
          "name": "stdout",
          "text": [
            "pavani  kv hello\n"
          ]
        }
      ]
    },
    {
      "cell_type": "markdown",
      "source": [
        "**Repetition operator (*)**"
      ],
      "metadata": {
        "id": "XhT1lXjTdpHj"
      }
    },
    {
      "cell_type": "code",
      "source": [
        "print(\"pavani\"*2)"
      ],
      "metadata": {
        "colab": {
          "base_uri": "https://localhost:8080/"
        },
        "id": "ly7g4Yg0dvPX",
        "outputId": "ce032631-825f-4362-f7b6-b119da6a0064"
      },
      "execution_count": 5,
      "outputs": [
        {
          "output_type": "stream",
          "name": "stdout",
          "text": [
            "pavanipavani\n"
          ]
        }
      ]
    },
    {
      "cell_type": "code",
      "source": [
        "print(\"pavani \"*2)\n",
        "print(\"pavani\"*0)\n",
        "print(\"pavani\"*1)\n",
        "print(\"pavani\"*-1)\n",
        "print(\"pavani \"*-2)\n",
        "print(\"pavanikv \"*3)"
      ],
      "metadata": {
        "colab": {
          "base_uri": "https://localhost:8080/"
        },
        "id": "vXsAvslNd1x-",
        "outputId": "017a1a5b-7cf1-4cf4-de3a-4cf1e8ed9a19"
      },
      "execution_count": 9,
      "outputs": [
        {
          "output_type": "stream",
          "name": "stdout",
          "text": [
            "pavani pavani \n",
            "\n",
            "pavani\n",
            "\n",
            "\n",
            "pavanikv pavanikv pavanikv \n"
          ]
        }
      ]
    },
    {
      "cell_type": "code",
      "source": [
        "\"pavani\"*0"
      ],
      "metadata": {
        "colab": {
          "base_uri": "https://localhost:8080/",
          "height": 36
        },
        "id": "Y-EvsLIeePRh",
        "outputId": "44733df0-87a5-412c-9158-8b0fece54493"
      },
      "execution_count": 11,
      "outputs": [
        {
          "output_type": "execute_result",
          "data": {
            "text/plain": [
              "''"
            ],
            "application/vnd.google.colaboratory.intrinsic+json": {
              "type": "string"
            }
          },
          "metadata": {},
          "execution_count": 11
        }
      ]
    },
    {
      "cell_type": "code",
      "source": [
        "\"paani\"*-1"
      ],
      "metadata": {
        "colab": {
          "base_uri": "https://localhost:8080/",
          "height": 36
        },
        "id": "Pd3c0nrZeYEB",
        "outputId": "7b65fcc8-a924-4b0c-9a73-b381d3fae501"
      },
      "execution_count": 12,
      "outputs": [
        {
          "output_type": "execute_result",
          "data": {
            "text/plain": [
              "''"
            ],
            "application/vnd.google.colaboratory.intrinsic+json": {
              "type": "string"
            }
          },
          "metadata": {},
          "execution_count": 12
        }
      ]
    },
    {
      "cell_type": "markdown",
      "source": [
        "**comparison operator - (==, !=, >=, <=, >, <)**"
      ],
      "metadata": {
        "id": "YOsrApabeixP"
      }
    },
    {
      "cell_type": "code",
      "source": [
        "print(\"pavani\"==\"pavani\")\n",
        "print(\"Pavani\"==\"pavani\")\n",
        "print(\"pavani\"==\"Pavani\")\n",
        "print(\"PAVANI\"==\"pavani\")\n",
        "print(\"pavani\"==\"PAVANI\")"
      ],
      "metadata": {
        "colab": {
          "base_uri": "https://localhost:8080/"
        },
        "id": "v_x9eW6_eofO",
        "outputId": "9f92929d-f98e-480c-fa7d-43b06e75a247"
      },
      "execution_count": 13,
      "outputs": [
        {
          "output_type": "stream",
          "name": "stdout",
          "text": [
            "True\n",
            "False\n",
            "False\n",
            "False\n",
            "False\n"
          ]
        }
      ]
    },
    {
      "cell_type": "code",
      "source": [
        "print(\"pavani\"!=\"Pavani\")\n",
        "print(\"PAVANI\"==\"pavani\")"
      ],
      "metadata": {
        "colab": {
          "base_uri": "https://localhost:8080/"
        },
        "id": "3N8uAAvUfGIl",
        "outputId": "1aab29a4-a116-4bab-f4e2-ad13fc5bc3d0"
      },
      "execution_count": 14,
      "outputs": [
        {
          "output_type": "stream",
          "name": "stdout",
          "text": [
            "True\n",
            "False\n"
          ]
        }
      ]
    },
    {
      "cell_type": "code",
      "source": [
        "print(\"pavani\"<=\"pavani\")\n",
        "print(\"Pavani\"<=\"pavani\")\n",
        "print(\"pavani\"<=\"Pavani\")\n",
        "print(\"PAVANI\"<=\"pavani\")\n",
        "print(\"pavani\"<=\"PAVANI\")"
      ],
      "metadata": {
        "colab": {
          "base_uri": "https://localhost:8080/"
        },
        "id": "nHVY5_pjfUfe",
        "outputId": "dcabe5a9-b4a7-4ca8-d1bc-38e094b0a707"
      },
      "execution_count": 15,
      "outputs": [
        {
          "output_type": "stream",
          "name": "stdout",
          "text": [
            "True\n",
            "True\n",
            "False\n",
            "True\n",
            "False\n"
          ]
        }
      ]
    },
    {
      "cell_type": "code",
      "source": [
        "print(\"pavani\"<=\"pavani\")\n",
        "print(\"Pavani\"<=\"pavani\")\n",
        "print(\"pavani\"<=\"Pavani\")\n",
        "print(\"PAVANI\"<=\"pavani\")\n",
        "print(\"pavani\"<=\"PAVANI\")\n",
        "#The comparison is based on Unicode values. The lowercase letter 'p' has a higher Unicode value than the uppercase 'P'"
      ],
      "metadata": {
        "colab": {
          "base_uri": "https://localhost:8080/"
        },
        "id": "zEDI_fJ-fq_2",
        "outputId": "44b6c2dd-50f1-46a9-f8e8-ca893d19068a"
      },
      "execution_count": 16,
      "outputs": [
        {
          "output_type": "stream",
          "name": "stdout",
          "text": [
            "True\n",
            "True\n",
            "False\n",
            "True\n",
            "False\n"
          ]
        }
      ]
    },
    {
      "cell_type": "code",
      "source": [
        "print(\"pavani\">=\"pavani\")\n",
        "print(\"Pavani\">=\"pavani\")\n",
        "print(\"pavani\">=\"Pavani\")\n",
        "print(\"PAVANI\">=\"pavani\")\n",
        "print(\"pavani\">=\"PAVANI\")"
      ],
      "metadata": {
        "colab": {
          "base_uri": "https://localhost:8080/"
        },
        "id": "JSav2VwAgOl0",
        "outputId": "c3993491-901b-43c6-bb89-9cf12e38547c"
      },
      "execution_count": 17,
      "outputs": [
        {
          "output_type": "stream",
          "name": "stdout",
          "text": [
            "True\n",
            "False\n",
            "True\n",
            "False\n",
            "True\n"
          ]
        }
      ]
    },
    {
      "cell_type": "code",
      "source": [
        "print(\"pavani\">\"pavani\")#both are same\n",
        "print(\"Pavani\">\"pavani\")\n",
        "print(\"pavani\">\"Pavani\")\n",
        "print(\"PAVANI\">\"pavani\")\n",
        "print(\"pavani\">\"PAVANI\")\n",
        "print(\"-----------------\")\n",
        "print(\"pavani\"<\"pavani\")\n",
        "print(\"Pavani\"<\"pavani\")\n",
        "print(\"pavani\"<\"Pavani\")\n",
        "print(\"PAVANI\"<\"pavani\")\n",
        "print(\"pavani\"<\"PAVANI\")"
      ],
      "metadata": {
        "colab": {
          "base_uri": "https://localhost:8080/"
        },
        "id": "zPksLLIJhm2P",
        "outputId": "2fc41499-4a61-416f-dfa7-9f4b506b5956"
      },
      "execution_count": 18,
      "outputs": [
        {
          "output_type": "stream",
          "name": "stdout",
          "text": [
            "False\n",
            "False\n",
            "True\n",
            "False\n",
            "True\n",
            "-----------------\n",
            "False\n",
            "True\n",
            "False\n",
            "True\n",
            "False\n"
          ]
        }
      ]
    },
    {
      "cell_type": "code",
      "source": [
        "print(\"Pavani\">\"paVani\")\n",
        "print(\"pavani\">\"pAavani\")\n"
      ],
      "metadata": {
        "colab": {
          "base_uri": "https://localhost:8080/"
        },
        "id": "sBt2oZwJiFkv",
        "outputId": "2f6c8c6b-a8eb-4f28-b1f8-7adacb5d3ebd"
      },
      "execution_count": 19,
      "outputs": [
        {
          "output_type": "stream",
          "name": "stdout",
          "text": [
            "False\n",
            "True\n"
          ]
        }
      ]
    },
    {
      "cell_type": "code",
      "source": [
        "print(ord(\"p\"))\n",
        "print(ord(\"P\"))# small p> capital P"
      ],
      "metadata": {
        "colab": {
          "base_uri": "https://localhost:8080/"
        },
        "id": "EzK0Z1d-iSQ5",
        "outputId": "c79c98d5-433b-4617-b412-5ac06a82096f"
      },
      "execution_count": 20,
      "outputs": [
        {
          "output_type": "stream",
          "name": "stdout",
          "text": [
            "112\n",
            "80\n"
          ]
        }
      ]
    },
    {
      "cell_type": "markdown",
      "source": [
        "**membership operators-(in, not in)**"
      ],
      "metadata": {
        "id": "LLqGn7d0iiX7"
      }
    },
    {
      "cell_type": "code",
      "source": [
        "names=[\"he\",\"HEHE\",\"kiki\"]\n",
        "print(\"HE\" in names)\n",
        "print(\"HE\" not in names)\n",
        "print(\"HEHE\" in names)\n",
        "print(\"he\" in names)\n",
        "print(\"ki\" in names)\n",
        "print(\"ki\" not in names)"
      ],
      "metadata": {
        "colab": {
          "base_uri": "https://localhost:8080/"
        },
        "id": "J2R5cmVTipSe",
        "outputId": "9e98f5e0-e051-4c88-e975-4337054f016d"
      },
      "execution_count": 23,
      "outputs": [
        {
          "output_type": "stream",
          "name": "stdout",
          "text": [
            "False\n",
            "True\n",
            "True\n",
            "True\n",
            "False\n",
            "True\n"
          ]
        }
      ]
    },
    {
      "cell_type": "markdown",
      "source": [
        "**Escape Sequence Operator - (backslash, \\n, \\b, \\ooo, \\xhh)**"
      ],
      "metadata": {
        "id": "BlDFNhwPjQjB"
      }
    },
    {
      "cell_type": "code",
      "source": [
        "print(\"todays lunch : \"cheesecake\"\")"
      ],
      "metadata": {
        "colab": {
          "base_uri": "https://localhost:8080/",
          "height": 106
        },
        "id": "dVZvd9YFjhKS",
        "outputId": "e7f0d926-3005-4eed-9f5f-384cd1eebd6d"
      },
      "execution_count": 29,
      "outputs": [
        {
          "output_type": "error",
          "ename": "SyntaxError",
          "evalue": "invalid syntax. Perhaps you forgot a comma? (<ipython-input-29-c1233fc97037>, line 1)",
          "traceback": [
            "\u001b[0;36m  File \u001b[0;32m\"<ipython-input-29-c1233fc97037>\"\u001b[0;36m, line \u001b[0;32m1\u001b[0m\n\u001b[0;31m    print(\"todays lunch : \"cheesecake\"\")\u001b[0m\n\u001b[0m          ^\u001b[0m\n\u001b[0;31mSyntaxError\u001b[0m\u001b[0;31m:\u001b[0m invalid syntax. Perhaps you forgot a comma?\n"
          ]
        }
      ]
    },
    {
      "cell_type": "code",
      "source": [
        "#\\\n",
        "print(\"Todays lunch : \\\"CheeseCake\\\"\")"
      ],
      "metadata": {
        "colab": {
          "base_uri": "https://localhost:8080/"
        },
        "id": "f4MZ05JFkE1t",
        "outputId": "becf9d0e-8083-4b47-8c8c-04a8c51d8927"
      },
      "execution_count": 35,
      "outputs": [
        {
          "output_type": "stream",
          "name": "stdout",
          "text": [
            "Todays lunch : \"CheeseCake\"\n"
          ]
        }
      ]
    },
    {
      "cell_type": "code",
      "source": [
        "print(\"Today's lunch : \\\"CheeseCake\\\"\")"
      ],
      "metadata": {
        "colab": {
          "base_uri": "https://localhost:8080/"
        },
        "id": "FL6rCV2bkqxy",
        "outputId": "aa6ef56e-5765-4911-8357-a57ecb4988c0"
      },
      "execution_count": 36,
      "outputs": [
        {
          "output_type": "stream",
          "name": "stdout",
          "text": [
            "Today's lunch : \"CheeseCake\"\n"
          ]
        }
      ]
    },
    {
      "cell_type": "code",
      "source": [
        "#\\n - new line\n",
        "print(\"cheesecake1 flavour : NewYork Cheesecake\"\\n\"cheesecake2 flavour : Burnt Basque Cheesecake\")"
      ],
      "metadata": {
        "colab": {
          "base_uri": "https://localhost:8080/",
          "height": 106
        },
        "id": "RCKhn79Kk9o3",
        "outputId": "746880af-7319-4d80-d4c3-f097fb914415"
      },
      "execution_count": 39,
      "outputs": [
        {
          "output_type": "error",
          "ename": "SyntaxError",
          "evalue": "unexpected character after line continuation character (<ipython-input-39-ffae88cd531a>, line 2)",
          "traceback": [
            "\u001b[0;36m  File \u001b[0;32m\"<ipython-input-39-ffae88cd531a>\"\u001b[0;36m, line \u001b[0;32m2\u001b[0m\n\u001b[0;31m    print(\"cheesecake1 flavour : NewYork Cheesecake\"\\n\"cheesecake2 flavour : Burnt Basque Cheesecake\")\u001b[0m\n\u001b[0m                                                     ^\u001b[0m\n\u001b[0;31mSyntaxError\u001b[0m\u001b[0;31m:\u001b[0m unexpected character after line continuation character\n"
          ]
        }
      ]
    },
    {
      "cell_type": "code",
      "source": [
        "#quotes shouldnt be in middle\n",
        "print(\"cheesecake1 flavour : NewYork Cheesecake\\ncheesecake2 flavour : Burnt Basque Cheesecake\")\n",
        "#\\n - new line\n",
        "print(\"hehe\\nkikiki\")"
      ],
      "metadata": {
        "colab": {
          "base_uri": "https://localhost:8080/"
        },
        "id": "fCM89gZllwfs",
        "outputId": "6da8f5fd-21be-481c-b267-df8b3adab63c"
      },
      "execution_count": 42,
      "outputs": [
        {
          "output_type": "stream",
          "name": "stdout",
          "text": [
            "cheesecake1 flavour : NewYork Cheesecake\n",
            "cheesecake2 flavour : Burnt Basque Cheesecake\n",
            "hehe\n",
            "kikiki\n"
          ]
        }
      ]
    },
    {
      "cell_type": "code",
      "source": [
        "# \\b  - indicates backspace\n",
        "print(\"hello pavani  ?       \\b\")\n",
        "print(\"pav \\ban \\bi \\bkv\")#removes back space after before letter"
      ],
      "metadata": {
        "colab": {
          "base_uri": "https://localhost:8080/"
        },
        "id": "VHsCsrjql5l2",
        "outputId": "5f5aaf97-9825-410a-f040-993787cd7771"
      },
      "execution_count": 45,
      "outputs": [
        {
          "output_type": "stream",
          "name": "stdout",
          "text": [
            "hello pavani  ?       \b\n",
            "pav \ban \bi \bkv\n"
          ]
        }
      ]
    },
    {
      "cell_type": "code",
      "source": [
        "#\\ooo octal number\n",
        "print(\"\\142\")#2*8+4*8+2*8=ord(sumnumber#)\n",
        "print(\"\\142\\149\")\n",
        "print(\"\\1412\\122\")"
      ],
      "metadata": {
        "colab": {
          "base_uri": "https://localhost:8080/"
        },
        "id": "UOSJNoGqnDI6",
        "outputId": "50860650-64e6-44e6-acbb-e4b627da0ac9"
      },
      "execution_count": 48,
      "outputs": [
        {
          "output_type": "stream",
          "name": "stdout",
          "text": [
            "b\n",
            "b\f9\n",
            "a2R\n"
          ]
        }
      ]
    },
    {
      "cell_type": "code",
      "source": [
        "#\\xhh Hexadecimal\n",
        "print(\"\\x72\")\n",
        "print(\"\\x62\")\n",
        "print(\"\\x72\")"
      ],
      "metadata": {
        "colab": {
          "base_uri": "https://localhost:8080/"
        },
        "id": "610neqgvoGIk",
        "outputId": "596a1b89-8023-4471-b55a-923faf57003e"
      },
      "execution_count": 51,
      "outputs": [
        {
          "output_type": "stream",
          "name": "stdout",
          "text": [
            "r\n",
            "b\n",
            "r\n"
          ]
        }
      ]
    },
    {
      "cell_type": "markdown",
      "source": [
        "**String Formatting Operator (%s, %d, %f)**"
      ],
      "metadata": {
        "id": "I9Y2RGD0pCn_"
      }
    },
    {
      "cell_type": "code",
      "source": [
        "#%s for string\n",
        "#%d for numbers\n",
        "\n",
        "cake = \"2 cheesecakes\"# dont forget to keep \"\"\n",
        "print(\"today i went out and i had  %s\"%cake)"
      ],
      "metadata": {
        "colab": {
          "base_uri": "https://localhost:8080/"
        },
        "id": "LUoWySvL2bGR",
        "outputId": "5a13dcb1-ff57-4978-daaa-a618dab35692"
      },
      "execution_count": 57,
      "outputs": [
        {
          "output_type": "stream",
          "name": "stdout",
          "text": [
            "today i went out and had  2 cheesecakes\n"
          ]
        }
      ]
    },
    {
      "cell_type": "code",
      "source": [
        "cake = \"cheesecakes\"# dont forget to keep \"\"\n",
        "number=3\n",
        "print(\"today i went out and i had %d %s\" %(number,cake))"
      ],
      "metadata": {
        "colab": {
          "base_uri": "https://localhost:8080/"
        },
        "id": "nXWYI2tE3WeN",
        "outputId": "33a42524-61f1-4b27-a23b-31dd0b7f5a8e"
      },
      "execution_count": 61,
      "outputs": [
        {
          "output_type": "stream",
          "name": "stdout",
          "text": [
            "today i went out and i had 3 cheesecakes\n"
          ]
        }
      ]
    },
    {
      "cell_type": "code",
      "source": [
        "cake = \"cheesecakes\"# dont forget to keep \"\"\n",
        "number=3\n",
        "print(\"i love to eat %d number of %s right now\" %(number,cake))"
      ],
      "metadata": {
        "colab": {
          "base_uri": "https://localhost:8080/"
        },
        "id": "kGmALa9h4O1g",
        "outputId": "f157c939-dd62-4a58-af16-bc7d594bf4e9"
      },
      "execution_count": 63,
      "outputs": [
        {
          "output_type": "stream",
          "name": "stdout",
          "text": [
            "i love to eat 3 number of cheesecakes right now\n"
          ]
        }
      ]
    },
    {
      "cell_type": "code",
      "source": [
        "#%f gives float it will append to 6 zeroes after point\n",
        "age = 24.7\n",
        "print(\"current age in float is %f\"%age)\n",
        "print(\"current age in integer is %d\"%age)\n",
        "print(\"current age in string is %s\"%age)"
      ],
      "metadata": {
        "colab": {
          "base_uri": "https://localhost:8080/"
        },
        "id": "uJ6Ovghd4olD",
        "outputId": "0ea9899d-ed6b-4a47-c346-ef403963ff67"
      },
      "execution_count": 65,
      "outputs": [
        {
          "output_type": "stream",
          "name": "stdout",
          "text": [
            "current age in float is 24.700000\n",
            "current age in integer is 24\n",
            "current age in string is 24.7\n"
          ]
        }
      ]
    }
  ]
}