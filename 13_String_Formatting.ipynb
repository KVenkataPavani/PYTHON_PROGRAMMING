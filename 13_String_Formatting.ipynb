{
  "nbformat": 4,
  "nbformat_minor": 0,
  "metadata": {
    "colab": {
      "provenance": [],
      "authorship_tag": "ABX9TyOazI/yPNRoiZntlThuW5cF",
      "include_colab_link": true
    },
    "kernelspec": {
      "name": "python3",
      "display_name": "Python 3"
    },
    "language_info": {
      "name": "python"
    }
  },
  "cells": [
    {
      "cell_type": "markdown",
      "metadata": {
        "id": "view-in-github",
        "colab_type": "text"
      },
      "source": [
        "<a href=\"https://colab.research.google.com/github/KVenkataPavani/PYTHON_PROGRAMMING/blob/main/13_String_Formatting.ipynb\" target=\"_parent\"><img src=\"https://colab.research.google.com/assets/colab-badge.svg\" alt=\"Open In Colab\"/></a>"
      ]
    },
    {
      "cell_type": "markdown",
      "source": [
        "# **String Formatting**"
      ],
      "metadata": {
        "id": "f8GuTob4dzVA"
      }
    },
    {
      "cell_type": "markdown",
      "source": [
        "* Using % Operator (old method)\n",
        "* str.format() method\n",
        "* f-strings"
      ],
      "metadata": {
        "id": "bYhwOqyfd4Lr"
      }
    },
    {
      "cell_type": "markdown",
      "source": [
        "**Using % Operator (old method)**"
      ],
      "metadata": {
        "id": "jUOLmZ4BfbOz"
      }
    },
    {
      "cell_type": "code",
      "source": [
        "name =\"pavani\"\n",
        "age=25\n",
        "print(\"my name is %s and I'm %d years old.\"%(name,age))"
      ],
      "metadata": {
        "colab": {
          "base_uri": "https://localhost:8080/"
        },
        "id": "r1T3AEfVfhrh",
        "outputId": "ebf13fe0-e29c-4625-b141-329c982f3fac"
      },
      "execution_count": 4,
      "outputs": [
        {
          "output_type": "stream",
          "name": "stdout",
          "text": [
            "my name is pavani and I'm 25 years old.\n"
          ]
        }
      ]
    },
    {
      "cell_type": "markdown",
      "source": [
        "**default arguments**"
      ],
      "metadata": {
        "id": "R7am513Wg7h7"
      }
    },
    {
      "cell_type": "code",
      "source": [
        "# default arguments\n",
        "print(\"my name is {} and I'm {} years old.\".format(name,age))"
      ],
      "metadata": {
        "colab": {
          "base_uri": "https://localhost:8080/"
        },
        "id": "exdfTKNwgId0",
        "outputId": "89f5d8b3-abb4-460b-c756-a203e72709ba"
      },
      "execution_count": 5,
      "outputs": [
        {
          "output_type": "stream",
          "name": "stdout",
          "text": [
            "my name is pavani and I'm 25 years old.\n"
          ]
        }
      ]
    },
    {
      "cell_type": "markdown",
      "source": [
        "**positional arguments**"
      ],
      "metadata": {
        "id": "YRHGfXkGhLmh"
      }
    },
    {
      "cell_type": "code",
      "source": [
        "name =\"pavani\"\n",
        "age=25\n",
        "print(\"my name is {} and I'm {} years old.\".format(name,age))\n",
        "print(\"my name is {0} and I'm {1} years old.\".format(name,age))\n",
        "print(\"my name is {0} and I'm {0} years old.\".format(name,age))\n",
        "print(\"my name is {1} and I'm {0} years old.\".format(name,age))\n",
        "print(\"my name is {1} and I'm {1} years old.\".format(name,age))\n"
      ],
      "metadata": {
        "colab": {
          "base_uri": "https://localhost:8080/"
        },
        "id": "EEU91CoKg4tf",
        "outputId": "88c977f8-6b18-483a-ebcf-afe58fc9b199"
      },
      "execution_count": 7,
      "outputs": [
        {
          "output_type": "stream",
          "name": "stdout",
          "text": [
            "my name is pavani and I'm 25 years old.\n",
            "my name is pavani and I'm 25 years old.\n",
            "my name is pavani and I'm pavani years old.\n",
            "my name is 25 and I'm pavani years old.\n",
            "my name is 25 and I'm 25 years old.\n"
          ]
        }
      ]
    },
    {
      "cell_type": "code",
      "source": [
        "name =\"pavani\"\n",
        "age=25\n",
        "food=\"cheesecakes\"\n",
        "print(\"my name is {} and I'm {} years old and i love {}.\".format(name,age,food))\n",
        "print(\"my name is {0} and I'm {1} years old and i love {2}.\".format(name,age,food))\n",
        "print(\"my name is {0} and I'm {2} years old and i love {1}.\".format(name,age,food))\n",
        "print(\"my name is {1} and I'm {0} years old and i love {2}.\".format(name,age,food))\n",
        "print(\"my name is {2} and I'm {1} years old and i love {0}.\".format(name,age,food))\n"
      ],
      "metadata": {
        "colab": {
          "base_uri": "https://localhost:8080/"
        },
        "id": "2GY2oqn9hsBi",
        "outputId": "95bc0d7b-5477-42bb-8f2d-eba9bc7f3f24"
      },
      "execution_count": 10,
      "outputs": [
        {
          "output_type": "stream",
          "name": "stdout",
          "text": [
            "my name is pavani and I'm 25 years old and i love cheesecakes.\n",
            "my name is pavani and I'm 25 years old and i love cheesecakes.\n",
            "my name is pavani and I'm cheesecakes years old and i love 25.\n",
            "my name is 25 and I'm pavani years old and i love cheesecakes.\n",
            "my name is cheesecakes and I'm 25 years old and i love pavani.\n"
          ]
        }
      ]
    },
    {
      "cell_type": "markdown",
      "source": [
        "**keyword arguments**"
      ],
      "metadata": {
        "id": "rhkEsDFqibR5"
      }
    },
    {
      "cell_type": "code",
      "source": [
        "print(\"my name is {name} and I'm {age} years old and i love {food}.\".format(name=\"maira\",age=1.5,food=\"raagi\"))\n"
      ],
      "metadata": {
        "colab": {
          "base_uri": "https://localhost:8080/"
        },
        "id": "YgMBzX3IifLs",
        "outputId": "5e457d52-1796-408c-ee1a-6337f1e45386"
      },
      "execution_count": 13,
      "outputs": [
        {
          "output_type": "stream",
          "name": "stdout",
          "text": [
            "my name is maira and I'm 1.5 years old and i love raagi.\n"
          ]
        }
      ]
    },
    {
      "cell_type": "markdown",
      "source": [
        "**mixed arguments**"
      ],
      "metadata": {
        "id": "y8kzh0nji-bP"
      }
    },
    {
      "cell_type": "code",
      "source": [
        "print(\"my name is {} and I'm {age} years old.\".format(\"pavani\",age=24))\n",
        "print(\"my name is {name} and I'm {1} years old.\".format(name=\"Maira\",age=24))"
      ],
      "metadata": {
        "colab": {
          "base_uri": "https://localhost:8080/",
          "height": 176
        },
        "id": "YBPmYIf4jEzn",
        "outputId": "aaad1169-eb2a-4b26-f439-5aef7024dffc"
      },
      "execution_count": 24,
      "outputs": [
        {
          "output_type": "stream",
          "name": "stdout",
          "text": [
            "my name is pavani and I'm 24 years old.\n"
          ]
        },
        {
          "output_type": "error",
          "ename": "IndexError",
          "evalue": "Replacement index 1 out of range for positional args tuple",
          "traceback": [
            "\u001b[0;31m---------------------------------------------------------------------------\u001b[0m",
            "\u001b[0;31mIndexError\u001b[0m                                Traceback (most recent call last)",
            "\u001b[0;32m<ipython-input-24-c727c18de2e0>\u001b[0m in \u001b[0;36m<cell line: 2>\u001b[0;34m()\u001b[0m\n\u001b[1;32m      1\u001b[0m \u001b[0mprint\u001b[0m\u001b[0;34m(\u001b[0m\u001b[0;34m\"my name is {} and I'm {age} years old.\"\u001b[0m\u001b[0;34m.\u001b[0m\u001b[0mformat\u001b[0m\u001b[0;34m(\u001b[0m\u001b[0;34m\"pavani\"\u001b[0m\u001b[0;34m,\u001b[0m\u001b[0mage\u001b[0m\u001b[0;34m=\u001b[0m\u001b[0;36m24\u001b[0m\u001b[0;34m)\u001b[0m\u001b[0;34m)\u001b[0m\u001b[0;34m\u001b[0m\u001b[0;34m\u001b[0m\u001b[0m\n\u001b[0;32m----> 2\u001b[0;31m \u001b[0mprint\u001b[0m\u001b[0;34m(\u001b[0m\u001b[0;34m\"my name is {name} and I'm {1} years old.\"\u001b[0m\u001b[0;34m.\u001b[0m\u001b[0mformat\u001b[0m\u001b[0;34m(\u001b[0m\u001b[0mname\u001b[0m\u001b[0;34m=\u001b[0m\u001b[0;34m\"Maira\"\u001b[0m\u001b[0;34m,\u001b[0m\u001b[0mage\u001b[0m\u001b[0;34m=\u001b[0m\u001b[0;36m24\u001b[0m\u001b[0;34m)\u001b[0m\u001b[0;34m)\u001b[0m\u001b[0;34m\u001b[0m\u001b[0;34m\u001b[0m\u001b[0m\n\u001b[0m",
            "\u001b[0;31mIndexError\u001b[0m: Replacement index 1 out of range for positional args tuple"
          ]
        }
      ]
    },
    {
      "cell_type": "code",
      "source": [
        "print(\"my name is {} and I'm {age} years old.\".format(\"pavani\",age=24))\n",
        "print(\"my name is {name} and I'm {0} years old.\".format(24,name=\"Maira\"))\n",
        "#here we gave {0} ,in format at o position it has to be there\n",
        "print(\"my name is {name} and I'm {1} years old.\".format(\"nothing\",2.5,name=\"Maira\"))\n",
        "#here we gave {1} ,in format at 1  position it has to be there so at o position smthng has to be written\n"
      ],
      "metadata": {
        "colab": {
          "base_uri": "https://localhost:8080/"
        },
        "id": "eBtYY__7lCQD",
        "outputId": "d1bc3495-7315-454d-cf67-99c513916955"
      },
      "execution_count": 26,
      "outputs": [
        {
          "output_type": "stream",
          "name": "stdout",
          "text": [
            "my name is pavani and I'm 24 years old.\n",
            "my name is Maira and I'm 24 years old.\n",
            "my name is Maira and I'm 2.5 years old.\n"
          ]
        }
      ]
    },
    {
      "cell_type": "code",
      "source": [
        "print(\"My name is {1} and I'm {age} years old.\".format(age=26,\"Pavani\"))\n",
        "#print(\"My name is {1} and I'm {age} years old.\".format(\"nothing\",\"Pavu\",age=26))\n"
      ],
      "metadata": {
        "colab": {
          "base_uri": "https://localhost:8080/",
          "height": 106
        },
        "id": "d3xf6BBKl86x",
        "outputId": "795e98a7-547a-433b-a311-a27194e11e65"
      },
      "execution_count": 28,
      "outputs": [
        {
          "output_type": "error",
          "ename": "SyntaxError",
          "evalue": "positional argument follows keyword argument (<ipython-input-28-b1b33d72466a>, line 1)",
          "traceback": [
            "\u001b[0;36m  File \u001b[0;32m\"<ipython-input-28-b1b33d72466a>\"\u001b[0;36m, line \u001b[0;32m1\u001b[0m\n\u001b[0;31m    print(\"My name is {1} and I'm {age} years old.\".format(age=26,\"Pavani\"))\u001b[0m\n\u001b[0m                                                                          ^\u001b[0m\n\u001b[0;31mSyntaxError\u001b[0m\u001b[0;31m:\u001b[0m positional argument follows keyword argument\n"
          ]
        }
      ]
    },
    {
      "cell_type": "code",
      "source": [
        "#above error\n",
        "print(\"My name is {1} and I'm {age} years old.\".format(\"nothing\",\"Pavu\",age=26))\n"
      ],
      "metadata": {
        "colab": {
          "base_uri": "https://localhost:8080/"
        },
        "id": "Tkgy6u0rmQTi",
        "outputId": "1204653f-eb55-4da7-b3a5-4fd81556e11e"
      },
      "execution_count": 29,
      "outputs": [
        {
          "output_type": "stream",
          "name": "stdout",
          "text": [
            "My name is Pavu and I'm 26 years old.\n"
          ]
        }
      ]
    },
    {
      "cell_type": "markdown",
      "source": [
        "**integer arguments**\n"
      ],
      "metadata": {
        "id": "TFIEcwZOmaQk"
      }
    },
    {
      "cell_type": "code",
      "source": [
        "print(\"everyday i sleep around {:d}PM\".format(11))\n",
        "print(\"everyday i wakeup around {:d}AM\".format(8.30))\n",
        "#for :d float will not be accepted also string like format(\"9\")\n"
      ],
      "metadata": {
        "colab": {
          "base_uri": "https://localhost:8080/",
          "height": 176
        },
        "id": "l9zEY0sbmf1I",
        "outputId": "2b3cdb13-2ced-4c10-b091-8022e64a6d88"
      },
      "execution_count": 33,
      "outputs": [
        {
          "output_type": "stream",
          "name": "stdout",
          "text": [
            "everyday i sleep around 11PM\n"
          ]
        },
        {
          "output_type": "error",
          "ename": "ValueError",
          "evalue": "Unknown format code 'd' for object of type 'float'",
          "traceback": [
            "\u001b[0;31m---------------------------------------------------------------------------\u001b[0m",
            "\u001b[0;31mValueError\u001b[0m                                Traceback (most recent call last)",
            "\u001b[0;32m<ipython-input-33-4bc297e2261e>\u001b[0m in \u001b[0;36m<cell line: 2>\u001b[0;34m()\u001b[0m\n\u001b[1;32m      1\u001b[0m \u001b[0mprint\u001b[0m\u001b[0;34m(\u001b[0m\u001b[0;34m\"everyday i sleep around {:d}PM\"\u001b[0m\u001b[0;34m.\u001b[0m\u001b[0mformat\u001b[0m\u001b[0;34m(\u001b[0m\u001b[0;36m11\u001b[0m\u001b[0;34m)\u001b[0m\u001b[0;34m)\u001b[0m\u001b[0;34m\u001b[0m\u001b[0;34m\u001b[0m\u001b[0m\n\u001b[0;32m----> 2\u001b[0;31m \u001b[0mprint\u001b[0m\u001b[0;34m(\u001b[0m\u001b[0;34m\"everyday i wakeup around {:d}AM\"\u001b[0m\u001b[0;34m.\u001b[0m\u001b[0mformat\u001b[0m\u001b[0;34m(\u001b[0m\u001b[0;36m8.30\u001b[0m\u001b[0;34m)\u001b[0m\u001b[0;34m)\u001b[0m\u001b[0;34m\u001b[0m\u001b[0;34m\u001b[0m\u001b[0m\n\u001b[0m",
            "\u001b[0;31mValueError\u001b[0m: Unknown format code 'd' for object of type 'float'"
          ]
        }
      ]
    },
    {
      "cell_type": "markdown",
      "source": [
        "**Float arguments**"
      ],
      "metadata": {
        "id": "Jt5JNWqanLy9"
      }
    },
    {
      "cell_type": "code",
      "source": [
        "print(\"i got my percentage around {:f}\".format(80.3782))\n",
        "print(\"i got my percentage around {:.2f}\".format(80.3782)) #.2 round off to 2 digits\n",
        "print(\"i got my percentage around {:.3f}\".format(80.3782))\n",
        "print(\"i got my percentage around {:.4f}\".format(80.3782))\n",
        "\n"
      ],
      "metadata": {
        "colab": {
          "base_uri": "https://localhost:8080/"
        },
        "id": "iYxixmPLnPwX",
        "outputId": "6d9273cf-1ac4-4ece-83d9-1d5100eb94d7"
      },
      "execution_count": 39,
      "outputs": [
        {
          "output_type": "stream",
          "name": "stdout",
          "text": [
            "i got my percentage around 80.378200\n",
            "i got my percentage around 80.38\n",
            "i got my percentage around 80.378\n",
            "i got my percentage around 80.3782\n"
          ]
        }
      ]
    },
    {
      "cell_type": "markdown",
      "source": [
        "**Padding- (space)adds**"
      ],
      "metadata": {
        "id": "gGkZfV9kotvF"
      }
    },
    {
      "cell_type": "code",
      "source": [
        "print(\"padding for decimal number) {:10d}\".format(12897))\n",
        "#print(\"padding for decimal number) {:2.3d}\".format(10.5678))\n",
        "#for deciaml we cant add float numbers only integer\n",
        "print(\"padding for decimal number) {:16d}\".format(100))\n",
        "print(\"padding for float number) {:10f}\".format(12897))\n",
        "print(\"padding for float number) {:12.3f}\".format(10.5678))\n",
        "print(\"padding for float number) {:16.5f}\".format(100))\n"
      ],
      "metadata": {
        "colab": {
          "base_uri": "https://localhost:8080/"
        },
        "id": "nwSgwv3NpAMg",
        "outputId": "bd75a7e8-8eaa-4478-cb66-bd8a3f53caca"
      },
      "execution_count": 44,
      "outputs": [
        {
          "output_type": "stream",
          "name": "stdout",
          "text": [
            "padding for decimal number)      12897\n",
            "padding for decimal number)              100\n",
            "padding for float number) 12897.000000\n",
            "padding for float number)       10.568\n",
            "padding for float number)        100.00000\n"
          ]
        }
      ]
    },
    {
      "cell_type": "markdown",
      "source": [
        "**Left right centre alignment integer** {:<5d},>^"
      ],
      "metadata": {
        "id": "Y2A7mkFU5WZs"
      }
    },
    {
      "cell_type": "code",
      "source": [
        "print(\"left alignment of integer {:<10d} \".format(12))\n",
        "print(\"left alignment of integer {:>10d} \".format(12))\n",
        "print(\"left alignment of integer {:^10d} \".format(12))\n",
        "\n",
        "print(\"left alignment of integer {:<010d} \".format(12))\n",
        "print(\"left alignment of integer {:>010d} \".format(12))\n",
        "print(\"left alignment of integer {:^010d} \".format(12))"
      ],
      "metadata": {
        "colab": {
          "base_uri": "https://localhost:8080/"
        },
        "id": "PdpW_W4p5ed_",
        "outputId": "b2e4d8f1-91b3-4b35-e683-778d7d59f648"
      },
      "execution_count": 48,
      "outputs": [
        {
          "output_type": "stream",
          "name": "stdout",
          "text": [
            "left alignment of integer 12         \n",
            "left alignment of integer         12 \n",
            "left alignment of integer     12     \n",
            "left alignment of integer 1200000000 \n",
            "left alignment of integer 0000000012 \n",
            "left alignment of integer 0000120000 \n"
          ]
        }
      ]
    },
    {
      "cell_type": "markdown",
      "source": [
        "**Left right centre alignment string**"
      ],
      "metadata": {
        "id": "BLM5Btqm6Xv8"
      }
    },
    {
      "cell_type": "code",
      "source": [
        "print(\"left alignment of string {:<10} \".format(\"pavani\"))\n",
        "print(\"left alignment of string {:>10} \".format(\"pavani\"))\n",
        "print(\"left alignment of string {:^10} \".format(\"pavani\"))\n",
        "\n",
        "print(\"left alignment of string {:<010} \".format(\"pavani\"))\n",
        "print(\"left alignment of string {:>010} \".format(\"pavani\"))\n",
        "print(\"left alignment of string {:^010} \".format(\"pavani\"))"
      ],
      "metadata": {
        "colab": {
          "base_uri": "https://localhost:8080/"
        },
        "id": "9Dl7MBiU6Zs-",
        "outputId": "697c7134-9839-4c5f-b139-937eaa7e2254"
      },
      "execution_count": 50,
      "outputs": [
        {
          "output_type": "stream",
          "name": "stdout",
          "text": [
            "left alignment of string pavani     \n",
            "left alignment of string     pavani \n",
            "left alignment of string   pavani   \n",
            "left alignment of string pavani0000 \n",
            "left alignment of string 0000pavani \n",
            "left alignment of string 00pavani00 \n"
          ]
        }
      ]
    },
    {
      "cell_type": "markdown",
      "source": [
        "**Truncating the strings**"
      ],
      "metadata": {
        "id": "ssJK6NWe9uM4"
      }
    },
    {
      "cell_type": "code",
      "source": [
        "print(\"truncated string {:.3} \".format(\"maira\"))\n",
        "print(\"truncated string {:.4} \".format(\"maira\"))\n",
        "\n",
        "print(\"truncated string left align {:0<10.3} \".format(\"maira\"))\n",
        "print(\"truncated string right align {:>010.3} \".format(\"maira\"))\n",
        "print(\"truncated string centre align {:^010.3} \".format(\"maira\"))"
      ],
      "metadata": {
        "colab": {
          "base_uri": "https://localhost:8080/"
        },
        "id": "5-KKjAqC9xvc",
        "outputId": "984dd42d-f0a2-4045-b607-f994dc82a637"
      },
      "execution_count": 52,
      "outputs": [
        {
          "output_type": "stream",
          "name": "stdout",
          "text": [
            "truncated string mai \n",
            "truncated string mair \n",
            "truncated string left align mai0000000 \n",
            "truncated string right align 0000000mai \n",
            "truncated string centre align 000mai0000 \n"
          ]
        }
      ]
    },
    {
      "cell_type": "code",
      "source": [
        "print(\"Binary Value: {0:b}, Oct Value: {0:o}, Hex Value: {0:x}\".format(12))\n",
        "#{0:b} converts the number to its binary representation.\n",
        "#{0:o} converts the number to its octal representation.\n",
        "#{0:x} converts the number to its hexadecimal representation (lowercase).\n",
        "\n",
        "print(\"Binary Value: {0:b}, Oct Value: {1:o}, Hex Value: {2:x}\".format(12, 14, 15))\n",
        "#{b}, {o}, and {x} without index numbers assume you are formatting the positional arguments passed to format().\n",
        "#Here, only the first number (12) is used for all three conversions. The other arguments 14 and 15 are ignored since no placeholders reference them."
      ],
      "metadata": {
        "colab": {
          "base_uri": "https://localhost:8080/"
        },
        "id": "VU6J6trM_G1-",
        "outputId": "6d5272b7-003d-4e5a-f07c-951d975749f3"
      },
      "execution_count": 55,
      "outputs": [
        {
          "output_type": "stream",
          "name": "stdout",
          "text": [
            "Binary Value: 1100, Oct Value: 14, Hex Value: c\n",
            "Binary Value: 1100, Oct Value: 16, Hex Value: f\n"
          ]
        }
      ]
    },
    {
      "cell_type": "markdown",
      "source": [
        "**_  \",\"**"
      ],
      "metadata": {
        "id": "73Qa5-pMBHsK"
      }
    },
    {
      "cell_type": "code",
      "source": [
        "1_000 + 1_000000"
      ],
      "metadata": {
        "colab": {
          "base_uri": "https://localhost:8080/"
        },
        "id": "XSJM4dVfBLjC",
        "outputId": "d6a51192-6939-4030-820e-66b151953aa2"
      },
      "execution_count": 58,
      "outputs": [
        {
          "output_type": "execute_result",
          "data": {
            "text/plain": [
              "1001000"
            ]
          },
          "metadata": {},
          "execution_count": 58
        }
      ]
    },
    {
      "cell_type": "code",
      "source": [
        "1_999+1_00000"
      ],
      "metadata": {
        "colab": {
          "base_uri": "https://localhost:8080/"
        },
        "id": "Mm7fIdxRBqxo",
        "outputId": "f5f4eb27-13a4-4f40-8c58-0fea4b3e6778"
      },
      "execution_count": 60,
      "outputs": [
        {
          "output_type": "execute_result",
          "data": {
            "text/plain": [
              "101999"
            ]
          },
          "metadata": {},
          "execution_count": 60
        }
      ]
    },
    {
      "cell_type": "code",
      "source": [
        "1,000+1,000000"
      ],
      "metadata": {
        "colab": {
          "base_uri": "https://localhost:8080/"
        },
        "id": "wMViGwN3Benn",
        "outputId": "243b109e-ad73-421e-ad61-18ab31cd58e3"
      },
      "execution_count": 59,
      "outputs": [
        {
          "output_type": "execute_result",
          "data": {
            "text/plain": [
              "(1, 1, 0)"
            ]
          },
          "metadata": {},
          "execution_count": 59
        }
      ]
    },
    {
      "cell_type": "code",
      "source": [
        "1,999+1,00000"
      ],
      "metadata": {
        "colab": {
          "base_uri": "https://localhost:8080/"
        },
        "id": "VawFnQOLBvsR",
        "outputId": "06477459-4b7f-43c6-e23e-d2f325df3b9b"
      },
      "execution_count": 61,
      "outputs": [
        {
          "output_type": "execute_result",
          "data": {
            "text/plain": [
              "(1, 1000, 0)"
            ]
          },
          "metadata": {},
          "execution_count": 61
        }
      ]
    },
    {
      "cell_type": "markdown",
      "source": [
        "**f strings(formatted string literals)**"
      ],
      "metadata": {
        "id": "3EMocypLB30s"
      }
    },
    {
      "cell_type": "code",
      "source": [
        "name = \"pavani\"\n",
        "age=25\n",
        "print(f\"hello i'm {name} and i'm {age} years old\")\n",
        "#we dont use format func here and specify format also"
      ],
      "metadata": {
        "colab": {
          "base_uri": "https://localhost:8080/"
        },
        "id": "puxTGYYOB6jh",
        "outputId": "626c152d-3dfb-4d92-f4fe-928d85706fba"
      },
      "execution_count": 62,
      "outputs": [
        {
          "output_type": "stream",
          "name": "stdout",
          "text": [
            "hello i'm pavani and i'm 25 years old\n"
          ]
        }
      ]
    },
    {
      "cell_type": "code",
      "source": [
        "floatvalue=12.678\n",
        "print(f\"Float value is :{floatvalue:.2f}\")"
      ],
      "metadata": {
        "colab": {
          "base_uri": "https://localhost:8080/"
        },
        "id": "-QiX3xdEDLQp",
        "outputId": "3194624a-cf55-4e07-de98-c0e4cb26f9d6"
      },
      "execution_count": 63,
      "outputs": [
        {
          "output_type": "stream",
          "name": "stdout",
          "text": [
            "Float value is :12.68\n"
          ]
        }
      ]
    },
    {
      "cell_type": "code",
      "source": [
        "print(\"\"\"\n",
        "name=\"pavani\"\n",
        "age=25,\n",
        "gender=\"female\"\n",
        "\"\"\")\n",
        "#prints in diff lines"
      ],
      "metadata": {
        "colab": {
          "base_uri": "https://localhost:8080/"
        },
        "id": "uSXHI4ihDisK",
        "outputId": "e2a7d0a8-5fcf-453d-d645-33c61b4c79fc"
      },
      "execution_count": 64,
      "outputs": [
        {
          "output_type": "stream",
          "name": "stdout",
          "text": [
            "\n",
            "name=\"pavani\"\n",
            "age=25,\n",
            "gender=\"female\"\n",
            "\n"
          ]
        }
      ]
    }
  ]
}