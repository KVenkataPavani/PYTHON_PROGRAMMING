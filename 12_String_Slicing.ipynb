{
  "nbformat": 4,
  "nbformat_minor": 0,
  "metadata": {
    "colab": {
      "provenance": [],
      "authorship_tag": "ABX9TyP67sQc71IrJdpAKJIh1Ozf",
      "include_colab_link": true
    },
    "kernelspec": {
      "name": "python3",
      "display_name": "Python 3"
    },
    "language_info": {
      "name": "python"
    }
  },
  "cells": [
    {
      "cell_type": "markdown",
      "metadata": {
        "id": "view-in-github",
        "colab_type": "text"
      },
      "source": [
        "<a href=\"https://colab.research.google.com/github/KVenkataPavani/PYTHON_PROGRAMMING/blob/main/12_String_Slicing.ipynb\" target=\"_parent\"><img src=\"https://colab.research.google.com/assets/colab-badge.svg\" alt=\"Open In Colab\"/></a>"
      ]
    },
    {
      "cell_type": "markdown",
      "source": [
        "# **STRING SLICING**"
      ],
      "metadata": {
        "id": "hlvdjRLa6Fe9"
      }
    },
    {
      "cell_type": "markdown",
      "source": [
        "* Indexing in string and how to slice?\n",
        "* string[startVal:endVal:step]\n",
        "* Reversing a string"
      ],
      "metadata": {
        "id": "wl416tyR6KvQ"
      }
    },
    {
      "cell_type": "code",
      "source": [
        "myname =\"kota konda venkata pavani\"\n",
        "print(myname[:])"
      ],
      "metadata": {
        "colab": {
          "base_uri": "https://localhost:8080/"
        },
        "id": "GQwamO6yMTau",
        "outputId": "0b87334f-b0fa-4801-9f84-6048a0f09bca"
      },
      "execution_count": 17,
      "outputs": [
        {
          "output_type": "stream",
          "name": "stdout",
          "text": [
            "kota konda venkata pavani\n"
          ]
        }
      ]
    },
    {
      "cell_type": "markdown",
      "source": [
        "**Indexing in string and how to slice?**"
      ],
      "metadata": {
        "id": "Qft2cyBv6as8"
      }
    },
    {
      "cell_type": "code",
      "source": [
        "#string[startvalue : endvalue : step]\n",
        "\n",
        "myname =\"kota konda venkata pavani\"\n",
        "#kota konda venkata pavani\n",
        "#0123............\n",
        "print(len(myname))\n",
        "print(myname[0])\n",
        "print(myname[8])\n",
        "print(myname[2:6])#last value will not be included\n",
        "print(myname[5:10])\n",
        "print(myname[5:13])"
      ],
      "metadata": {
        "colab": {
          "base_uri": "https://localhost:8080/"
        },
        "id": "EYLXoWzM6WWQ",
        "outputId": "d5c28f15-f540-4017-af19-2a7caaaa0364"
      },
      "execution_count": 8,
      "outputs": [
        {
          "output_type": "stream",
          "name": "stdout",
          "text": [
            "25\n",
            "k\n",
            "d\n",
            "ta k\n",
            "konda\n",
            "konda ve\n"
          ]
        }
      ]
    },
    {
      "cell_type": "code",
      "source": [
        "print(myname[5:10])\n",
        "print(myname[5:15:2])#whenever we are giving step value positive start shld be small and end shld be greater\n",
        "#2 step means 1 skip\n",
        "print(myname[5:15:3])"
      ],
      "metadata": {
        "colab": {
          "base_uri": "https://localhost:8080/"
        },
        "id": "m_zivFAsGtab",
        "outputId": "6602d636-5295-41ec-dd6d-8cfe5c124818"
      },
      "execution_count": 9,
      "outputs": [
        {
          "output_type": "stream",
          "name": "stdout",
          "text": [
            "konda\n",
            "knavn\n",
            "kdvk\n"
          ]
        }
      ]
    },
    {
      "cell_type": "code",
      "source": [
        "print(myname[5:10])\n",
        "print(myname[5:15:-1])\n",
        "print(myname[5:15:-2])\n",
        "print(myname[15:5:-1])#)#whenever we are giving step value negative start shld be big and end shld be small\n",
        "print(myname[15:5:-2])"
      ],
      "metadata": {
        "colab": {
          "base_uri": "https://localhost:8080/"
        },
        "id": "ejMyTQB-KNsl",
        "outputId": "c3ef193e-7139-40da-852d-6eb913017062"
      },
      "execution_count": 13,
      "outputs": [
        {
          "output_type": "stream",
          "name": "stdout",
          "text": [
            "konda\n",
            "\n",
            "\n",
            "aknev adno\n",
            "anvan\n"
          ]
        }
      ]
    },
    {
      "cell_type": "code",
      "source": [
        "print(myname[5:100])"
      ],
      "metadata": {
        "colab": {
          "base_uri": "https://localhost:8080/"
        },
        "id": "j_tkr6gwK-Mw",
        "outputId": "585481d2-617e-4f6f-e16e-88f5628b51f1"
      },
      "execution_count": 12,
      "outputs": [
        {
          "output_type": "stream",
          "name": "stdout",
          "text": [
            "konda venkata pavani\n"
          ]
        }
      ]
    },
    {
      "cell_type": "code",
      "source": [
        "print(myname[-5:-15:-1])\n",
        "print(myname[-5:-15:1]) #negative and positive step so empty\n",
        "print(myname[-5:-15:-2])\n",
        "print(myname[-15:-5:-1]) #its backwards and negative step so empty\n",
        "print(myname[-15:-5:-2])#its backwards so empty\n",
        "print(myname[-5:-15:1])\n"
      ],
      "metadata": {
        "colab": {
          "base_uri": "https://localhost:8080/"
        },
        "id": "tb0hNZEdLLjI",
        "outputId": "efab5e53-1895-475f-c46b-7877b957512d"
      },
      "execution_count": 16,
      "outputs": [
        {
          "output_type": "stream",
          "name": "stdout",
          "text": [
            "ap ataknev\n",
            "\n",
            "a tke\n",
            "\n",
            "\n",
            "\n"
          ]
        }
      ]
    },
    {
      "cell_type": "code",
      "source": [
        "print(myname[::1])\n",
        "print(myname[::-1])\n",
        "\n",
        "print(myname[::-1][::-1])\n",
        "#myname[::-1]: This reverses the string myname.\n",
        "#The second [::-1] reverses the reversed string, effectively returning the original string.\n",
        "\n",
        "print(myname[::1][::1])\n",
        "#myname[::1]: This slices the string with a step of 1, which means it returns the string as is.\n",
        "#The second [::1] does the same thing, so this line will also print the string as it is."
      ],
      "metadata": {
        "colab": {
          "base_uri": "https://localhost:8080/"
        },
        "id": "1UDzX9BhMxQ-",
        "outputId": "6d16cc64-dc1b-482e-d8e0-cde184214d44"
      },
      "execution_count": 24,
      "outputs": [
        {
          "output_type": "stream",
          "name": "stdout",
          "text": [
            "kota konda venkata pavani\n",
            "inavap ataknev adnok atok\n",
            "kota konda venkata pavani\n",
            "kota konda venkata pavani\n"
          ]
        }
      ]
    },
    {
      "cell_type": "code",
      "source": [
        "print(myname[15:5:0])"
      ],
      "metadata": {
        "colab": {
          "base_uri": "https://localhost:8080/",
          "height": 141
        },
        "id": "MWPm4hj5OKty",
        "outputId": "fdb392c7-1d25-4b6b-ac34-0efc00b447a0"
      },
      "execution_count": 25,
      "outputs": [
        {
          "output_type": "error",
          "ename": "ValueError",
          "evalue": "slice step cannot be zero",
          "traceback": [
            "\u001b[0;31m---------------------------------------------------------------------------\u001b[0m",
            "\u001b[0;31mValueError\u001b[0m                                Traceback (most recent call last)",
            "\u001b[0;32m<ipython-input-25-da0974ed2bfa>\u001b[0m in \u001b[0;36m<cell line: 1>\u001b[0;34m()\u001b[0m\n\u001b[0;32m----> 1\u001b[0;31m \u001b[0mprint\u001b[0m\u001b[0;34m(\u001b[0m\u001b[0mmyname\u001b[0m\u001b[0;34m[\u001b[0m\u001b[0;36m15\u001b[0m\u001b[0;34m:\u001b[0m\u001b[0;36m5\u001b[0m\u001b[0;34m:\u001b[0m\u001b[0;36m0\u001b[0m\u001b[0;34m]\u001b[0m\u001b[0;34m)\u001b[0m\u001b[0;34m\u001b[0m\u001b[0;34m\u001b[0m\u001b[0m\n\u001b[0m",
            "\u001b[0;31mValueError\u001b[0m: slice step cannot be zero"
          ]
        }
      ]
    }
  ]
}