{
  "nbformat": 4,
  "nbformat_minor": 0,
  "metadata": {
    "colab": {
      "provenance": [],
      "authorship_tag": "ABX9TyNmXMJUokXgwf1+M8amQZI8",
      "include_colab_link": true
    },
    "kernelspec": {
      "name": "python3",
      "display_name": "Python 3"
    },
    "language_info": {
      "name": "python"
    }
  },
  "cells": [
    {
      "cell_type": "markdown",
      "metadata": {
        "id": "view-in-github",
        "colab_type": "text"
      },
      "source": [
        "<a href=\"https://colab.research.google.com/github/KVenkataPavani/PYTHON_PROGRAMMING/blob/main/22_Lambda%2C_Map_%2C_Filter_Functions_.ipynb\" target=\"_parent\"><img src=\"https://colab.research.google.com/assets/colab-badge.svg\" alt=\"Open In Colab\"/></a>"
      ]
    },
    {
      "cell_type": "markdown",
      "source": [
        "#**Lambda Functions**"
      ],
      "metadata": {
        "id": "S7jZuq68-15k"
      }
    },
    {
      "cell_type": "code",
      "source": [
        "#squaring the number #normal fuctiion\n",
        "def normalfunc(x):\n",
        "  return x**2\n",
        "normalfunc(12)"
      ],
      "metadata": {
        "colab": {
          "base_uri": "https://localhost:8080/"
        },
        "id": "bXNWOY1z--hc",
        "outputId": "57f9dde6-bddf-4146-cd6a-e1e062873393"
      },
      "execution_count": null,
      "outputs": [
        {
          "output_type": "execute_result",
          "data": {
            "text/plain": [
              "144"
            ]
          },
          "metadata": {},
          "execution_count": 5
        }
      ]
    },
    {
      "cell_type": "code",
      "source": [
        "# syntax lamda function\n",
        "\n",
        "lambda arguments: expression\n",
        "\n",
        "#or\n",
        "def function_name(x):\n",
        "  return  x**2\n",
        "\n",
        "#in lamda functions\n",
        "lamba x : x**2\n",
        "\n"
      ],
      "metadata": {
        "id": "XklE4hsQMNmW"
      },
      "execution_count": null,
      "outputs": []
    },
    {
      "cell_type": "code",
      "source": [
        "type(normalfunc)\n"
      ],
      "metadata": {
        "colab": {
          "base_uri": "https://localhost:8080/"
        },
        "id": "CqkH6rSbM3OA",
        "outputId": "ba2d5e37-329f-4bcb-bca7-14da62222033"
      },
      "execution_count": null,
      "outputs": [
        {
          "output_type": "execute_result",
          "data": {
            "text/plain": [
              "function"
            ]
          },
          "metadata": {},
          "execution_count": 7
        }
      ]
    },
    {
      "cell_type": "code",
      "source": [
        "lambda x : x**2"
      ],
      "metadata": {
        "colab": {
          "base_uri": "https://localhost:8080/"
        },
        "id": "EQOEeZWpTV9H",
        "outputId": "07968e81-f492-493c-e6ae-053faae4670b"
      },
      "execution_count": null,
      "outputs": [
        {
          "output_type": "execute_result",
          "data": {
            "text/plain": [
              "<function __main__.<lambda>(x)>"
            ]
          },
          "metadata": {},
          "execution_count": 10
        }
      ]
    },
    {
      "cell_type": "code",
      "source": [
        "lambda x : x**2(10) #we have to assign"
      ],
      "metadata": {
        "colab": {
          "base_uri": "https://localhost:8080/"
        },
        "id": "6IgmFhgRTmI5",
        "outputId": "a9e77fe6-5510-4238-ce01-925b98903bce"
      },
      "execution_count": null,
      "outputs": [
        {
          "output_type": "stream",
          "name": "stderr",
          "text": [
            "<>:1: SyntaxWarning: 'int' object is not callable; perhaps you missed a comma?\n",
            "<>:1: SyntaxWarning: 'int' object is not callable; perhaps you missed a comma?\n",
            "<ipython-input-12-2f7bf63109c0>:1: SyntaxWarning: 'int' object is not callable; perhaps you missed a comma?\n",
            "  lambda x : x**2(10)\n"
          ]
        },
        {
          "output_type": "execute_result",
          "data": {
            "text/plain": [
              "<function __main__.<lambda>(x)>"
            ]
          },
          "metadata": {},
          "execution_count": 12
        }
      ]
    },
    {
      "cell_type": "code",
      "source": [
        "a = lambda x : x**2\n",
        "type(a)"
      ],
      "metadata": {
        "colab": {
          "base_uri": "https://localhost:8080/"
        },
        "id": "kMbsQwmKTs1-",
        "outputId": "df755682-e258-4a29-e948-a813263c6d90"
      },
      "execution_count": null,
      "outputs": [
        {
          "output_type": "execute_result",
          "data": {
            "text/plain": [
              "function"
            ]
          },
          "metadata": {},
          "execution_count": 15
        }
      ]
    },
    {
      "cell_type": "code",
      "source": [
        "a = lambda x : x**2\n",
        "a(10)"
      ],
      "metadata": {
        "colab": {
          "base_uri": "https://localhost:8080/"
        },
        "id": "WEX2Mw_QT4DQ",
        "outputId": "4af9c51d-acfb-4952-9238-9c2f74509669"
      },
      "execution_count": null,
      "outputs": [
        {
          "output_type": "execute_result",
          "data": {
            "text/plain": [
              "100"
            ]
          },
          "metadata": {},
          "execution_count": 16
        }
      ]
    },
    {
      "cell_type": "markdown",
      "source": [
        "* **in regular function if we dont give return function it will give none**\n",
        "* **in lambda function if we dont give any  it will return function object**"
      ],
      "metadata": {
        "id": "4gqObJdxUQNV"
      }
    },
    {
      "cell_type": "code",
      "source": [
        "def normalfunc(x):\n",
        "  return x**2\n",
        "a = normalfunc(12)\n",
        "print(a)\n",
        "print(type(a))\n",
        "\n",
        "print(\"---------------------------\")\n",
        "\n",
        "b = lambda x : x**2\n",
        "print(b)\n",
        "print(type(b))"
      ],
      "metadata": {
        "colab": {
          "base_uri": "https://localhost:8080/"
        },
        "id": "V8Ok6AerUAbq",
        "outputId": "b5aca855-e369-40dd-a2a1-27e85b999f07"
      },
      "execution_count": null,
      "outputs": [
        {
          "output_type": "stream",
          "name": "stdout",
          "text": [
            "144\n",
            "<class 'int'>\n",
            "---------------------------\n",
            "<function <lambda> at 0x7e53f8382dd0>\n",
            "<class 'function'>\n"
          ]
        }
      ]
    },
    {
      "cell_type": "code",
      "source": [
        "#lambda functions can take any number of arguments\n",
        "\n",
        "#passing two arguments\n",
        "adding = lambda a,b : a+b\n",
        "subtracting = lambda a,b : a-b\n",
        "\n",
        "#passsing 3 arguments\n",
        "adding4num = lambda a,b,c,d : a+b+c+d\n",
        "\n"
      ],
      "metadata": {
        "id": "jPWN7iqBVRyO"
      },
      "execution_count": null,
      "outputs": []
    },
    {
      "cell_type": "code",
      "source": [
        "#passing two arguments\n",
        "adding = lambda a,b : a+b\n",
        "adding(10) #how many we passed as arguments we have to pass that many"
      ],
      "metadata": {
        "colab": {
          "base_uri": "https://localhost:8080/",
          "height": 176
        },
        "id": "T2rSFSRnb-uZ",
        "outputId": "c8f13594-16a3-49b4-a63e-e4c57fa18ce9"
      },
      "execution_count": null,
      "outputs": [
        {
          "output_type": "error",
          "ename": "TypeError",
          "evalue": "<lambda>() missing 1 required positional argument: 'b'",
          "traceback": [
            "\u001b[0;31m---------------------------------------------------------------------------\u001b[0m",
            "\u001b[0;31mTypeError\u001b[0m                                 Traceback (most recent call last)",
            "\u001b[0;32m<ipython-input-31-0a3eb7521f19>\u001b[0m in \u001b[0;36m<cell line: 3>\u001b[0;34m()\u001b[0m\n\u001b[1;32m      1\u001b[0m \u001b[0;31m#passing two arguments\u001b[0m\u001b[0;34m\u001b[0m\u001b[0;34m\u001b[0m\u001b[0m\n\u001b[1;32m      2\u001b[0m \u001b[0madding\u001b[0m \u001b[0;34m=\u001b[0m \u001b[0;32mlambda\u001b[0m \u001b[0ma\u001b[0m\u001b[0;34m,\u001b[0m\u001b[0mb\u001b[0m \u001b[0;34m:\u001b[0m \u001b[0ma\u001b[0m\u001b[0;34m+\u001b[0m\u001b[0mb\u001b[0m\u001b[0;34m\u001b[0m\u001b[0;34m\u001b[0m\u001b[0m\n\u001b[0;32m----> 3\u001b[0;31m \u001b[0madding\u001b[0m\u001b[0;34m(\u001b[0m\u001b[0;36m10\u001b[0m\u001b[0;34m)\u001b[0m \u001b[0;31m#how many we passed as arguments we have to pass that many\u001b[0m\u001b[0;34m\u001b[0m\u001b[0;34m\u001b[0m\u001b[0m\n\u001b[0m",
            "\u001b[0;31mTypeError\u001b[0m: <lambda>() missing 1 required positional argument: 'b'"
          ]
        }
      ]
    },
    {
      "cell_type": "code",
      "source": [
        "#passing two arguments\n",
        "adding = lambda a,b : a+b\n",
        "adding(10,20)"
      ],
      "metadata": {
        "colab": {
          "base_uri": "https://localhost:8080/"
        },
        "id": "z4aEVjHCcFp-",
        "outputId": "978a9cc0-727e-4342-c772-f433c9a9873e"
      },
      "execution_count": null,
      "outputs": [
        {
          "output_type": "execute_result",
          "data": {
            "text/plain": [
              "30"
            ]
          },
          "metadata": {},
          "execution_count": 32
        }
      ]
    },
    {
      "cell_type": "code",
      "source": [
        "subtracting = lambda a,b : a-b\n",
        "subtracting(20,10)"
      ],
      "metadata": {
        "colab": {
          "base_uri": "https://localhost:8080/"
        },
        "id": "Ynyj6ODHcKxY",
        "outputId": "5f6a70d5-e414-4940-ae34-d38c34ae5302"
      },
      "execution_count": null,
      "outputs": [
        {
          "output_type": "execute_result",
          "data": {
            "text/plain": [
              "10"
            ]
          },
          "metadata": {},
          "execution_count": 33
        }
      ]
    },
    {
      "cell_type": "code",
      "source": [
        "adding4num = lambda a,b,c,d : a+b+c+d\n",
        "adding4num(1,2,3,4)"
      ],
      "metadata": {
        "colab": {
          "base_uri": "https://localhost:8080/"
        },
        "id": "BY_Jy-_scPdg",
        "outputId": "4b06aa51-4db0-4b1b-eeac-e9804bdfbc84"
      },
      "execution_count": null,
      "outputs": [
        {
          "output_type": "execute_result",
          "data": {
            "text/plain": [
              "10"
            ]
          },
          "metadata": {},
          "execution_count": 34
        }
      ]
    },
    {
      "cell_type": "code",
      "source": [
        "#normal functions\n",
        "def sum1(a1):\n",
        "  return a1+10\n",
        "def sum2(a2):\n",
        "  return sum1(a2)\n",
        "sum2(10)\n"
      ],
      "metadata": {
        "colab": {
          "base_uri": "https://localhost:8080/"
        },
        "id": "imcDlfxRdFNC",
        "outputId": "a55f5b92-162f-4280-ce19-97da0d97594d"
      },
      "execution_count": null,
      "outputs": [
        {
          "output_type": "execute_result",
          "data": {
            "text/plain": [
              "20"
            ]
          },
          "metadata": {},
          "execution_count": 37
        }
      ]
    },
    {
      "cell_type": "code",
      "source": [
        "def f():\n",
        "  print(10)\n",
        "x =10\n",
        "\n",
        "a=f()\n",
        "print(a)\n",
        "print(x)"
      ],
      "metadata": {
        "colab": {
          "base_uri": "https://localhost:8080/"
        },
        "id": "evfx5j4Vesb6",
        "outputId": "681db17e-44f0-452d-8ec9-98a5adec1737"
      },
      "execution_count": 8,
      "outputs": [
        {
          "output_type": "stream",
          "name": "stdout",
          "text": [
            "10\n",
            "None\n",
            "10\n"
          ]
        }
      ]
    },
    {
      "cell_type": "code",
      "source": [
        "f2=lambda : x\n",
        "type(f2)"
      ],
      "metadata": {
        "colab": {
          "base_uri": "https://localhost:8080/"
        },
        "id": "irhn2YZPe6aF",
        "outputId": "6e7529e3-b4e8-4905-baad-2067f17e6b85"
      },
      "execution_count": 9,
      "outputs": [
        {
          "output_type": "execute_result",
          "data": {
            "text/plain": [
              "function"
            ]
          },
          "metadata": {},
          "execution_count": 9
        }
      ]
    },
    {
      "cell_type": "code",
      "source": [
        "f3 = lambda : print(x)\n",
        "\n",
        "type(f3)"
      ],
      "metadata": {
        "colab": {
          "base_uri": "https://localhost:8080/"
        },
        "id": "gTNZabj3FY5F",
        "outputId": "a34d8590-7c07-4398-dacd-4f55e3a1e89d"
      },
      "execution_count": 10,
      "outputs": [
        {
          "output_type": "execute_result",
          "data": {
            "text/plain": [
              "function"
            ]
          },
          "metadata": {},
          "execution_count": 10
        }
      ]
    },
    {
      "cell_type": "code",
      "source": [
        "b = f2()\n",
        "print(b)\n",
        "print(type(b))"
      ],
      "metadata": {
        "colab": {
          "base_uri": "https://localhost:8080/"
        },
        "id": "A01WVBViGamD",
        "outputId": "492be029-6ffa-4d1c-9ab0-9b3200a6e92b"
      },
      "execution_count": 12,
      "outputs": [
        {
          "output_type": "stream",
          "name": "stdout",
          "text": [
            "10\n",
            "<class 'int'>\n"
          ]
        }
      ]
    },
    {
      "cell_type": "code",
      "source": [
        "c = f3()\n",
        "\n",
        "print(c)\n",
        "print(type(c))"
      ],
      "metadata": {
        "colab": {
          "base_uri": "https://localhost:8080/"
        },
        "id": "-0vt39xWGHSd",
        "outputId": "9b80ab19-1d15-4607-ad0a-af905405e3f3"
      },
      "execution_count": 11,
      "outputs": [
        {
          "output_type": "stream",
          "name": "stdout",
          "text": [
            "10\n",
            "None\n",
            "<class 'NoneType'>\n"
          ]
        }
      ]
    },
    {
      "cell_type": "code",
      "source": [
        "lf1 = lambda : 10\n",
        "#if we dont give any print statements lambda will give default that 10 value\n",
        "\n",
        "lf2 = lambda : print(10)\n"
      ],
      "metadata": {
        "id": "9zetaUiXGcxn"
      },
      "execution_count": 13,
      "outputs": []
    },
    {
      "cell_type": "code",
      "source": [
        "print(type(lf1))\n",
        "print(type(lf2))"
      ],
      "metadata": {
        "colab": {
          "base_uri": "https://localhost:8080/"
        },
        "id": "gzPApqY6HIxt",
        "outputId": "f1a9d6ae-7507-4885-8845-1e13cc8ac0d5"
      },
      "execution_count": 15,
      "outputs": [
        {
          "output_type": "stream",
          "name": "stdout",
          "text": [
            "<class 'function'>\n",
            "<class 'function'>\n"
          ]
        }
      ]
    },
    {
      "cell_type": "code",
      "source": [
        "lf1 = lambda : 10\n",
        "\n",
        "lf2 = lambda : print(10)\n",
        "\n",
        "#similar to\n",
        "\n",
        "def f1(): #lf1\n",
        "  return 10\n",
        "def f2():  #lf2\n",
        "  print(10)"
      ],
      "metadata": {
        "id": "i5kxwf8kG6u0"
      },
      "execution_count": 14,
      "outputs": []
    },
    {
      "cell_type": "code",
      "source": [
        "a = lf1()\n",
        "\n",
        "print(a)\n",
        "print(type(a))"
      ],
      "metadata": {
        "colab": {
          "base_uri": "https://localhost:8080/"
        },
        "id": "OiIxHRSmHXKe",
        "outputId": "0b4b7901-8f44-4af4-fecc-730dd279254e"
      },
      "execution_count": 16,
      "outputs": [
        {
          "output_type": "stream",
          "name": "stdout",
          "text": [
            "10\n",
            "<class 'int'>\n"
          ]
        }
      ]
    },
    {
      "cell_type": "code",
      "source": [
        "b = lf2()\n",
        "\n",
        "print(b)\n",
        "print(type(b))"
      ],
      "metadata": {
        "colab": {
          "base_uri": "https://localhost:8080/"
        },
        "id": "rOCYbEPMHhnQ",
        "outputId": "8b889f58-da8b-4cd3-8ed1-622dd3374891"
      },
      "execution_count": 17,
      "outputs": [
        {
          "output_type": "stream",
          "name": "stdout",
          "text": [
            "10\n",
            "None\n",
            "<class 'NoneType'>\n"
          ]
        }
      ]
    },
    {
      "cell_type": "code",
      "source": [
        "def myFunc(n):\n",
        "  return lambda a: a*n\n",
        "\n",
        "myLambda1 = myFunc(2)"
      ],
      "metadata": {
        "id": "7jJTt4rnHtS5"
      },
      "execution_count": 21,
      "outputs": []
    },
    {
      "cell_type": "code",
      "source": [
        "myLambda1()"
      ],
      "metadata": {
        "colab": {
          "base_uri": "https://localhost:8080/",
          "height": 141
        },
        "id": "dL_MMO1qIFAM",
        "outputId": "005bffdc-fd59-4aaa-c338-174163c284fc"
      },
      "execution_count": 23,
      "outputs": [
        {
          "output_type": "error",
          "ename": "TypeError",
          "evalue": "myFunc.<locals>.<lambda>() missing 1 required positional argument: 'a'",
          "traceback": [
            "\u001b[0;31m---------------------------------------------------------------------------\u001b[0m",
            "\u001b[0;31mTypeError\u001b[0m                                 Traceback (most recent call last)",
            "\u001b[0;32m<ipython-input-23-db5b88a1d09c>\u001b[0m in \u001b[0;36m<cell line: 1>\u001b[0;34m()\u001b[0m\n\u001b[0;32m----> 1\u001b[0;31m \u001b[0mmyLambda1\u001b[0m\u001b[0;34m(\u001b[0m\u001b[0;34m)\u001b[0m\u001b[0;34m\u001b[0m\u001b[0;34m\u001b[0m\u001b[0m\n\u001b[0m",
            "\u001b[0;31mTypeError\u001b[0m: myFunc.<locals>.<lambda>() missing 1 required positional argument: 'a'"
          ]
        }
      ]
    },
    {
      "cell_type": "code",
      "source": [
        "myLambda1(10) # a = a*n ==> 10*2"
      ],
      "metadata": {
        "colab": {
          "base_uri": "https://localhost:8080/"
        },
        "id": "mg_XkhJ8I7Oq",
        "outputId": "0c187eb1-43a0-4827-a089-2a3fcbf02ee9"
      },
      "execution_count": 25,
      "outputs": [
        {
          "output_type": "execute_result",
          "data": {
            "text/plain": [
              "20"
            ]
          },
          "metadata": {},
          "execution_count": 25
        }
      ]
    },
    {
      "cell_type": "code",
      "source": [
        "myLambda2 = myFunc(3)\n",
        "myLambda2(20)"
      ],
      "metadata": {
        "colab": {
          "base_uri": "https://localhost:8080/"
        },
        "id": "5RpLyjmWJF5R",
        "outputId": "24cecbb2-f161-43a5-998c-ea16763f078d"
      },
      "execution_count": 26,
      "outputs": [
        {
          "output_type": "execute_result",
          "data": {
            "text/plain": [
              "60"
            ]
          },
          "metadata": {},
          "execution_count": 26
        }
      ]
    },
    {
      "cell_type": "code",
      "source": [
        "myLambda2 = myFunc(3)\n",
        "myLambda2([12,20,30])"
      ],
      "metadata": {
        "colab": {
          "base_uri": "https://localhost:8080/"
        },
        "id": "Sm-pFo0QKYv7",
        "outputId": "4a34b4e2-9fd6-4826-ec38-10527df929a3"
      },
      "execution_count": 27,
      "outputs": [
        {
          "output_type": "execute_result",
          "data": {
            "text/plain": [
              "[12, 20, 30, 12, 20, 30, 12, 20, 30]"
            ]
          },
          "metadata": {},
          "execution_count": 27
        }
      ]
    },
    {
      "cell_type": "code",
      "source": [
        "a = lambda x: lambda y: x+y\n",
        "a(10)"
      ],
      "metadata": {
        "colab": {
          "base_uri": "https://localhost:8080/"
        },
        "id": "h4zsNatMML9S",
        "outputId": "db13837c-b90b-48d9-f6b6-d41ba5adbdf9"
      },
      "execution_count": 31,
      "outputs": [
        {
          "output_type": "execute_result",
          "data": {
            "text/plain": [
              "<function __main__.<lambda>.<locals>.<lambda>(y)>"
            ]
          },
          "metadata": {},
          "execution_count": 31
        }
      ]
    },
    {
      "cell_type": "code",
      "source": [
        "a = lambda x: lambda y: x+y\n",
        "output = a(10)\n",
        "output(5)\n",
        ""
      ],
      "metadata": {
        "colab": {
          "base_uri": "https://localhost:8080/"
        },
        "id": "kzPeWh77Kdxm",
        "outputId": "4d977b2c-2cfb-4bf6-a777-16ff2e1b9861"
      },
      "execution_count": 32,
      "outputs": [
        {
          "output_type": "execute_result",
          "data": {
            "text/plain": [
              "15"
            ]
          },
          "metadata": {},
          "execution_count": 32
        }
      ]
    },
    {
      "cell_type": "code",
      "source": [
        "a(10)(5)\n"
      ],
      "metadata": {
        "colab": {
          "base_uri": "https://localhost:8080/"
        },
        "id": "EwCTpf_vKo3o",
        "outputId": "0aa14606-11fb-420c-90ef-b11143990d7f"
      },
      "execution_count": 33,
      "outputs": [
        {
          "output_type": "execute_result",
          "data": {
            "text/plain": [
              "15"
            ]
          },
          "metadata": {},
          "execution_count": 33
        }
      ]
    },
    {
      "cell_type": "markdown",
      "source": [
        "#  **Filter**"
      ],
      "metadata": {
        "id": "SW9ZGQPpMYDU"
      }
    },
    {
      "cell_type": "markdown",
      "source": [
        "**Syntax** - **filter(function , iterable)**"
      ],
      "metadata": {
        "id": "OsxIFufwZCZX"
      }
    },
    {
      "cell_type": "code",
      "source": [
        "scores = [50, 45, 10, 76, 100, 12, 5]\n",
        "\n",
        "# create a list which takes the score greater than 40\n",
        "def func(x):\n",
        "  if x>40:\n",
        "    return True\n",
        "  else:\n",
        "    return False\n",
        "\n",
        "filtered_list = list(filter(func, scores))\n",
        "\n",
        "print(filtered_list)"
      ],
      "metadata": {
        "colab": {
          "base_uri": "https://localhost:8080/"
        },
        "id": "NIT2HxZjMcYs",
        "outputId": "dd0fc5d8-2792-4d16-f8d2-938abc945b29"
      },
      "execution_count": 37,
      "outputs": [
        {
          "output_type": "stream",
          "name": "stdout",
          "text": [
            "[50, 45, 76, 100]\n"
          ]
        }
      ]
    },
    {
      "cell_type": "code",
      "source": [
        "#using lambda function\n",
        "numbers = [12,42,3,75,124,29,71,1,2,47,10001]\n",
        "\n",
        "evenNumbers = list(filter(lambda x: x%2==0, numbers))\n",
        "oddNumbers = list(filter(lambda x: x%2==1, numbers))\n",
        "\n",
        "print(evenNumbers)\n",
        "print(oddNumbers)"
      ],
      "metadata": {
        "colab": {
          "base_uri": "https://localhost:8080/"
        },
        "id": "QXfYqXH_blAH",
        "outputId": "67792ab9-f917-4a94-fec0-643a941b0dbd"
      },
      "execution_count": 38,
      "outputs": [
        {
          "output_type": "stream",
          "name": "stdout",
          "text": [
            "[12, 42, 124, 2]\n",
            "[3, 75, 29, 71, 1, 47, 10001]\n"
          ]
        }
      ]
    },
    {
      "cell_type": "code",
      "source": [
        "d = {'Sathyam':1,'Pavan':3,'Vijaya':2,'Pavani':4}\n",
        "a = sorted(d.items(), key=lambda x: x[1])\n",
        "print(a)"
      ],
      "metadata": {
        "colab": {
          "base_uri": "https://localhost:8080/"
        },
        "id": "432Z28bTcTbZ",
        "outputId": "f51aed24-d729-4341-eb1f-67b03cb0db33"
      },
      "execution_count": 42,
      "outputs": [
        {
          "output_type": "stream",
          "name": "stdout",
          "text": [
            "[('Sathyam', 1), ('Vijaya', 2), ('Pavan', 3), ('Pavani', 4)]\n"
          ]
        }
      ]
    },
    {
      "cell_type": "code",
      "source": [
        "def isPrime(n):\n",
        "  if n<=1:\n",
        "    return False\n",
        "\n",
        "  for i in range(2,n):\n",
        "    if n%i == 0:\n",
        "      return False\n",
        "\n",
        "  return True\n",
        "\n",
        "numbers = [7,17,29,144,142,2001,199,176, 187]\n",
        "\n",
        "primeNumbers = list(filter(isPrime, numbers))\n",
        "\n",
        "print(primeNumbers)"
      ],
      "metadata": {
        "colab": {
          "base_uri": "https://localhost:8080/"
        },
        "id": "D8oY5Zg4cqRQ",
        "outputId": "f2ff294f-0ef4-43e8-fc9d-32efcabe93a9"
      },
      "execution_count": 43,
      "outputs": [
        {
          "output_type": "stream",
          "name": "stdout",
          "text": [
            "[7, 17, 29, 199]\n"
          ]
        }
      ]
    },
    {
      "cell_type": "code",
      "source": [
        "\n",
        "def myFun(a):\n",
        "  if a>18:\n",
        "    return False\n",
        "\n",
        "numbers = [1,2,9,12,18,20,25,40,50]\n",
        "\n",
        "filtered_numbers = list(filter(myFun, numbers))\n",
        "\n",
        "print(filtered_numbers)"
      ],
      "metadata": {
        "colab": {
          "base_uri": "https://localhost:8080/"
        },
        "id": "m2Bl8IrodptN",
        "outputId": "249625a7-8ddf-4802-82da-4edeb69e7c34"
      },
      "execution_count": 47,
      "outputs": [
        {
          "output_type": "stream",
          "name": "stdout",
          "text": [
            "[]\n"
          ]
        }
      ]
    },
    {
      "cell_type": "code",
      "source": [
        "\n",
        "def myFun(a):\n",
        "  if a>18:\n",
        "    return False\n",
        "  else:\n",
        "    return a+12\n",
        "\n",
        "numbers = [1,2,9,12,18,20,25,40,50]\n",
        "\n",
        "filtered_numbers = list(filter(myFun, numbers))\n",
        "\n",
        "print(filtered_numbers)"
      ],
      "metadata": {
        "colab": {
          "base_uri": "https://localhost:8080/"
        },
        "id": "tp5dxqlrc2u8",
        "outputId": "33c149b3-6250-4ec6-d6f7-82141ebe13e3"
      },
      "execution_count": 44,
      "outputs": [
        {
          "output_type": "stream",
          "name": "stdout",
          "text": [
            "[1, 2, 9, 12, 18]\n"
          ]
        }
      ]
    },
    {
      "cell_type": "code",
      "source": [
        "def myFun(a):\n",
        "  if a>18:\n",
        "    return False\n",
        "  else:\n",
        "    return a-12\n",
        "\n",
        "numbers = [1,2,9,12,18,20,25,40,50]\n",
        "\n",
        "filtered_numbers = list(filter(myFun, numbers))\n",
        "\n",
        "print(filtered_numbers)\n",
        ""
      ],
      "metadata": {
        "colab": {
          "base_uri": "https://localhost:8080/"
        },
        "id": "po2x-HWPc3yi",
        "outputId": "fe97eb5e-da9e-4d92-db31-482fa6162f4f"
      },
      "execution_count": 45,
      "outputs": [
        {
          "output_type": "stream",
          "name": "stdout",
          "text": [
            "[1, 2, 9, 18]\n"
          ]
        }
      ]
    },
    {
      "cell_type": "code",
      "source": [
        "bool(-2)"
      ],
      "metadata": {
        "colab": {
          "base_uri": "https://localhost:8080/"
        },
        "id": "D_KKpbrXdafq",
        "outputId": "0f3b1a05-2aca-447b-a56c-fb152400a9d6"
      },
      "execution_count": 46,
      "outputs": [
        {
          "output_type": "execute_result",
          "data": {
            "text/plain": [
              "True"
            ]
          },
          "metadata": {},
          "execution_count": 46
        }
      ]
    },
    {
      "cell_type": "markdown",
      "source": [
        "**MAP Function**"
      ],
      "metadata": {
        "id": "hfmxXxKhdeMb"
      }
    },
    {
      "cell_type": "code",
      "source": [
        "def myFun(a):\n",
        "  if a>18:\n",
        "    return False\n",
        "\n",
        "numbers = [1,2,9,12,18,20,25,40,50]\n",
        "\n",
        "map_numbers = list(map(myFun, numbers))\n",
        "\n",
        "print(map_numbers)"
      ],
      "metadata": {
        "colab": {
          "base_uri": "https://localhost:8080/"
        },
        "id": "kdqu14KCdhfg",
        "outputId": "b6b6a90b-22b6-4425-8e19-981558749aba"
      },
      "execution_count": 48,
      "outputs": [
        {
          "output_type": "stream",
          "name": "stdout",
          "text": [
            "[None, None, None, None, None, False, False, False, False]\n"
          ]
        }
      ]
    },
    {
      "cell_type": "code",
      "source": [
        "scores = [55, 75, 45, 38, 58, 67, 81, 92]\n",
        "\n",
        "map_scores = map(lambda x: x+7, scores)\n",
        "\n",
        "print(map_scores)"
      ],
      "metadata": {
        "colab": {
          "base_uri": "https://localhost:8080/"
        },
        "id": "6fxAEUfzd-HU",
        "outputId": "bc55bf5a-a0fa-4fe5-8cf2-d73cf5e1d9a2"
      },
      "execution_count": 49,
      "outputs": [
        {
          "output_type": "stream",
          "name": "stdout",
          "text": [
            "<map object at 0x7dd339702590>\n"
          ]
        }
      ]
    },
    {
      "cell_type": "code",
      "source": [
        "\n",
        "for value in map_scores:\n",
        "  print(value)"
      ],
      "metadata": {
        "colab": {
          "base_uri": "https://localhost:8080/"
        },
        "id": "qSoc-I_7d__0",
        "outputId": "74dcbe2a-3234-4b0e-e628-bde13dc4cf17"
      },
      "execution_count": 50,
      "outputs": [
        {
          "output_type": "stream",
          "name": "stdout",
          "text": [
            "62\n",
            "82\n",
            "52\n",
            "45\n",
            "65\n",
            "74\n",
            "88\n",
            "99\n"
          ]
        }
      ]
    },
    {
      "cell_type": "code",
      "source": [
        "\n",
        "\n",
        "scores = [55, 75, 45, 38, 58, 67, 81, 92]\n",
        "\n",
        "map_scores = list(map(lambda x: x+7, scores))\n",
        "\n",
        "print(map_scores)"
      ],
      "metadata": {
        "colab": {
          "base_uri": "https://localhost:8080/"
        },
        "id": "-Pig9rpreC4b",
        "outputId": "162c7bee-3542-46e3-f3a6-571ad2d5f2d8"
      },
      "execution_count": 51,
      "outputs": [
        {
          "output_type": "stream",
          "name": "stdout",
          "text": [
            "[62, 82, 52, 45, 65, 74, 88, 99]\n"
          ]
        }
      ]
    },
    {
      "cell_type": "code",
      "source": [
        "scores = [55, 75, 45, 38, 58, 67, 81, 92]\n",
        "# add 7 if score is >70 else leave as it is\n",
        "\n",
        "map_scores = list(map(lambda x: x+7 if x>70 else x, scores))\n",
        "\n",
        "print(map_scores)"
      ],
      "metadata": {
        "colab": {
          "base_uri": "https://localhost:8080/"
        },
        "id": "Ov-IehXEeFmb",
        "outputId": "6bfcc6c5-814f-4548-e924-557ce9a2138e"
      },
      "execution_count": 52,
      "outputs": [
        {
          "output_type": "stream",
          "name": "stdout",
          "text": [
            "[55, 82, 45, 38, 58, 67, 88, 99]\n"
          ]
        }
      ]
    },
    {
      "cell_type": "code",
      "source": [
        "def statement(msg, times = 1):\n",
        "  print(msg* times)\n",
        "\n",
        "statement(\"Hello\")\n",
        "statement(\"World\", 5)"
      ],
      "metadata": {
        "colab": {
          "base_uri": "https://localhost:8080/"
        },
        "id": "hGNEsSneeIt_",
        "outputId": "81d9ecd9-764a-48e7-9bb1-12a2f0f81d96"
      },
      "execution_count": 53,
      "outputs": [
        {
          "output_type": "stream",
          "name": "stdout",
          "text": [
            "Hello\n",
            "WorldWorldWorldWorldWorld\n"
          ]
        }
      ]
    },
    {
      "cell_type": "code",
      "source": [
        "def a(b):\n",
        "  print(\"id of b before adding 5 : \", id(b))\n",
        "  b.append(5)\n",
        "  print(\"id of b after adding 5 : \", id(b))\n",
        "\n",
        "\n",
        "c = [1,2,3,4]\n",
        "print(\"id c : -->\", id(c))\n",
        "a(c)\n",
        "print(len(c))\n",
        ""
      ],
      "metadata": {
        "colab": {
          "base_uri": "https://localhost:8080/"
        },
        "id": "crzpwvC7ePYM",
        "outputId": "02ed6f66-deeb-4794-9067-ad049edd23f6"
      },
      "execution_count": 54,
      "outputs": [
        {
          "output_type": "stream",
          "name": "stdout",
          "text": [
            "id c : --> 138346154619328\n",
            "id of b before adding 5 :  138346154619328\n",
            "id of b after adding 5 :  138346154619328\n",
            "5\n"
          ]
        }
      ]
    },
    {
      "cell_type": "code",
      "source": [
        "\n",
        "def foo(i, x=[]):\n",
        "  x.append(i)\n",
        "  return x\n",
        "\n",
        "for i in range(3):\n",
        "  print(foo(i))\n",
        ""
      ],
      "metadata": {
        "colab": {
          "base_uri": "https://localhost:8080/"
        },
        "id": "QhsStppkeSR6",
        "outputId": "71272fad-a4c0-48a0-e8d5-2f4ba1d58073"
      },
      "execution_count": 55,
      "outputs": [
        {
          "output_type": "stream",
          "name": "stdout",
          "text": [
            "[0]\n",
            "[0, 1]\n",
            "[0, 1, 2]\n"
          ]
        }
      ]
    },
    {
      "cell_type": "code",
      "source": [
        "l = [1,2,3]\n",
        "l.append(4)\n",
        "l"
      ],
      "metadata": {
        "colab": {
          "base_uri": "https://localhost:8080/"
        },
        "id": "tbDgA3IxeUTb",
        "outputId": "e62586af-b175-45a0-862d-97c5096c46e9"
      },
      "execution_count": 56,
      "outputs": [
        {
          "output_type": "execute_result",
          "data": {
            "text/plain": [
              "[1, 2, 3, 4]"
            ]
          },
          "metadata": {},
          "execution_count": 56
        }
      ]
    },
    {
      "cell_type": "code",
      "source": [
        "l = []\n",
        "print(l)\n",
        "for i in range(3):\n",
        "  l.append(l.append(i))\n",
        "  print(l)\n",
        "\n",
        "print(l)\n",
        ""
      ],
      "metadata": {
        "colab": {
          "base_uri": "https://localhost:8080/"
        },
        "id": "ikFKtN4neW07",
        "outputId": "e59bcb07-0812-4bd0-8688-27b42f82e487"
      },
      "execution_count": 58,
      "outputs": [
        {
          "output_type": "stream",
          "name": "stdout",
          "text": [
            "[]\n",
            "[0, None]\n",
            "[0, None, 1, None]\n",
            "[0, None, 1, None, 2, None]\n",
            "[0, None, 1, None, 2, None]\n"
          ]
        }
      ]
    },
    {
      "cell_type": "code",
      "source": [
        "def foo(i, x= []):\n",
        "  x.append(i)\n",
        "  return x\n",
        "\n",
        "for i in range(3):\n",
        "  print(foo(i))"
      ],
      "metadata": {
        "colab": {
          "base_uri": "https://localhost:8080/"
        },
        "id": "bThHz4x8ebnm",
        "outputId": "a447d045-6372-4d2f-b61f-547d48e7175a"
      },
      "execution_count": 59,
      "outputs": [
        {
          "output_type": "stream",
          "name": "stdout",
          "text": [
            "[0]\n",
            "[0, 1]\n",
            "[0, 1, 2]\n"
          ]
        }
      ]
    }
  ]
}