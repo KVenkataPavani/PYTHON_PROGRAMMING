{
  "nbformat": 4,
  "nbformat_minor": 0,
  "metadata": {
    "colab": {
      "provenance": [],
      "authorship_tag": "ABX9TyMjP3DNmld+EhISbovlRbTv",
      "include_colab_link": true
    },
    "kernelspec": {
      "name": "python3",
      "display_name": "Python 3"
    },
    "language_info": {
      "name": "python"
    }
  },
  "cells": [
    {
      "cell_type": "markdown",
      "metadata": {
        "id": "view-in-github",
        "colab_type": "text"
      },
      "source": [
        "<a href=\"https://colab.research.google.com/github/KVenkataPavani/PYTHON_PROGRAMMING/blob/main/14_String_Methods.ipynb\" target=\"_parent\"><img src=\"https://colab.research.google.com/assets/colab-badge.svg\" alt=\"Open In Colab\"/></a>"
      ]
    },
    {
      "cell_type": "markdown",
      "source": [
        "# **String Methods in Python**"
      ],
      "metadata": {
        "id": "kePPMQyyuRZI"
      }
    },
    {
      "cell_type": "markdown",
      "source": [
        "* strip\n",
        "*  lstrip\n",
        "*  rstrip\n",
        "*  split\n",
        "*  rsplit\n",
        "*  join\n",
        "*  replace\n",
        "*  upper\n",
        "*  lower\n",
        "*  isupper\n",
        "*  islower\n",
        "*  capitalize\n",
        "*  isalpha\n",
        "*  isnumeric\n",
        "*  isalnum\n",
        "*  count\n",
        "*  find\n",
        "*  rfind\n",
        "*  index\n",
        "*  rindex"
      ],
      "metadata": {
        "id": "iKswuPTaueNQ"
      }
    },
    {
      "cell_type": "markdown",
      "source": [
        "**strip()- removes**"
      ],
      "metadata": {
        "id": "hMbm8gDMu7RI"
      }
    },
    {
      "cell_type": "code",
      "source": [
        "name=\"venkata pavani\"\n",
        "name.strip()"
      ],
      "metadata": {
        "colab": {
          "base_uri": "https://localhost:8080/",
          "height": 36
        },
        "id": "jcecHH2UvB07",
        "outputId": "b8f7acc7-c61d-4c11-b7b0-0453f57e6ed9"
      },
      "execution_count": 1,
      "outputs": [
        {
          "output_type": "execute_result",
          "data": {
            "text/plain": [
              "'venkata pavani'"
            ],
            "application/vnd.google.colaboratory.intrinsic+json": {
              "type": "string"
            }
          },
          "metadata": {},
          "execution_count": 1
        }
      ]
    },
    {
      "cell_type": "code",
      "source": [
        "name=\"      venkata pavani\"\n",
        "name.strip()"
      ],
      "metadata": {
        "colab": {
          "base_uri": "https://localhost:8080/",
          "height": 36
        },
        "id": "qa1_eCpYvZNH",
        "outputId": "43facc31-e44c-414e-f522-ac02624907e7"
      },
      "execution_count": 2,
      "outputs": [
        {
          "output_type": "execute_result",
          "data": {
            "text/plain": [
              "'venkata pavani'"
            ],
            "application/vnd.google.colaboratory.intrinsic+json": {
              "type": "string"
            }
          },
          "metadata": {},
          "execution_count": 2
        }
      ]
    },
    {
      "cell_type": "code",
      "source": [
        "name=\".k...venkata. pavani\"\n",
        "name.strip(\".\")"
      ],
      "metadata": {
        "colab": {
          "base_uri": "https://localhost:8080/",
          "height": 36
        },
        "id": "1d6VEQSBvhog",
        "outputId": "425f91ce-792d-4ee3-d511-9f26c17077d8"
      },
      "execution_count": 4,
      "outputs": [
        {
          "output_type": "execute_result",
          "data": {
            "text/plain": [
              "'k...venkata. pavani'"
            ],
            "application/vnd.google.colaboratory.intrinsic+json": {
              "type": "string"
            }
          },
          "metadata": {},
          "execution_count": 4
        }
      ]
    },
    {
      "cell_type": "code",
      "source": [
        "name=\".k...venkata. pavani\"\n",
        "name.strip(\".v\")"
      ],
      "metadata": {
        "colab": {
          "base_uri": "https://localhost:8080/",
          "height": 36
        },
        "id": "lZPlhl3Zv31u",
        "outputId": "ba1bf7c7-de0a-4230-8204-19b5e7f5f437"
      },
      "execution_count": 8,
      "outputs": [
        {
          "output_type": "execute_result",
          "data": {
            "text/plain": [
              "'k...venkata. pavani'"
            ],
            "application/vnd.google.colaboratory.intrinsic+json": {
              "type": "string"
            }
          },
          "metadata": {},
          "execution_count": 8
        }
      ]
    },
    {
      "cell_type": "code",
      "source": [
        "name=\".k...venkata. pavani\"\n",
        "name.strip(\".ve\")"
      ],
      "metadata": {
        "colab": {
          "base_uri": "https://localhost:8080/",
          "height": 36
        },
        "id": "mo-GwkfxwOsk",
        "outputId": "5a330f17-25fd-4896-8b44-f49944e685c9"
      },
      "execution_count": 10,
      "outputs": [
        {
          "output_type": "execute_result",
          "data": {
            "text/plain": [
              "'k...venkata. pavani'"
            ],
            "application/vnd.google.colaboratory.intrinsic+json": {
              "type": "string"
            }
          },
          "metadata": {},
          "execution_count": 10
        }
      ]
    },
    {
      "cell_type": "code",
      "source": [
        "name=\".k...venkata. pavani\"\n",
        "name.strip(\"ve\")"
      ],
      "metadata": {
        "colab": {
          "base_uri": "https://localhost:8080/",
          "height": 36
        },
        "id": "6a7jtVOxwJkm",
        "outputId": "26317ecb-b7e8-4191-b9d1-2b724e5f035b"
      },
      "execution_count": 9,
      "outputs": [
        {
          "output_type": "execute_result",
          "data": {
            "text/plain": [
              "'.k...venkata. pavani'"
            ],
            "application/vnd.google.colaboratory.intrinsic+json": {
              "type": "string"
            }
          },
          "metadata": {},
          "execution_count": 9
        }
      ]
    },
    {
      "cell_type": "code",
      "source": [
        "name=\".venkata. pavani.\"\n",
        "name.strip(\".pa\")"
      ],
      "metadata": {
        "colab": {
          "base_uri": "https://localhost:8080/",
          "height": 36
        },
        "id": "lFspRZttwdlY",
        "outputId": "7fcc4cff-ad34-4947-8399-e640edd353d4"
      },
      "execution_count": 14,
      "outputs": [
        {
          "output_type": "execute_result",
          "data": {
            "text/plain": [
              "'venkata. pavani'"
            ],
            "application/vnd.google.colaboratory.intrinsic+json": {
              "type": "string"
            }
          },
          "metadata": {},
          "execution_count": 14
        }
      ]
    },
    {
      "cell_type": "code",
      "source": [
        "name=\"venkata pavani.\"\n",
        "name.strip(\"vn\")"
      ],
      "metadata": {
        "colab": {
          "base_uri": "https://localhost:8080/",
          "height": 36
        },
        "id": "FVqHY1cbxdnP",
        "outputId": "f044161c-0a86-44b3-9f2d-f1243be69945"
      },
      "execution_count": 16,
      "outputs": [
        {
          "output_type": "execute_result",
          "data": {
            "text/plain": [
              "'enkata pavani.'"
            ],
            "application/vnd.google.colaboratory.intrinsic+json": {
              "type": "string"
            }
          },
          "metadata": {},
          "execution_count": 16
        }
      ]
    },
    {
      "cell_type": "markdown",
      "source": [
        "**lstrip(),rstrip()**"
      ],
      "metadata": {
        "id": "gCylnAyn02ZK"
      }
    },
    {
      "cell_type": "code",
      "source": [
        "name=\"venkata pavani.\"\n",
        "name.rstrip(\"vn\")"
      ],
      "metadata": {
        "colab": {
          "base_uri": "https://localhost:8080/",
          "height": 36
        },
        "id": "Lu8Y9vnz0jfS",
        "outputId": "e080954c-4673-462e-f000-59dbac27ee95"
      },
      "execution_count": 21,
      "outputs": [
        {
          "output_type": "execute_result",
          "data": {
            "text/plain": [
              "'venkata pavani.'"
            ],
            "application/vnd.google.colaboratory.intrinsic+json": {
              "type": "string"
            }
          },
          "metadata": {},
          "execution_count": 21
        }
      ]
    },
    {
      "cell_type": "code",
      "source": [
        "name=\"venkata pavani.\"\n",
        "name.lstrip(\"vn\")"
      ],
      "metadata": {
        "colab": {
          "base_uri": "https://localhost:8080/",
          "height": 36
        },
        "id": "VYdb60HR0qtf",
        "outputId": "4e938e3a-7dec-4a25-af28-60c2fccc81e9"
      },
      "execution_count": 22,
      "outputs": [
        {
          "output_type": "execute_result",
          "data": {
            "text/plain": [
              "'enkata pavani.'"
            ],
            "application/vnd.google.colaboratory.intrinsic+json": {
              "type": "string"
            }
          },
          "metadata": {},
          "execution_count": 22
        }
      ]
    },
    {
      "cell_type": "code",
      "source": [
        "txt = \",,,,,rrttgg.....banana....rrr\"\n",
        "txt.strip(\",.grt\")"
      ],
      "metadata": {
        "colab": {
          "base_uri": "https://localhost:8080/",
          "height": 36
        },
        "id": "OTXorEGJyyQK",
        "outputId": "4e94a5d4-dbb8-46c5-f4a0-4df1f3ebaffe"
      },
      "execution_count": 17,
      "outputs": [
        {
          "output_type": "execute_result",
          "data": {
            "text/plain": [
              "'banana'"
            ],
            "application/vnd.google.colaboratory.intrinsic+json": {
              "type": "string"
            }
          },
          "metadata": {},
          "execution_count": 17
        }
      ]
    },
    {
      "cell_type": "code",
      "source": [
        "txt = \",,,,,rrttgg.....banana....rrr\"\n",
        "txt.rstrip(\",.grt\")"
      ],
      "metadata": {
        "colab": {
          "base_uri": "https://localhost:8080/",
          "height": 36
        },
        "id": "qD76XKVrzB1j",
        "outputId": "5f84f237-100b-41aa-dff0-7bd60e111808"
      },
      "execution_count": 19,
      "outputs": [
        {
          "output_type": "execute_result",
          "data": {
            "text/plain": [
              "',,,,,rrttgg.....banana'"
            ],
            "application/vnd.google.colaboratory.intrinsic+json": {
              "type": "string"
            }
          },
          "metadata": {},
          "execution_count": 19
        }
      ]
    },
    {
      "cell_type": "code",
      "source": [
        "txt = \",,,,,rrttgg.....banana....rrr\"\n",
        "txt.lstrip(\",.grt\")"
      ],
      "metadata": {
        "colab": {
          "base_uri": "https://localhost:8080/",
          "height": 36
        },
        "id": "Elw6H5V_zEN5",
        "outputId": "d5c49b77-6fbb-4994-b57e-9b9055409c63"
      },
      "execution_count": 20,
      "outputs": [
        {
          "output_type": "execute_result",
          "data": {
            "text/plain": [
              "'banana....rrr'"
            ],
            "application/vnd.google.colaboratory.intrinsic+json": {
              "type": "string"
            }
          },
          "metadata": {},
          "execution_count": 20
        }
      ]
    },
    {
      "cell_type": "markdown",
      "source": [
        "**split()**"
      ],
      "metadata": {
        "id": "5IkhH7sn06XQ"
      }
    },
    {
      "cell_type": "markdown",
      "source": [
        "**string.split(separator, maxsplit)**\n",
        "* default sep=whitespace,maxsplit is -1"
      ],
      "metadata": {
        "id": "mL0mwmbS2DQT"
      }
    },
    {
      "cell_type": "code",
      "source": [
        "quote=\"everything happens for a reason\"\n",
        "quote.split()"
      ],
      "metadata": {
        "colab": {
          "base_uri": "https://localhost:8080/"
        },
        "id": "YfyF2AqC08j8",
        "outputId": "f13e5975-d702-4f87-f8bb-f59c8f4e48df"
      },
      "execution_count": 25,
      "outputs": [
        {
          "output_type": "execute_result",
          "data": {
            "text/plain": [
              "['everything', 'happens', 'for', 'a', 'reason']"
            ]
          },
          "metadata": {},
          "execution_count": 25
        }
      ]
    },
    {
      "cell_type": "code",
      "source": [
        "quote=\"everything happens, for a reason\"\n",
        "quote.split()"
      ],
      "metadata": {
        "colab": {
          "base_uri": "https://localhost:8080/"
        },
        "id": "iQEw-1_r1abL",
        "outputId": "2321d1aa-3482-475a-ca9f-efead9881ba2"
      },
      "execution_count": 26,
      "outputs": [
        {
          "output_type": "execute_result",
          "data": {
            "text/plain": [
              "['everything', 'happens,', 'for', 'a', 'reason']"
            ]
          },
          "metadata": {},
          "execution_count": 26
        }
      ]
    },
    {
      "cell_type": "code",
      "source": [
        "quote=\"everything, happens, for a reason\"\n",
        "quote.split(',')\n",
        "#if we give comma as seperator after comma it will be taken as single string"
      ],
      "metadata": {
        "colab": {
          "base_uri": "https://localhost:8080/"
        },
        "id": "0blPmpbz1i5H",
        "outputId": "6de76651-2e00-4e49-d9a1-74cdd724d492"
      },
      "execution_count": 31,
      "outputs": [
        {
          "output_type": "execute_result",
          "data": {
            "text/plain": [
              "['everything', ' happens', ' for a reason']"
            ]
          },
          "metadata": {},
          "execution_count": 31
        }
      ]
    },
    {
      "cell_type": "code",
      "source": [
        "message = \"Rohit, Virat, Pant, and Surya were the India's best batters\"\n",
        "message.split(', ')"
      ],
      "metadata": {
        "colab": {
          "base_uri": "https://localhost:8080/"
        },
        "id": "tOkX0FAX4woR",
        "outputId": "098ee1aa-16cc-436f-9985-8f6a5a4fc956"
      },
      "execution_count": 33,
      "outputs": [
        {
          "output_type": "execute_result",
          "data": {
            "text/plain": [
              "['Rohit', 'Virat', 'Pant', \"and Surya were the India's best batters\"]"
            ]
          },
          "metadata": {},
          "execution_count": 33
        }
      ]
    },
    {
      "cell_type": "code",
      "source": [
        "\n",
        "message = \"All the best for your  Exams\"\n",
        "message.split(\" \", maxsplit = 3)\n",
        "#after 3 splits it will consider as whole one string"
      ],
      "metadata": {
        "colab": {
          "base_uri": "https://localhost:8080/"
        },
        "id": "BMsLVqyG41u_",
        "outputId": "2bdbc54b-90ca-4e84-ce1d-1e6a35bb5a87"
      },
      "execution_count": 34,
      "outputs": [
        {
          "output_type": "execute_result",
          "data": {
            "text/plain": [
              "['All', 'the', 'best', 'for your  Exams']"
            ]
          },
          "metadata": {},
          "execution_count": 34
        }
      ]
    },
    {
      "cell_type": "code",
      "source": [
        "message = \"All the best for your GATE 2025 Exams\"\n",
        "message.split(\" \", maxsplit=2)"
      ],
      "metadata": {
        "colab": {
          "base_uri": "https://localhost:8080/"
        },
        "id": "xM0YspFN5Lwr",
        "outputId": "57b59bb3-c5cf-460a-e958-dd4d32808bd7"
      },
      "execution_count": 37,
      "outputs": [
        {
          "output_type": "execute_result",
          "data": {
            "text/plain": [
              "['All', 'the', 'best for your GATE 2025 Exams']"
            ]
          },
          "metadata": {},
          "execution_count": 37
        }
      ]
    },
    {
      "cell_type": "code",
      "source": [
        "message = \"All the best for your GATE 2025 Exams\"\n",
        "message.rsplit()"
      ],
      "metadata": {
        "colab": {
          "base_uri": "https://localhost:8080/"
        },
        "id": "SQROIMLE5Ede",
        "outputId": "c401d66c-18f5-4d39-932a-d56eb1fbcc86"
      },
      "execution_count": 35,
      "outputs": [
        {
          "output_type": "execute_result",
          "data": {
            "text/plain": [
              "['All', 'the', 'best', 'for', 'your', 'GATE', '2025', 'Exams']"
            ]
          },
          "metadata": {},
          "execution_count": 35
        }
      ]
    },
    {
      "cell_type": "code",
      "source": [
        "message = \"All the best for your GATE 2025 Exams\"\n",
        "message.rsplit(\" \", maxsplit=2)"
      ],
      "metadata": {
        "colab": {
          "base_uri": "https://localhost:8080/"
        },
        "id": "pAnh0XkZ5T4Y",
        "outputId": "fe631231-80aa-4ab0-c857-4e1c15aa29fe"
      },
      "execution_count": 38,
      "outputs": [
        {
          "output_type": "execute_result",
          "data": {
            "text/plain": [
              "['All the best for your GATE', '2025', 'Exams']"
            ]
          },
          "metadata": {},
          "execution_count": 38
        }
      ]
    },
    {
      "cell_type": "code",
      "source": [
        "message = \"Rohit, Virat, Pant, and Surya were the India's best batters\"\n",
        "m = message.split(\"Virat\")\n",
        "print(m)\n",
        "# for l in m:\n",
        "#   print(l)\n",
        "# ['Rohit, ' || \", Pant, and Surya were the India's best batters\"||]"
      ],
      "metadata": {
        "colab": {
          "base_uri": "https://localhost:8080/"
        },
        "id": "W3zQtj1n5TyJ",
        "outputId": "6828186b-671d-4a2d-b94e-849dff414ecd"
      },
      "execution_count": 42,
      "outputs": [
        {
          "output_type": "stream",
          "name": "stdout",
          "text": [
            "['Rohit, ', \", Pant, and Surya were the India's best batters\"]\n"
          ]
        }
      ]
    },
    {
      "cell_type": "code",
      "source": [
        "message = \"Rohit, Virat, Pant, and Surya were the India's best batters\"\n",
        "m = message.rsplit(\"Virat\")\n",
        "print(m)\n",
        "for l in m:\n",
        "   print(l)\n",
        "# ['Rohit, ' || \", Pant, and Surya were the India's best batters\"||]"
      ],
      "metadata": {
        "colab": {
          "base_uri": "https://localhost:8080/"
        },
        "id": "Qn5IRis96usj",
        "outputId": "ce09ac8c-f586-421f-a570-1426b0e2b15f"
      },
      "execution_count": 44,
      "outputs": [
        {
          "output_type": "stream",
          "name": "stdout",
          "text": [
            "['Rohit, ', \", Pant, and Surya were the India's best batters\"]\n",
            "Rohit, \n",
            ", Pant, and Surya were the India's best batters\n"
          ]
        }
      ]
    },
    {
      "cell_type": "code",
      "source": [
        "message = \"All the best for your GATE  Exams\"\n",
        "print(message.split(maxsplit=2))\n",
        "print(message.rsplit(maxsplit=2))"
      ],
      "metadata": {
        "colab": {
          "base_uri": "https://localhost:8080/"
        },
        "id": "I_cJeSG57AS4",
        "outputId": "c9707c41-a255-4863-b9c3-520c2192e0f6"
      },
      "execution_count": 45,
      "outputs": [
        {
          "output_type": "stream",
          "name": "stdout",
          "text": [
            "['All', 'the', 'best for your GATE  Exams']\n",
            "['All the best for your', 'GATE', 'Exams']\n"
          ]
        }
      ]
    },
    {
      "cell_type": "markdown",
      "source": [
        "**join -- \"  \".join(iterable)**"
      ],
      "metadata": {
        "id": "Nn4eIyTE8HDC"
      }
    },
    {
      "cell_type": "code",
      "source": [
        "myname=\"venkata pavani\"\n",
        "\"*\".join(myname)"
      ],
      "metadata": {
        "colab": {
          "base_uri": "https://localhost:8080/",
          "height": 36
        },
        "id": "cocktinI7KYR",
        "outputId": "1d82ded8-5ace-4d0d-c96e-d0dce18350bf"
      },
      "execution_count": 46,
      "outputs": [
        {
          "output_type": "execute_result",
          "data": {
            "text/plain": [
              "'v*e*n*k*a*t*a* *p*a*v*a*n*i'"
            ],
            "application/vnd.google.colaboratory.intrinsic+json": {
              "type": "string"
            }
          },
          "metadata": {},
          "execution_count": 46
        }
      ]
    },
    {
      "cell_type": "code",
      "source": [
        "myname=\"venkata pavani\"\n",
        "\"_\".join(myname)"
      ],
      "metadata": {
        "colab": {
          "base_uri": "https://localhost:8080/",
          "height": 36
        },
        "id": "wgRSoJum8i4z",
        "outputId": "4339fc21-d194-455c-8671-3878cc79cba5"
      },
      "execution_count": 47,
      "outputs": [
        {
          "output_type": "execute_result",
          "data": {
            "text/plain": [
              "'v_e_n_k_a_t_a_ _p_a_v_a_n_i'"
            ],
            "application/vnd.google.colaboratory.intrinsic+json": {
              "type": "string"
            }
          },
          "metadata": {},
          "execution_count": 47
        }
      ]
    },
    {
      "cell_type": "code",
      "source": [
        "myname=\"venkata pavani\"\n",
        "\"_maira_\".join(myname)"
      ],
      "metadata": {
        "colab": {
          "base_uri": "https://localhost:8080/",
          "height": 53
        },
        "id": "zTcJs0Uz8nVu",
        "outputId": "b86aa131-2db1-4e10-a65c-d480f4856fd4"
      },
      "execution_count": 49,
      "outputs": [
        {
          "output_type": "execute_result",
          "data": {
            "text/plain": [
              "'v_maira_e_maira_n_maira_k_maira_a_maira_t_maira_a_maira_ _maira_p_maira_a_maira_v_maira_a_maira_n_maira_i'"
            ],
            "application/vnd.google.colaboratory.intrinsic+json": {
              "type": "string"
            }
          },
          "metadata": {},
          "execution_count": 49
        }
      ]
    },
    {
      "cell_type": "code",
      "source": [
        "#only string list tuple dictionary are iterable\n",
        "#no numbers are iterable\n",
        "names=[\"pavani\",\"venkata\",\"vijaya\"]\n",
        "print(\"+\".join(names))\n",
        "num=[1,2,3]\n",
        "print(\"+\".join(num))"
      ],
      "metadata": {
        "colab": {
          "base_uri": "https://localhost:8080/",
          "height": 193
        },
        "id": "4_atl04H8zJs",
        "outputId": "d7a969a1-a126-4d93-aa76-0c3eebaca9dc"
      },
      "execution_count": 51,
      "outputs": [
        {
          "output_type": "stream",
          "name": "stdout",
          "text": [
            "pavani+venkata+vijaya\n"
          ]
        },
        {
          "output_type": "error",
          "ename": "TypeError",
          "evalue": "sequence item 0: expected str instance, int found",
          "traceback": [
            "\u001b[0;31m---------------------------------------------------------------------------\u001b[0m",
            "\u001b[0;31mTypeError\u001b[0m                                 Traceback (most recent call last)",
            "\u001b[0;32m<ipython-input-51-a985b280d435>\u001b[0m in \u001b[0;36m<cell line: 6>\u001b[0;34m()\u001b[0m\n\u001b[1;32m      4\u001b[0m \u001b[0mprint\u001b[0m\u001b[0;34m(\u001b[0m\u001b[0;34m\"+\"\u001b[0m\u001b[0;34m.\u001b[0m\u001b[0mjoin\u001b[0m\u001b[0;34m(\u001b[0m\u001b[0mnames\u001b[0m\u001b[0;34m)\u001b[0m\u001b[0;34m)\u001b[0m\u001b[0;34m\u001b[0m\u001b[0;34m\u001b[0m\u001b[0m\n\u001b[1;32m      5\u001b[0m \u001b[0mnum\u001b[0m\u001b[0;34m=\u001b[0m\u001b[0;34m[\u001b[0m\u001b[0;36m1\u001b[0m\u001b[0;34m,\u001b[0m\u001b[0;36m2\u001b[0m\u001b[0;34m,\u001b[0m\u001b[0;36m3\u001b[0m\u001b[0;34m]\u001b[0m\u001b[0;34m\u001b[0m\u001b[0;34m\u001b[0m\u001b[0m\n\u001b[0;32m----> 6\u001b[0;31m \u001b[0mprint\u001b[0m\u001b[0;34m(\u001b[0m\u001b[0;34m\"+\"\u001b[0m\u001b[0;34m.\u001b[0m\u001b[0mjoin\u001b[0m\u001b[0;34m(\u001b[0m\u001b[0mnum\u001b[0m\u001b[0;34m)\u001b[0m\u001b[0;34m)\u001b[0m\u001b[0;34m\u001b[0m\u001b[0;34m\u001b[0m\u001b[0m\n\u001b[0m",
            "\u001b[0;31mTypeError\u001b[0m: sequence item 0: expected str instance, int found"
          ]
        }
      ]
    },
    {
      "cell_type": "markdown",
      "source": [
        "**replace()**"
      ],
      "metadata": {
        "id": "8wjFA8DT-K4H"
      }
    },
    {
      "cell_type": "code",
      "source": [
        "names=\"pavani,venkata,vijaya,kv,maira\"\n",
        "names.replace(\"kv\",\"rinku\")\n"
      ],
      "metadata": {
        "colab": {
          "base_uri": "https://localhost:8080/",
          "height": 36
        },
        "id": "ySA-aS3J-a4B",
        "outputId": "b376bcce-ad02-43bd-df06-2560201c47db"
      },
      "execution_count": 56,
      "outputs": [
        {
          "output_type": "execute_result",
          "data": {
            "text/plain": [
              "'pavani,venkata,vijaya,rinku,maira'"
            ],
            "application/vnd.google.colaboratory.intrinsic+json": {
              "type": "string"
            }
          },
          "metadata": {},
          "execution_count": 56
        }
      ]
    },
    {
      "cell_type": "code",
      "source": [
        "names=\"pavani,venkata,vijaya,kv,maira,kv\"\n",
        "names.replace(\"kv\",\"rinku\")"
      ],
      "metadata": {
        "colab": {
          "base_uri": "https://localhost:8080/",
          "height": 36
        },
        "id": "9yAB7rG6PIJ7",
        "outputId": "578912c8-70b6-4be1-b2f5-a5968430146e"
      },
      "execution_count": 57,
      "outputs": [
        {
          "output_type": "execute_result",
          "data": {
            "text/plain": [
              "'pavani,venkata,vijaya,rinku,maira,rinku'"
            ],
            "application/vnd.google.colaboratory.intrinsic+json": {
              "type": "string"
            }
          },
          "metadata": {},
          "execution_count": 57
        }
      ]
    },
    {
      "cell_type": "code",
      "source": [
        "names=\"pavani,venkata,vijaya,kv,maira,kv,kv,kv,kv\"\n",
        "names.replace(\"kv\",\"rinku\",2)\n",
        "#only 1st 2 kv gets replaced"
      ],
      "metadata": {
        "colab": {
          "base_uri": "https://localhost:8080/",
          "height": 36
        },
        "id": "8O2GOdAzPSWn",
        "outputId": "ab42c7cc-560d-4756-e82d-77a6b412700f"
      },
      "execution_count": 59,
      "outputs": [
        {
          "output_type": "execute_result",
          "data": {
            "text/plain": [
              "'pavani,venkata,vijaya,rinku,maira,rinku,kv,kv,kv'"
            ],
            "application/vnd.google.colaboratory.intrinsic+json": {
              "type": "string"
            }
          },
          "metadata": {},
          "execution_count": 59
        }
      ]
    },
    {
      "cell_type": "code",
      "source": [
        "names=\"pavami,venkata,vijaya,kv,shivam,satyam,maira,kv,kv,kv,kv\"\n",
        "names.replace(\"am\",\"**\",2)"
      ],
      "metadata": {
        "colab": {
          "base_uri": "https://localhost:8080/",
          "height": 36
        },
        "id": "_jD8ZD41Pq2j",
        "outputId": "cec9df57-e95a-4dd6-a9a5-13faa2f0a43a"
      },
      "execution_count": 63,
      "outputs": [
        {
          "output_type": "execute_result",
          "data": {
            "text/plain": [
              "'pav**i,venkata,vijaya,kv,shiv**,satyam,maira,kv,kv,kv,kv'"
            ],
            "application/vnd.google.colaboratory.intrinsic+json": {
              "type": "string"
            }
          },
          "metadata": {},
          "execution_count": 63
        }
      ]
    },
    {
      "cell_type": "markdown",
      "source": [
        "**upper(),islower(),isupper(),capitalize()**"
      ],
      "metadata": {
        "id": "xNoZ-GqhQW4d"
      }
    },
    {
      "cell_type": "code",
      "source": [
        "name = \"pavani\"\n",
        "print(name.upper())\n",
        "name=\"Pavani\"\n",
        "print(name.upper())\n",
        "name=\"vjsjkq229i09nl\"\n",
        "print(name.upper())"
      ],
      "metadata": {
        "colab": {
          "base_uri": "https://localhost:8080/"
        },
        "id": "d7RcNteFQi-Y",
        "outputId": "83a4fea1-9c22-4218-fe8e-4c5ac5754db9"
      },
      "execution_count": 67,
      "outputs": [
        {
          "output_type": "stream",
          "name": "stdout",
          "text": [
            "PAVANI\n",
            "PAVANI\n",
            "VJSJKQ229I09NL\n"
          ]
        }
      ]
    },
    {
      "cell_type": "code",
      "source": [
        "name=\"Pavani\"\n",
        "print(name.lower())\n",
        "name=\"PAVANIavani\"\n",
        "print(name.lower())\n",
        "\n"
      ],
      "metadata": {
        "colab": {
          "base_uri": "https://localhost:8080/"
        },
        "id": "xPaKcl49R3hb",
        "outputId": "dd5694bd-2fa5-4f87-e02b-42ec2009ac4b"
      },
      "execution_count": 68,
      "outputs": [
        {
          "output_type": "stream",
          "name": "stdout",
          "text": [
            "pavani\n",
            "pavaniavani\n"
          ]
        }
      ]
    },
    {
      "cell_type": "code",
      "source": [
        "\n",
        "name = \"PAVANI\"\n",
        "print(name.isupper())\n",
        "print(\"---\")\n",
        "name = \"pavani\"\n",
        "print(name.islower())\n",
        "print(\"---\")\n",
        "\n",
        "name = \"Pavani\"\n",
        "print(name.isupper())\n",
        "print(\"---\")\n",
        "\n",
        "name=\"Pavani\"\n",
        "print(name.islower())\n",
        "print(\"---\")\n",
        "\n",
        "name=\"paVANOani\"\n",
        "print(name.islower())\n"
      ],
      "metadata": {
        "colab": {
          "base_uri": "https://localhost:8080/"
        },
        "id": "bQCSYKRESJGG",
        "outputId": "8689c9d4-cb8d-4182-c2a2-72e84ac54843"
      },
      "execution_count": 76,
      "outputs": [
        {
          "output_type": "stream",
          "name": "stdout",
          "text": [
            "True\n",
            "---\n",
            "True\n",
            "---\n",
            "False\n",
            "---\n",
            "False\n",
            "---\n",
            "False\n"
          ]
        }
      ]
    },
    {
      "cell_type": "code",
      "source": [
        "name=\"venkata pavani\"\n",
        "print(name.capitalize()) #1ST letter only will be capitalizes\n",
        "name=\"VeNKATa paVANi\"\n",
        "print(name.capitalize()) #1st letter gets capitalize and remaining all gets small\n",
        "name=\"129189%$^&vENnkata pavani\"#if we have any numbers intially no capital letter will be there small only it will return\n",
        "print(name.capitalize())\n",
        "name=\"129189Venkata pavani\"\n",
        "print(name.capitalize())"
      ],
      "metadata": {
        "colab": {
          "base_uri": "https://localhost:8080/"
        },
        "id": "QFIUfF1ITD_U",
        "outputId": "42bee889-9c7a-4e2f-8cf1-9937e969405d"
      },
      "execution_count": 86,
      "outputs": [
        {
          "output_type": "stream",
          "name": "stdout",
          "text": [
            "Venkata pavani\n",
            "Venkata pavani\n",
            "129189%$^&vennkata pavani\n",
            "129189venkata pavani\n"
          ]
        }
      ]
    },
    {
      "cell_type": "markdown",
      "source": [
        "**Swapcase()**"
      ],
      "metadata": {
        "id": "--4FlvcmVOfj"
      }
    },
    {
      "cell_type": "code",
      "source": [
        "name=\"koTA KONda VENKATA pavani\"\n",
        "print(name.swapcase())\n",
        "print(\"---\")\n",
        "\n",
        "name=\"kota konda venkata pavani\"\n",
        "print(name.swapcase())\n",
        "print(\"---\")\n",
        "\n",
        "name=\"KOTA KONDA VENKATA PAVANI\"\n",
        "print(name.swapcase())\n",
        "print(\"---\")\n",
        "\n"
      ],
      "metadata": {
        "colab": {
          "base_uri": "https://localhost:8080/"
        },
        "id": "YQeZcBDfVTrN",
        "outputId": "52d55d58-4ca2-432e-c451-da222fd19f78"
      },
      "execution_count": 87,
      "outputs": [
        {
          "output_type": "stream",
          "name": "stdout",
          "text": [
            "KOta konDA venkata PAVANI\n",
            "---\n",
            "KOTA KONDA VENKATA PAVANI\n",
            "---\n",
            "kota konda venkata pavani\n",
            "---\n"
          ]
        }
      ]
    },
    {
      "cell_type": "markdown",
      "source": [
        "**isalpha()**"
      ],
      "metadata": {
        "id": "pNh4Gs2-V7zg"
      }
    },
    {
      "cell_type": "markdown",
      "source": [
        "* atoz and AtoZ -- true\n",
        "* number , space , symbols in btw -- false"
      ],
      "metadata": {
        "id": "RZLr2zvqWGrv"
      }
    },
    {
      "cell_type": "code",
      "source": [
        "name=\"venkatapavani\"\n",
        "print(name.isalpha())\n",
        "name=\"venkata pavani\"\n",
        "print(name.isalpha())\n",
        "name=\"12venkata pavani\"\n",
        "print(name.isalpha())\n",
        "name=\"venkata&pavani\"\n",
        "print(name.isalpha())"
      ],
      "metadata": {
        "colab": {
          "base_uri": "https://localhost:8080/"
        },
        "id": "PYagfciHWEAW",
        "outputId": "39a71cbc-d5a6-4fe7-fd2c-a771e20a71e7"
      },
      "execution_count": 90,
      "outputs": [
        {
          "output_type": "stream",
          "name": "stdout",
          "text": [
            "True\n",
            "False\n",
            "False\n",
            "False\n"
          ]
        }
      ]
    },
    {
      "cell_type": "markdown",
      "source": [
        "**isnumeric()**"
      ],
      "metadata": {
        "id": "BueNYpHxWgdi"
      }
    },
    {
      "cell_type": "markdown",
      "source": [
        "**point,symbols,+_ false**"
      ],
      "metadata": {
        "id": "YQBLK2MAW9CU"
      }
    },
    {
      "cell_type": "code",
      "source": [
        "cibilscore=\"2348\"\n",
        "print(cibilscore.isnumeric())\n",
        "print(\"___\")\n",
        "cibilscore=\"-2348\"\n",
        "print(cibilscore.isnumeric())\n",
        "print(\"___\")\n",
        "cibilscore=\"2348.8\"\n",
        "print(cibilscore.isnumeric())\n",
        "print(\"___\")\n",
        "cibilscore=\"/2348\"\n",
        "print(cibilscore.isnumeric())\n",
        "print(\"___\")\n",
        "cibilscore=\"7949289348\"\n",
        "print(cibilscore.isnumeric())\n",
        "print(\"___\")"
      ],
      "metadata": {
        "colab": {
          "base_uri": "https://localhost:8080/"
        },
        "id": "kTJ4Y-RrXMDG",
        "outputId": "f92fd67d-57d2-4a59-fb70-45e64026dfda"
      },
      "execution_count": 94,
      "outputs": [
        {
          "output_type": "stream",
          "name": "stdout",
          "text": [
            "True\n",
            "___\n",
            "False\n",
            "___\n",
            "False\n",
            "___\n",
            "False\n",
            "___\n",
            "True\n",
            "___\n"
          ]
        }
      ]
    },
    {
      "cell_type": "markdown",
      "source": [
        "isalnum()"
      ],
      "metadata": {
        "id": "P0Q5XJ8vYi-f"
      }
    },
    {
      "cell_type": "markdown",
      "source": [
        "space ,hypen,not allowed"
      ],
      "metadata": {
        "id": "rNlLSZqeYnSA"
      }
    },
    {
      "cell_type": "code",
      "source": [
        "name=\"pavani123\"\n",
        "print(name.isalnum())\n",
        "print(\"___\")\n",
        "name=\"pavani 123\"\n",
        "print(name.isalnum())\n",
        "print(\"___\")\n",
        "name=\"pavani-123\"\n",
        "print(name.isalnum())\n",
        "print(\"___\")\n",
        "name=\"pavani_123\"\n",
        "print(name.isalnum())\n",
        "print(\"___\")\n"
      ],
      "metadata": {
        "colab": {
          "base_uri": "https://localhost:8080/"
        },
        "id": "_GsUoRZtYsg4",
        "outputId": "f390943e-0e0a-4d80-eca1-17f892b14164"
      },
      "execution_count": 96,
      "outputs": [
        {
          "output_type": "stream",
          "name": "stdout",
          "text": [
            "True\n",
            "___\n",
            "False\n",
            "___\n",
            "False\n",
            "___\n",
            "False\n",
            "___\n"
          ]
        }
      ]
    },
    {
      "cell_type": "markdown",
      "source": [
        "**count()**"
      ],
      "metadata": {
        "id": "EAw8B0VpZodZ"
      }
    },
    {
      "cell_type": "code",
      "source": [
        "statement = \"hello im pavani studying python and me pavani and yes hehe pavani kikiki pavani\"\n",
        "print(statement.count(\"pavani\"))\n",
        "print(\"____________\")\n",
        "print(statement.count(\"i\"))\n",
        "print(\"____________\")\n",
        "print(statement.count(\"i\",4,15))#count(which to find,startindex,endindex) -- end index wont considers\n",
        "\n",
        "\n"
      ],
      "metadata": {
        "colab": {
          "base_uri": "https://localhost:8080/"
        },
        "id": "ew4pj9VaZuK6",
        "outputId": "e8e297c0-3db0-4b7d-fa9f-b8a60d4c6f69"
      },
      "execution_count": 100,
      "outputs": [
        {
          "output_type": "stream",
          "name": "stdout",
          "text": [
            "4\n",
            "____________\n",
            "9\n",
            "____________\n",
            "2\n"
          ]
        }
      ]
    },
    {
      "cell_type": "markdown",
      "source": [
        "**find()**"
      ],
      "metadata": {
        "id": "1hvm-MB3eBRb"
      }
    },
    {
      "cell_type": "markdown",
      "source": [
        "returns lowest index or returns -1"
      ],
      "metadata": {
        "id": "FS-C3EPXeQpL"
      }
    },
    {
      "cell_type": "code",
      "source": [
        "statement = \"hello im pavani studying python and me pavani and yes hehe pavani kikiki pavani\"\n",
        "print(statement.find(\"pavani\"))\n",
        "print(statement.find(\"zo\"))"
      ],
      "metadata": {
        "colab": {
          "base_uri": "https://localhost:8080/"
        },
        "id": "fWqhuUvxeEIp",
        "outputId": "85f6b568-21d8-4eaf-d2df-dfda7dbd5d6a"
      },
      "execution_count": 105,
      "outputs": [
        {
          "output_type": "stream",
          "name": "stdout",
          "text": [
            "9\n",
            "-1\n"
          ]
        }
      ]
    },
    {
      "cell_type": "markdown",
      "source": [
        "**rfind()** -- returns highest index or -1"
      ],
      "metadata": {
        "id": "ZJ0nqERQeupq"
      }
    },
    {
      "cell_type": "code",
      "source": [
        "statement = \"hello im pavani studying python and me pavani and yes hehe pavani kikiki pavani hello\"\n",
        "print(statement.rfind(\"pavani\"))\n",
        "print(statement.find(\"lo\"))\n",
        "print(statement.rfind(\"lo\"))"
      ],
      "metadata": {
        "colab": {
          "base_uri": "https://localhost:8080/"
        },
        "id": "aNYu2m1ae0_5",
        "outputId": "f8a07d19-cbd0-4493-d80b-e463fa01c7f6"
      },
      "execution_count": 107,
      "outputs": [
        {
          "output_type": "stream",
          "name": "stdout",
          "text": [
            "73\n",
            "3\n",
            "83\n"
          ]
        }
      ]
    },
    {
      "cell_type": "code",
      "source": [
        "me=\"python course is python\"\n",
        "print(me.find(\"ho\"))\n",
        "print(me.rfind(\"ho\"))"
      ],
      "metadata": {
        "colab": {
          "base_uri": "https://localhost:8080/"
        },
        "id": "MFFrbgesf-he",
        "outputId": "a4a682f7-08e2-472c-a262-d12d6706b165"
      },
      "execution_count": 108,
      "outputs": [
        {
          "output_type": "stream",
          "name": "stdout",
          "text": [
            "3\n",
            "20\n"
          ]
        }
      ]
    },
    {
      "cell_type": "markdown",
      "source": [
        "**index() rindex()**\n",
        "*"
      ],
      "metadata": {
        "id": "AaLtug2ZgyRw"
      }
    },
    {
      "cell_type": "code",
      "source": [
        "me=\"python course is python\"\n",
        "print(me.index(\"ho\"))\n",
        "print(me.rindex(\"ho\"))\n",
        "print(me.find(\"oh\"))\n",
        "print(me.rfind(\"zo\"))\n"
      ],
      "metadata": {
        "colab": {
          "base_uri": "https://localhost:8080/"
        },
        "id": "hb5_1XBCggHF",
        "outputId": "93fc211b-32cb-4664-ae2b-6613df4faa3d"
      },
      "execution_count": 111,
      "outputs": [
        {
          "output_type": "stream",
          "name": "stdout",
          "text": [
            "3\n",
            "20\n",
            "-1\n",
            "-1\n"
          ]
        }
      ]
    }
  ]
}