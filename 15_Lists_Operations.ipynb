{
  "nbformat": 4,
  "nbformat_minor": 0,
  "metadata": {
    "colab": {
      "provenance": [],
      "authorship_tag": "ABX9TyN5dZexyVCPm0PL4u35+5cq",
      "include_colab_link": true
    },
    "kernelspec": {
      "name": "python3",
      "display_name": "Python 3"
    },
    "language_info": {
      "name": "python"
    }
  },
  "cells": [
    {
      "cell_type": "markdown",
      "metadata": {
        "id": "view-in-github",
        "colab_type": "text"
      },
      "source": [
        "<a href=\"https://colab.research.google.com/github/KVenkataPavani/PYTHON_PROGRAMMING/blob/main/15_Lists_Operations.ipynb\" target=\"_parent\"><img src=\"https://colab.research.google.com/assets/colab-badge.svg\" alt=\"Open In Colab\"/></a>"
      ]
    },
    {
      "cell_type": "markdown",
      "source": [
        "# **Operations on Lists[ ]**"
      ],
      "metadata": {
        "id": "NyNk9Bn_pPSx"
      }
    },
    {
      "cell_type": "markdown",
      "source": [
        "\n",
        "\n",
        "1. Initializing a list\n",
        "2. Accessing elements of a list & Slicing a list\n",
        "3. Adding elements to the list\n",
        "  * append\n",
        "  * insert\n",
        "  * extend\n",
        "4. user input - lists\n",
        "5. Updating list items (single/multiple items)\n",
        "6. Remove, Del, Clear, Pop\n",
        "7. List Comprehensions\n"
      ],
      "metadata": {
        "id": "O6bawdpzpVwi"
      }
    },
    {
      "cell_type": "markdown",
      "source": [
        "**Initializing a list**"
      ],
      "metadata": {
        "id": "wVYvUzinpykb"
      }
    },
    {
      "cell_type": "code",
      "source": [
        "mylist=[]\n",
        "print(mylist)"
      ],
      "metadata": {
        "colab": {
          "base_uri": "https://localhost:8080/"
        },
        "id": "XIGgTYCap3Ru",
        "outputId": "ea13588d-53fa-430b-ccd7-ce3544e67490"
      },
      "execution_count": null,
      "outputs": [
        {
          "output_type": "stream",
          "name": "stdout",
          "text": [
            "[]\n"
          ]
        }
      ]
    },
    {
      "cell_type": "code",
      "source": [
        "mylist=list()\n",
        "print(mylist)"
      ],
      "metadata": {
        "colab": {
          "base_uri": "https://localhost:8080/"
        },
        "id": "TSMV0JPoriqy",
        "outputId": "cbeafbb9-46c8-4036-ad1e-d7f71564036d"
      },
      "execution_count": null,
      "outputs": [
        {
          "output_type": "stream",
          "name": "stdout",
          "text": [
            "[]\n"
          ]
        }
      ]
    },
    {
      "cell_type": "code",
      "source": [
        "mylist=list('')\n",
        "print(mylist)\n",
        "mylist=list(' ')\n",
        "print(mylist)\n",
        "print(mylist[0])"
      ],
      "metadata": {
        "colab": {
          "base_uri": "https://localhost:8080/"
        },
        "id": "pyo7hePdrsMC",
        "outputId": "6bae5b56-19b2-42d0-d23f-b736df7dd433"
      },
      "execution_count": null,
      "outputs": [
        {
          "output_type": "stream",
          "name": "stdout",
          "text": [
            "[]\n",
            "[' ']\n",
            " \n"
          ]
        }
      ]
    },
    {
      "cell_type": "markdown",
      "source": [
        "* we can pass set tuple inside list"
      ],
      "metadata": {
        "id": "vMq_6abcsjLr"
      }
    },
    {
      "cell_type": "code",
      "source": [
        "name =\"Venkata Pavani\"\n",
        "oput=list(name)\n",
        "print(oput)"
      ],
      "metadata": {
        "colab": {
          "base_uri": "https://localhost:8080/"
        },
        "id": "9tUZIe8OslnE",
        "outputId": "6423d761-bc32-411e-f802-47f744f5779a"
      },
      "execution_count": null,
      "outputs": [
        {
          "output_type": "stream",
          "name": "stdout",
          "text": [
            "['V', 'e', 'n', 'k', 'a', 't', 'a', ' ', 'P', 'a', 'v', 'a', 'n', 'i']\n"
          ]
        }
      ]
    },
    {
      "cell_type": "markdown",
      "source": [
        "**Accessing a list**"
      ],
      "metadata": {
        "id": "bkw0OgPKth53"
      }
    },
    {
      "cell_type": "code",
      "source": [
        "mylist =[1,\"pavani\",3,'a','b',\"venkata\"]\n",
        "print(mylist)"
      ],
      "metadata": {
        "colab": {
          "base_uri": "https://localhost:8080/"
        },
        "id": "sRN5coBGtmne",
        "outputId": "90da1c01-8a0a-443a-e2f3-1b7e67e87106"
      },
      "execution_count": null,
      "outputs": [
        {
          "output_type": "stream",
          "name": "stdout",
          "text": [
            "[1, 'pavani', 3, 'a', 'b', 'venkata']\n"
          ]
        }
      ]
    },
    {
      "cell_type": "code",
      "source": [
        "mylist =[1,\"pavani\",3,'a','b',\"venkata\"]\n",
        "print(mylist[0])\n",
        "print(mylist[2])\n",
        "print(mylist[-3])"
      ],
      "metadata": {
        "colab": {
          "base_uri": "https://localhost:8080/"
        },
        "id": "2dtl4hLXAMHy",
        "outputId": "87f7cd02-49cd-4da7-f7d4-9e0a2cb86735"
      },
      "execution_count": 3,
      "outputs": [
        {
          "output_type": "stream",
          "name": "stdout",
          "text": [
            "1\n",
            "3\n",
            "a\n"
          ]
        }
      ]
    },
    {
      "cell_type": "code",
      "source": [
        "mylist =[1,\"pavani\",3,'a','b',\"venkata\"]\n",
        "for l in mylist:\n",
        "  print(l)"
      ],
      "metadata": {
        "id": "fMhPt0kbt4OW",
        "colab": {
          "base_uri": "https://localhost:8080/"
        },
        "outputId": "d422b490-3b77-4a4a-be5f-d47737b692c1"
      },
      "execution_count": 1,
      "outputs": [
        {
          "output_type": "stream",
          "name": "stdout",
          "text": [
            "1\n",
            "pavani\n",
            "3\n",
            "a\n",
            "b\n",
            "venkata\n"
          ]
        }
      ]
    },
    {
      "cell_type": "code",
      "source": [
        "mylist =[[\"pavani\"],3,['a','b'],\"venkata\"]\n",
        "len(mylist)"
      ],
      "metadata": {
        "colab": {
          "base_uri": "https://localhost:8080/"
        },
        "id": "pFub1y1uAtJa",
        "outputId": "4da5323d-eab1-4728-8d29-dc6b54ae51f5"
      },
      "execution_count": 6,
      "outputs": [
        {
          "output_type": "execute_result",
          "data": {
            "text/plain": [
              "4"
            ]
          },
          "metadata": {},
          "execution_count": 6
        }
      ]
    },
    {
      "cell_type": "code",
      "source": [
        "name=\"venkata pavani\"\n",
        "l=list(name)\n",
        "print(l)"
      ],
      "metadata": {
        "colab": {
          "base_uri": "https://localhost:8080/"
        },
        "id": "D-H68HYlBCRi",
        "outputId": "d3a41a87-6425-4479-a86d-10a56469eba1"
      },
      "execution_count": 7,
      "outputs": [
        {
          "output_type": "stream",
          "name": "stdout",
          "text": [
            "['v', 'e', 'n', 'k', 'a', 't', 'a', ' ', 'p', 'a', 'v', 'a', 'n', 'i']\n"
          ]
        }
      ]
    },
    {
      "cell_type": "markdown",
      "source": [
        "**Accessing multidimentional list**"
      ],
      "metadata": {
        "id": "XF_VHth4BRE6"
      }
    },
    {
      "cell_type": "code",
      "source": [
        "mdlist=[1,'a',[\"abc\",\"bcd\"],'p',\"pavani\",[1],[123,\"maira\"]]\n",
        "len(mdlist)"
      ],
      "metadata": {
        "colab": {
          "base_uri": "https://localhost:8080/"
        },
        "id": "OuQQKRZaBVaI",
        "outputId": "95976c4d-bd08-408b-b86a-7939f92484db"
      },
      "execution_count": 9,
      "outputs": [
        {
          "output_type": "execute_result",
          "data": {
            "text/plain": [
              "7"
            ]
          },
          "metadata": {},
          "execution_count": 9
        }
      ]
    },
    {
      "cell_type": "code",
      "source": [
        "mdlist=[1,12,[23,24,[25,[28,30]],25],29,33,[44],[123,45]]\n",
        "len(mdlist)"
      ],
      "metadata": {
        "colab": {
          "base_uri": "https://localhost:8080/"
        },
        "id": "eolN46xhCmXL",
        "outputId": "83aed995-27cf-4cd8-9bda-95d63eee6fc9"
      },
      "execution_count": 28,
      "outputs": [
        {
          "output_type": "execute_result",
          "data": {
            "text/plain": [
              "7"
            ]
          },
          "metadata": {},
          "execution_count": 28
        }
      ]
    },
    {
      "cell_type": "code",
      "source": [
        "mdlist=[1,12,[23,24,[25,[28,30]],25],29,33,[44],[123,45]]\n",
        "print(mdlist[0])\n",
        "print(mdlist[1])\n",
        "print(mdlist[2])\n",
        "print(mdlist[3])\n",
        "print(mdlist[4])\n",
        "print(mdlist[5])\n",
        "print(mdlist[6])"
      ],
      "metadata": {
        "colab": {
          "base_uri": "https://localhost:8080/"
        },
        "id": "cDxfVGG5Cy_4",
        "outputId": "2c06705f-a714-4d29-cf11-2934505703e9"
      },
      "execution_count": 29,
      "outputs": [
        {
          "output_type": "stream",
          "name": "stdout",
          "text": [
            "1\n",
            "12\n",
            "[23, 24, [25, [28, 30]], 25]\n",
            "29\n",
            "33\n",
            "[44]\n",
            "[123, 45]\n"
          ]
        }
      ]
    },
    {
      "cell_type": "code",
      "source": [
        "mdlist=[1,12,[23,24,[25,[28,30]],25],29,33,[44],[123,45]]\n",
        "print(mdlist[2])\n",
        "print(mdlist[2][0])\n",
        "print(mdlist[2][2])\n",
        "print(mdlist[2][2][1])\n",
        "print(mdlist[2][2][1][1])\n"
      ],
      "metadata": {
        "colab": {
          "base_uri": "https://localhost:8080/"
        },
        "id": "zpqxoTOpDtDl",
        "outputId": "e95c5d0a-12c0-41bd-d44b-25d217faf70b"
      },
      "execution_count": 32,
      "outputs": [
        {
          "output_type": "stream",
          "name": "stdout",
          "text": [
            "[23, 24, [25, [28, 30]], 25]\n",
            "23\n",
            "[25, [28, 30]]\n",
            "[28, 30]\n",
            "30\n"
          ]
        }
      ]
    },
    {
      "cell_type": "markdown",
      "source": [
        "**Slicing a list**"
      ],
      "metadata": {
        "id": "G05X42mUFCBf"
      }
    },
    {
      "cell_type": "markdown",
      "source": [
        "mylist[startindex : endindex : stepsize]"
      ],
      "metadata": {
        "id": "6ydvh-ZFopSZ"
      }
    },
    {
      "cell_type": "code",
      "source": [
        "mylist=[\"pavani\",\"maira\",\"me\",\"mom\",\"hehe\"]\n",
        "mylist[1:]"
      ],
      "metadata": {
        "colab": {
          "base_uri": "https://localhost:8080/"
        },
        "id": "fEIBou9MlcaR",
        "outputId": "ad0a3d14-c5f9-44f1-9480-24b456d3995f"
      },
      "execution_count": 1,
      "outputs": [
        {
          "output_type": "execute_result",
          "data": {
            "text/plain": [
              "['maira', 'me', 'mom', 'hehe']"
            ]
          },
          "metadata": {},
          "execution_count": 1
        }
      ]
    },
    {
      "cell_type": "code",
      "source": [
        "mylist=[\"pavani\",\"maira\",\"me\",\"mom\",\"hehe\"]\n",
        "mylist[1:3]"
      ],
      "metadata": {
        "colab": {
          "base_uri": "https://localhost:8080/"
        },
        "id": "6a5SbatMofYi",
        "outputId": "edd0139b-6062-4303-f647-0f11416de73f"
      },
      "execution_count": 2,
      "outputs": [
        {
          "output_type": "execute_result",
          "data": {
            "text/plain": [
              "['maira', 'me']"
            ]
          },
          "metadata": {},
          "execution_count": 2
        }
      ]
    },
    {
      "cell_type": "code",
      "source": [
        "mylist=[\"pavani\",\"maira\",\"me\",\"mom\",\"hehe\"]\n",
        "mylist[-1:3]"
      ],
      "metadata": {
        "colab": {
          "base_uri": "https://localhost:8080/"
        },
        "id": "JtJQEO7rokcN",
        "outputId": "9edd18d7-eddc-401b-f56d-309bc668059c"
      },
      "execution_count": 7,
      "outputs": [
        {
          "output_type": "execute_result",
          "data": {
            "text/plain": [
              "[]"
            ]
          },
          "metadata": {},
          "execution_count": 7
        }
      ]
    },
    {
      "cell_type": "code",
      "source": [
        "mylist=[\"pavani\",\"maira\",\"me\",\"mom\",\"hehe\"]\n",
        "mylist[-1:-3]"
      ],
      "metadata": {
        "colab": {
          "base_uri": "https://localhost:8080/"
        },
        "id": "GArH59kjo_LM",
        "outputId": "26de249e-2387-45db-9e57-5f99fe2e551d"
      },
      "execution_count": 8,
      "outputs": [
        {
          "output_type": "execute_result",
          "data": {
            "text/plain": [
              "[]"
            ]
          },
          "metadata": {},
          "execution_count": 8
        }
      ]
    },
    {
      "cell_type": "code",
      "source": [
        "mylist=[\"pavani\",\"maira\",\"me\",\"mom\",\"hehe\"]\n",
        "mylist[-1:-3:-1]"
      ],
      "metadata": {
        "colab": {
          "base_uri": "https://localhost:8080/"
        },
        "id": "0A8mntzBqE-G",
        "outputId": "308e54f6-e859-4aae-d5a5-4a9c4693358c"
      },
      "execution_count": 9,
      "outputs": [
        {
          "output_type": "execute_result",
          "data": {
            "text/plain": [
              "['hehe', 'mom']"
            ]
          },
          "metadata": {},
          "execution_count": 9
        }
      ]
    },
    {
      "cell_type": "code",
      "source": [
        "alpha = ['a', 'b','c','d','e','f','g','h','i','j']\n",
        "print(alpha[1:5])\n",
        "print(alpha[1:-5])\n",
        "print(alpha[-1:5])\n",
        "print(alpha[-1:-5])\n",
        "print(\"_________________\")\n",
        "\n",
        "print(alpha[1:5:-1])\n",
        "print(alpha[1:-5:-1])\n",
        "print(alpha[-1:5:-1])\n",
        "print(alpha[-1:-5:-1])\n",
        "print(\"_________________\")\n",
        "print(alpha[1:5:1])\n",
        "print(alpha[1:-5:1])\n",
        "print(alpha[-1:5:1])\n",
        "print(alpha[-1:-5:1])\n",
        "print(\"_________________\")\n",
        "print(alpha[::])\n",
        "print(alpha[::1])\n",
        "print(alpha[::-1])"
      ],
      "metadata": {
        "colab": {
          "base_uri": "https://localhost:8080/"
        },
        "id": "WgaMM-vNqWhI",
        "outputId": "146e396e-989c-465e-de75-4754db0aa21d"
      },
      "execution_count": 21,
      "outputs": [
        {
          "output_type": "stream",
          "name": "stdout",
          "text": [
            "['b', 'c', 'd', 'e']\n",
            "['b', 'c', 'd', 'e']\n",
            "[]\n",
            "[]\n",
            "_________________\n",
            "[]\n",
            "[]\n",
            "['j', 'i', 'h', 'g']\n",
            "['j', 'i', 'h', 'g']\n",
            "_________________\n",
            "['b', 'c', 'd', 'e']\n",
            "['b', 'c', 'd', 'e']\n",
            "[]\n",
            "[]\n",
            "_________________\n",
            "['a', 'b', 'c', 'd', 'e', 'f', 'g', 'h', 'i', 'j']\n",
            "['a', 'b', 'c', 'd', 'e', 'f', 'g', 'h', 'i', 'j']\n",
            "['j', 'i', 'h', 'g', 'f', 'e', 'd', 'c', 'b', 'a']\n"
          ]
        }
      ]
    },
    {
      "cell_type": "markdown",
      "source": [
        "**Adding elements to list**\n",
        "* append()\n",
        "* adds elements at end of list"
      ],
      "metadata": {
        "id": "E2l3vht0wIaF"
      }
    },
    {
      "cell_type": "code",
      "source": [
        "mylist=[\"pavani\",\"maira\",\"me\",\"mom\",\"hehe\"]\n",
        "print(\"before adding :\",mylist)\n",
        "print(id(mylist))\n",
        "print(\"-----------\")\n",
        "mylist.append(\"mommy\")\n",
        "print(\"after adding :\",mylist)\n",
        "print(id(mylist))\n"
      ],
      "metadata": {
        "colab": {
          "base_uri": "https://localhost:8080/"
        },
        "id": "2xM6I6xowTun",
        "outputId": "9917599e-deaa-431c-9ae0-305dd14e41a0"
      },
      "execution_count": 29,
      "outputs": [
        {
          "output_type": "stream",
          "name": "stdout",
          "text": [
            "before adding : ['pavani', 'maira', 'me', 'mom', 'hehe']\n",
            "140303453627776\n",
            "-----------\n",
            "after adding : ['pavani', 'maira', 'me', 'mom', 'hehe', 'mommy']\n",
            "140303453627776\n"
          ]
        }
      ]
    },
    {
      "cell_type": "code",
      "source": [
        "mylist=[\"pavani\",\"maira\",\"me\",\"mom\",\"hehe\"]\n",
        "mylist.append(\"home\",\"sweet\")\n",
        "print(mylist)\n"
      ],
      "metadata": {
        "colab": {
          "base_uri": "https://localhost:8080/",
          "height": 176
        },
        "id": "CvXOuBqgyE5t",
        "outputId": "bcd86081-655b-4ed8-f94e-7d24c35562bd"
      },
      "execution_count": 30,
      "outputs": [
        {
          "output_type": "error",
          "ename": "TypeError",
          "evalue": "list.append() takes exactly one argument (2 given)",
          "traceback": [
            "\u001b[0;31m---------------------------------------------------------------------------\u001b[0m",
            "\u001b[0;31mTypeError\u001b[0m                                 Traceback (most recent call last)",
            "\u001b[0;32m<ipython-input-30-140e08f97471>\u001b[0m in \u001b[0;36m<cell line: 2>\u001b[0;34m()\u001b[0m\n\u001b[1;32m      1\u001b[0m \u001b[0mmylist\u001b[0m\u001b[0;34m=\u001b[0m\u001b[0;34m[\u001b[0m\u001b[0;34m\"pavani\"\u001b[0m\u001b[0;34m,\u001b[0m\u001b[0;34m\"maira\"\u001b[0m\u001b[0;34m,\u001b[0m\u001b[0;34m\"me\"\u001b[0m\u001b[0;34m,\u001b[0m\u001b[0;34m\"mom\"\u001b[0m\u001b[0;34m,\u001b[0m\u001b[0;34m\"hehe\"\u001b[0m\u001b[0;34m]\u001b[0m\u001b[0;34m\u001b[0m\u001b[0;34m\u001b[0m\u001b[0m\n\u001b[0;32m----> 2\u001b[0;31m \u001b[0mmylist\u001b[0m\u001b[0;34m.\u001b[0m\u001b[0mappend\u001b[0m\u001b[0;34m(\u001b[0m\u001b[0;34m\"home\"\u001b[0m\u001b[0;34m,\u001b[0m\u001b[0;34m\"sweet\"\u001b[0m\u001b[0;34m)\u001b[0m\u001b[0;34m\u001b[0m\u001b[0;34m\u001b[0m\u001b[0m\n\u001b[0m\u001b[1;32m      3\u001b[0m \u001b[0mprint\u001b[0m\u001b[0;34m(\u001b[0m\u001b[0mmylist\u001b[0m\u001b[0;34m)\u001b[0m\u001b[0;34m\u001b[0m\u001b[0;34m\u001b[0m\u001b[0m\n",
            "\u001b[0;31mTypeError\u001b[0m: list.append() takes exactly one argument (2 given)"
          ]
        }
      ]
    },
    {
      "cell_type": "code",
      "source": [
        "mylist=[\"pavani\",\"maira\",\"me\",\"mom\",\"hehe\"]\n",
        "mylist.append([\"home\",\"sweet\"])\n",
        "print(mylist)\n",
        "print(\"-----------------------------------------\")\n",
        "mylist=[\"pavani\",\"maira\",\"me\",\"mom\",\"hehe\"]\n",
        "mylist.append((\"home\",\"sweet\"))\n",
        "print(mylist)\n",
        "print(\"-----------------------------------------\")\n",
        "mylist=[\"pavani\",\"maira\",\"me\",\"mom\",\"hehe\"]\n",
        "mylist=mylist.append([\"paav\",\"pee\"])\n",
        "print(mylist)\n",
        "# append() method in Python modifies the list in place and returns None. This means that append() doesn't create a new list; instead, it adds the specified element(s) to the original list.\n",
        "\n",
        "#The append() method adds [\"paav\", \"pee\"] to the list.\n",
        "# However, append() does not return the modified list; it returns None.\n",
        "# Reassigning to None:\n",
        "# By doing mylist = mylist.append(...), you're assigning the result of append() (which is None) back to mylist.\n",
        "#mylist.append([\"paav\", \"pee\"]) adds the list [\"paav\", \"pee\"] to mylist. But since append() returns None, when you assign mylist = mylist.append([\"paav\", \"pee\"]), you are actually assigning None to mylist.\n",
        "\n",
        "#important\n"
      ],
      "metadata": {
        "colab": {
          "base_uri": "https://localhost:8080/"
        },
        "id": "k3mVX-IKyTUx",
        "outputId": "cf9a9482-2405-40a0-806c-bd06ea2b8954"
      },
      "execution_count": 39,
      "outputs": [
        {
          "output_type": "stream",
          "name": "stdout",
          "text": [
            "['pavani', 'maira', 'me', 'mom', 'hehe', ['home', 'sweet']]\n",
            "-----------------------------------------\n",
            "['pavani', 'maira', 'me', 'mom', 'hehe', ('home', 'sweet')]\n",
            "-----------------------------------------\n",
            "None\n"
          ]
        }
      ]
    },
    {
      "cell_type": "code",
      "source": [
        "listnum=[1,2,3,4]\n",
        "listnum.append(10)\n",
        "print(listnum)"
      ],
      "metadata": {
        "colab": {
          "base_uri": "https://localhost:8080/"
        },
        "id": "xeVL7Mlz1Ixg",
        "outputId": "e9526774-6015-47fa-c237-f5f2be47cf42"
      },
      "execution_count": 41,
      "outputs": [
        {
          "output_type": "stream",
          "name": "stdout",
          "text": [
            "[1, 2, 3, 4, 10]\n"
          ]
        }
      ]
    },
    {
      "cell_type": "code",
      "source": [
        "listnum=[1,2,3,4]\n",
        "listnum.append([10,20])\n",
        "print(listnum)"
      ],
      "metadata": {
        "colab": {
          "base_uri": "https://localhost:8080/"
        },
        "id": "_yuxk18h1VdW",
        "outputId": "a7156531-9ca2-4051-9696-869d6952d790"
      },
      "execution_count": 42,
      "outputs": [
        {
          "output_type": "stream",
          "name": "stdout",
          "text": [
            "[1, 2, 3, 4, [10, 20]]\n"
          ]
        }
      ]
    },
    {
      "cell_type": "markdown",
      "source": [
        "insert()\n",
        "* adds at particular index we want"
      ],
      "metadata": {
        "id": "pEJgM1Yr1uoO"
      }
    },
    {
      "cell_type": "code",
      "source": [
        "mylist=[\"pavani\",\"maira\",\"me\",\"mom\",\"hehe\"]\n",
        "print(id(mylist))\n",
        "mylist.insert(0,\"home\")\n",
        "print(mylist)\n",
        "print(id(mylist))\n",
        "\n",
        "print(\"-------------------------------------------------------\")\n",
        "mylist=[\"pavani\",\"maira\",\"me\",\"mom\",\"hehe\"]\n",
        "mylist.insert(1,\"home\")\n",
        "mylist.insert(2,\"photo\")\n",
        "print(mylist)\n",
        "print(id(mylist))\n",
        "\n",
        "print(\"-------------------------------------------------------\")\n",
        "mylist=[\"pavani\",\"maira\",\"me\",\"mom\",\"hehe\"]\n",
        "mylist.insert(-1,\"home\")\n",
        "print(mylist)\n",
        "print(id(mylist))\n",
        "\n",
        "print(\"-------------------------------------------------------\")\n",
        "mylist=[\"pavani\",\"maira\",\"me\",\"mom\",\"hehe\"]\n",
        "mylist=mylist.insert(0,\"home\")\n",
        "print(mylist)\n",
        "print(id(mylist))\n",
        "#When you use a negative index with insert(), it inserts the new element before the element at that negative index.\n",
        "#The list is initially: [\"pavani\", \"maira\", \"me\", \"mom\", \"hehe\"].\n",
        "# The negative index -1 refers to the last element, which is \"hehe\".\n",
        "# The insert(-1, \"home\") method call inserts \"home\" right before \"hehe\".\n",
        "print(\"-------------------------------------------------------\")\n"
      ],
      "metadata": {
        "colab": {
          "base_uri": "https://localhost:8080/"
        },
        "id": "kGk9wL9k2lKN",
        "outputId": "06fab5b4-2290-48f7-d8e6-a129fc21eedd"
      },
      "execution_count": 57,
      "outputs": [
        {
          "output_type": "stream",
          "name": "stdout",
          "text": [
            "140302599134976\n",
            "['home', 'pavani', 'maira', 'me', 'mom', 'hehe']\n",
            "140302599134976\n",
            "-------------------------------------------------------\n",
            "['pavani', 'home', 'photo', 'maira', 'me', 'mom', 'hehe']\n",
            "140302599141824\n",
            "-------------------------------------------------------\n",
            "['pavani', 'maira', 'me', 'mom', 'home', 'hehe']\n",
            "140302599258560\n",
            "-------------------------------------------------------\n",
            "None\n",
            "100564478006240\n",
            "-------------------------------------------------------\n"
          ]
        }
      ]
    },
    {
      "cell_type": "code",
      "source": [
        "numlist=[1,2,3,4]\n",
        "numlist.insert(1,\"pavani\")\n",
        "print(numlist)\n",
        "print(\"_____________________\")\n",
        "numlist=[1,2,3,4]\n",
        "numlist.insert(-1,\"pavani\")\n",
        "print(numlist)\n",
        "print(\"_____________________\")\n",
        "\n",
        "numlist=[1,2,3,4]\n",
        "numlist.insert(-2,\"pavani\")\n",
        "print(numlist)\n",
        "print(\"_____________________\")\n",
        "numlist=[1,2,3,4]\n",
        "numlist.insert(2,[\"pavani\",\"maira\"])\n",
        "print(numlist)\n"
      ],
      "metadata": {
        "colab": {
          "base_uri": "https://localhost:8080/"
        },
        "id": "7SR-BaoV4lSf",
        "outputId": "477eb571-5e9c-4b60-a1c8-644586562810"
      },
      "execution_count": 61,
      "outputs": [
        {
          "output_type": "stream",
          "name": "stdout",
          "text": [
            "[1, 'pavani', 2, 3, 4]\n",
            "_____________________\n",
            "[1, 2, 3, 'pavani', 4]\n",
            "_____________________\n",
            "[1, 2, 'pavani', 3, 4]\n",
            "_____________________\n",
            "[1, 2, ['pavani', 'maira'], 3, 4]\n"
          ]
        }
      ]
    },
    {
      "cell_type": "code",
      "source": [
        "#appending two lists\n",
        "list1=['p','a','v']\n",
        "print(list1)\n",
        "list2=[\"pavani\",\"kv\"]\n",
        "print(list2)\n",
        "list1.append(list2)\n",
        "print(\"after appening :\",list1)"
      ],
      "metadata": {
        "colab": {
          "base_uri": "https://localhost:8080/"
        },
        "id": "ETkMyXC-5rj2",
        "outputId": "602a008d-bacc-4d53-998a-3f166fd5701d"
      },
      "execution_count": 64,
      "outputs": [
        {
          "output_type": "stream",
          "name": "stdout",
          "text": [
            "['p', 'a', 'v']\n",
            "['pavani', 'kv']\n",
            "after appening : ['p', 'a', 'v', ['pavani', 'kv']]\n"
          ]
        }
      ]
    },
    {
      "cell_type": "markdown",
      "source": [
        "**extend()**"
      ],
      "metadata": {
        "id": "lT_-Jbbh6zbT"
      }
    },
    {
      "cell_type": "code",
      "source": [
        "#appending two lists using extend\n",
        "list1=['p','a','v']\n",
        "print(list1)\n",
        "list2=[\"pavani\",\"kv\"]\n",
        "print(list2)\n",
        "list1.extend(list2)\n",
        "print(\"list after extend() function used :\",list1)"
      ],
      "metadata": {
        "colab": {
          "base_uri": "https://localhost:8080/"
        },
        "id": "HiwaMqZA61t2",
        "outputId": "527f29df-79cc-43e8-eb3f-d6159c8bdeee"
      },
      "execution_count": 65,
      "outputs": [
        {
          "output_type": "stream",
          "name": "stdout",
          "text": [
            "['p', 'a', 'v']\n",
            "['pavani', 'kv']\n",
            "list after extend() function used : ['p', 'a', 'v', 'pavani', 'kv']\n"
          ]
        }
      ]
    },
    {
      "cell_type": "code",
      "source": [
        "# using extend\n",
        "list1=['p','a','v']\n",
        "print(list1)\n",
        "list1.extend(\"ani\")\n",
        "print(\"list after extend() function used :\",list1)\n",
        "print(\"______________________________________________________________________\")\n",
        "list1=['p','a','v']\n",
        "print(list1)\n",
        "list1.extend(\"ani kvp\")\n",
        "print(\"list after extend() function used :\",list1)"
      ],
      "metadata": {
        "colab": {
          "base_uri": "https://localhost:8080/"
        },
        "id": "GEzuXDBY7N8U",
        "outputId": "2098c8a5-b10e-47c0-aeaf-7ca7cb7029ec"
      },
      "execution_count": 68,
      "outputs": [
        {
          "output_type": "stream",
          "name": "stdout",
          "text": [
            "['p', 'a', 'v']\n",
            "list after extend() function used : ['p', 'a', 'v', 'a', 'n', 'i']\n",
            "______________________________________________________________________\n",
            "['p', 'a', 'v']\n",
            "list after extend() function used : ['p', 'a', 'v', 'a', 'n', 'i', ' ', 'k', 'v', 'p']\n"
          ]
        }
      ]
    },
    {
      "cell_type": "code",
      "source": [
        "#imp\n",
        "b=['p','a','v']\n",
        "c=['pa','av','hv']\n",
        "d=b.append(c)\n",
        "print(b)\n",
        "print(c)\n",
        "print(d)\n",
        "print(\"______________________________________________________________________\")"
      ],
      "metadata": {
        "colab": {
          "base_uri": "https://localhost:8080/"
        },
        "id": "ma_mklcT8ixz",
        "outputId": "532cef97-17e9-432f-9db2-fd5c20b5630e"
      },
      "execution_count": 70,
      "outputs": [
        {
          "output_type": "stream",
          "name": "stdout",
          "text": [
            "['p', 'a', 'v', ['pa', 'av', 'hv']]\n",
            "['pa', 'av', 'hv']\n",
            "None\n",
            "______________________________________________________________________\n"
          ]
        }
      ]
    },
    {
      "cell_type": "code",
      "source": [
        "b=['p','a','v']\n",
        "b.extend(['pa','av','hv'])\n",
        "print(b)\n",
        "print(\"__________________\")\n",
        "b=['p','a','v']\n",
        "b.extend(('pa','av','hv'))\n",
        "print(b)"
      ],
      "metadata": {
        "colab": {
          "base_uri": "https://localhost:8080/"
        },
        "id": "gRfmHled9lAT",
        "outputId": "f75c316d-f4a4-47b8-80d3-ccfd757d94de"
      },
      "execution_count": 74,
      "outputs": [
        {
          "output_type": "stream",
          "name": "stdout",
          "text": [
            "['p', 'a', 'v', 'pa', 'av', 'hv']\n",
            "__________________\n",
            "['p', 'a', 'v', 'pa', 'av', 'hv']\n"
          ]
        }
      ]
    },
    {
      "cell_type": "code",
      "source": [
        "b=['p','a','v']\n",
        "print(b)\n",
        "b.append(['pa','av','hv'])\n",
        "print(b)\n",
        "b.extend(('pa','av','hv'))\n",
        "print(b)\n",
        "print(\"__________________________\")\n",
        "b=['p','a','v']\n",
        "print(b)\n",
        "b.append(\"ghi\")\n",
        "print(b)\n",
        "b.extend(\"ghi\")\n",
        "print(b)\n"
      ],
      "metadata": {
        "colab": {
          "base_uri": "https://localhost:8080/"
        },
        "id": "CnKtUmzx-Fcj",
        "outputId": "7c73df08-497b-45e2-b103-ed4d9fbf4efb"
      },
      "execution_count": 77,
      "outputs": [
        {
          "output_type": "stream",
          "name": "stdout",
          "text": [
            "['p', 'a', 'v']\n",
            "['p', 'a', 'v', ['pa', 'av', 'hv']]\n",
            "['p', 'a', 'v', ['pa', 'av', 'hv'], 'pa', 'av', 'hv']\n",
            "__________________________\n",
            "['p', 'a', 'v']\n",
            "['p', 'a', 'v', 'ghi']\n",
            "['p', 'a', 'v', 'ghi', 'g', 'h', 'i']\n"
          ]
        }
      ]
    },
    {
      "cell_type": "markdown",
      "source": [
        "**User input for a list**"
      ],
      "metadata": {
        "id": "olUWmi6i_Qfa"
      }
    },
    {
      "cell_type": "markdown",
      "source": [
        "user_input= input(\"enter the input:\")"
      ],
      "metadata": {
        "id": "ZNxeKXez_YUx"
      }
    },
    {
      "cell_type": "code",
      "source": [
        "inputv = input(\"enter the input:\")\n",
        "print(inputv)\n",
        "print(type(inputv))"
      ],
      "metadata": {
        "colab": {
          "base_uri": "https://localhost:8080/"
        },
        "id": "iJsGuPVg_VFO",
        "outputId": "90722243-425e-47ee-8042-3a13212d5f9e"
      },
      "execution_count": 83,
      "outputs": [
        {
          "output_type": "stream",
          "name": "stdout",
          "text": [
            "enter the input:1\n",
            "1\n",
            "<class 'str'>\n"
          ]
        }
      ]
    },
    {
      "cell_type": "markdown",
      "source": [
        "if we dont give split() it will consider watever input we give as a string not list"
      ],
      "metadata": {
        "id": "luOUGYSSAmaM"
      }
    },
    {
      "cell_type": "code",
      "source": [
        "inputv = input(\"enter the input:\").split()\n",
        "print(inputv)\n",
        "print(type(inputv))"
      ],
      "metadata": {
        "colab": {
          "base_uri": "https://localhost:8080/"
        },
        "id": "J8cSu26jAaoL",
        "outputId": "f885082e-94c5-4e4a-b923-ccb49c006b99"
      },
      "execution_count": 85,
      "outputs": [
        {
          "output_type": "stream",
          "name": "stdout",
          "text": [
            "enter the input:1 2 3 4\n",
            "['1', '2', '3', '4']\n",
            "<class 'list'>\n"
          ]
        }
      ]
    },
    {
      "cell_type": "code",
      "source": [
        "n = int(input(\"enter the size of the list :\"))\n",
        "n1=[]\n",
        "for i in range(n):\n",
        "  n1.append(n)\n",
        "  print(n1)"
      ],
      "metadata": {
        "colab": {
          "base_uri": "https://localhost:8080/"
        },
        "id": "CGZqA9i8AzYK",
        "outputId": "9c49069b-c3c1-453d-f0c4-982811eda349"
      },
      "execution_count": 86,
      "outputs": [
        {
          "output_type": "stream",
          "name": "stdout",
          "text": [
            "enter the size of the list :6\n",
            "[6]\n",
            "[6, 6]\n",
            "[6, 6, 6]\n",
            "[6, 6, 6, 6]\n",
            "[6, 6, 6, 6, 6]\n",
            "[6, 6, 6, 6, 6, 6]\n"
          ]
        }
      ]
    },
    {
      "cell_type": "code",
      "source": [
        "n = int(input(\"enter the size of the list :\"))\n",
        "n1=[]\n",
        "for i in range(n):\n",
        "  n1.append(int(input(\"enter the element:\")))\n",
        "  print(n1)"
      ],
      "metadata": {
        "colab": {
          "base_uri": "https://localhost:8080/"
        },
        "id": "odhb5XjKBNA4",
        "outputId": "80abd358-b3dd-48e7-c839-8f398f2705cc"
      },
      "execution_count": 88,
      "outputs": [
        {
          "output_type": "stream",
          "name": "stdout",
          "text": [
            "enter the size of the list :4\n",
            "enter the element:11\n",
            "[11]\n",
            "enter the element:12\n",
            "[11, 12]\n",
            "enter the element:13\n",
            "[11, 12, 13]\n",
            "enter the element:14\n",
            "[11, 12, 13, 14]\n"
          ]
        }
      ]
    },
    {
      "cell_type": "markdown",
      "source": [
        "**Updatig list**"
      ],
      "metadata": {
        "id": "xZXC1By1GjjY"
      }
    },
    {
      "cell_type": "code",
      "source": [
        "mylist=[\"pavani\",\"maira\",\"me\",\"mom\",\"hehe\"]\n",
        "print(\"before :\",mylist)\n",
        "mylist[2]=\"vijaya\"\n",
        "print(\"after :\",mylist)\n"
      ],
      "metadata": {
        "colab": {
          "base_uri": "https://localhost:8080/"
        },
        "id": "YguujRX6Bn4h",
        "outputId": "1c478ffc-9551-4de1-8bda-d249c66d44f7"
      },
      "execution_count": 89,
      "outputs": [
        {
          "output_type": "stream",
          "name": "stdout",
          "text": [
            "before : ['pavani', 'maira', 'me', 'mom', 'hehe']\n",
            "after : ['pavani', 'maira', 'vijaya', 'mom', 'hehe']\n"
          ]
        }
      ]
    },
    {
      "cell_type": "code",
      "source": [
        "mylist=[\"pavani\",\"maira\",\"me\",\"mom\",\"hehe\"]\n",
        "print(\"before :\",mylist)\n",
        "mylist[2:]=\"vijaya\"\n",
        "print(\"after :\",mylist)"
      ],
      "metadata": {
        "colab": {
          "base_uri": "https://localhost:8080/"
        },
        "id": "fRBWTfnDCFnF",
        "outputId": "bcb494cc-671f-447f-9f5d-16b94d933b28"
      },
      "execution_count": 90,
      "outputs": [
        {
          "output_type": "stream",
          "name": "stdout",
          "text": [
            "before : ['pavani', 'maira', 'me', 'mom', 'hehe']\n",
            "after : ['pavani', 'maira', 'v', 'i', 'j', 'a', 'y', 'a']\n"
          ]
        }
      ]
    },
    {
      "cell_type": "code",
      "source": [
        "mylist=[\"pavani\",\"maira\",\"me\",\"mom\",\"hehe\"]\n",
        "print(\"before :\",mylist)\n",
        "mylist[2:]=[\"vijaya\"]\n",
        "print(\"after :\",mylist)"
      ],
      "metadata": {
        "colab": {
          "base_uri": "https://localhost:8080/"
        },
        "id": "CtjDfijvCQ2T",
        "outputId": "ba019bd2-eeb1-40c4-8336-081f761be8a3"
      },
      "execution_count": 91,
      "outputs": [
        {
          "output_type": "stream",
          "name": "stdout",
          "text": [
            "before : ['pavani', 'maira', 'me', 'mom', 'hehe']\n",
            "after : ['pavani', 'maira', 'vijaya']\n"
          ]
        }
      ]
    },
    {
      "cell_type": "code",
      "source": [
        "mylist=[\"pavani\",\"maira\",\"me\",\"mom\",\"hehe\"]\n",
        "print(\"before :\",mylist)\n",
        "mylist[2:]=[\"vijaya\",\"home\",\"sweet\",\"cheesecakes\"]\n",
        "print(\"after :\",mylist)\n",
        "mylist=[\"pavani\",\"maira\",\"me\",\"mom\",\"hehe\"]\n",
        "print(\"before :\",mylist)\n",
        "mylist[1:]=[\"vijaya\",\"home\",\"sweet\",\"cheesecakes\"]\n",
        "print(\"after :\",mylist)"
      ],
      "metadata": {
        "colab": {
          "base_uri": "https://localhost:8080/"
        },
        "id": "JwKhPUerCcyJ",
        "outputId": "e351ba49-9cad-43e0-c91c-f3df54527051"
      },
      "execution_count": 96,
      "outputs": [
        {
          "output_type": "stream",
          "name": "stdout",
          "text": [
            "before : ['pavani', 'maira', 'me', 'mom', 'hehe']\n",
            "after : ['pavani', 'maira', 'vijaya', 'home', 'sweet', 'cheesecakes']\n",
            "before : ['pavani', 'maira', 'me', 'mom', 'hehe']\n",
            "after : ['pavani', 'vijaya', 'home', 'sweet', 'cheesecakes']\n"
          ]
        }
      ]
    },
    {
      "cell_type": "code",
      "source": [
        "mylist=[\"pavani\",\"maira\",\"me\",\"mom\",\"hehe\"]\n",
        "print(\"before :\",mylist)\n",
        "mylist[1:4]=[\"vijaya\",\"home\",\"sweet\",\"cheesecakes\"]\n",
        "print(\"after :\",mylist)\n",
        "print(\"___________\")\n",
        "mylist=[\"pavani\",\"maira\",\"me\",\"mom\",\"hehe\"]\n",
        "print(\"before :\",mylist)\n",
        "mylist[2:3]=[\"vijaya\",\"home\",\"sweet\",\"cheesecakes\"]\n",
        "print(\"after :\",mylist)"
      ],
      "metadata": {
        "colab": {
          "base_uri": "https://localhost:8080/"
        },
        "id": "fBQMc-UcCyxt",
        "outputId": "4d68b080-c389-4d71-ed4f-3f3e78ec3139"
      },
      "execution_count": 94,
      "outputs": [
        {
          "output_type": "stream",
          "name": "stdout",
          "text": [
            "before : ['pavani', 'maira', 'me', 'mom', 'hehe']\n",
            "after : ['pavani', 'vijaya', 'home', 'sweet', 'cheesecakes', 'hehe']\n",
            "___________\n",
            "before : ['pavani', 'maira', 'me', 'mom', 'hehe']\n",
            "after : ['pavani', 'maira', 'vijaya', 'home', 'sweet', 'cheesecakes', 'mom', 'hehe']\n"
          ]
        }
      ]
    },
    {
      "cell_type": "code",
      "source": [
        "mylist=[\"pavani\",\"maira\",\"me\",\"mom\",\"hehe\"]\n",
        "print(\"before :\",mylist)\n",
        "mylist[1:4]=\"vijaya\"\n",
        "print(\"after :\",mylist)\n",
        "print(\"___________\")\n",
        "mylist=[\"pavani\",\"maira\",\"me\",\"mom\",\"hehe\"]\n",
        "print(\"before :\",mylist)\n",
        "mylist[2:3]=[\"vijaya\"]\n",
        "print(\"after :\",mylist)"
      ],
      "metadata": {
        "colab": {
          "base_uri": "https://localhost:8080/"
        },
        "id": "RvL6LpsVC9GB",
        "outputId": "41930aed-ec83-43cc-d8c0-cec5ba8b0203"
      },
      "execution_count": 95,
      "outputs": [
        {
          "output_type": "stream",
          "name": "stdout",
          "text": [
            "before : ['pavani', 'maira', 'me', 'mom', 'hehe']\n",
            "after : ['pavani', 'v', 'i', 'j', 'a', 'y', 'a', 'hehe']\n",
            "___________\n",
            "before : ['pavani', 'maira', 'me', 'mom', 'hehe']\n",
            "after : ['pavani', 'maira', 'vijaya', 'mom', 'hehe']\n"
          ]
        }
      ]
    },
    {
      "cell_type": "code",
      "source": [
        "mylist=[\"pavani\",\"maira\",\"me\",\"mom\",\"hehe\"]\n",
        "print(\"before :\",mylist)\n",
        "mylist[4:2]=\"vijaya\"\n",
        "print(\"after :\",mylist)\n",
        "print(\"___________\")\n",
        "mylist=[\"pavani\",\"maira\",\"me\",\"mom\",\"hehe\"]\n",
        "print(\"before :\",mylist)\n",
        "mylist[4:2]=[\"vijaya\"]\n",
        "print(\"after :\",mylist)"
      ],
      "metadata": {
        "colab": {
          "base_uri": "https://localhost:8080/"
        },
        "id": "Qp2tQVGDDtyo",
        "outputId": "b1a15b6b-0717-49ee-fe3a-081110d7c30c"
      },
      "execution_count": 97,
      "outputs": [
        {
          "output_type": "stream",
          "name": "stdout",
          "text": [
            "before : ['pavani', 'maira', 'me', 'mom', 'hehe']\n",
            "after : ['pavani', 'maira', 'me', 'mom', 'v', 'i', 'j', 'a', 'y', 'a', 'hehe']\n",
            "___________\n",
            "before : ['pavani', 'maira', 'me', 'mom', 'hehe']\n",
            "after : ['pavani', 'maira', 'me', 'mom', 'vijaya', 'hehe']\n"
          ]
        }
      ]
    },
    {
      "cell_type": "code",
      "source": [
        "mylist=[\"pavani\",\"maira\",\"me\",\"mom\",\"hehe\"]\n",
        "print(\"before :\",mylist)\n",
        "mylist[1:]=[\"vijaya\",\"home\",\"sweet\",\"cheesecakes\"]\n",
        "print(\"after :\",mylist)\n",
        "print(\"____________________________________________________________________________\")\n",
        "mylist=[\"pavani\",\"maira\",\"me\",\"mom\",\"hehe\"]\n",
        "print(\"before :\",mylist)\n",
        "mylist[2:]=[\"vijaya\",\"home\",\"sweet\",\"cheesecakes\"]\n",
        "print(\"after :\",mylist)\n",
        "#her after that index elements wont be printed\n",
        "\n",
        "print(\"_______________________________________________________________________\")\n",
        "print(\"-----------------------------------------------------------------------\")\n",
        "\n",
        "#here last elements after that index  also printed\n",
        "mylist=[\"pavani\",\"maira\",\"me\",\"mom\",\"hehe\"]\n",
        "print(\"before :\",mylist)\n",
        "mylist[1:4]=[\"vijaya\",\"home\",\"sweet\",\"cheesecakes\"]\n",
        "print(\"after :\",mylist)\n",
        "print(\"____________________________________________________________________________\")\n",
        "mylist=[\"pavani\",\"maira\",\"me\",\"mom\",\"hehe\"]\n",
        "print(\"before :\",mylist)\n",
        "mylist[2:3]=[\"vijaya\",\"home\",\"sweet\",\"cheesecakes\"]\n",
        "print(\"after :\",mylist)\n",
        "print(\"____________________________________________________________________________\")\n",
        "\n",
        "#here it will print all including index number we metioned also printed\n",
        "mylist=[\"pavani\",\"maira\",\"me\",\"mom\",\"hehe\"]\n",
        "print(\"before :\",mylist)\n",
        "mylist[3:2]=[\"vijaya\",\"home\",\"sweet\",\"cheesecakes\"]\n",
        "print(\"after :\",mylist)"
      ],
      "metadata": {
        "colab": {
          "base_uri": "https://localhost:8080/"
        },
        "id": "AAeszteCEIsv",
        "outputId": "ee0d794d-151b-42e6-e7f9-f91e7bc6d34f"
      },
      "execution_count": 102,
      "outputs": [
        {
          "output_type": "stream",
          "name": "stdout",
          "text": [
            "before : ['pavani', 'maira', 'me', 'mom', 'hehe']\n",
            "after : ['pavani', 'vijaya', 'home', 'sweet', 'cheesecakes']\n",
            "____________________________________________________________________________\n",
            "before : ['pavani', 'maira', 'me', 'mom', 'hehe']\n",
            "after : ['pavani', 'maira', 'vijaya', 'home', 'sweet', 'cheesecakes']\n",
            "_______________________________________________________________________\n",
            "-----------------------------------------------------------------------\n",
            "before : ['pavani', 'maira', 'me', 'mom', 'hehe']\n",
            "after : ['pavani', 'vijaya', 'home', 'sweet', 'cheesecakes', 'hehe']\n",
            "____________________________________________________________________________\n",
            "before : ['pavani', 'maira', 'me', 'mom', 'hehe']\n",
            "after : ['pavani', 'maira', 'vijaya', 'home', 'sweet', 'cheesecakes', 'mom', 'hehe']\n",
            "____________________________________________________________________________\n",
            "before : ['pavani', 'maira', 'me', 'mom', 'hehe']\n",
            "after : ['pavani', 'maira', 'me', 'vijaya', 'home', 'sweet', 'cheesecakes', 'mom', 'hehe']\n"
          ]
        }
      ]
    },
    {
      "cell_type": "markdown",
      "source": [
        "Remove"
      ],
      "metadata": {
        "id": "V7hSBNZhF4fh"
      }
    },
    {
      "cell_type": "code",
      "source": [
        "mylist=[\"pavani\",\"maira\",\"me\",\"mom\",\"hehe\"]\n",
        "print(\"before :\",mylist)\n",
        "mylist.remove(\"me\")\n",
        "print(\"after :\",mylist)"
      ],
      "metadata": {
        "colab": {
          "base_uri": "https://localhost:8080/"
        },
        "id": "D13TAG3MGvAq",
        "outputId": "432f00d4-0e18-4ef5-c2e5-9689c88ba9cc"
      },
      "execution_count": 103,
      "outputs": [
        {
          "output_type": "stream",
          "name": "stdout",
          "text": [
            "before : ['pavani', 'maira', 'me', 'mom', 'hehe']\n",
            "after : ['pavani', 'maira', 'mom', 'hehe']\n"
          ]
        }
      ]
    },
    {
      "cell_type": "code",
      "source": [
        "mylist=[\"pavani\",\"maira\",\"me\",\"pavani\",\"mom\",\"hehe\"]\n",
        "print(\"before :\",mylist)\n",
        "mylist.remove(\"pavani\")\n",
        "print(\"after :\",mylist)\n",
        "#it will remove the 1st element it finds"
      ],
      "metadata": {
        "colab": {
          "base_uri": "https://localhost:8080/"
        },
        "id": "1mEcS0yfG9R2",
        "outputId": "14e5efb3-29dc-4a9a-d979-8e0072aab5ac"
      },
      "execution_count": 104,
      "outputs": [
        {
          "output_type": "stream",
          "name": "stdout",
          "text": [
            "before : ['pavani', 'maira', 'me', 'pavani', 'mom', 'hehe']\n",
            "after : ['maira', 'me', 'pavani', 'mom', 'hehe']\n"
          ]
        }
      ]
    },
    {
      "cell_type": "code",
      "source": [
        "mylist=[\"pavani\",\"maira\",\"me\",\"pavani\",\"mom\",\"hehe\"]\n",
        "print(\"before :\",mylist)\n",
        "newmylist= mylist.remove(\"pavani\")\n",
        "print(\"after :\",newmylist)\n",
        "#remove() doesn't create a new list; instead, it adds the specified element(s) to the original list.thats why it return null\n",
        "# remove() method in Python modifies the list in place and returns None. This means that remove() doesn't create a new list; instead, it removes the specified element(s) to the original list.\n",
        "\n",
        "#The remove() method removes \"pavani\" from the list.\n",
        "# However, remove() does not return the modified list; it returns None.\n",
        "# Reassigning to None:\n"
      ],
      "metadata": {
        "colab": {
          "base_uri": "https://localhost:8080/"
        },
        "id": "f938n1S_HUfc",
        "outputId": "1c5dbc00-278b-46d0-ea0c-6bd2b77e26fb"
      },
      "execution_count": 105,
      "outputs": [
        {
          "output_type": "stream",
          "name": "stdout",
          "text": [
            "before : ['pavani', 'maira', 'me', 'pavani', 'mom', 'hehe']\n",
            "after : None\n"
          ]
        }
      ]
    },
    {
      "cell_type": "markdown",
      "source": [
        "**Delete**"
      ],
      "metadata": {
        "id": "965mGz_JIwxR"
      }
    },
    {
      "cell_type": "code",
      "source": [
        "l = [1,2,3,4,5]\n",
        "print(\"before :\",l)\n",
        "del l[2]\n",
        "#its index not element\n",
        "print(\"after :\",l)\n"
      ],
      "metadata": {
        "colab": {
          "base_uri": "https://localhost:8080/"
        },
        "id": "udfDyWlXIta6",
        "outputId": "f5a674ef-dbcd-4df5-df09-b2c692265b61"
      },
      "execution_count": 106,
      "outputs": [
        {
          "output_type": "stream",
          "name": "stdout",
          "text": [
            "before : [1, 2, 3, 4, 5]\n",
            "after : [1, 2, 4, 5]\n"
          ]
        }
      ]
    },
    {
      "cell_type": "code",
      "source": [
        "l = [1,2,3,4,5]\n",
        "print(\"before :\",l)\n",
        "del l[2:]\n",
        "print(\"after :\",l)"
      ],
      "metadata": {
        "colab": {
          "base_uri": "https://localhost:8080/"
        },
        "id": "9_Cp3VdRJO6p",
        "outputId": "fdec2608-0bd6-42f2-b8cc-789db0192673"
      },
      "execution_count": 107,
      "outputs": [
        {
          "output_type": "stream",
          "name": "stdout",
          "text": [
            "before : [1, 2, 3, 4, 5]\n",
            "after : [1, 2]\n"
          ]
        }
      ]
    },
    {
      "cell_type": "code",
      "source": [
        "l = [1,2,3,4,5]\n",
        "print(\"before :\",l)\n",
        "del l[2:3]\n",
        "print(\"after :\",l)\n",
        "print(\"________________\")\n",
        "l = [1,2,3,4,5]\n",
        "print(\"before :\",l)\n",
        "del l[2:4]\n",
        "print(\"after :\",l)\n",
        "print(\"________________\")\n",
        "l = [1,2,3,4,5]\n",
        "print(\"before :\",l)\n",
        "del l[:]\n",
        "print(\"after :\",l)\n",
        "print(\"________________\")\n"
      ],
      "metadata": {
        "colab": {
          "base_uri": "https://localhost:8080/"
        },
        "id": "ArDpCVwIJUTX",
        "outputId": "4f40c09e-9f89-4671-94d5-dc4d1b678365"
      },
      "execution_count": 112,
      "outputs": [
        {
          "output_type": "stream",
          "name": "stdout",
          "text": [
            "before : [1, 2, 3, 4, 5]\n",
            "after : [1, 2, 4, 5]\n",
            "________________\n",
            "before : [1, 2, 3, 4, 5]\n",
            "after : [1, 2, 5]\n",
            "________________\n",
            "before : [1, 2, 3, 4, 5]\n",
            "after : []\n",
            "________________\n"
          ]
        }
      ]
    },
    {
      "cell_type": "code",
      "source": [
        "l = [1,2,3,4,5]\n",
        "print(\"before :\",l)\n",
        "del l\n",
        "print(\"after :\",l)\n",
        "#deletes list so not defined coming"
      ],
      "metadata": {
        "colab": {
          "base_uri": "https://localhost:8080/",
          "height": 193
        },
        "id": "EyzPK7aDJh1K",
        "outputId": "367fe57d-942b-4fa4-da39-05343e3ab73f"
      },
      "execution_count": 113,
      "outputs": [
        {
          "output_type": "stream",
          "name": "stdout",
          "text": [
            "before : [1, 2, 3, 4, 5]\n"
          ]
        },
        {
          "output_type": "error",
          "ename": "NameError",
          "evalue": "name 'l' is not defined",
          "traceback": [
            "\u001b[0;31m---------------------------------------------------------------------------\u001b[0m",
            "\u001b[0;31mNameError\u001b[0m                                 Traceback (most recent call last)",
            "\u001b[0;32m<ipython-input-113-a5ec54502bb6>\u001b[0m in \u001b[0;36m<cell line: 4>\u001b[0;34m()\u001b[0m\n\u001b[1;32m      2\u001b[0m \u001b[0mprint\u001b[0m\u001b[0;34m(\u001b[0m\u001b[0;34m\"before :\"\u001b[0m\u001b[0;34m,\u001b[0m\u001b[0ml\u001b[0m\u001b[0;34m)\u001b[0m\u001b[0;34m\u001b[0m\u001b[0;34m\u001b[0m\u001b[0m\n\u001b[1;32m      3\u001b[0m \u001b[0;32mdel\u001b[0m \u001b[0ml\u001b[0m\u001b[0;34m\u001b[0m\u001b[0;34m\u001b[0m\u001b[0m\n\u001b[0;32m----> 4\u001b[0;31m \u001b[0mprint\u001b[0m\u001b[0;34m(\u001b[0m\u001b[0;34m\"after :\"\u001b[0m\u001b[0;34m,\u001b[0m\u001b[0ml\u001b[0m\u001b[0;34m)\u001b[0m\u001b[0;34m\u001b[0m\u001b[0;34m\u001b[0m\u001b[0m\n\u001b[0m",
            "\u001b[0;31mNameError\u001b[0m: name 'l' is not defined"
          ]
        }
      ]
    },
    {
      "cell_type": "markdown",
      "source": [
        "**Clear()**"
      ],
      "metadata": {
        "id": "copkYDjgJ4gs"
      }
    },
    {
      "cell_type": "code",
      "source": [
        "l = [1,2,3,4,5]\n",
        "print(\"before :\",l)\n",
        "l.clear()\n",
        "print(\"after :\",l)\n"
      ],
      "metadata": {
        "colab": {
          "base_uri": "https://localhost:8080/"
        },
        "id": "OR7h7x9tJ2tT",
        "outputId": "62f0d829-46d9-4d4c-8175-22c32621008d"
      },
      "execution_count": 115,
      "outputs": [
        {
          "output_type": "stream",
          "name": "stdout",
          "text": [
            "before : [1, 2, 3, 4, 5]\n",
            "after : []\n"
          ]
        }
      ]
    },
    {
      "cell_type": "markdown",
      "source": [
        "**pop()**"
      ],
      "metadata": {
        "id": "loEP_vDBKZ-R"
      }
    },
    {
      "cell_type": "code",
      "source": [
        "#The pop() method removes the element at the specified position.\n",
        "l = [1,2,3,4,5]\n",
        "print(\"before :\",l)\n",
        "l.pop(0)\n",
        "print(\"after :\",l)\n"
      ],
      "metadata": {
        "colab": {
          "base_uri": "https://localhost:8080/"
        },
        "id": "JAYFDaYMKJhV",
        "outputId": "b1838cd7-5ed9-4b2c-e485-24223323e06c"
      },
      "execution_count": 120,
      "outputs": [
        {
          "output_type": "stream",
          "name": "stdout",
          "text": [
            "before : [1, 2, 3, 4, 5]\n",
            "after : [2, 3, 4, 5]\n"
          ]
        }
      ]
    },
    {
      "cell_type": "code",
      "source": [
        "l = [1,2,3,4,5,\"pavani\"]\n",
        "print(\"before :\",l)\n",
        "l.pop()\n",
        "#if we dont give anything it removes last index element in list\n",
        "print(\"after :\",l)\n",
        "a=l.pop()\n",
        "print(\"value of a : \",a)\n"
      ],
      "metadata": {
        "colab": {
          "base_uri": "https://localhost:8080/"
        },
        "id": "lMYYzuB7K2W2",
        "outputId": "c9f980b1-91bd-41c8-8e10-93f33bf8b18b"
      },
      "execution_count": 122,
      "outputs": [
        {
          "output_type": "stream",
          "name": "stdout",
          "text": [
            "before : [1, 2, 3, 4, 5, 'pavani']\n",
            "after : [1, 2, 3, 4, 5]\n",
            "value of a :  5\n"
          ]
        }
      ]
    },
    {
      "cell_type": "code",
      "source": [
        "l = [1,2,3,4,5,\"pavani\"]\n",
        "print(\"before :\",l)\n",
        "l.pop(6)\n",
        "print(\"after :\",l)"
      ],
      "metadata": {
        "colab": {
          "base_uri": "https://localhost:8080/",
          "height": 211
        },
        "id": "SyVreyeXLc47",
        "outputId": "2fe992f1-1336-4dc3-98b3-67e3edfe63e6"
      },
      "execution_count": 123,
      "outputs": [
        {
          "output_type": "stream",
          "name": "stdout",
          "text": [
            "before : [1, 2, 3, 4, 5, 'pavani']\n"
          ]
        },
        {
          "output_type": "error",
          "ename": "IndexError",
          "evalue": "pop index out of range",
          "traceback": [
            "\u001b[0;31m---------------------------------------------------------------------------\u001b[0m",
            "\u001b[0;31mIndexError\u001b[0m                                Traceback (most recent call last)",
            "\u001b[0;32m<ipython-input-123-404f35748ca2>\u001b[0m in \u001b[0;36m<cell line: 3>\u001b[0;34m()\u001b[0m\n\u001b[1;32m      1\u001b[0m \u001b[0ml\u001b[0m \u001b[0;34m=\u001b[0m \u001b[0;34m[\u001b[0m\u001b[0;36m1\u001b[0m\u001b[0;34m,\u001b[0m\u001b[0;36m2\u001b[0m\u001b[0;34m,\u001b[0m\u001b[0;36m3\u001b[0m\u001b[0;34m,\u001b[0m\u001b[0;36m4\u001b[0m\u001b[0;34m,\u001b[0m\u001b[0;36m5\u001b[0m\u001b[0;34m,\u001b[0m\u001b[0;34m\"pavani\"\u001b[0m\u001b[0;34m]\u001b[0m\u001b[0;34m\u001b[0m\u001b[0;34m\u001b[0m\u001b[0m\n\u001b[1;32m      2\u001b[0m \u001b[0mprint\u001b[0m\u001b[0;34m(\u001b[0m\u001b[0;34m\"before :\"\u001b[0m\u001b[0;34m,\u001b[0m\u001b[0ml\u001b[0m\u001b[0;34m)\u001b[0m\u001b[0;34m\u001b[0m\u001b[0;34m\u001b[0m\u001b[0m\n\u001b[0;32m----> 3\u001b[0;31m \u001b[0ml\u001b[0m\u001b[0;34m.\u001b[0m\u001b[0mpop\u001b[0m\u001b[0;34m(\u001b[0m\u001b[0;36m6\u001b[0m\u001b[0;34m)\u001b[0m\u001b[0;34m\u001b[0m\u001b[0;34m\u001b[0m\u001b[0m\n\u001b[0m\u001b[1;32m      4\u001b[0m \u001b[0mprint\u001b[0m\u001b[0;34m(\u001b[0m\u001b[0;34m\"after :\"\u001b[0m\u001b[0;34m,\u001b[0m\u001b[0ml\u001b[0m\u001b[0;34m)\u001b[0m\u001b[0;34m\u001b[0m\u001b[0;34m\u001b[0m\u001b[0m\n",
            "\u001b[0;31mIndexError\u001b[0m: pop index out of range"
          ]
        }
      ]
    },
    {
      "cell_type": "markdown",
      "source": [
        "**list comprehensions**\n",
        "* newlist = [expression for item in iterable if condition == True]\n"
      ],
      "metadata": {
        "id": "AXU7bdnkLiXi"
      }
    },
    {
      "cell_type": "code",
      "source": [
        "#using for\n",
        "fruits = [\"apple\", \"banana\", \"cherry\", \"kiwi\", \"mango\"]\n",
        "newlist = []\n",
        "for x in fruits:\n",
        "  if \"a\" in x:\n",
        "    newlist.append(x)\n",
        "print(newlist)"
      ],
      "metadata": {
        "colab": {
          "base_uri": "https://localhost:8080/"
        },
        "id": "X7MH5P9aLpll",
        "outputId": "1b8c914c-193e-4d83-beb2-a3caee609371"
      },
      "execution_count": 124,
      "outputs": [
        {
          "output_type": "stream",
          "name": "stdout",
          "text": [
            "['apple', 'banana', 'mango']\n"
          ]
        }
      ]
    },
    {
      "cell_type": "code",
      "source": [
        "# syntax newlist = [expression for item in iterable if condition == True]\n",
        "fruits = [\"apple\", \"banana\", \"cherry\", \"kiwi\", \"mango\"]\n",
        "newlist=[x for x in fruits if \"a\" in x]\n",
        "print(newlist)\n"
      ],
      "metadata": {
        "colab": {
          "base_uri": "https://localhost:8080/"
        },
        "id": "YxM3I3GwMK3f",
        "outputId": "a64c3ca6-995b-471d-ee10-0d2c42d2f259"
      },
      "execution_count": 133,
      "outputs": [
        {
          "output_type": "stream",
          "name": "stdout",
          "text": [
            "['apple', 'banana', 'mango']\n"
          ]
        }
      ]
    },
    {
      "cell_type": "markdown",
      "source": [
        "range() func in list comprehensions usage"
      ],
      "metadata": {
        "id": "zGjD0QJoNXnu"
      }
    },
    {
      "cell_type": "code",
      "source": [
        "#using for\n",
        "n = []\n",
        "for i in range(1,20):\n",
        "  n.append(i)\n",
        "\n",
        "print(n)"
      ],
      "metadata": {
        "colab": {
          "base_uri": "https://localhost:8080/"
        },
        "id": "8pc3hgoUNdUq",
        "outputId": "9f9f7976-0430-474a-82a7-fa98dc3d7158"
      },
      "execution_count": 140,
      "outputs": [
        {
          "output_type": "stream",
          "name": "stdout",
          "text": [
            "[1, 2, 3, 4, 5, 6, 7, 8, 9, 10, 11, 12, 13, 14, 15, 16, 17, 18, 19]\n"
          ]
        }
      ]
    },
    {
      "cell_type": "code",
      "source": [
        "#using list comprehension\n",
        "l = [i for i in range(1,20)]\n",
        "print(l)"
      ],
      "metadata": {
        "colab": {
          "base_uri": "https://localhost:8080/"
        },
        "id": "01NXeZOdOOte",
        "outputId": "67d6d972-deec-41c7-9dae-022676f89a92"
      },
      "execution_count": 141,
      "outputs": [
        {
          "output_type": "stream",
          "name": "stdout",
          "text": [
            "[1, 2, 3, 4, 5, 6, 7, 8, 9, 10, 11, 12, 13, 14, 15, 16, 17, 18, 19]\n"
          ]
        }
      ]
    },
    {
      "cell_type": "code",
      "source": [
        "l = [i*2 for i in range(1,20)]\n",
        "print(l)\n",
        "#This list contains the numbers from 2 to 38, which are the result of multiplying each number from 1 to 19 by 2."
      ],
      "metadata": {
        "colab": {
          "base_uri": "https://localhost:8080/"
        },
        "id": "ZylJ0k8wOnPf",
        "outputId": "36b727b5-6a23-4237-b0c5-9175313a08eb"
      },
      "execution_count": 142,
      "outputs": [
        {
          "output_type": "stream",
          "name": "stdout",
          "text": [
            "[2, 4, 6, 8, 10, 12, 14, 16, 18, 20, 22, 24, 26, 28, 30, 32, 34, 36, 38]\n"
          ]
        }
      ]
    },
    {
      "cell_type": "code",
      "source": [
        "#using for\n",
        "n = []\n",
        "for i in range(1,11):\n",
        "  if i%2 == 0:\n",
        "    n.append(i)\n",
        "print(n)"
      ],
      "metadata": {
        "colab": {
          "base_uri": "https://localhost:8080/"
        },
        "id": "YgjR-gZsPD3Y",
        "outputId": "61384def-b1dd-439a-f0c1-e81262e89c54"
      },
      "execution_count": 144,
      "outputs": [
        {
          "output_type": "stream",
          "name": "stdout",
          "text": [
            "[2, 4, 6, 8, 10]\n"
          ]
        }
      ]
    },
    {
      "cell_type": "code",
      "source": [
        "#using list comprehensions\n",
        "l =[i for i in range(1,11) if i%2==0]\n",
        "print(l)"
      ],
      "metadata": {
        "colab": {
          "base_uri": "https://localhost:8080/"
        },
        "id": "MQwgJou3PPsn",
        "outputId": "8d5cf79c-b06c-49e5-a806-21897a4dd8de"
      },
      "execution_count": 146,
      "outputs": [
        {
          "output_type": "stream",
          "name": "stdout",
          "text": [
            "[2, 4, 6, 8, 10]\n"
          ]
        }
      ]
    },
    {
      "cell_type": "code",
      "source": [
        "#using list comprehensions\n",
        "l =[i for i in range(1,11) if i%2==0 else i+10]\n",
        "print(l)"
      ],
      "metadata": {
        "colab": {
          "base_uri": "https://localhost:8080/",
          "height": 106
        },
        "id": "XgzrWkJ1Pnwd",
        "outputId": "bf5f1122-c15a-49dc-9f9c-8becdd021f1f"
      },
      "execution_count": 148,
      "outputs": [
        {
          "output_type": "error",
          "ename": "SyntaxError",
          "evalue": "invalid syntax (<ipython-input-148-01e1c3e7c13d>, line 2)",
          "traceback": [
            "\u001b[0;36m  File \u001b[0;32m\"<ipython-input-148-01e1c3e7c13d>\"\u001b[0;36m, line \u001b[0;32m2\u001b[0m\n\u001b[0;31m    l =[i+5 for i in range(1,11) if i%2==0 else i+10]\u001b[0m\n\u001b[0m                                           ^\u001b[0m\n\u001b[0;31mSyntaxError\u001b[0m\u001b[0;31m:\u001b[0m invalid syntax\n"
          ]
        }
      ]
    },
    {
      "cell_type": "code",
      "source": [
        "\n",
        "l = [i if i%2==0 else i+10 for i in range(1,10)]\n",
        "print(l)"
      ],
      "metadata": {
        "colab": {
          "base_uri": "https://localhost:8080/"
        },
        "id": "JFnl-UFKP9_T",
        "outputId": "075d34cf-d654-42df-8d50-d48276732a9c"
      },
      "execution_count": 149,
      "outputs": [
        {
          "output_type": "stream",
          "name": "stdout",
          "text": [
            "[11, 2, 13, 4, 15, 6, 17, 8, 19]\n"
          ]
        }
      ]
    },
    {
      "cell_type": "code",
      "source": [
        "l = [1,2,3]\n",
        "m = [2,3,4]\n",
        "n = []\n",
        "for i in l:\n",
        "  for j in m:\n",
        "    if i+j>3:\n",
        "      n.append((i,j))\n",
        "\n",
        "print(n)"
      ],
      "metadata": {
        "colab": {
          "base_uri": "https://localhost:8080/"
        },
        "id": "2rM1yZeoQXiV",
        "outputId": "e62454be-87c2-4610-827b-2e88d27f226a"
      },
      "execution_count": 150,
      "outputs": [
        {
          "output_type": "stream",
          "name": "stdout",
          "text": [
            "[(1, 3), (1, 4), (2, 2), (2, 3), (2, 4), (3, 2), (3, 3), (3, 4)]\n"
          ]
        }
      ]
    }
  ]
}