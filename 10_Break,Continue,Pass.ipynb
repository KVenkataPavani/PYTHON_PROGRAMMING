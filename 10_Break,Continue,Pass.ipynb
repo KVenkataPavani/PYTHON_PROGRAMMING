{
  "nbformat": 4,
  "nbformat_minor": 0,
  "metadata": {
    "colab": {
      "provenance": [],
      "authorship_tag": "ABX9TyPoNmZ+IsH71mT//6cLcoCr",
      "include_colab_link": true
    },
    "kernelspec": {
      "name": "python3",
      "display_name": "Python 3"
    },
    "language_info": {
      "name": "python"
    }
  },
  "cells": [
    {
      "cell_type": "markdown",
      "metadata": {
        "id": "view-in-github",
        "colab_type": "text"
      },
      "source": [
        "<a href=\"https://colab.research.google.com/github/KVenkataPavani/PYTHON_PROGRAMMING/blob/main/10_Break%2CContinue%2CPass.ipynb\" target=\"_parent\"><img src=\"https://colab.research.google.com/assets/colab-badge.svg\" alt=\"Open In Colab\"/></a>"
      ]
    },
    {
      "cell_type": "markdown",
      "source": [
        "# **BREAK**"
      ],
      "metadata": {
        "id": "2ZY-0Qh3y0sq"
      }
    },
    {
      "cell_type": "markdown",
      "source": [
        "The break statement is used to exit a loop prematurely. When Python encounters a break statement inside a loop, it immediately stops the loop and moves on to the next statement outside the loop.\n",
        "\n",
        "When to Use break:\n",
        "* When you want to stop looping once a certain condition is met.\n",
        "* When further iterations of the loop are unnecessary or unwanted."
      ],
      "metadata": {
        "id": "X4l21f_dzYLP"
      }
    },
    {
      "cell_type": "markdown",
      "source": [
        "**exiting a for Loop**"
      ],
      "metadata": {
        "id": "YuJpShEc7fs2"
      }
    },
    {
      "cell_type": "code",
      "source": [
        "for letter in \"wsndkkdkwklsxjsddsndnkjniz\":\n",
        "  if letter==\"k\":\n",
        "    break\n",
        "  print(letter)"
      ],
      "metadata": {
        "colab": {
          "base_uri": "https://localhost:8080/"
        },
        "id": "c-gLvRh2y39G",
        "outputId": "e2bfb1af-6935-4b61-ccb3-3cf57bb78a19"
      },
      "execution_count": 8,
      "outputs": [
        {
          "output_type": "stream",
          "name": "stdout",
          "text": [
            "w\n",
            "s\n",
            "n\n",
            "d\n"
          ]
        }
      ]
    },
    {
      "cell_type": "markdown",
      "source": [
        "**exiting a while Loop**"
      ],
      "metadata": {
        "id": "_p_cTP2c7kD4"
      }
    },
    {
      "cell_type": "code",
      "source": [
        "i = 1\n",
        "while i <= 10:\n",
        "    print(i)\n",
        "    if i == 5:\n",
        "        break\n",
        "    i += 1"
      ],
      "metadata": {
        "colab": {
          "base_uri": "https://localhost:8080/"
        },
        "id": "GRdNruzI7cF5",
        "outputId": "45b10ea2-05ee-453b-ac44-d97be9dbf534"
      },
      "execution_count": 9,
      "outputs": [
        {
          "output_type": "stream",
          "name": "stdout",
          "text": [
            "1\n",
            "2\n",
            "3\n",
            "4\n",
            "5\n"
          ]
        }
      ]
    },
    {
      "cell_type": "markdown",
      "source": [
        "#**CONTINUE STATEMENT**"
      ],
      "metadata": {
        "id": "kb562UJo764h"
      }
    },
    {
      "cell_type": "markdown",
      "source": [
        "The continue statement is used to skip the rest of the code inside the current loop iteration and move directly to the next iteration. It does not stop the loop entirely but skips over the remaining code for that iteration.\n",
        "\n",
        "When to Use continue:\n",
        "* When you want to skip the rest of the loop body for certain conditions but continue looping.\n",
        "* When certain iterations don’t need to execute all the statements in the loop."
      ],
      "metadata": {
        "id": "p5Hmjv457_sR"
      }
    },
    {
      "cell_type": "markdown",
      "source": [
        " **Skipping an Iteration in a for Loop**\n"
      ],
      "metadata": {
        "id": "iLzqt6O48QKI"
      }
    },
    {
      "cell_type": "code",
      "source": [
        "for num in range(1, 6):\n",
        "    if num == 3:\n",
        "        continue\n",
        "    print(num)\n",
        "#If the condition is true, the continue statement is executed, which skips the rest of the loop's body and moves on to the next iteration.thats why 3 is not printed"
      ],
      "metadata": {
        "colab": {
          "base_uri": "https://localhost:8080/"
        },
        "id": "v3nzkICU8XT-",
        "outputId": "8a591827-8b2a-447e-d16f-074eb2890b5a"
      },
      "execution_count": 10,
      "outputs": [
        {
          "output_type": "stream",
          "name": "stdout",
          "text": [
            "1\n",
            "2\n",
            "4\n",
            "5\n"
          ]
        }
      ]
    },
    {
      "cell_type": "markdown",
      "source": [
        "**Skipping an Iteration in a while Loop**"
      ],
      "metadata": {
        "id": "UBvHiFVy80ms"
      }
    },
    {
      "cell_type": "code",
      "source": [
        "i = 0\n",
        "while i < 5:\n",
        "    i += 1\n",
        "    if i == 3:\n",
        "        continue\n",
        "    print(i)\n",
        "    #If the condition is true, the continue statement is executed, which skips the rest of the loop's body and moves on to the next iteration. thats why 3 will not be printed\n"
      ],
      "metadata": {
        "colab": {
          "base_uri": "https://localhost:8080/"
        },
        "id": "WUhMlG5989tU",
        "outputId": "52b3df31-4ab0-47d2-ca63-ca54bd2dda49"
      },
      "execution_count": 11,
      "outputs": [
        {
          "output_type": "stream",
          "name": "stdout",
          "text": [
            "1\n",
            "2\n",
            "4\n",
            "5\n"
          ]
        }
      ]
    },
    {
      "cell_type": "markdown",
      "source": [
        "#**PASS STATEMENT**"
      ],
      "metadata": {
        "id": "cGN5cI1s9VQ2"
      }
    },
    {
      "cell_type": "markdown",
      "source": [
        "The pass statement does nothing and is often used as a placeholder in code. It allows you to write syntactically correct code where you might need to implement functionality later.\n",
        "\n",
        "When to Use pass:\n",
        "* When you're designing the structure of your code and want to leave some parts for future implementation.\n",
        "* When a statement is syntactically required, but no action is needed."
      ],
      "metadata": {
        "id": "ZUgS5WFh9bmS"
      }
    },
    {
      "cell_type": "markdown",
      "source": [
        "**Using pass in a for Loop**"
      ],
      "metadata": {
        "id": "KeU3LSYJ9o2s"
      }
    },
    {
      "cell_type": "code",
      "source": [
        "for letter in \"python\":\n",
        "    if letter == \"h\":\n",
        "        pass  # Placeholder, do nothing\n",
        "        # The pass statement does nothing, so the loop continues normally.\n",
        "    print(letter)\n"
      ],
      "metadata": {
        "colab": {
          "base_uri": "https://localhost:8080/"
        },
        "id": "JztcvJfx9moy",
        "outputId": "5ec0d208-5a48-42a7-c8eb-6e2b4e1a0338"
      },
      "execution_count": 13,
      "outputs": [
        {
          "output_type": "stream",
          "name": "stdout",
          "text": [
            "p\n",
            "y\n",
            "t\n",
            "h\n",
            "o\n",
            "n\n"
          ]
        }
      ]
    },
    {
      "cell_type": "markdown",
      "source": [
        "Detailed Summary:\n",
        "* break: Exits the loop entirely, skipping the remaining iterations.\n",
        "* continue: Skips the rest of the code in the current iteration and moves to the next iteration.\n",
        "* pass: Does nothing and is used as a placeholder when a statement is required but no action is necessary."
      ],
      "metadata": {
        "id": "MXFLYhep90M_"
      }
    }
  ]
}