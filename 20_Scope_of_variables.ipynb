{
  "nbformat": 4,
  "nbformat_minor": 0,
  "metadata": {
    "colab": {
      "provenance": [],
      "authorship_tag": "ABX9TyN0WKP1GgAiBPcB+Y+FCO+3",
      "include_colab_link": true
    },
    "kernelspec": {
      "name": "python3",
      "display_name": "Python 3"
    },
    "language_info": {
      "name": "python"
    }
  },
  "cells": [
    {
      "cell_type": "markdown",
      "metadata": {
        "id": "view-in-github",
        "colab_type": "text"
      },
      "source": [
        "<a href=\"https://colab.research.google.com/github/KVenkataPavani/PYTHON_PROGRAMMING/blob/main/20_Scope_of_variables.ipynb\" target=\"_parent\"><img src=\"https://colab.research.google.com/assets/colab-badge.svg\" alt=\"Open In Colab\"/></a>"
      ]
    },
    {
      "cell_type": "markdown",
      "source": [
        "Agenda\n",
        "\n",
        "* Functions (Examples)\n",
        "* Global Variables vs Local Variables\n",
        "* Nested Functions\n",
        "* nonlocal variables\n",
        "* Higher-Order Functions\n",
        "* Anonymous Functions"
      ],
      "metadata": {
        "id": "f6aXLOHi4SEJ"
      }
    },
    {
      "cell_type": "markdown",
      "source": [
        "# **Scope of the variable**"
      ],
      "metadata": {
        "id": "f3VRu9Pu4p8G"
      }
    },
    {
      "cell_type": "markdown",
      "source": [
        "### **Global variables vs Local Variable**"
      ],
      "metadata": {
        "id": "ASsBjSk-4vxF"
      }
    },
    {
      "cell_type": "code",
      "source": [
        "def sample():\n",
        "  # local_variable\n",
        "  a = 100\n",
        "  print(\"Local Variable - a: \", a)\n",
        "\n",
        "sample()\n",
        "print(\"Access Local Variable - a from outside the function: \", a)"
      ],
      "metadata": {
        "colab": {
          "base_uri": "https://localhost:8080/",
          "height": 193
        },
        "id": "EwplZbMi4azA",
        "outputId": "412ee2a1-69be-4595-8e3d-df02878c62c6"
      },
      "execution_count": 1,
      "outputs": [
        {
          "output_type": "stream",
          "name": "stdout",
          "text": [
            "Local Variable - a:  100\n"
          ]
        },
        {
          "output_type": "error",
          "ename": "NameError",
          "evalue": "name 'a' is not defined",
          "traceback": [
            "\u001b[0;31m---------------------------------------------------------------------------\u001b[0m",
            "\u001b[0;31mNameError\u001b[0m                                 Traceback (most recent call last)",
            "\u001b[0;32m<ipython-input-1-79fbe9367152>\u001b[0m in \u001b[0;36m<cell line: 7>\u001b[0;34m()\u001b[0m\n\u001b[1;32m      5\u001b[0m \u001b[0;34m\u001b[0m\u001b[0m\n\u001b[1;32m      6\u001b[0m \u001b[0msample\u001b[0m\u001b[0;34m(\u001b[0m\u001b[0;34m)\u001b[0m\u001b[0;34m\u001b[0m\u001b[0;34m\u001b[0m\u001b[0m\n\u001b[0;32m----> 7\u001b[0;31m \u001b[0mprint\u001b[0m\u001b[0;34m(\u001b[0m\u001b[0;34m\"Access Local Variable - a from outside the function: \"\u001b[0m\u001b[0;34m,\u001b[0m \u001b[0ma\u001b[0m\u001b[0;34m)\u001b[0m\u001b[0;34m\u001b[0m\u001b[0;34m\u001b[0m\u001b[0m\n\u001b[0m",
            "\u001b[0;31mNameError\u001b[0m: name 'a' is not defined"
          ]
        }
      ]
    },
    {
      "cell_type": "markdown",
      "source": [
        "### **Global variable**\n"
      ],
      "metadata": {
        "id": "KflWOtVD5-cK"
      }
    },
    {
      "cell_type": "code",
      "source": [
        "# global variable\n",
        "\n",
        "b = 100 # global variable\n",
        "\n",
        "def sample1():\n",
        "  print(\"Access Global Variable -b Inside Function: \", b)\n",
        "\n",
        "sample1()\n",
        "print(\"Access Global Variable - b Outside Function: \", b)\n",
        "\n",
        "def sample2():\n",
        "  print(\"Accessing b: \", b)\n",
        "\n",
        "sample2()"
      ],
      "metadata": {
        "colab": {
          "base_uri": "https://localhost:8080/"
        },
        "id": "1Cnk8o5P5pkk",
        "outputId": "73f22faa-f7ea-4bf4-8551-7faf794f273f"
      },
      "execution_count": 2,
      "outputs": [
        {
          "output_type": "stream",
          "name": "stdout",
          "text": [
            "Access Global Variable -b Inside Function:  100\n",
            "Access Global Variable - b Outside Function:  100\n",
            "Accessing b:  100\n"
          ]
        }
      ]
    },
    {
      "cell_type": "code",
      "source": [
        "# global variable vs local variable\n",
        "\n",
        "def sample():\n",
        "  c = 200 # treated as local variable\n",
        "  print(\" will get printed: \",c)\n",
        "\n",
        "c = 1000\n",
        "print(\"Global Variable c : \", c)\n",
        "sample()\n",
        "print(\"Global Variable c: \", c)"
      ],
      "metadata": {
        "colab": {
          "base_uri": "https://localhost:8080/"
        },
        "id": "bzTOCdtr6dFI",
        "outputId": "9ebb1203-bdeb-42c3-8930-9aa5a7051f61"
      },
      "execution_count": 3,
      "outputs": [
        {
          "output_type": "stream",
          "name": "stdout",
          "text": [
            "Global Variable c :  1000\n",
            "What will get printed:  200\n",
            "Global Variable c:  1000\n"
          ]
        }
      ]
    },
    {
      "cell_type": "code",
      "source": [
        "# purpose of \"global\" keyword\n",
        "\n",
        "def func_d():\n",
        "  print(\"Global Variable d : \", d)\n",
        "  d += 500\n",
        "  print(\"Changing d inside the function: \",d)\n",
        "\n",
        "d = 1000\n",
        "print(\"Initializing d: -->\", d)\n",
        "d += 500\n",
        "print(\"Modifying d: -->\", d)\n",
        "func_d()\n",
        "print(\"Outside function, d changed to : \", d)\n",
        "#"
      ],
      "metadata": {
        "colab": {
          "base_uri": "https://localhost:8080/",
          "height": 349
        },
        "id": "IPlsy2DB7AgP",
        "outputId": "8113a205-2925-465a-ace1-f7e7ec9347a7"
      },
      "execution_count": 5,
      "outputs": [
        {
          "output_type": "stream",
          "name": "stdout",
          "text": [
            "Initializing d: --> 1000\n",
            "Modifying d: --> 1500\n"
          ]
        },
        {
          "output_type": "error",
          "ename": "UnboundLocalError",
          "evalue": "local variable 'd' referenced before assignment",
          "traceback": [
            "\u001b[0;31m---------------------------------------------------------------------------\u001b[0m",
            "\u001b[0;31mUnboundLocalError\u001b[0m                         Traceback (most recent call last)",
            "\u001b[0;32m<ipython-input-5-dfedef53094a>\u001b[0m in \u001b[0;36m<cell line: 12>\u001b[0;34m()\u001b[0m\n\u001b[1;32m     10\u001b[0m \u001b[0md\u001b[0m \u001b[0;34m+=\u001b[0m \u001b[0;36m500\u001b[0m\u001b[0;34m\u001b[0m\u001b[0;34m\u001b[0m\u001b[0m\n\u001b[1;32m     11\u001b[0m \u001b[0mprint\u001b[0m\u001b[0;34m(\u001b[0m\u001b[0;34m\"Modifying d: -->\"\u001b[0m\u001b[0;34m,\u001b[0m \u001b[0md\u001b[0m\u001b[0;34m)\u001b[0m\u001b[0;34m\u001b[0m\u001b[0;34m\u001b[0m\u001b[0m\n\u001b[0;32m---> 12\u001b[0;31m \u001b[0mfunc_d\u001b[0m\u001b[0;34m(\u001b[0m\u001b[0;34m)\u001b[0m\u001b[0;34m\u001b[0m\u001b[0;34m\u001b[0m\u001b[0m\n\u001b[0m\u001b[1;32m     13\u001b[0m \u001b[0mprint\u001b[0m\u001b[0;34m(\u001b[0m\u001b[0;34m\"Outside function, d changed to : \"\u001b[0m\u001b[0;34m,\u001b[0m \u001b[0md\u001b[0m\u001b[0;34m)\u001b[0m\u001b[0;34m\u001b[0m\u001b[0;34m\u001b[0m\u001b[0m\n",
            "\u001b[0;32m<ipython-input-5-dfedef53094a>\u001b[0m in \u001b[0;36mfunc_d\u001b[0;34m()\u001b[0m\n\u001b[1;32m      2\u001b[0m \u001b[0;34m\u001b[0m\u001b[0m\n\u001b[1;32m      3\u001b[0m \u001b[0;32mdef\u001b[0m \u001b[0mfunc_d\u001b[0m\u001b[0;34m(\u001b[0m\u001b[0;34m)\u001b[0m\u001b[0;34m:\u001b[0m\u001b[0;34m\u001b[0m\u001b[0;34m\u001b[0m\u001b[0m\n\u001b[0;32m----> 4\u001b[0;31m   \u001b[0mprint\u001b[0m\u001b[0;34m(\u001b[0m\u001b[0;34m\"Global Variable d : \"\u001b[0m\u001b[0;34m,\u001b[0m \u001b[0md\u001b[0m\u001b[0;34m)\u001b[0m\u001b[0;34m\u001b[0m\u001b[0;34m\u001b[0m\u001b[0m\n\u001b[0m\u001b[1;32m      5\u001b[0m   \u001b[0md\u001b[0m \u001b[0;34m+=\u001b[0m \u001b[0;36m500\u001b[0m\u001b[0;34m\u001b[0m\u001b[0;34m\u001b[0m\u001b[0m\n\u001b[1;32m      6\u001b[0m   \u001b[0mprint\u001b[0m\u001b[0;34m(\u001b[0m\u001b[0;34m\"Changing d inside the function: \"\u001b[0m\u001b[0;34m,\u001b[0m\u001b[0md\u001b[0m\u001b[0;34m)\u001b[0m\u001b[0;34m\u001b[0m\u001b[0;34m\u001b[0m\u001b[0m\n",
            "\u001b[0;31mUnboundLocalError\u001b[0m: local variable 'd' referenced before assignment"
          ]
        }
      ]
    },
    {
      "cell_type": "code",
      "source": [
        "# purpose of \"global\" keyword\n",
        "\n",
        "def func_d(d):\n",
        "  print(\"Global Variable d : \", d)\n",
        "  d += 500\n",
        "  print(\"Changing d inside the function: \",d)\n",
        "\n",
        "d = 1000\n",
        "print(\"Initializing d: -->\", d)\n",
        "d += 500\n",
        "print(\"Modifying d: -->\", d)\n",
        "func_d(d)\n",
        "print(\"Outside function, d changed to : \", d)\n"
      ],
      "metadata": {
        "colab": {
          "base_uri": "https://localhost:8080/"
        },
        "id": "vIUU5L7z7q_P",
        "outputId": "c80bfb0a-7604-4a16-c4ef-a8f9b5aee793"
      },
      "execution_count": 7,
      "outputs": [
        {
          "output_type": "stream",
          "name": "stdout",
          "text": [
            "Initializing d: --> 1000\n",
            "Modifying d: --> 1500\n",
            "Global Variable d :  1500\n",
            "Changing d inside the function:  2000\n",
            "Outside function, d changed to :  1500\n"
          ]
        }
      ]
    },
    {
      "cell_type": "code",
      "source": [
        "\n",
        "\n",
        "def sample1():\n",
        "  global d #used global variable\n",
        "  print(\"Global Variable d : \", d)\n",
        "  d += 500\n",
        "  print(\"Changing d inside the function: \",d)\n",
        "\n",
        "d = 1000\n",
        "print(\"Initializing d: -->\", d)\n",
        "d += 500\n",
        "print(\"Modifying d: -->\", d)\n",
        "sample1()\n",
        "print(\"Outside function, d changed to : \", d)"
      ],
      "metadata": {
        "colab": {
          "base_uri": "https://localhost:8080/"
        },
        "id": "G0Fnjifm8A7N",
        "outputId": "91e67f18-312f-4823-a51e-22273081ce1b"
      },
      "execution_count": 9,
      "outputs": [
        {
          "output_type": "stream",
          "name": "stdout",
          "text": [
            "Initializing d: --> 1000\n",
            "Modifying d: --> 1500\n",
            "Global Variable d :  1500\n",
            "Changing d inside the function:  2000\n",
            "Outside function, d changed to :  2000\n"
          ]
        }
      ]
    },
    {
      "cell_type": "code",
      "source": [
        "def sample1(): #no global variable to look for d value to assign\n",
        "  print(\"Global Variable d : \", d)\n",
        "  d += 500\n",
        "  print(\"Changing d inside the function: \",d)\n",
        "\n",
        "d = 1000\n",
        "print(\"Initializing d: -->\", d)\n",
        "d += 500\n",
        "print(\"Modifying d: -->\", d)\n",
        "sample1()\n",
        "print(\"Outside function, d changed to : \", d)"
      ],
      "metadata": {
        "colab": {
          "base_uri": "https://localhost:8080/",
          "height": 349
        },
        "id": "JBeWuWQL8TLB",
        "outputId": "bf617b5f-6efa-4a60-96f0-8505c8f6787f"
      },
      "execution_count": 10,
      "outputs": [
        {
          "output_type": "stream",
          "name": "stdout",
          "text": [
            "Initializing d: --> 1000\n",
            "Modifying d: --> 1500\n"
          ]
        },
        {
          "output_type": "error",
          "ename": "UnboundLocalError",
          "evalue": "local variable 'd' referenced before assignment",
          "traceback": [
            "\u001b[0;31m---------------------------------------------------------------------------\u001b[0m",
            "\u001b[0;31mUnboundLocalError\u001b[0m                         Traceback (most recent call last)",
            "\u001b[0;32m<ipython-input-10-00f04082d575>\u001b[0m in \u001b[0;36m<cell line: 10>\u001b[0;34m()\u001b[0m\n\u001b[1;32m      8\u001b[0m \u001b[0md\u001b[0m \u001b[0;34m+=\u001b[0m \u001b[0;36m500\u001b[0m\u001b[0;34m\u001b[0m\u001b[0;34m\u001b[0m\u001b[0m\n\u001b[1;32m      9\u001b[0m \u001b[0mprint\u001b[0m\u001b[0;34m(\u001b[0m\u001b[0;34m\"Modifying d: -->\"\u001b[0m\u001b[0;34m,\u001b[0m \u001b[0md\u001b[0m\u001b[0;34m)\u001b[0m\u001b[0;34m\u001b[0m\u001b[0;34m\u001b[0m\u001b[0m\n\u001b[0;32m---> 10\u001b[0;31m \u001b[0msample1\u001b[0m\u001b[0;34m(\u001b[0m\u001b[0;34m)\u001b[0m\u001b[0;34m\u001b[0m\u001b[0;34m\u001b[0m\u001b[0m\n\u001b[0m\u001b[1;32m     11\u001b[0m \u001b[0mprint\u001b[0m\u001b[0;34m(\u001b[0m\u001b[0;34m\"Outside function, d changed to : \"\u001b[0m\u001b[0;34m,\u001b[0m \u001b[0md\u001b[0m\u001b[0;34m)\u001b[0m\u001b[0;34m\u001b[0m\u001b[0;34m\u001b[0m\u001b[0m\n",
            "\u001b[0;32m<ipython-input-10-00f04082d575>\u001b[0m in \u001b[0;36msample1\u001b[0;34m()\u001b[0m\n\u001b[1;32m      1\u001b[0m \u001b[0;32mdef\u001b[0m \u001b[0msample1\u001b[0m\u001b[0;34m(\u001b[0m\u001b[0;34m)\u001b[0m\u001b[0;34m:\u001b[0m \u001b[0;31m#no global variable to look for d value to assign\u001b[0m\u001b[0;34m\u001b[0m\u001b[0;34m\u001b[0m\u001b[0m\n\u001b[0;32m----> 2\u001b[0;31m   \u001b[0mprint\u001b[0m\u001b[0;34m(\u001b[0m\u001b[0;34m\"Global Variable d : \"\u001b[0m\u001b[0;34m,\u001b[0m \u001b[0md\u001b[0m\u001b[0;34m)\u001b[0m\u001b[0;34m\u001b[0m\u001b[0;34m\u001b[0m\u001b[0m\n\u001b[0m\u001b[1;32m      3\u001b[0m   \u001b[0md\u001b[0m \u001b[0;34m+=\u001b[0m \u001b[0;36m500\u001b[0m\u001b[0;34m\u001b[0m\u001b[0;34m\u001b[0m\u001b[0m\n\u001b[1;32m      4\u001b[0m   \u001b[0mprint\u001b[0m\u001b[0;34m(\u001b[0m\u001b[0;34m\"Changing d inside the function: \"\u001b[0m\u001b[0;34m,\u001b[0m\u001b[0md\u001b[0m\u001b[0;34m)\u001b[0m\u001b[0;34m\u001b[0m\u001b[0;34m\u001b[0m\u001b[0m\n\u001b[1;32m      5\u001b[0m \u001b[0;34m\u001b[0m\u001b[0m\n",
            "\u001b[0;31mUnboundLocalError\u001b[0m: local variable 'd' referenced before assignment"
          ]
        }
      ]
    },
    {
      "cell_type": "code",
      "source": [
        "def sample():\n",
        "  d = 1500\n",
        "  print(\"Local Variable d : \", d)\n",
        "  d += 500\n",
        "  print(\"Changing d inside the function: \",d)\n",
        "\n",
        "d = 1000\n",
        "print(\"Initializing d: -->\", d)\n",
        "d += 500\n",
        "print(\"Modifying d: -->\", d)\n",
        "sample()\n",
        "print(\"Outside function, d changed to : \", d)"
      ],
      "metadata": {
        "colab": {
          "base_uri": "https://localhost:8080/"
        },
        "id": "_ZJn7KOX8lH4",
        "outputId": "2273119b-1e14-45c0-d2fb-384699a707f2"
      },
      "execution_count": 11,
      "outputs": [
        {
          "output_type": "stream",
          "name": "stdout",
          "text": [
            "Initializing d: --> 1000\n",
            "Modifying d: --> 1500\n",
            "Local Variable d :  1500\n",
            "Changing d inside the function:  2000\n",
            "Outside function, d changed to :  1500\n"
          ]
        }
      ]
    },
    {
      "cell_type": "code",
      "source": [
        "def sample_f():\n",
        "  global d\n",
        "  e = d + 500\n",
        "  print(\"Changing d inside the function: \",d)\n",
        "  print(\"Creating a new variable e: \", e)\n",
        "\n",
        "d = 1000\n",
        "print(\"Initializing d: -->\", d)\n",
        "d += 500\n",
        "print(\"Modifying d: -->\", d)\n",
        "sample_f()\n",
        "print(\"Outside function, d changed to : \", d)"
      ],
      "metadata": {
        "colab": {
          "base_uri": "https://localhost:8080/"
        },
        "id": "udwWmIpI8zw1",
        "outputId": "e688868b-b49f-4a3a-e2ce-034672034cd3"
      },
      "execution_count": 17,
      "outputs": [
        {
          "output_type": "stream",
          "name": "stdout",
          "text": [
            "Initializing d: --> 1000\n",
            "Modifying d: --> 1500\n",
            "Changing d inside the function:  1500\n",
            "Creating a new variable e:  2000\n",
            "Outside function, d changed to :  1500\n"
          ]
        }
      ]
    },
    {
      "cell_type": "markdown",
      "source": [
        "###**Nested Functions**"
      ],
      "metadata": {
        "id": "F6vCxp5C9zlj"
      }
    },
    {
      "cell_type": "code",
      "source": [
        "# nested functions\n",
        "\n",
        "def outer_func():\n",
        "  # code block - outer func\n",
        "  x = 1000\n",
        "  y = 2000\n",
        "  def inner_func():\n",
        "    print(\"Accessing outer func variables: x -> {}, y ->{}\".format(x,y))\n",
        "  inner_func()\n",
        "\n",
        "outer_func()\n",
        "# Python allows inner functions to access variables from their enclosing functions (this is called a closure)."
      ],
      "metadata": {
        "colab": {
          "base_uri": "https://localhost:8080/"
        },
        "id": "SecSF_Sl9310",
        "outputId": "e8c2ab88-66bd-42a2-cd5a-67d4a35d8be8"
      },
      "execution_count": 18,
      "outputs": [
        {
          "output_type": "stream",
          "name": "stdout",
          "text": [
            "Accessing outer func variables: x -> 1000, y ->2000\n"
          ]
        }
      ]
    },
    {
      "cell_type": "code",
      "source": [
        "def outer_func():\n",
        "  # code block - outer func\n",
        "  x = 1000\n",
        "  y = 2000\n",
        "  def inner_func():\n",
        "    x+=10000 #why error bcz we can access variables inside nested func but we cannot modify it and x is nt defiened in outer func so we can access but cannot moduify\n",
        "    print(\"Accessing outer func variables: x -> {}, y ->{}\".format(x,y))\n",
        "  inner_func()\n",
        "\n",
        "outer_func()"
      ],
      "metadata": {
        "colab": {
          "base_uri": "https://localhost:8080/",
          "height": 321
        },
        "id": "IBLWMWIuAQ0L",
        "outputId": "dd7f91c7-ab38-420b-e12b-2bd72f8b3d00"
      },
      "execution_count": 21,
      "outputs": [
        {
          "output_type": "error",
          "ename": "UnboundLocalError",
          "evalue": "local variable 'x' referenced before assignment",
          "traceback": [
            "\u001b[0;31m---------------------------------------------------------------------------\u001b[0m",
            "\u001b[0;31mUnboundLocalError\u001b[0m                         Traceback (most recent call last)",
            "\u001b[0;32m<ipython-input-21-2a8096e44c5d>\u001b[0m in \u001b[0;36m<cell line: 10>\u001b[0;34m()\u001b[0m\n\u001b[1;32m      8\u001b[0m   \u001b[0minner_func\u001b[0m\u001b[0;34m(\u001b[0m\u001b[0;34m)\u001b[0m\u001b[0;34m\u001b[0m\u001b[0;34m\u001b[0m\u001b[0m\n\u001b[1;32m      9\u001b[0m \u001b[0;34m\u001b[0m\u001b[0m\n\u001b[0;32m---> 10\u001b[0;31m \u001b[0mouter_func\u001b[0m\u001b[0;34m(\u001b[0m\u001b[0;34m)\u001b[0m\u001b[0;34m\u001b[0m\u001b[0;34m\u001b[0m\u001b[0m\n\u001b[0m",
            "\u001b[0;32m<ipython-input-21-2a8096e44c5d>\u001b[0m in \u001b[0;36mouter_func\u001b[0;34m()\u001b[0m\n\u001b[1;32m      6\u001b[0m     \u001b[0mx\u001b[0m\u001b[0;34m+=\u001b[0m\u001b[0;36m10000\u001b[0m\u001b[0;34m\u001b[0m\u001b[0;34m\u001b[0m\u001b[0m\n\u001b[1;32m      7\u001b[0m     \u001b[0mprint\u001b[0m\u001b[0;34m(\u001b[0m\u001b[0;34m\"Accessing outer func variables: x -> {}, y ->{}\"\u001b[0m\u001b[0;34m.\u001b[0m\u001b[0mformat\u001b[0m\u001b[0;34m(\u001b[0m\u001b[0mx\u001b[0m\u001b[0;34m,\u001b[0m\u001b[0my\u001b[0m\u001b[0;34m)\u001b[0m\u001b[0;34m)\u001b[0m\u001b[0;34m\u001b[0m\u001b[0;34m\u001b[0m\u001b[0m\n\u001b[0;32m----> 8\u001b[0;31m   \u001b[0minner_func\u001b[0m\u001b[0;34m(\u001b[0m\u001b[0;34m)\u001b[0m\u001b[0;34m\u001b[0m\u001b[0;34m\u001b[0m\u001b[0m\n\u001b[0m\u001b[1;32m      9\u001b[0m \u001b[0;34m\u001b[0m\u001b[0m\n\u001b[1;32m     10\u001b[0m \u001b[0mouter_func\u001b[0m\u001b[0;34m(\u001b[0m\u001b[0;34m)\u001b[0m\u001b[0;34m\u001b[0m\u001b[0;34m\u001b[0m\u001b[0m\n",
            "\u001b[0;32m<ipython-input-21-2a8096e44c5d>\u001b[0m in \u001b[0;36minner_func\u001b[0;34m()\u001b[0m\n\u001b[1;32m      4\u001b[0m   \u001b[0my\u001b[0m \u001b[0;34m=\u001b[0m \u001b[0;36m2000\u001b[0m\u001b[0;34m\u001b[0m\u001b[0;34m\u001b[0m\u001b[0m\n\u001b[1;32m      5\u001b[0m   \u001b[0;32mdef\u001b[0m \u001b[0minner_func\u001b[0m\u001b[0;34m(\u001b[0m\u001b[0;34m)\u001b[0m\u001b[0;34m:\u001b[0m\u001b[0;34m\u001b[0m\u001b[0;34m\u001b[0m\u001b[0m\n\u001b[0;32m----> 6\u001b[0;31m     \u001b[0mx\u001b[0m\u001b[0;34m+=\u001b[0m\u001b[0;36m10000\u001b[0m\u001b[0;34m\u001b[0m\u001b[0;34m\u001b[0m\u001b[0m\n\u001b[0m\u001b[1;32m      7\u001b[0m     \u001b[0mprint\u001b[0m\u001b[0;34m(\u001b[0m\u001b[0;34m\"Accessing outer func variables: x -> {}, y ->{}\"\u001b[0m\u001b[0;34m.\u001b[0m\u001b[0mformat\u001b[0m\u001b[0;34m(\u001b[0m\u001b[0mx\u001b[0m\u001b[0;34m,\u001b[0m\u001b[0my\u001b[0m\u001b[0;34m)\u001b[0m\u001b[0;34m)\u001b[0m\u001b[0;34m\u001b[0m\u001b[0;34m\u001b[0m\u001b[0m\n\u001b[1;32m      8\u001b[0m   \u001b[0minner_func\u001b[0m\u001b[0;34m(\u001b[0m\u001b[0;34m)\u001b[0m\u001b[0;34m\u001b[0m\u001b[0;34m\u001b[0m\u001b[0m\n",
            "\u001b[0;31mUnboundLocalError\u001b[0m: local variable 'x' referenced before assignment"
          ]
        }
      ]
    },
    {
      "cell_type": "code",
      "source": [
        "def outer_func():\n",
        "  # code block - outer func\n",
        "  #local these are\n",
        "  x = 1000\n",
        "  y = 2000\n",
        "  def inner_func():\n",
        "    global x\n",
        "    x = 5000\n",
        "    x += 10000\n",
        "    print(\"Inner func: x -> {}, y ->{}\".format(x,y))\n",
        "  inner_func()\n",
        "  print(\"Outer Func: x-->\", x)\n",
        "  #though you define global varibale if we have local variable inside function it will be get printed thats why x=1000 here instaed of 15000\n",
        "  #The x inside outer_func() is still 1000 because the x in inner_func() is referring to the global variable, not the local one inside outer_func(). Hence, the print statement in outer_func() outputs x --> 1000.\n",
        "\n",
        "outer_func()\n",
        "print(\"x outside the outer/main function : x ->\", x)\n",
        "#After calling outer_func(), the global x is printed as 15000, reflecting the change made in inner_func().\n",
        "\n",
        "#note:  If you want to modify the x in the outer function, you should use the nonlocal keyword, not global.\n"
      ],
      "metadata": {
        "colab": {
          "base_uri": "https://localhost:8080/"
        },
        "id": "GhDwLCTw_vgB",
        "outputId": "94eb18a2-2761-4469-8e37-ec8f202d2929"
      },
      "execution_count": 25,
      "outputs": [
        {
          "output_type": "stream",
          "name": "stdout",
          "text": [
            "Inner func: x -> 15000, y ->2000\n",
            "Outer Func: x--> 1000\n",
            "x outside the outer/main function : x -> 15000\n"
          ]
        }
      ]
    },
    {
      "cell_type": "code",
      "source": [
        "def outer_func():\n",
        "  # code block - outer func\n",
        "  #local these are\n",
        "  global x\n",
        "  x = 1000\n",
        "  y = 2000\n",
        "  def inner_func():\n",
        "    global x\n",
        "    x = 5000\n",
        "    x += 10000\n",
        "    print(\"Inner func: x -> {}, y ->{}\".format(x,y))\n",
        "  inner_func()\n",
        "  print(\"Outer Func: x-->\", x)\n",
        "\n",
        "\n",
        "outer_func()\n",
        "print(\"x outside the outer/main function : x ->\", x)"
      ],
      "metadata": {
        "colab": {
          "base_uri": "https://localhost:8080/"
        },
        "id": "fUloDrOweEKQ",
        "outputId": "45725627-a192-489e-c0b0-5a64a87d4750"
      },
      "execution_count": 27,
      "outputs": [
        {
          "output_type": "stream",
          "name": "stdout",
          "text": [
            "Inner func: x -> 15000, y ->2000\n",
            "Outer Func: x--> 15000\n",
            "x outside the outer/main function : x -> 15000\n"
          ]
        }
      ]
    },
    {
      "cell_type": "code",
      "source": [
        "def outer():\n",
        "  v = 500 # local variable\n",
        "  def inner():\n",
        "    global pavani\n",
        "    pavani = 92\n",
        "    print(v) # you can access the outer function local variable from inner function\n",
        "  inner()\n",
        "  print(\"outer func, pavani: \", pavani)\n",
        "\n",
        "outer()\n",
        "print(pavani)"
      ],
      "metadata": {
        "colab": {
          "base_uri": "https://localhost:8080/"
        },
        "id": "i6E01-TcePSh",
        "outputId": "4dab9bfc-64a1-4a93-d132-9509dccdabdc"
      },
      "execution_count": 29,
      "outputs": [
        {
          "output_type": "stream",
          "name": "stdout",
          "text": [
            "500\n",
            "outer func, pavani:  92\n",
            "92\n"
          ]
        }
      ]
    },
    {
      "cell_type": "code",
      "source": [
        "def outer_func():\n",
        "  # code block - outer func\n",
        "  #local these are\n",
        "  global x\n",
        "  x = 1000\n",
        "  y = 2000\n",
        "  def inner_func():\n",
        "    global x\n",
        "    x = 5000\n",
        "    x += 10000\n",
        "    print(\"Inner func: x -> {}, y ->{}\".format(x,y))\n",
        "  inner_func()\n",
        "  print(\"Outer Func: x-->\", x)\n",
        "\n",
        "\n",
        "inner_func()\n",
        "print(\"x outside the outer/main function : x ->\", x)"
      ],
      "metadata": {
        "colab": {
          "base_uri": "https://localhost:8080/",
          "height": 193
        },
        "id": "NPOtiw_lfnnz",
        "outputId": "6570178d-4e7f-4872-9458-509ab591b8ff"
      },
      "execution_count": 30,
      "outputs": [
        {
          "output_type": "error",
          "ename": "NameError",
          "evalue": "name 'inner_func' is not defined",
          "traceback": [
            "\u001b[0;31m---------------------------------------------------------------------------\u001b[0m",
            "\u001b[0;31mNameError\u001b[0m                                 Traceback (most recent call last)",
            "\u001b[0;32m<ipython-input-30-a7b908336a11>\u001b[0m in \u001b[0;36m<cell line: 16>\u001b[0;34m()\u001b[0m\n\u001b[1;32m     14\u001b[0m \u001b[0;34m\u001b[0m\u001b[0m\n\u001b[1;32m     15\u001b[0m \u001b[0;34m\u001b[0m\u001b[0m\n\u001b[0;32m---> 16\u001b[0;31m \u001b[0minner_func\u001b[0m\u001b[0;34m(\u001b[0m\u001b[0;34m)\u001b[0m\u001b[0;34m\u001b[0m\u001b[0;34m\u001b[0m\u001b[0m\n\u001b[0m\u001b[1;32m     17\u001b[0m \u001b[0mprint\u001b[0m\u001b[0;34m(\u001b[0m\u001b[0;34m\"x outside the outer/main function : x ->\"\u001b[0m\u001b[0;34m,\u001b[0m \u001b[0mx\u001b[0m\u001b[0;34m)\u001b[0m\u001b[0;34m\u001b[0m\u001b[0;34m\u001b[0m\u001b[0m\n",
            "\u001b[0;31mNameError\u001b[0m: name 'inner_func' is not defined"
          ]
        }
      ]
    },
    {
      "cell_type": "code",
      "source": [
        "def outer_func():\n",
        "  # code block - outer func\n",
        "  #local these are\n",
        "  v1 = 1000\n",
        "  def inner_func(v1):\n",
        "    v1 += 10000\n",
        "    print(\"Inner func: v1 -> {}\".format(v1))\n",
        "  inner_func(v1)\n",
        "  print(\"Outer Func: v1-->\", v1) #to get v1 also 10,000 instead of 1000 wat we shld do we have to use non local keyword\n",
        "\n",
        "\n",
        "outer_func()\n",
        "print(\"v1 outside the outer/main function : v1 ->\", v1)"
      ],
      "metadata": {
        "colab": {
          "base_uri": "https://localhost:8080/",
          "height": 211
        },
        "id": "YmKRN7XlgPYI",
        "outputId": "48c308f9-da39-47e1-be0f-6d890a884987"
      },
      "execution_count": 38,
      "outputs": [
        {
          "output_type": "stream",
          "name": "stdout",
          "text": [
            "Inner func: v1 -> 11000\n",
            "Outer Func: v1--> 1000\n"
          ]
        },
        {
          "output_type": "error",
          "ename": "NameError",
          "evalue": "name 'v1' is not defined",
          "traceback": [
            "\u001b[0;31m---------------------------------------------------------------------------\u001b[0m",
            "\u001b[0;31mNameError\u001b[0m                                 Traceback (most recent call last)",
            "\u001b[0;32m<ipython-input-38-61ef6cf906ad>\u001b[0m in \u001b[0;36m<cell line: 13>\u001b[0;34m()\u001b[0m\n\u001b[1;32m     11\u001b[0m \u001b[0;34m\u001b[0m\u001b[0m\n\u001b[1;32m     12\u001b[0m \u001b[0mouter_func\u001b[0m\u001b[0;34m(\u001b[0m\u001b[0;34m)\u001b[0m\u001b[0;34m\u001b[0m\u001b[0;34m\u001b[0m\u001b[0m\n\u001b[0;32m---> 13\u001b[0;31m \u001b[0mprint\u001b[0m\u001b[0;34m(\u001b[0m\u001b[0;34m\"v1 outside the outer/main function : v1 ->\"\u001b[0m\u001b[0;34m,\u001b[0m \u001b[0mv1\u001b[0m\u001b[0;34m)\u001b[0m\u001b[0;34m\u001b[0m\u001b[0;34m\u001b[0m\u001b[0m\n\u001b[0m",
            "\u001b[0;31mNameError\u001b[0m: name 'v1' is not defined"
          ]
        }
      ]
    },
    {
      "cell_type": "markdown",
      "source": [
        "#**use of non local keyword**"
      ],
      "metadata": {
        "id": "hGXyxuGciGwR"
      }
    },
    {
      "cell_type": "code",
      "source": [
        "def outer_func():\n",
        "  # code block - outer func\n",
        "  #local these are\n",
        "  v1 = 1000\n",
        "  def inner_func():\n",
        "    print(\"Inner func: v1 -> {}\".format(v1))\n",
        "  inner_func()\n",
        "  print(\"Outer Func: v1-->\", v1)\n",
        "outer_func()\n",
        "#here 100 is getting access but wen we are giving v1+=10000 is not getting updated"
      ],
      "metadata": {
        "colab": {
          "base_uri": "https://localhost:8080/"
        },
        "id": "vg0hgWJtg4vc",
        "outputId": "2d1ce9d2-e3e5-4e7a-abc7-609b6bc06832"
      },
      "execution_count": 43,
      "outputs": [
        {
          "output_type": "stream",
          "name": "stdout",
          "text": [
            "Inner func: v1 -> 1000\n",
            "Outer Func: v1--> 1000\n"
          ]
        }
      ]
    },
    {
      "cell_type": "markdown",
      "source": [
        "we can do it in 2 types"
      ],
      "metadata": {
        "id": "WQNIL1lvkpk3"
      }
    },
    {
      "cell_type": "code",
      "source": [
        "#creating a local variable inside inner function\n",
        "def outer_func():\n",
        "  v1 = 1000\n",
        "  def inner_func():\n",
        "     v1 = 1000\n",
        "     v1+=10000\n",
        "     print(\"Inner func: v1 -> {}\".format(v1))\n",
        "  inner_func()\n",
        "  print(\"Outer Func: v1-->\", v1)\n",
        "outer_func()\n",
        "#v1 is not changed"
      ],
      "metadata": {
        "colab": {
          "base_uri": "https://localhost:8080/"
        },
        "id": "gCx_3J6nkrap",
        "outputId": "0172dc81-7c4f-4fd9-e5de-b54f60b16b75"
      },
      "execution_count": 48,
      "outputs": [
        {
          "output_type": "stream",
          "name": "stdout",
          "text": [
            "Inner func: v1 -> 11000\n",
            "Outer Func: v1--> 1000\n"
          ]
        }
      ]
    },
    {
      "cell_type": "code",
      "source": [
        "#creating a local variable inside inner function\n",
        "def outer_func():\n",
        "  v1 = 1000\n",
        "  def inner_func():\n",
        "     nonlocal v1\n",
        "     v1+=10000\n",
        "     print(\"Inner func: v1 -> {}\".format(v1))\n",
        "  inner_func()\n",
        "  print(\"Outer Func: v1-->\", v1)\n",
        "outer_func()\n",
        "#v1 is changed"
      ],
      "metadata": {
        "colab": {
          "base_uri": "https://localhost:8080/"
        },
        "id": "wiY_kuQOl-by",
        "outputId": "00ed91f2-2f63-4411-8a0f-1cc750c9c29b"
      },
      "execution_count": 49,
      "outputs": [
        {
          "output_type": "stream",
          "name": "stdout",
          "text": [
            "Inner func: v1 -> 11000\n",
            "Outer Func: v1--> 11000\n"
          ]
        }
      ]
    },
    {
      "cell_type": "code",
      "source": [
        "# use of \"nonlocal\" keyword comes into picture\n",
        "\n",
        "def func_outer():\n",
        "  # code block - outer func\n",
        "  v1 = 1000 # local variable to outer function\n",
        "  def func_inner():\n",
        "    nonlocal v1 # local variable to inner function\n",
        "    v1 += 1000\n",
        "    print(\"Inner func: v1 -> {}\".format(v1))\n",
        "  func_inner()\n",
        "  print(\"Outer Func: v1-->\", v1) # v1 -> 2000\n",
        "\n",
        "func_outer()\n",
        "#print(\"in main code: v1-->\",v1)"
      ],
      "metadata": {
        "colab": {
          "base_uri": "https://localhost:8080/"
        },
        "id": "8727PAcdmmEd",
        "outputId": "c907ada3-237d-4b38-d743-24585782d307"
      },
      "execution_count": 50,
      "outputs": [
        {
          "output_type": "stream",
          "name": "stdout",
          "text": [
            "Inner func: v1 -> 2000\n",
            "Outer Func: v1--> 2000\n"
          ]
        }
      ]
    },
    {
      "cell_type": "code",
      "source": [
        "\n",
        "def func_outer():\n",
        "  # code block - outer func\n",
        "  v1 = 1000 # local variable to outer function\n",
        "  def func_inner():\n",
        "    nonlocal v1 # local variable to inner function\n",
        "    v1 += 1000\n",
        "    print(\"Inner func: v1 -> {}\".format(v1))\n",
        "  func_inner()\n",
        "  print(\"Outer Func: v1-->\", v1) # v1 -> 2000\n",
        "\n",
        "func_outer()\n",
        "print(\"in main code: v1-->\",v1)"
      ],
      "metadata": {
        "colab": {
          "base_uri": "https://localhost:8080/",
          "height": 211
        },
        "id": "4lAQLi1Umqkt",
        "outputId": "970e401c-845b-45d0-b8f0-31d72e58485d"
      },
      "execution_count": 51,
      "outputs": [
        {
          "output_type": "stream",
          "name": "stdout",
          "text": [
            "Inner func: v1 -> 2000\n",
            "Outer Func: v1--> 2000\n"
          ]
        },
        {
          "output_type": "error",
          "ename": "NameError",
          "evalue": "name 'v1' is not defined",
          "traceback": [
            "\u001b[0;31m---------------------------------------------------------------------------\u001b[0m",
            "\u001b[0;31mNameError\u001b[0m                                 Traceback (most recent call last)",
            "\u001b[0;32m<ipython-input-51-d2ce0d143a9f>\u001b[0m in \u001b[0;36m<cell line: 12>\u001b[0;34m()\u001b[0m\n\u001b[1;32m     10\u001b[0m \u001b[0;34m\u001b[0m\u001b[0m\n\u001b[1;32m     11\u001b[0m \u001b[0mfunc_outer\u001b[0m\u001b[0;34m(\u001b[0m\u001b[0;34m)\u001b[0m\u001b[0;34m\u001b[0m\u001b[0;34m\u001b[0m\u001b[0m\n\u001b[0;32m---> 12\u001b[0;31m \u001b[0mprint\u001b[0m\u001b[0;34m(\u001b[0m\u001b[0;34m\"in main code: v1-->\"\u001b[0m\u001b[0;34m,\u001b[0m\u001b[0mv1\u001b[0m\u001b[0;34m)\u001b[0m\u001b[0;34m\u001b[0m\u001b[0;34m\u001b[0m\u001b[0m\n\u001b[0m",
            "\u001b[0;31mNameError\u001b[0m: name 'v1' is not defined"
          ]
        }
      ]
    },
    {
      "cell_type": "code",
      "source": [
        "#v1 in outer func can be accessed  in inner fun but we cant update it  cuz we didnt define inside inner function v1,to update we can to 3 things\n",
        "\n",
        "#1st -->     # local variable to inner function\n",
        "def func_outer():\n",
        "  # code block - outer func\n",
        "  v1 = 1000 # local variable to outer function\n",
        "  def func_inner():\n",
        "    # local variable to inner function\n",
        "    v1 = 1000\n",
        "    v1 += 1000\n",
        "    print(\"Inner func: v1 -> {}\".format(v1))\n",
        "  func_inner()\n",
        "  print(\"Outer Func: v1-->\", v1) # v1 -> 2000\n",
        "\n",
        "func_outer()\n",
        "print(\"main code: v1-->\", v1)#we cant access bcz v1 is not global"
      ],
      "metadata": {
        "colab": {
          "base_uri": "https://localhost:8080/",
          "height": 211
        },
        "id": "LDX5fbe1nJvj",
        "outputId": "66567cfd-6a12-4510-cb47-1efd221a7064"
      },
      "execution_count": 54,
      "outputs": [
        {
          "output_type": "stream",
          "name": "stdout",
          "text": [
            "Inner func: v1 -> 2000\n",
            "Outer Func: v1--> 1000\n"
          ]
        },
        {
          "output_type": "error",
          "ename": "NameError",
          "evalue": "name 'v1' is not defined",
          "traceback": [
            "\u001b[0;31m---------------------------------------------------------------------------\u001b[0m",
            "\u001b[0;31mNameError\u001b[0m                                 Traceback (most recent call last)",
            "\u001b[0;32m<ipython-input-54-241057b221e7>\u001b[0m in \u001b[0;36m<cell line: 16>\u001b[0;34m()\u001b[0m\n\u001b[1;32m     14\u001b[0m \u001b[0;34m\u001b[0m\u001b[0m\n\u001b[1;32m     15\u001b[0m \u001b[0mfunc_outer\u001b[0m\u001b[0;34m(\u001b[0m\u001b[0;34m)\u001b[0m\u001b[0;34m\u001b[0m\u001b[0;34m\u001b[0m\u001b[0m\n\u001b[0;32m---> 16\u001b[0;31m \u001b[0mprint\u001b[0m\u001b[0;34m(\u001b[0m\u001b[0;34m\"main code: v1-->\"\u001b[0m\u001b[0;34m,\u001b[0m \u001b[0mv1\u001b[0m\u001b[0;34m)\u001b[0m\u001b[0;34m\u001b[0m\u001b[0;34m\u001b[0m\u001b[0m\n\u001b[0m",
            "\u001b[0;31mNameError\u001b[0m: name 'v1' is not defined"
          ]
        }
      ]
    },
    {
      "cell_type": "code",
      "source": [
        "#2nd -->     # make v1 as global and define inside inner func\n",
        "def func_outer():\n",
        "  # code block - outer func\n",
        "  v1 = 1000 # local variable to outer function\n",
        "  def func_inner():\n",
        "    # male global variable and define v1  value to inner function\n",
        "    global v1\n",
        "    v1 = 1000\n",
        "    v1 += 1000\n",
        "    print(\"Inner func: v1 -> {}\".format(v1))\n",
        "  func_inner()\n",
        "  print(\"Outer Func: v1-->\", v1) #va-->2000\n",
        "\n",
        "func_outer()\n",
        "print(\"main code: v1-->\", v1)"
      ],
      "metadata": {
        "colab": {
          "base_uri": "https://localhost:8080/"
        },
        "id": "F0qOUIP6oHJe",
        "outputId": "e93b220d-4e30-4233-8241-161b629072fc"
      },
      "execution_count": 55,
      "outputs": [
        {
          "output_type": "stream",
          "name": "stdout",
          "text": [
            "Inner func: v1 -> 2000\n",
            "Outer Func: v1--> 1000\n",
            "main code: v1--> 2000\n"
          ]
        }
      ]
    },
    {
      "cell_type": "code",
      "source": [
        "#3rd -->    # using nonlocal keyword  inside inner func\n",
        "def func_outer():\n",
        "  # code block - outer func\n",
        "  v2 = 1000 # local variable to outer function\n",
        "  def func_inner():\n",
        "    # local variable to inner function\n",
        "    nonlocal v2\n",
        "    v2 += 1000\n",
        "    print(\"Inner func: v2 -> {}\".format(v2))\n",
        "  func_inner()\n",
        "  print(\"Outer Func: v2-->\", v2) # v1 -> 2000\n",
        "\n",
        "func_outer()\n",
        "print(\"main code: v1-->\", v2)"
      ],
      "metadata": {
        "colab": {
          "base_uri": "https://localhost:8080/",
          "height": 211
        },
        "id": "0IdoJvIQomdK",
        "outputId": "d764618a-80f0-4a29-fc4d-62829ca7d060"
      },
      "execution_count": 56,
      "outputs": [
        {
          "output_type": "stream",
          "name": "stdout",
          "text": [
            "Inner func: v2 -> 2000\n",
            "Outer Func: v2--> 2000\n"
          ]
        },
        {
          "output_type": "error",
          "ename": "NameError",
          "evalue": "name 'v2' is not defined",
          "traceback": [
            "\u001b[0;31m---------------------------------------------------------------------------\u001b[0m",
            "\u001b[0;31mNameError\u001b[0m                                 Traceback (most recent call last)",
            "\u001b[0;32m<ipython-input-56-b39a3146c059>\u001b[0m in \u001b[0;36m<cell line: 14>\u001b[0;34m()\u001b[0m\n\u001b[1;32m     12\u001b[0m \u001b[0;34m\u001b[0m\u001b[0m\n\u001b[1;32m     13\u001b[0m \u001b[0mfunc_outer\u001b[0m\u001b[0;34m(\u001b[0m\u001b[0;34m)\u001b[0m\u001b[0;34m\u001b[0m\u001b[0;34m\u001b[0m\u001b[0m\n\u001b[0;32m---> 14\u001b[0;31m \u001b[0mprint\u001b[0m\u001b[0;34m(\u001b[0m\u001b[0;34m\"main code: v1-->\"\u001b[0m\u001b[0;34m,\u001b[0m \u001b[0mv2\u001b[0m\u001b[0;34m)\u001b[0m\u001b[0;34m\u001b[0m\u001b[0;34m\u001b[0m\u001b[0m\n\u001b[0m",
            "\u001b[0;31mNameError\u001b[0m: name 'v2' is not defined"
          ]
        }
      ]
    },
    {
      "cell_type": "code",
      "source": [
        "def func_outer():\n",
        "  # code block - outer func\n",
        "  v2 = 1000 # local variable to outer function\n",
        "  def func_inner():\n",
        "    # local variable to inner function\n",
        "    nonlocal v3 #v3 is not defined in local function\n",
        "    v2 += 1000\n",
        "    print(\"Inner func: v2 -> {}\".format(v2))\n",
        "  func_inner()\n",
        "  print(\"Outer Func: v2-->\", v2) # v1 -> 2000\n",
        "\n",
        "func_outer()\n",
        "print(\"main code: v1-->\", v2)"
      ],
      "metadata": {
        "colab": {
          "base_uri": "https://localhost:8080/",
          "height": 106
        },
        "id": "mlC7fnxZrWAC",
        "outputId": "90ed4564-9cb7-4e36-9b59-840d686aab94"
      },
      "execution_count": 57,
      "outputs": [
        {
          "output_type": "error",
          "ename": "SyntaxError",
          "evalue": "no binding for nonlocal 'v3' found (<ipython-input-57-29058747efe2>, line 6)",
          "traceback": [
            "\u001b[0;36m  File \u001b[0;32m\"<ipython-input-57-29058747efe2>\"\u001b[0;36m, line \u001b[0;32m6\u001b[0m\n\u001b[0;31m    nonlocal v3\u001b[0m\n\u001b[0m    ^\u001b[0m\n\u001b[0;31mSyntaxError\u001b[0m\u001b[0;31m:\u001b[0m no binding for nonlocal 'v3' found\n"
          ]
        }
      ]
    },
    {
      "cell_type": "code",
      "source": [
        "def func_outer():\n",
        "  # code block - outer func\n",
        "  v2 = 1000 # local variable to outer function\n",
        "  def func_inner():\n",
        "    # local variable to inner function\n",
        "    v2 = 5000 # local variable to inner function\n",
        "    print(\"Inner func: v2 -> {}\".format(v2))\n",
        "    def func_insideInner():\n",
        "      nonlocal v2\n",
        "      print(\"Func inside inner: -->\",v2)\n",
        "    func_insideInner()\n",
        "\n",
        "  func_inner()\n",
        "  print(\"Outer Func: v2-->\", v2) # v1 -> 2000\n",
        "\n",
        "func_outer()"
      ],
      "metadata": {
        "colab": {
          "base_uri": "https://localhost:8080/"
        },
        "id": "PO1WtHR7rlUE",
        "outputId": "f54482ed-a3ff-4401-f560-c5d2eea35e5a"
      },
      "execution_count": 58,
      "outputs": [
        {
          "output_type": "stream",
          "name": "stdout",
          "text": [
            "Inner func: v2 -> 5000\n",
            "Func inside inner: --> 5000\n",
            "Outer Func: v2--> 1000\n"
          ]
        }
      ]
    },
    {
      "cell_type": "code",
      "source": [
        "def func_outer():\n",
        "  # code block - outer func\n",
        "  v2 = 1000 # local variable to outer function\n",
        "  def func_inner():\n",
        "    # local variable to inner function\n",
        "    v2 = 5000 # local variable to inner function\n",
        "    print(\"Inner func: v2 -> {}\".format(v2))\n",
        "    def func_insideInner():\n",
        "      nonlocal v2\n",
        "      print(\"Func inside inner: -->\",v2)\n",
        "    func_insideInner() #we havnt defined using def  func_insideInner() function\n",
        "\n",
        "  func_inner()\n",
        "  func_insideInner()\n",
        "  print(\"Outer Func: v2-->\", v2) # v1 -> 2000\n",
        "\n",
        "func_outer()"
      ],
      "metadata": {
        "colab": {
          "base_uri": "https://localhost:8080/",
          "height": 332
        },
        "id": "nQ70AvKbr06j",
        "outputId": "5f5f031d-ab89-46a0-a3dc-27d6c67c95bd"
      },
      "execution_count": 59,
      "outputs": [
        {
          "output_type": "stream",
          "name": "stdout",
          "text": [
            "Inner func: v2 -> 5000\n",
            "Func inside inner: --> 5000\n"
          ]
        },
        {
          "output_type": "error",
          "ename": "NameError",
          "evalue": "name 'func_insideInner' is not defined",
          "traceback": [
            "\u001b[0;31m---------------------------------------------------------------------------\u001b[0m",
            "\u001b[0;31mNameError\u001b[0m                                 Traceback (most recent call last)",
            "\u001b[0;32m<ipython-input-59-15c974fe6877>\u001b[0m in \u001b[0;36m<cell line: 17>\u001b[0;34m()\u001b[0m\n\u001b[1;32m     15\u001b[0m   \u001b[0mprint\u001b[0m\u001b[0;34m(\u001b[0m\u001b[0;34m\"Outer Func: v2-->\"\u001b[0m\u001b[0;34m,\u001b[0m \u001b[0mv2\u001b[0m\u001b[0;34m)\u001b[0m \u001b[0;31m# v1 -> 2000\u001b[0m\u001b[0;34m\u001b[0m\u001b[0;34m\u001b[0m\u001b[0m\n\u001b[1;32m     16\u001b[0m \u001b[0;34m\u001b[0m\u001b[0m\n\u001b[0;32m---> 17\u001b[0;31m \u001b[0mfunc_outer\u001b[0m\u001b[0;34m(\u001b[0m\u001b[0;34m)\u001b[0m\u001b[0;34m\u001b[0m\u001b[0;34m\u001b[0m\u001b[0m\n\u001b[0m",
            "\u001b[0;32m<ipython-input-59-15c974fe6877>\u001b[0m in \u001b[0;36mfunc_outer\u001b[0;34m()\u001b[0m\n\u001b[1;32m     12\u001b[0m \u001b[0;34m\u001b[0m\u001b[0m\n\u001b[1;32m     13\u001b[0m   \u001b[0mfunc_inner\u001b[0m\u001b[0;34m(\u001b[0m\u001b[0;34m)\u001b[0m\u001b[0;34m\u001b[0m\u001b[0;34m\u001b[0m\u001b[0m\n\u001b[0;32m---> 14\u001b[0;31m   \u001b[0mfunc_insideInner\u001b[0m\u001b[0;34m(\u001b[0m\u001b[0;34m)\u001b[0m\u001b[0;34m\u001b[0m\u001b[0;34m\u001b[0m\u001b[0m\n\u001b[0m\u001b[1;32m     15\u001b[0m   \u001b[0mprint\u001b[0m\u001b[0;34m(\u001b[0m\u001b[0;34m\"Outer Func: v2-->\"\u001b[0m\u001b[0;34m,\u001b[0m \u001b[0mv2\u001b[0m\u001b[0;34m)\u001b[0m \u001b[0;31m# v1 -> 2000\u001b[0m\u001b[0;34m\u001b[0m\u001b[0;34m\u001b[0m\u001b[0m\n\u001b[1;32m     16\u001b[0m \u001b[0;34m\u001b[0m\u001b[0m\n",
            "\u001b[0;31mNameError\u001b[0m: name 'func_insideInner' is not defined"
          ]
        }
      ]
    },
    {
      "cell_type": "code",
      "source": [
        "#how can i access inner function from outside\n",
        "def calculator(a,b):\n",
        "  print(\"Calculations are : \")\n",
        "  def add(a,b):\n",
        "    print(\"a+b = \",a+b)\n",
        "\n",
        "  def sub(a,b):\n",
        "    print(\"a-b = \",a-b)\n",
        "\n",
        "  add(a,b)\n",
        "  sub(a,b)\n",
        "\n",
        "calculator(5,10)"
      ],
      "metadata": {
        "colab": {
          "base_uri": "https://localhost:8080/"
        },
        "id": "JJJILz2ssOrZ",
        "outputId": "fee8fd4c-e877-4e4b-cfd6-56b289d222c2"
      },
      "execution_count": 69,
      "outputs": [
        {
          "output_type": "stream",
          "name": "stdout",
          "text": [
            "Calculations are : \n",
            "a+b =  15\n",
            "a-b =  -5\n"
          ]
        }
      ]
    },
    {
      "cell_type": "code",
      "source": [
        "v1(5,29)"
      ],
      "metadata": {
        "colab": {
          "base_uri": "https://localhost:8080/"
        },
        "id": "RQzZXJS6toks",
        "outputId": "81bd4f55-e8fb-4124-9a80-b1d29aa14a56"
      },
      "execution_count": 70,
      "outputs": [
        {
          "output_type": "stream",
          "name": "stdout",
          "text": [
            "a+b =  34\n"
          ]
        }
      ]
    },
    {
      "cell_type": "code",
      "source": [
        "def calculator(a,b):\n",
        "  print(\"Calculations are : \")\n",
        "  def add(a,b):\n",
        "    print(\"a+b = \",a+b)\n",
        "\n",
        "  def sub(a,b):\n",
        "    print(\"a-b = \",a-b)\n",
        "\n",
        "  add(a,b)\n",
        "  sub(a,b)\n",
        "\n",
        "  global v1\n",
        "  v1 = add\n",
        "  global v2\n",
        "  v2 = sub\n",
        "\n",
        "calculator(5,10)\n",
        ""
      ],
      "metadata": {
        "colab": {
          "base_uri": "https://localhost:8080/"
        },
        "id": "TiwtcImAtfzZ",
        "outputId": "10eadc54-7a0f-4093-d5ad-05b539bc7c3f"
      },
      "execution_count": 71,
      "outputs": [
        {
          "output_type": "stream",
          "name": "stdout",
          "text": [
            "Calculations are : \n",
            "a+b =  15\n",
            "a-b =  -5\n"
          ]
        }
      ]
    },
    {
      "cell_type": "code",
      "source": [
        "v1(10,30)"
      ],
      "metadata": {
        "colab": {
          "base_uri": "https://localhost:8080/"
        },
        "id": "yy7i0dHzttN3",
        "outputId": "bb120278-2ff1-465a-e9f2-28a1aa42f65c"
      },
      "execution_count": 72,
      "outputs": [
        {
          "output_type": "stream",
          "name": "stdout",
          "text": [
            "a+b =  40\n"
          ]
        }
      ]
    },
    {
      "cell_type": "code",
      "source": [
        "def calculator(a,b):\n",
        "  print(\"Calculations is printed below: \")\n",
        "  def add(a,b):\n",
        "    print(\"a+b: -->\",a+b)\n",
        "\n",
        "  def sub(a,b):\n",
        "    print(\"a-b: -->\",a-b)\n",
        "\n",
        "  return add"
      ],
      "metadata": {
        "id": "Uj8HqrVSuZsm"
      },
      "execution_count": 76,
      "outputs": []
    },
    {
      "cell_type": "code",
      "source": [
        "add_fun = calculator(10,15)\n"
      ],
      "metadata": {
        "colab": {
          "base_uri": "https://localhost:8080/"
        },
        "id": "QzngvnyRu5BH",
        "outputId": "146fb434-b47f-4077-e687-df8657d0e251"
      },
      "execution_count": 81,
      "outputs": [
        {
          "output_type": "stream",
          "name": "stdout",
          "text": [
            "Calculations is printed below: \n"
          ]
        }
      ]
    },
    {
      "cell_type": "code",
      "source": [
        "add_fun(12,24)\n"
      ],
      "metadata": {
        "colab": {
          "base_uri": "https://localhost:8080/"
        },
        "id": "5SDxdDgYvY3y",
        "outputId": "e9c9835e-af0b-4ebd-8b3b-3fc18616657c"
      },
      "execution_count": 82,
      "outputs": [
        {
          "output_type": "stream",
          "name": "stdout",
          "text": [
            "a+b: --> 36\n"
          ]
        }
      ]
    },
    {
      "cell_type": "markdown",
      "source": [
        "#**Higher order functions**"
      ],
      "metadata": {
        "id": "6W2aQcwYvtMS"
      }
    },
    {
      "cell_type": "code",
      "source": [
        "def calculate(a,b, operation):\n",
        "  return operation(a,b)\n",
        "\n",
        "def add(a,b):\n",
        "  return a+b\n",
        "\n",
        "def sub(a,b):\n",
        "  return a-b\n",
        "\n",
        "def multiply(a,b):\n",
        "  return a*b\n",
        "\n",
        "print(calculate(10,15,sub))\n",
        "print(calculate(10,15,add))\n",
        "print(calculate(10,15,division)) #we didnt defined division\n",
        "\n"
      ],
      "metadata": {
        "colab": {
          "base_uri": "https://localhost:8080/",
          "height": 228
        },
        "id": "to4Vxcz7wVS3",
        "outputId": "a62b9d9e-b946-4c0d-918e-007574a590ad"
      },
      "execution_count": 86,
      "outputs": [
        {
          "output_type": "stream",
          "name": "stdout",
          "text": [
            "-5\n",
            "25\n"
          ]
        },
        {
          "output_type": "error",
          "ename": "NameError",
          "evalue": "name 'division' is not defined",
          "traceback": [
            "\u001b[0;31m---------------------------------------------------------------------------\u001b[0m",
            "\u001b[0;31mNameError\u001b[0m                                 Traceback (most recent call last)",
            "\u001b[0;32m<ipython-input-86-bebe9b46b7b5>\u001b[0m in \u001b[0;36m<cell line: 15>\u001b[0;34m()\u001b[0m\n\u001b[1;32m     13\u001b[0m \u001b[0mprint\u001b[0m\u001b[0;34m(\u001b[0m\u001b[0mcalculate\u001b[0m\u001b[0;34m(\u001b[0m\u001b[0;36m10\u001b[0m\u001b[0;34m,\u001b[0m\u001b[0;36m15\u001b[0m\u001b[0;34m,\u001b[0m\u001b[0msub\u001b[0m\u001b[0;34m)\u001b[0m\u001b[0;34m)\u001b[0m\u001b[0;34m\u001b[0m\u001b[0;34m\u001b[0m\u001b[0m\n\u001b[1;32m     14\u001b[0m \u001b[0mprint\u001b[0m\u001b[0;34m(\u001b[0m\u001b[0mcalculate\u001b[0m\u001b[0;34m(\u001b[0m\u001b[0;36m10\u001b[0m\u001b[0;34m,\u001b[0m\u001b[0;36m15\u001b[0m\u001b[0;34m,\u001b[0m\u001b[0madd\u001b[0m\u001b[0;34m)\u001b[0m\u001b[0;34m)\u001b[0m\u001b[0;34m\u001b[0m\u001b[0;34m\u001b[0m\u001b[0m\n\u001b[0;32m---> 15\u001b[0;31m \u001b[0mprint\u001b[0m\u001b[0;34m(\u001b[0m\u001b[0mcalculate\u001b[0m\u001b[0;34m(\u001b[0m\u001b[0;36m10\u001b[0m\u001b[0;34m,\u001b[0m\u001b[0;36m15\u001b[0m\u001b[0;34m,\u001b[0m\u001b[0mdivision\u001b[0m\u001b[0;34m)\u001b[0m\u001b[0;34m)\u001b[0m\u001b[0;34m\u001b[0m\u001b[0;34m\u001b[0m\u001b[0m\n\u001b[0m\u001b[1;32m     16\u001b[0m \u001b[0;34m\u001b[0m\u001b[0m\n",
            "\u001b[0;31mNameError\u001b[0m: name 'division' is not defined"
          ]
        }
      ]
    },
    {
      "cell_type": "code",
      "source": [
        "def calculate(a,b, * operation):\n",
        "  print(operation)\n",
        "  return operation[0](a,b), operation[1](a,b), operation[2](a,b)\n",
        "\n",
        "def add(a,b):\n",
        "  return a+b\n",
        "\n",
        "def sub(a,b):\n",
        "  return a-b\n",
        "\n",
        "def multiply(a,b):\n",
        "  return a*b\n",
        "\n",
        "calculate(10,15,sub, add, multiply)\n"
      ],
      "metadata": {
        "colab": {
          "base_uri": "https://localhost:8080/"
        },
        "id": "1so6Gxaivxf5",
        "outputId": "d3ec862a-2f8d-45fd-9835-7ada223d71ce"
      },
      "execution_count": 88,
      "outputs": [
        {
          "output_type": "stream",
          "name": "stdout",
          "text": [
            "(<function sub at 0x7dcf910e3f40>, <function add at 0x7dcf910e3c70>, <function multiply at 0x7dcf910e37f0>)\n"
          ]
        },
        {
          "output_type": "execute_result",
          "data": {
            "text/plain": [
              "(-5, 25, 150)"
            ]
          },
          "metadata": {},
          "execution_count": 88
        }
      ]
    }
  ]
}