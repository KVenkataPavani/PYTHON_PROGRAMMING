{
  "nbformat": 4,
  "nbformat_minor": 0,
  "metadata": {
    "colab": {
      "provenance": [],
      "authorship_tag": "ABX9TyN1B2ELe1uJ8WdQKbwWhljP",
      "include_colab_link": true
    },
    "kernelspec": {
      "name": "python3",
      "display_name": "Python 3"
    },
    "language_info": {
      "name": "python"
    }
  },
  "cells": [
    {
      "cell_type": "markdown",
      "metadata": {
        "id": "view-in-github",
        "colab_type": "text"
      },
      "source": [
        "<a href=\"https://colab.research.google.com/github/KVenkataPavani/PYTHON_PROGRAMMING/blob/main/8_Conditional_statements_if%2Celse%2Celif%2Cnestedif.ipynb\" target=\"_parent\"><img src=\"https://colab.research.google.com/assets/colab-badge.svg\" alt=\"Open In Colab\"/></a>"
      ]
    },
    {
      "cell_type": "markdown",
      "source": [
        "#**Conditional Statements** - if, else ,elif,nested if"
      ],
      "metadata": {
        "id": "zT8WnbNEhrAj"
      }
    },
    {
      "cell_type": "markdown",
      "source": [
        "# **if**"
      ],
      "metadata": {
        "id": "7kTAszWVqA2O"
      }
    },
    {
      "cell_type": "code",
      "source": [
        "#without input function\n",
        "its_raining = True\n",
        "if its_raining\n",
        "print(\"make some good chai and have\")\n",
        "#you have to keep : at end"
      ],
      "metadata": {
        "colab": {
          "base_uri": "https://localhost:8080/",
          "height": 106
        },
        "id": "fGFqdmn-jLq3",
        "outputId": "e57a0a01-de2f-469b-afe7-a935e9ff8df2"
      },
      "execution_count": 1,
      "outputs": [
        {
          "output_type": "error",
          "ename": "SyntaxError",
          "evalue": "expected ':' (<ipython-input-1-b7e98f5ef5aa>, line 3)",
          "traceback": [
            "\u001b[0;36m  File \u001b[0;32m\"<ipython-input-1-b7e98f5ef5aa>\"\u001b[0;36m, line \u001b[0;32m3\u001b[0m\n\u001b[0;31m    if its_raining\u001b[0m\n\u001b[0m                  ^\u001b[0m\n\u001b[0;31mSyntaxError\u001b[0m\u001b[0;31m:\u001b[0m expected ':'\n"
          ]
        }
      ]
    },
    {
      "cell_type": "code",
      "source": [
        "#without input function if\n",
        "its_raining = True\n",
        "if its_raining:\n",
        "  print(\"make some good chai and have it\")"
      ],
      "metadata": {
        "colab": {
          "base_uri": "https://localhost:8080/"
        },
        "id": "6Q4-Z3_RnJeD",
        "outputId": "35773e82-902a-44a7-f8f8-f558a2597a67"
      },
      "execution_count": 4,
      "outputs": [
        {
          "output_type": "stream",
          "name": "stdout",
          "text": [
            "make some good chai and have it\n"
          ]
        }
      ]
    },
    {
      "cell_type": "code",
      "source": [
        "#using input function\n",
        "weather = input(\"is it raining?(yes/no) :\")\n",
        "#here you shldnt keep \"=\" we have to keep \"==\"\n",
        "if weather == yes:\n",
        "#yes you have to keep in double quotes- \"\"\n",
        "  print(\"Make some good chai and have it\")"
      ],
      "metadata": {
        "colab": {
          "base_uri": "https://localhost:8080/",
          "height": 228
        },
        "id": "WXjiMyHxnYpw",
        "outputId": "ea7a1423-63f7-4c4f-b1a6-d6f4acd3621e"
      },
      "execution_count": 9,
      "outputs": [
        {
          "name": "stdout",
          "output_type": "stream",
          "text": [
            "is it raining?(yes/no) :yes\n"
          ]
        },
        {
          "output_type": "error",
          "ename": "NameError",
          "evalue": "name 'yes' is not defined",
          "traceback": [
            "\u001b[0;31m---------------------------------------------------------------------------\u001b[0m",
            "\u001b[0;31mNameError\u001b[0m                                 Traceback (most recent call last)",
            "\u001b[0;32m<ipython-input-9-0cb5300390ae>\u001b[0m in \u001b[0;36m<cell line: 4>\u001b[0;34m()\u001b[0m\n\u001b[1;32m      2\u001b[0m \u001b[0mweather\u001b[0m \u001b[0;34m=\u001b[0m \u001b[0minput\u001b[0m\u001b[0;34m(\u001b[0m\u001b[0;34m\"is it raining?(yes/no) :\"\u001b[0m\u001b[0;34m)\u001b[0m\u001b[0;34m\u001b[0m\u001b[0;34m\u001b[0m\u001b[0m\n\u001b[1;32m      3\u001b[0m \u001b[0;31m#here you shldnt keep \"=\" we have to keep \"==\"\u001b[0m\u001b[0;34m\u001b[0m\u001b[0;34m\u001b[0m\u001b[0m\n\u001b[0;32m----> 4\u001b[0;31m \u001b[0;32mif\u001b[0m \u001b[0mweather\u001b[0m \u001b[0;34m==\u001b[0m \u001b[0myes\u001b[0m\u001b[0;34m:\u001b[0m\u001b[0;34m\u001b[0m\u001b[0;34m\u001b[0m\u001b[0m\n\u001b[0m\u001b[1;32m      5\u001b[0m \u001b[0;31m#yes you have to keep in double quotes- \"\"\u001b[0m\u001b[0;34m\u001b[0m\u001b[0;34m\u001b[0m\u001b[0m\n\u001b[1;32m      6\u001b[0m   \u001b[0mprint\u001b[0m\u001b[0;34m(\u001b[0m\u001b[0;34m\"Make some good chai and have it\"\u001b[0m\u001b[0;34m)\u001b[0m\u001b[0;34m\u001b[0m\u001b[0;34m\u001b[0m\u001b[0m\n",
            "\u001b[0;31mNameError\u001b[0m: name 'yes' is not defined"
          ]
        }
      ]
    },
    {
      "cell_type": "code",
      "source": [
        "#using input function\n",
        "weather = input(\"is it raining?(yes/no) :\")\n",
        "if weather == \"yes\":\n",
        "  print(\"Make some good chai and have it\")"
      ],
      "metadata": {
        "colab": {
          "base_uri": "https://localhost:8080/"
        },
        "id": "sU8wtdp9payD",
        "outputId": "5ce69bc3-8b95-455a-feb9-3c0f357a4bc7"
      },
      "execution_count": 10,
      "outputs": [
        {
          "output_type": "stream",
          "name": "stdout",
          "text": [
            "is it raining?(yes/no) :yes\n",
            "Make some good chai and have it\n"
          ]
        }
      ]
    },
    {
      "cell_type": "markdown",
      "source": [
        "# **else**"
      ],
      "metadata": {
        "id": "j7vvw3NxqQlr"
      }
    },
    {
      "cell_type": "code",
      "source": [
        "#without input function\n",
        "its_raining = True\n",
        "if its_raining:\n",
        "  print(\"Make some good chai and have it\")\n",
        "else:\n",
        "  print(\"Go and read python\")"
      ],
      "metadata": {
        "colab": {
          "base_uri": "https://localhost:8080/"
        },
        "id": "9BoIEjMxqVyz",
        "outputId": "2d8cad56-3aa4-4348-89ea-c9e69104cc4a"
      },
      "execution_count": 14,
      "outputs": [
        {
          "output_type": "stream",
          "name": "stdout",
          "text": [
            "Make some good chai and have it\n"
          ]
        }
      ]
    },
    {
      "cell_type": "code",
      "source": [
        "#using input function\n",
        "weather = input(\"is it raining?(yes/no) : \")\n",
        "if weather==\"yes\":\n",
        "  print(\"Make some good chai and have it\")\n",
        "else:\n",
        "    print(\"Go and read python\")"
      ],
      "metadata": {
        "colab": {
          "base_uri": "https://localhost:8080/"
        },
        "id": "srt0uWgi6e0y",
        "outputId": "12689083-69d4-442f-813a-805c18e92421"
      },
      "execution_count": 19,
      "outputs": [
        {
          "output_type": "stream",
          "name": "stdout",
          "text": [
            "is it raining?(yes/no) : no\n",
            "Go and read python\n"
          ]
        }
      ]
    },
    {
      "cell_type": "markdown",
      "source": [
        "#**elif**"
      ],
      "metadata": {
        "id": "Mx0rQ93P7J5t"
      }
    },
    {
      "cell_type": "code",
      "source": [
        "#without input function\n",
        "weather = \"rainy\"\n",
        "if weather ==\"sunny\":\n",
        "  print(\"apply sunscreen\")\n",
        "elif weather==\"cloudy\":\n",
        "  print(\"bring umbrella\")\n",
        "else:\n",
        "  print(\"go out and have some tea\")\n"
      ],
      "metadata": {
        "colab": {
          "base_uri": "https://localhost:8080/"
        },
        "id": "JkfatIYh7OEI",
        "outputId": "3128ca2b-b937-4ed9-b848-670bb99b21c4"
      },
      "execution_count": 20,
      "outputs": [
        {
          "output_type": "stream",
          "name": "stdout",
          "text": [
            "go out and have some tea\n"
          ]
        }
      ]
    },
    {
      "cell_type": "code",
      "source": [
        "#using input function\n",
        "weather =input(\"hey Pavani wats today weather? :\")\n",
        "if weather == \"sunny\":\n",
        "  print(\"apply sunscreen\")\n",
        "elif weather==\"cloudy\":\n",
        "  print(\"bring umbrella\")\n",
        "else:\n",
        "  print(\"go out and have some tea\")\n"
      ],
      "metadata": {
        "colab": {
          "base_uri": "https://localhost:8080/"
        },
        "id": "pjhPkd_F8DsV",
        "outputId": "f4afada8-4c04-4398-b7cc-61d92db000e1"
      },
      "execution_count": 25,
      "outputs": [
        {
          "output_type": "stream",
          "name": "stdout",
          "text": [
            "hey Pavani wats today weather? :sunny\n",
            "apply sunscreen\n"
          ]
        }
      ]
    },
    {
      "cell_type": "code",
      "source": [
        "#using input function\n",
        "weather =input(\"hey Pavani wats today weather? :\")\n",
        "if weather == \"sunny\":\n",
        "  print(\"apply sunscreen\")\n",
        "elif weather==\"cloudy\":\n",
        "  print(\"bring umbrella\")\n",
        "elif weather ==\"cold\":\n",
        "  print(\"wear sweaters\")\n",
        "else:\n",
        "  print(\"go out and have some tea\")"
      ],
      "metadata": {
        "colab": {
          "base_uri": "https://localhost:8080/"
        },
        "id": "pWR7j19V_tvP",
        "outputId": "daa57350-375f-42b9-f8b2-8a38f24d7277"
      },
      "execution_count": 34,
      "outputs": [
        {
          "output_type": "stream",
          "name": "stdout",
          "text": [
            "hey Pavani wats today weather? :cold\n",
            "wear sweaters\n"
          ]
        }
      ]
    },
    {
      "cell_type": "markdown",
      "source": [
        "#**Nested if**"
      ],
      "metadata": {
        "id": "sGfNb7iv8oKT"
      }
    },
    {
      "cell_type": "code",
      "source": [
        "#without input function\n",
        "weather =\"sunny\"\n",
        "temperature = 45\n",
        "\n",
        "if weather==\"sunny\":\n",
        "  if temperature > 42:\n",
        "    print(\"Dont go out , its too hot\")\n",
        "  else:\n",
        "    print(\"apply sunscreen and go out\")\n",
        "else:\n",
        "  print(\"Take umbrella it might rain\")"
      ],
      "metadata": {
        "colab": {
          "base_uri": "https://localhost:8080/"
        },
        "id": "So1JUimr8rt0",
        "outputId": "1e067065-2441-458c-f970-78e82edba37a"
      },
      "execution_count": 24,
      "outputs": [
        {
          "output_type": "stream",
          "name": "stdout",
          "text": [
            "Dont go out , its too hot\n"
          ]
        }
      ]
    },
    {
      "cell_type": "code",
      "source": [
        "#using input function\n",
        "weather=input(\"Hey maira wats to do in this weather : \")\n",
        "  #we have to mention input type for integers inputs thats why we are getting error\n",
        "temperature = input(\"Enter how muchis temperature right now :\")\n",
        "\n",
        "if weather==\"sunny\":\n",
        "  if temperature > 42:\n",
        "    print(\"Dont go out , its too hot\")\n",
        "  else:\n",
        "    print(\"apply sunscreen and go out\")\n",
        "else:\n",
        "  print(\"Take umbrella it might rain\")\n",
        "\n"
      ],
      "metadata": {
        "colab": {
          "base_uri": "https://localhost:8080/",
          "height": 245
        },
        "id": "pzg5OaF89l4B",
        "outputId": "11b8b2a9-2e93-4797-8753-70eea6e388ce"
      },
      "execution_count": 31,
      "outputs": [
        {
          "name": "stdout",
          "output_type": "stream",
          "text": [
            "Hey maira wats to do in this weather : sunny\n",
            "Enter how muchis temperature right now :50\n"
          ]
        },
        {
          "output_type": "error",
          "ename": "TypeError",
          "evalue": "'>' not supported between instances of 'str' and 'int'",
          "traceback": [
            "\u001b[0;31m---------------------------------------------------------------------------\u001b[0m",
            "\u001b[0;31mTypeError\u001b[0m                                 Traceback (most recent call last)",
            "\u001b[0;32m<ipython-input-31-e26468654357>\u001b[0m in \u001b[0;36m<cell line: 5>\u001b[0;34m()\u001b[0m\n\u001b[1;32m      4\u001b[0m \u001b[0;34m\u001b[0m\u001b[0m\n\u001b[1;32m      5\u001b[0m \u001b[0;32mif\u001b[0m \u001b[0mweather\u001b[0m\u001b[0;34m==\u001b[0m\u001b[0;34m\"sunny\"\u001b[0m\u001b[0;34m:\u001b[0m\u001b[0;34m\u001b[0m\u001b[0;34m\u001b[0m\u001b[0m\n\u001b[0;32m----> 6\u001b[0;31m   \u001b[0;32mif\u001b[0m \u001b[0mtemperature\u001b[0m \u001b[0;34m>\u001b[0m \u001b[0;36m42\u001b[0m\u001b[0;34m:\u001b[0m\u001b[0;34m\u001b[0m\u001b[0;34m\u001b[0m\u001b[0m\n\u001b[0m\u001b[1;32m      7\u001b[0m     \u001b[0mprint\u001b[0m\u001b[0;34m(\u001b[0m\u001b[0;34m\"Dont go out , its too hot\"\u001b[0m\u001b[0;34m)\u001b[0m\u001b[0;34m\u001b[0m\u001b[0;34m\u001b[0m\u001b[0m\n\u001b[1;32m      8\u001b[0m   \u001b[0;32melse\u001b[0m\u001b[0;34m:\u001b[0m\u001b[0;34m\u001b[0m\u001b[0;34m\u001b[0m\u001b[0m\n",
            "\u001b[0;31mTypeError\u001b[0m: '>' not supported between instances of 'str' and 'int'"
          ]
        }
      ]
    },
    {
      "cell_type": "code",
      "source": [
        "#using input function\n",
        "weather=input(\"Hey maira wats to do in this weather : \")\n",
        "\n",
        "temperature = int(input(\"Enter how muchis temperature right now :\"))\n",
        "\n",
        "if weather==\"sunny\":\n",
        "  if temperature > 42:\n",
        "    print(\"Dont go out , its too hot\")\n",
        "  else:\n",
        "    print(\"apply sunscreen and go out\")\n",
        "else:\n",
        "  print(\"Take umbrella it might rain\")"
      ],
      "metadata": {
        "colab": {
          "base_uri": "https://localhost:8080/"
        },
        "id": "aFX9UtzN_BCn",
        "outputId": "73b06bd8-28b2-4892-dddf-51056043ac1c"
      },
      "execution_count": 32,
      "outputs": [
        {
          "output_type": "stream",
          "name": "stdout",
          "text": [
            "Hey maira wats to do in this weather : raining\n",
            "Enter how muchis temperature right now :30\n",
            "Take umbrella it might rain\n"
          ]
        }
      ]
    }
  ]
}