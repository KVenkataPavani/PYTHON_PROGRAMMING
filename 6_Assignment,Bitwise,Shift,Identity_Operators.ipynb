{
  "nbformat": 4,
  "nbformat_minor": 0,
  "metadata": {
    "colab": {
      "provenance": [],
      "authorship_tag": "ABX9TyNmWDlMAqoFEiAa6Pxztci6",
      "include_colab_link": true
    },
    "kernelspec": {
      "name": "python3",
      "display_name": "Python 3"
    },
    "language_info": {
      "name": "python"
    }
  },
  "cells": [
    {
      "cell_type": "markdown",
      "metadata": {
        "id": "view-in-github",
        "colab_type": "text"
      },
      "source": [
        "<a href=\"https://colab.research.google.com/github/KVenkataPavani/PYTHON_PROGRAMMING/blob/main/6_Assignment%2CBitwise%2CShift%2CIdentity_Operators.ipynb\" target=\"_parent\"><img src=\"https://colab.research.google.com/assets/colab-badge.svg\" alt=\"Open In Colab\"/></a>"
      ]
    },
    {
      "cell_type": "markdown",
      "source": [
        "#**Assignment Operators** = | += | -= | *= | %= | //="
      ],
      "metadata": {
        "id": "KqrQl4z4YDfA"
      }
    },
    {
      "cell_type": "code",
      "source": [
        "# \"=\"\n",
        "a=10\n",
        "print(\"before\",a)\n",
        "b=20\n",
        "#\"=\"\n",
        "a=b\n",
        "print(\"after\",a)"
      ],
      "metadata": {
        "colab": {
          "base_uri": "https://localhost:8080/"
        },
        "id": "ZF49r-ccYNtu",
        "outputId": "b8b16b98-7d6f-49cb-fbaf-1f90da056ab8"
      },
      "execution_count": 3,
      "outputs": [
        {
          "output_type": "stream",
          "name": "stdout",
          "text": [
            "before 10\n",
            "after 20\n"
          ]
        }
      ]
    },
    {
      "cell_type": "code",
      "source": [
        "a = 10\n",
        "print(a)\n",
        "a+=10 #a=a+10\n",
        "print(a)\n",
        "a-=10 #a=a-10\n",
        "print(a)\n",
        "a*=10 #a=a*10\n",
        "print(a)\n",
        "a%=10 #a=a%10\n",
        "print(a)\n",
        "a//=10 #a=a//10\n",
        "print(a)"
      ],
      "metadata": {
        "colab": {
          "base_uri": "https://localhost:8080/"
        },
        "id": "QK_jK2QUZSw5",
        "outputId": "ac90bbe9-4bfa-45f6-bcd8-3fbd379b5e11"
      },
      "execution_count": 4,
      "outputs": [
        {
          "output_type": "stream",
          "name": "stdout",
          "text": [
            "10\n",
            "20\n",
            "10\n",
            "100\n",
            "0\n",
            "0\n"
          ]
        }
      ]
    },
    {
      "cell_type": "code",
      "source": [
        "a=10\n",
        "a-=10 #a=a-10\n",
        "print(a)"
      ],
      "metadata": {
        "colab": {
          "base_uri": "https://localhost:8080/"
        },
        "id": "hku_whDNalm3",
        "outputId": "980dd41b-683e-4b34-e263-9142e86f1842"
      },
      "execution_count": 5,
      "outputs": [
        {
          "output_type": "stream",
          "name": "stdout",
          "text": [
            "0\n"
          ]
        }
      ]
    },
    {
      "cell_type": "code",
      "source": [
        "a=25\n",
        "a%=10 #a=a%10\n",
        "print(a)\n",
        "\n",
        "a=25\n",
        "a//=10 #a=a//10\n",
        "print(a)"
      ],
      "metadata": {
        "colab": {
          "base_uri": "https://localhost:8080/"
        },
        "id": "qTIGKhq8ardk",
        "outputId": "276a3f20-b864-4921-b450-c697e1be2837"
      },
      "execution_count": 6,
      "outputs": [
        {
          "output_type": "stream",
          "name": "stdout",
          "text": [
            "5\n",
            "2\n"
          ]
        }
      ]
    },
    {
      "cell_type": "markdown",
      "source": [
        "#**Bitwise Operators** & | \"|\" | XOR(^)\n",
        "* any one false - false -- &\n",
        "* any one true - true -- | or\n",
        "* 00,11 - 0  -- XOR"
      ],
      "metadata": {
        "id": "J4mObxbbbPG9"
      }
    },
    {
      "cell_type": "code",
      "source": [
        "#bitwise AND\n",
        "14&21\n",
        "#convert into binary then do & operation"
      ],
      "metadata": {
        "colab": {
          "base_uri": "https://localhost:8080/"
        },
        "id": "R-ztXP9NbXA5",
        "outputId": "d1a41b6b-fac5-4e94-b112-ac011af103e3"
      },
      "execution_count": 1,
      "outputs": [
        {
          "output_type": "execute_result",
          "data": {
            "text/plain": [
              "4"
            ]
          },
          "metadata": {},
          "execution_count": 1
        }
      ]
    },
    {
      "cell_type": "code",
      "source": [
        "#BITWISE OR\n",
        "14|21\n",
        "#convert into binary then do | operation"
      ],
      "metadata": {
        "colab": {
          "base_uri": "https://localhost:8080/"
        },
        "id": "1ZbRKiRz6Ely",
        "outputId": "5e47250f-81b1-4dce-8843-5ffeb6c87e58"
      },
      "execution_count": 2,
      "outputs": [
        {
          "output_type": "execute_result",
          "data": {
            "text/plain": [
              "31"
            ]
          },
          "metadata": {},
          "execution_count": 2
        }
      ]
    },
    {
      "cell_type": "code",
      "source": [
        "#BITWISE XOR\n",
        "14^21\n",
        "#convert into binary then do ^ operation"
      ],
      "metadata": {
        "colab": {
          "base_uri": "https://localhost:8080/"
        },
        "id": "f6fuKZjq6iJ4",
        "outputId": "26d6aaba-2137-4dd1-da94-1c5faf5dfe2a"
      },
      "execution_count": 3,
      "outputs": [
        {
          "output_type": "execute_result",
          "data": {
            "text/plain": [
              "27"
            ]
          },
          "metadata": {},
          "execution_count": 3
        }
      ]
    },
    {
      "cell_type": "markdown",
      "source": [
        "**Negation**"
      ],
      "metadata": {
        "id": "T8BCSGYP_nIA"
      }
    },
    {
      "cell_type": "code",
      "source": [
        "print(~13 )\n",
        "print(~-13)\n",
        "# for positive numbers it will be one number greater with minus\n",
        "# for negative numbers it will be one number lesser with positive"
      ],
      "metadata": {
        "colab": {
          "base_uri": "https://localhost:8080/"
        },
        "id": "mwVft2Vb_vO2",
        "outputId": "8ce75ac5-2eb5-4704-c621-a67e66112496"
      },
      "execution_count": 6,
      "outputs": [
        {
          "output_type": "stream",
          "name": "stdout",
          "text": [
            "-14\n",
            "12\n"
          ]
        }
      ]
    },
    {
      "cell_type": "code",
      "source": [
        "print(~1)\n",
        "print(~2)\n",
        "print(~-1)\n",
        "print(~-2)\n",
        "print(~1155)\n",
        "print(~-1155)\n",
        "print(~0)\n",
        "print(~-0)\n",
        "\n"
      ],
      "metadata": {
        "colab": {
          "base_uri": "https://localhost:8080/"
        },
        "id": "_RW0R-tPCDLZ",
        "outputId": "169194b9-1dc0-459d-eaae-013e55ac538a"
      },
      "execution_count": 14,
      "outputs": [
        {
          "output_type": "stream",
          "name": "stdout",
          "text": [
            "-2\n",
            "-3\n",
            "0\n",
            "1\n",
            "-1156\n",
            "1154\n",
            "-1\n",
            "-1\n"
          ]
        }
      ]
    },
    {
      "cell_type": "markdown",
      "source": [
        "#**Shift operators**  -- << left shift , >> right shift"
      ],
      "metadata": {
        "id": "wiGaidIrDis9"
      }
    },
    {
      "cell_type": "code",
      "source": [
        "print(10<<2)"
      ],
      "metadata": {
        "colab": {
          "base_uri": "https://localhost:8080/"
        },
        "id": "N7hn4GRcEBUX",
        "outputId": "5bd4ebfe-a335-42c4-a554-884358583cd3"
      },
      "execution_count": 15,
      "outputs": [
        {
          "output_type": "stream",
          "name": "stdout",
          "text": [
            "40\n"
          ]
        }
      ]
    },
    {
      "cell_type": "code",
      "source": [
        "print(10>>2)"
      ],
      "metadata": {
        "colab": {
          "base_uri": "https://localhost:8080/"
        },
        "id": "KdwYcKIpEM7p",
        "outputId": "4880cced-de42-485f-8594-272c19b29a0a"
      },
      "execution_count": 16,
      "outputs": [
        {
          "output_type": "stream",
          "name": "stdout",
          "text": [
            "2\n"
          ]
        }
      ]
    },
    {
      "cell_type": "markdown",
      "source": [
        "* if we have a number n and we want to shift left <<  by k digits then n*2powerk\n",
        "\n",
        "* if we have a number n and we want to shift right>>  by k digits then n//2powerk"
      ],
      "metadata": {
        "id": "fTiWWTTeFBz9"
      }
    },
    {
      "cell_type": "code",
      "source": [
        "print(120>>1)\n",
        "print(-120>>1)\n",
        "print(120<<1)\n",
        "print(-120<<1)\n"
      ],
      "metadata": {
        "colab": {
          "base_uri": "https://localhost:8080/"
        },
        "id": "2Fz1u59bFYf-",
        "outputId": "a0fc2262-176a-42d9-d532-a14976dcb3cd"
      },
      "execution_count": 21,
      "outputs": [
        {
          "output_type": "stream",
          "name": "stdout",
          "text": [
            "60\n",
            "-60\n",
            "240\n",
            "-240\n"
          ]
        }
      ]
    },
    {
      "cell_type": "code",
      "source": [
        "print(120>>1)\n",
        "print(120>>2)\n",
        "print(120>>3)\n",
        "print(120>>4)\n",
        "print(120<<1)\n",
        "print(120<<2)\n",
        "print(120<<3)\n",
        "print(120<<4)"
      ],
      "metadata": {
        "colab": {
          "base_uri": "https://localhost:8080/"
        },
        "id": "cugl7rO_Gz71",
        "outputId": "51eb3987-c68f-4b36-f742-bc00832901a4"
      },
      "execution_count": 23,
      "outputs": [
        {
          "output_type": "stream",
          "name": "stdout",
          "text": [
            "60\n",
            "30\n",
            "15\n",
            "7\n",
            "240\n",
            "480\n",
            "960\n",
            "1920\n"
          ]
        }
      ]
    },
    {
      "cell_type": "markdown",
      "source": [
        "#**IDENTITY OPERATORS**  --  \"is\" & \"is not\""
      ],
      "metadata": {
        "id": "VZx4WduMKJp0"
      }
    },
    {
      "cell_type": "code",
      "source": [
        "l1 = [1,2,3,4,5]\n",
        "l2 = [1,2,3,4,5]\n",
        "print(id(l1))\n",
        "print(id(l2))\n",
        "l3=l1\n",
        "print(id(l3))\n",
        "\n",
        "#The is operator returns True if both variables point to the same object in memory, otherwise it returns False\n",
        "print(l2 is l1)\n",
        "print(l3 is l1)\n",
        "print(l1 is l3)\n",
        "\n",
        "#The is not operator returns True if both variables do not point to the same object in memory, otherwise it returns False.\n",
        "print(l2 is not l1)\n",
        "print(l1 is not l2)\n"
      ],
      "metadata": {
        "colab": {
          "base_uri": "https://localhost:8080/"
        },
        "id": "pC1x-uaXKdFF",
        "outputId": "51228b2c-3bb3-4e48-bbc1-d671518a2780"
      },
      "execution_count": 25,
      "outputs": [
        {
          "output_type": "stream",
          "name": "stdout",
          "text": [
            "132741212078912\n",
            "132741212082112\n",
            "132741212078912\n",
            "False\n",
            "True\n",
            "True\n",
            "True\n",
            "True\n"
          ]
        }
      ]
    },
    {
      "cell_type": "code",
      "source": [
        "a= 1200\n",
        "b= 1200\n",
        "print(id(a))\n",
        "print(id(b))\n",
        "print(a is b)\n",
        "print(b is a)\n",
        "print(b is not a)\n",
        "print(b is not a)"
      ],
      "metadata": {
        "colab": {
          "base_uri": "https://localhost:8080/"
        },
        "id": "iStlbvzKM8hT",
        "outputId": "5b2c448d-f9e7-4d52-aaf1-b130a81fab8a"
      },
      "execution_count": 27,
      "outputs": [
        {
          "output_type": "stream",
          "name": "stdout",
          "text": [
            "132740637458064\n",
            "132740637454832\n",
            "False\n",
            "False\n",
            "True\n",
            "True\n"
          ]
        }
      ]
    },
    {
      "cell_type": "markdown",
      "source": [
        "OPERATOR PRECEDENCE"
      ],
      "metadata": {
        "id": "OVmnLjltNm53"
      }
    },
    {
      "cell_type": "code",
      "source": [
        "5+12*7//3-10"
      ],
      "metadata": {
        "colab": {
          "base_uri": "https://localhost:8080/"
        },
        "id": "u3y72fgYNp7P",
        "outputId": "d92ccc83-ec3b-4683-d211-b6e88d0e4a7a"
      },
      "execution_count": 29,
      "outputs": [
        {
          "output_type": "execute_result",
          "data": {
            "text/plain": [
              "23"
            ]
          },
          "metadata": {},
          "execution_count": 29
        }
      ]
    },
    {
      "cell_type": "code",
      "source": [
        "~-2"
      ],
      "metadata": {
        "colab": {
          "base_uri": "https://localhost:8080/"
        },
        "id": "JC0WQTI3N0S_",
        "outputId": "f28d6f8d-59e4-4781-bf63-452010eade8b"
      },
      "execution_count": 31,
      "outputs": [
        {
          "output_type": "execute_result",
          "data": {
            "text/plain": [
              "1"
            ]
          },
          "metadata": {},
          "execution_count": 31
        }
      ]
    }
  ]
}