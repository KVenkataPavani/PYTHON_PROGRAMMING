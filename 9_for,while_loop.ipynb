{
  "nbformat": 4,
  "nbformat_minor": 0,
  "metadata": {
    "colab": {
      "provenance": [],
      "authorship_tag": "ABX9TyPlyaE/0so7gKaJJIIuo+6V",
      "include_colab_link": true
    },
    "kernelspec": {
      "name": "python3",
      "display_name": "Python 3"
    },
    "language_info": {
      "name": "python"
    }
  },
  "cells": [
    {
      "cell_type": "markdown",
      "metadata": {
        "id": "view-in-github",
        "colab_type": "text"
      },
      "source": [
        "<a href=\"https://colab.research.google.com/github/KVenkataPavani/PYTHON_PROGRAMMING/blob/main/9_for%2Cwhile_loop.ipynb\" target=\"_parent\"><img src=\"https://colab.research.google.com/assets/colab-badge.svg\" alt=\"Open In Colab\"/></a>"
      ]
    },
    {
      "cell_type": "markdown",
      "source": [
        "#**for**"
      ],
      "metadata": {
        "id": "AMxpdBQwJ4Ks"
      }
    },
    {
      "cell_type": "code",
      "source": [
        "food = [\"rice\",\"aloo paratha\",\"eggomlet\",\"dal\"]\n",
        "for i in food:\n",
        "  print(food)\n",
        "  #not food item i you have to keep"
      ],
      "metadata": {
        "colab": {
          "base_uri": "https://localhost:8080/"
        },
        "id": "TiUkrV1RJ84J",
        "outputId": "c08aec56-c2d6-48e4-8638-a2ffb7707ba7"
      },
      "execution_count": 3,
      "outputs": [
        {
          "output_type": "stream",
          "name": "stdout",
          "text": [
            "['rice', 'aloo paratha', 'eggomlet', 'dal']\n",
            "['rice', 'aloo paratha', 'eggomlet', 'dal']\n",
            "['rice', 'aloo paratha', 'eggomlet', 'dal']\n",
            "['rice', 'aloo paratha', 'eggomlet', 'dal']\n"
          ]
        }
      ]
    },
    {
      "cell_type": "code",
      "source": [
        "food = [\"rice\",\"aloo paratha\",\"eggomlet\",\"dal\"]\n",
        "for i in food:\n",
        "  print(i)"
      ],
      "metadata": {
        "colab": {
          "base_uri": "https://localhost:8080/"
        },
        "id": "-g1zduR1Lmvg",
        "outputId": "32262f3d-324d-4102-e972-156c7ecd7325"
      },
      "execution_count": 4,
      "outputs": [
        {
          "output_type": "stream",
          "name": "stdout",
          "text": [
            "rice\n",
            "aloo paratha\n",
            "eggomlet\n",
            "dal\n"
          ]
        }
      ]
    },
    {
      "cell_type": "code",
      "source": [
        "for i in range(3):\n",
        "  print(i)"
      ],
      "metadata": {
        "colab": {
          "base_uri": "https://localhost:8080/"
        },
        "id": "mVd2x9hVL-MQ",
        "outputId": "3aca0a07-eca2-4457-9952-f2c5807aa49b"
      },
      "execution_count": 6,
      "outputs": [
        {
          "output_type": "stream",
          "name": "stdout",
          "text": [
            "0\n",
            "1\n",
            "2\n"
          ]
        }
      ]
    },
    {
      "cell_type": "code",
      "source": [
        "food = [\"rice\",\"aloo paratha\",\"eggomlet\",\"dal\"]\n",
        "print(len(food))\n",
        "for i in food:\n",
        "  print(i)\n"
      ],
      "metadata": {
        "colab": {
          "base_uri": "https://localhost:8080/"
        },
        "id": "9LESJdURMVb1",
        "outputId": "56d3c135-fcd4-42fa-a08c-b4055590ae9a"
      },
      "execution_count": 9,
      "outputs": [
        {
          "output_type": "stream",
          "name": "stdout",
          "text": [
            "4\n",
            "rice\n",
            "aloo paratha\n",
            "eggomlet\n",
            "dal\n"
          ]
        }
      ]
    },
    {
      "cell_type": "code",
      "source": [
        "name=\"pavani kv\"\n",
        "for i in name:\n",
        "  print(i)"
      ],
      "metadata": {
        "colab": {
          "base_uri": "https://localhost:8080/"
        },
        "id": "S4wSHPMvMqoM",
        "outputId": "21739e9d-892b-4d54-fcda-04503da4b839"
      },
      "execution_count": 10,
      "outputs": [
        {
          "output_type": "stream",
          "name": "stdout",
          "text": [
            "p\n",
            "a\n",
            "v\n",
            "a\n",
            "n\n",
            "i\n",
            " \n",
            "k\n",
            "v\n"
          ]
        }
      ]
    },
    {
      "cell_type": "code",
      "source": [
        "for i in range(0,5):#range(0,5,1) same\n",
        "  print(i)"
      ],
      "metadata": {
        "colab": {
          "base_uri": "https://localhost:8080/"
        },
        "id": "UIdvh5M9MxH8",
        "outputId": "b8b8639c-543c-4416-841c-6693f31ddf48"
      },
      "execution_count": 13,
      "outputs": [
        {
          "output_type": "stream",
          "name": "stdout",
          "text": [
            "0\n",
            "1\n",
            "2\n",
            "3\n",
            "4\n"
          ]
        }
      ]
    },
    {
      "cell_type": "code",
      "source": [
        "for i in range(0,5,2):\n",
        "  print(i)"
      ],
      "metadata": {
        "colab": {
          "base_uri": "https://localhost:8080/"
        },
        "id": "cZIZQBDiM8Vx",
        "outputId": "d35ec49d-2f69-455b-f8c4-4858b72b4df3"
      },
      "execution_count": 15,
      "outputs": [
        {
          "output_type": "stream",
          "name": "stdout",
          "text": [
            "0\n",
            "2\n",
            "4\n"
          ]
        }
      ]
    },
    {
      "cell_type": "code",
      "source": [
        "for i in range(0,50,5):\n",
        "  print(i)"
      ],
      "metadata": {
        "colab": {
          "base_uri": "https://localhost:8080/"
        },
        "id": "Do9lQEXhNG_t",
        "outputId": "c00c28be-2784-49a4-fa59-eab1d638675f"
      },
      "execution_count": 18,
      "outputs": [
        {
          "output_type": "stream",
          "name": "stdout",
          "text": [
            "0\n",
            "5\n",
            "10\n",
            "15\n",
            "20\n",
            "25\n",
            "30\n",
            "35\n",
            "40\n",
            "45\n"
          ]
        }
      ]
    },
    {
      "cell_type": "code",
      "source": [
        "food = [\"rice\",\"aloo paratha\",\"eggomlet\",\"dal\"]\n",
        "        #0          1              2        3   indexes\n",
        "len(food)"
      ],
      "metadata": {
        "colab": {
          "base_uri": "https://localhost:8080/"
        },
        "id": "J8oU3brdNZPW",
        "outputId": "05fe0040-84bf-41fe-f9e6-eaf3ca34b933"
      },
      "execution_count": 20,
      "outputs": [
        {
          "output_type": "execute_result",
          "data": {
            "text/plain": [
              "4"
            ]
          },
          "metadata": {},
          "execution_count": 20
        }
      ]
    },
    {
      "cell_type": "code",
      "source": [
        "for i in range(len(food)):\n",
        "  print(i)"
      ],
      "metadata": {
        "colab": {
          "base_uri": "https://localhost:8080/"
        },
        "id": "UCYtMgOXNjwm",
        "outputId": "87690e08-09dd-46f4-af65-79cc4f193b41"
      },
      "execution_count": 22,
      "outputs": [
        {
          "output_type": "stream",
          "name": "stdout",
          "text": [
            "0\n",
            "1\n",
            "2\n",
            "3\n"
          ]
        }
      ]
    },
    {
      "cell_type": "markdown",
      "source": [
        "**ENUMERATE**\n",
        "* The enumerate() function in Python is what allows you to get both the index and the value when you iterate over a list."
      ],
      "metadata": {
        "id": "RXYfgwwqOKor"
      }
    },
    {
      "cell_type": "code",
      "source": [
        "food = [\"rice\",\"aloo paratha\",\"eggomlet\",\"dal\"]\n",
        "for i,s  in enumerate(food):\n",
        "  print(\"index value is\",i)\n",
        "  print(\"value is\", s)\n",
        "\n"
      ],
      "metadata": {
        "colab": {
          "base_uri": "https://localhost:8080/"
        },
        "id": "7UjvXazwObcS",
        "outputId": "cf5b6a9a-cef4-4555-ec26-6d0addc589ad"
      },
      "execution_count": 23,
      "outputs": [
        {
          "output_type": "stream",
          "name": "stdout",
          "text": [
            "index value is 0\n",
            "value is rice\n",
            "index value is 1\n",
            "value is aloo paratha\n",
            "index value is 2\n",
            "value is eggomlet\n",
            "index value is 3\n",
            "value is dal\n"
          ]
        }
      ]
    },
    {
      "cell_type": "code",
      "source": [
        "food = [\"rice\",\"aloo paratha\",\"eggomlet\",\"dal\"]\n",
        "for i in range(len(food)-1,-2,-1):\n",
        "  print(food[i])\n"
      ],
      "metadata": {
        "colab": {
          "base_uri": "https://localhost:8080/"
        },
        "id": "0yrU4pjsPFBT",
        "outputId": "cd3bf4bd-46d1-4286-a0d0-77b5021837f1"
      },
      "execution_count": 37,
      "outputs": [
        {
          "output_type": "stream",
          "name": "stdout",
          "text": [
            "dal\n",
            "eggomlet\n",
            "aloo paratha\n",
            "rice\n",
            "dal\n"
          ]
        }
      ]
    },
    {
      "cell_type": "code",
      "source": [
        "food = [\"rice\",\"aloo paratha\",\"eggomlet\",\"dal\"]\n",
        "for i,j in enumerate(food):\n",
        "  print(\"index\",i)\n",
        "  print(\"value\",j)\n",
        " # print(i,j) both we can write"
      ],
      "metadata": {
        "colab": {
          "base_uri": "https://localhost:8080/"
        },
        "id": "lQA4thAOaMh-",
        "outputId": "12181665-475e-477d-814a-f429ba4004c7"
      },
      "execution_count": 39,
      "outputs": [
        {
          "output_type": "stream",
          "name": "stdout",
          "text": [
            "index 0\n",
            "value rice\n",
            "0 rice\n",
            "index 1\n",
            "value aloo paratha\n",
            "1 aloo paratha\n",
            "index 2\n",
            "value eggomlet\n",
            "2 eggomlet\n",
            "index 3\n",
            "value dal\n",
            "3 dal\n"
          ]
        }
      ]
    },
    {
      "cell_type": "code",
      "source": [
        "#listof lists\n",
        "family = [[\"sathyam\",\"vijaya\"],[\"pavan\",\"pavani\"]]\n",
        "for group in family:\n",
        "  for person in group:\n",
        "    print(person)"
      ],
      "metadata": {
        "colab": {
          "base_uri": "https://localhost:8080/"
        },
        "id": "FHNLv4fiat3A",
        "outputId": "09327fda-6e65-4ce9-fadd-dda95f890783"
      },
      "execution_count": 42,
      "outputs": [
        {
          "output_type": "stream",
          "name": "stdout",
          "text": [
            "sathyam\n",
            "vijaya\n",
            "pavan\n",
            "pavani\n"
          ]
        }
      ]
    },
    {
      "cell_type": "markdown",
      "source": [
        "**ZIP** **function**"
      ],
      "metadata": {
        "id": "hZOv1colb4GZ"
      }
    },
    {
      "cell_type": "code",
      "source": [
        "bookname=[\"monk who sold his ferari\",\"the mountain is you\"]\n",
        "bookgenre=[\"self improvement\",\"motivational\"]\n",
        "\n",
        "for i,j in zip(bookname,bookgenre):\n",
        "  print(i ,\"- book is of genre-\", j)"
      ],
      "metadata": {
        "colab": {
          "base_uri": "https://localhost:8080/"
        },
        "id": "To1sp7crb8Cf",
        "outputId": "2ad97d70-87ba-434d-9ce3-bc9c2b8421c2"
      },
      "execution_count": 48,
      "outputs": [
        {
          "output_type": "stream",
          "name": "stdout",
          "text": [
            "monk who sold his ferari - book is of genre- self improvement\n",
            "the mountain is you - book is of genre- motivational\n"
          ]
        }
      ]
    },
    {
      "cell_type": "markdown",
      "source": [
        "**Understanding else in for loop**\n",
        "* if there is a break in a for loop, then else block of for loop will not be executed.\n",
        "\n",
        "* if there is no break in a for loop, then else block of for loop will be executed."
      ],
      "metadata": {
        "id": "u3rGi4x9q76i"
      }
    },
    {
      "cell_type": "code",
      "source": [
        "family = [\"pavani\", \"me\", \"maira\"]\n",
        "\n",
        "for person in family:\n",
        "  print(\"member: \", person)\n",
        "  if person == \"maira\":\n",
        "    break\n",
        "else:\n",
        "  print(\"its not correct\")\n",
        "print(\"Outside For loop\")\n",
        "#the loop was terminated by a break statement until then it will iterate the loop and wen break statement satisfies , the else block is not executed."
      ],
      "metadata": {
        "colab": {
          "base_uri": "https://localhost:8080/"
        },
        "id": "-xY3ZBwIrMKU",
        "outputId": "f954e8d3-ce10-4f0e-960a-58144ee9822c"
      },
      "execution_count": 65,
      "outputs": [
        {
          "output_type": "stream",
          "name": "stdout",
          "text": [
            "member:  pavani\n",
            "member:  me\n",
            "member:  maira\n",
            "Outside For loop\n"
          ]
        }
      ]
    },
    {
      "cell_type": "markdown",
      "source": [
        "# **while loop**"
      ],
      "metadata": {
        "id": "Phmn4t-udTmo"
      }
    },
    {
      "cell_type": "markdown",
      "source": [
        "**Simple Counting**"
      ],
      "metadata": {
        "id": "vqo_7fBllsP1"
      }
    },
    {
      "cell_type": "code",
      "source": [
        "#suppose we want to print numbers 1 to 5\n",
        "\n",
        "count=1\n",
        "while count<=5:\n",
        "  print(count)\n",
        "  count=count+1"
      ],
      "metadata": {
        "colab": {
          "base_uri": "https://localhost:8080/"
        },
        "id": "qp_MCjBUjdAC",
        "outputId": "349eb74e-4875-491d-d7b7-b9c15d01097a"
      },
      "execution_count": 49,
      "outputs": [
        {
          "output_type": "stream",
          "name": "stdout",
          "text": [
            "1\n",
            "2\n",
            "3\n",
            "4\n",
            "5\n"
          ]
        }
      ]
    },
    {
      "cell_type": "markdown",
      "source": [
        "  **Loop with a Condition that Can Change**"
      ],
      "metadata": {
        "id": "tZLWodwQl0I6"
      }
    },
    {
      "cell_type": "code",
      "source": [
        "password = \"@maira123\"\n",
        "current_password = \"\"\n",
        "\n",
        "while current_password != password:\n",
        "  current_password=input(\"enter password :\")\n",
        "\n",
        "print(\"correct,access is given\")"
      ],
      "metadata": {
        "colab": {
          "base_uri": "https://localhost:8080/"
        },
        "id": "xvcTKpFPj5bg",
        "outputId": "9b7508ed-daa5-4564-b030-21976998e02e"
      },
      "execution_count": 59,
      "outputs": [
        {
          "output_type": "stream",
          "name": "stdout",
          "text": [
            "enter password :pavania\n",
            "enter password :kdbde\n",
            "enter password :@maira123\n",
            "correct,access is given\n"
          ]
        }
      ]
    },
    {
      "cell_type": "markdown",
      "source": [
        "**Infinite Loop (with a Break Condition)**"
      ],
      "metadata": {
        "id": "0nvlW4ftl4la"
      }
    },
    {
      "cell_type": "code",
      "source": [
        "n = 5\n",
        "while n > 0:\n",
        "    n = n- 1\n",
        "    if n == 2:\n",
        "        break\n",
        "    print(n)\n",
        "print('Loop ended.')\n",
        "#this line is outside the loop, it will always be executed after the loop ends, whether the loop ended because of the break statement or because the loop condition n > 0 became false."
      ],
      "metadata": {
        "colab": {
          "base_uri": "https://localhost:8080/"
        },
        "id": "uEsFeTtZl9Zw",
        "outputId": "be0c6a93-d187-4cc2-d8c7-ff9966d656a1"
      },
      "execution_count": 60,
      "outputs": [
        {
          "output_type": "stream",
          "name": "stdout",
          "text": [
            "4\n",
            "3\n",
            "Loop ended.\n"
          ]
        }
      ]
    },
    {
      "cell_type": "code",
      "source": [
        "n = 5\n",
        "while n > 0:\n",
        "    n = n- 1\n",
        "    if n == 2:\n",
        "        continue\n",
        "    print(n)\n",
        "print('Loop ended.')\n",
        "#It checks if n == 2. This time, it's true, so it skips the print statement in continue and goes back to the start of the loop.\n"
      ],
      "metadata": {
        "colab": {
          "base_uri": "https://localhost:8080/"
        },
        "id": "brbnnUI1nEpd",
        "outputId": "33d34b3e-c35c-42aa-de36-f5fecc2ba7d7"
      },
      "execution_count": 61,
      "outputs": [
        {
          "output_type": "stream",
          "name": "stdout",
          "text": [
            "4\n",
            "3\n",
            "1\n",
            "0\n",
            "Loop ended.\n"
          ]
        }
      ]
    },
    {
      "cell_type": "markdown",
      "source": [
        "**while Loop with else**"
      ],
      "metadata": {
        "id": "FWYJNtrHoYKb"
      }
    },
    {
      "cell_type": "code",
      "source": [
        "n = 5\n",
        "while n > 0:\n",
        "    n =n- 1\n",
        "    print(n)\n",
        "else:\n",
        "    print('Loop done.')"
      ],
      "metadata": {
        "colab": {
          "base_uri": "https://localhost:8080/"
        },
        "id": "2xq_r2cmobU5",
        "outputId": "df5449fc-b18c-492f-ebe6-9c6a870a2a30"
      },
      "execution_count": 62,
      "outputs": [
        {
          "output_type": "stream",
          "name": "stdout",
          "text": [
            "4\n",
            "3\n",
            "2\n",
            "1\n",
            "0\n",
            "Loop done.\n"
          ]
        }
      ]
    },
    {
      "cell_type": "code",
      "source": [
        "n = 5\n",
        "while n > 0:\n",
        "    n =n- 1\n",
        "    print(n)\n",
        "    if n == 2:\n",
        "        break\n",
        "else:\n",
        "    print('Loop done.')\n",
        "#Since the loop was broken by the break statement, the else block does not execute.\n",
        "#The message \"Loop done.\" is not printed because the loop was terminated with the break statement when n reached 2. The else block only executes if the loop completes normally without encountering a break.\n",
        "#this line is outside the loop, it will always be executed after the loop ends, whether the loop ended because of the break statement or because the loop condition n > 0 became false. its not outside of while loopp so it wont print"
      ],
      "metadata": {
        "colab": {
          "base_uri": "https://localhost:8080/"
        },
        "id": "Ahj4fJ6epDuP",
        "outputId": "d4d1764d-7809-4e3a-a7f6-2bef34cdc022"
      },
      "execution_count": 63,
      "outputs": [
        {
          "output_type": "stream",
          "name": "stdout",
          "text": [
            "4\n",
            "3\n",
            "2\n"
          ]
        }
      ]
    }
  ]
}