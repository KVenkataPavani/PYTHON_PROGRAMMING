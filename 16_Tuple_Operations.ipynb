{
  "nbformat": 4,
  "nbformat_minor": 0,
  "metadata": {
    "colab": {
      "provenance": [],
      "authorship_tag": "ABX9TyMcHlaeOtam3FCFqeIs7fY2",
      "include_colab_link": true
    },
    "kernelspec": {
      "name": "python3",
      "display_name": "Python 3"
    },
    "language_info": {
      "name": "python"
    }
  },
  "cells": [
    {
      "cell_type": "markdown",
      "metadata": {
        "id": "view-in-github",
        "colab_type": "text"
      },
      "source": [
        "<a href=\"https://colab.research.google.com/github/KVenkataPavani/PYTHON_PROGRAMMING/blob/main/16_Tuple_Operations.ipynb\" target=\"_parent\"><img src=\"https://colab.research.google.com/assets/colab-badge.svg\" alt=\"Open In Colab\"/></a>"
      ]
    },
    {
      "cell_type": "markdown",
      "source": [
        "**Tuples** -- ()"
      ],
      "metadata": {
        "id": "odUJJz8IpyyY"
      }
    },
    {
      "cell_type": "markdown",
      "source": [
        "* Initializing tuples\n",
        "* Tuple with single item\n",
        "* Packing and Unpacking tuples\n",
        "* Accessing a Tuple & Slicing a tuple\n",
        "* Update a tuple (?)\n",
        "* del"
      ],
      "metadata": {
        "id": "D8N8_yNOp2af"
      }
    },
    {
      "cell_type": "markdown",
      "source": [
        "**Initializing a tuple**"
      ],
      "metadata": {
        "id": "o_BdFSk5qSjr"
      }
    },
    {
      "cell_type": "markdown",
      "source": [
        "**initializing tuple with single item**"
      ],
      "metadata": {
        "id": "pxGDkNVz4o2w"
      }
    },
    {
      "cell_type": "code",
      "execution_count": 2,
      "metadata": {
        "colab": {
          "base_uri": "https://localhost:8080/"
        },
        "id": "8B_wv0p-pw4k",
        "outputId": "390224fd-69b0-4096-b8c6-c827120a7212"
      },
      "outputs": [
        {
          "output_type": "stream",
          "name": "stdout",
          "text": [
            "()\n",
            "<class 'tuple'>\n"
          ]
        }
      ],
      "source": [
        "#tuple t\n",
        "t=()\n",
        "print(t)\n",
        "print(type(t))"
      ]
    },
    {
      "cell_type": "code",
      "source": [
        "t=tuple()\n",
        "print(t)\n",
        "print(type(t))"
      ],
      "metadata": {
        "colab": {
          "base_uri": "https://localhost:8080/"
        },
        "id": "6Ra22FTTqxGK",
        "outputId": "da129c3d-809c-457b-d0ed-3b7f51cd59c3"
      },
      "execution_count": 3,
      "outputs": [
        {
          "output_type": "stream",
          "name": "stdout",
          "text": [
            "()\n",
            "<class 'tuple'>\n"
          ]
        }
      ]
    },
    {
      "cell_type": "code",
      "source": [
        "#we can pass list string empty tuple emptystring inside a tuple\n",
        "t=tuple([])\n",
        "print(t)\n",
        "print(type(t))\n",
        "print(\"_____\")\n",
        "t=tuple(())\n",
        "print(t)\n",
        "print(type(t))\n",
        "print(\"_____\")\n",
        "t=tuple('')\n",
        "print(t)\n",
        "print(type(t))\n"
      ],
      "metadata": {
        "colab": {
          "base_uri": "https://localhost:8080/"
        },
        "id": "66pljX2SrTGF",
        "outputId": "7a0cb226-0ffe-4f22-802e-000a0e61f451"
      },
      "execution_count": 6,
      "outputs": [
        {
          "output_type": "stream",
          "name": "stdout",
          "text": [
            "()\n",
            "<class 'tuple'>\n",
            "_____\n",
            "()\n",
            "<class 'tuple'>\n",
            "_____\n",
            "()\n",
            "<class 'tuple'>\n"
          ]
        }
      ]
    },
    {
      "cell_type": "code",
      "source": [
        "t=tuple(\" \")\n",
        "print(t)\n",
        "print(type(t))\n"
      ],
      "metadata": {
        "colab": {
          "base_uri": "https://localhost:8080/"
        },
        "id": "GzqU-7a6swem",
        "outputId": "21a16ff1-ea03-4f39-f0ca-5eff1ef7fbbf"
      },
      "execution_count": 8,
      "outputs": [
        {
          "output_type": "stream",
          "name": "stdout",
          "text": [
            "(' ',)\n",
            "<class 'tuple'>\n"
          ]
        }
      ]
    },
    {
      "cell_type": "code",
      "source": [
        "t1=(1)\n",
        "t2=1\n",
        "t3=1,\n",
        "t4=(1,)\n",
        "print(t1)\n",
        "print(type(t1))\n",
        "print(t2)\n",
        "print(type(t2))\n",
        "print(t3)\n",
        "print(type(t3))\n",
        "print(t4)\n",
        "print(type(t4))\n",
        "#if tuples of length one  t=a/(a) treated as int so to mention it as tuple we have to keep a comma\n",
        "#Adding a comma makes it a tuple with one element"
      ],
      "metadata": {
        "colab": {
          "base_uri": "https://localhost:8080/"
        },
        "id": "c3bHWm5k2uMI",
        "outputId": "a126d5a6-e601-46a3-9674-ef1462164101"
      },
      "execution_count": 9,
      "outputs": [
        {
          "output_type": "stream",
          "name": "stdout",
          "text": [
            "1\n",
            "<class 'int'>\n",
            "1\n",
            "<class 'int'>\n",
            "(1,)\n",
            "<class 'tuple'>\n",
            "(1,)\n",
            "<class 'tuple'>\n"
          ]
        }
      ]
    },
    {
      "cell_type": "markdown",
      "source": [
        "**initializing tuple with multiple items**"
      ],
      "metadata": {
        "id": "L3gzo_ih4tQq"
      }
    },
    {
      "cell_type": "code",
      "source": [
        "#defining tuple in 2 ways\n",
        "#even though we dont give paranthesis and we gve comma python will consider as  tuple\n",
        "t1=\"a\",\"b\",\"c\"\n",
        "t2=(\"a\",\"b\",\"c\")\n",
        "print(t1)\n",
        "print(type(t1))\n",
        "print(t2)\n",
        "print(type(t2))"
      ],
      "metadata": {
        "colab": {
          "base_uri": "https://localhost:8080/"
        },
        "id": "ny0ql4ZL3NmV",
        "outputId": "35b31d90-2b9a-4a87-c822-d5338f813a93"
      },
      "execution_count": 10,
      "outputs": [
        {
          "output_type": "stream",
          "name": "stdout",
          "text": [
            "('a', 'b', 'c')\n",
            "<class 'tuple'>\n",
            "('a', 'b', 'c')\n",
            "<class 'tuple'>\n"
          ]
        }
      ]
    },
    {
      "cell_type": "markdown",
      "source": [
        "**Tuple unpacking**"
      ],
      "metadata": {
        "id": "JbFKjnjg5DK5"
      }
    },
    {
      "cell_type": "code",
      "source": [
        "a=(1,2,3,4)\n",
        "(i,j,k,l)=(1,2,3,4)\n",
        "print(1,j,k,l)\n",
        "print(1)\n",
        "print(j)\n",
        "print(k)\n",
        "print(l)"
      ],
      "metadata": {
        "colab": {
          "base_uri": "https://localhost:8080/"
        },
        "id": "3MiPXOzP6RUC",
        "outputId": "3fa45878-66f1-40b8-de45-599d2b68f369"
      },
      "execution_count": 12,
      "outputs": [
        {
          "output_type": "stream",
          "name": "stdout",
          "text": [
            "1 2 3 4\n",
            "1\n",
            "2\n",
            "3\n",
            "4\n"
          ]
        }
      ]
    },
    {
      "cell_type": "code",
      "source": [
        "a,b =(1,2,3,4,5,6,7)\n",
        "print(a,b)\n",
        "#we shldnt assign 7 values to 2 values"
      ],
      "metadata": {
        "colab": {
          "base_uri": "https://localhost:8080/",
          "height": 176
        },
        "id": "Ql9uc9vC6jpl",
        "outputId": "0f6d9425-8563-445d-c2e0-ec05cef320af"
      },
      "execution_count": 14,
      "outputs": [
        {
          "output_type": "error",
          "ename": "ValueError",
          "evalue": "too many values to unpack (expected 2)",
          "traceback": [
            "\u001b[0;31m---------------------------------------------------------------------------\u001b[0m",
            "\u001b[0;31mValueError\u001b[0m                                Traceback (most recent call last)",
            "\u001b[0;32m<ipython-input-14-b95e49c43b68>\u001b[0m in \u001b[0;36m<cell line: 1>\u001b[0;34m()\u001b[0m\n\u001b[0;32m----> 1\u001b[0;31m \u001b[0ma\u001b[0m\u001b[0;34m,\u001b[0m\u001b[0mb\u001b[0m \u001b[0;34m=\u001b[0m\u001b[0;34m(\u001b[0m\u001b[0;36m1\u001b[0m\u001b[0;34m,\u001b[0m\u001b[0;36m2\u001b[0m\u001b[0;34m,\u001b[0m\u001b[0;36m3\u001b[0m\u001b[0;34m,\u001b[0m\u001b[0;36m4\u001b[0m\u001b[0;34m,\u001b[0m\u001b[0;36m5\u001b[0m\u001b[0;34m,\u001b[0m\u001b[0;36m6\u001b[0m\u001b[0;34m,\u001b[0m\u001b[0;36m7\u001b[0m\u001b[0;34m)\u001b[0m\u001b[0;34m\u001b[0m\u001b[0;34m\u001b[0m\u001b[0m\n\u001b[0m\u001b[1;32m      2\u001b[0m \u001b[0mprint\u001b[0m\u001b[0;34m(\u001b[0m\u001b[0ma\u001b[0m\u001b[0;34m,\u001b[0m\u001b[0mb\u001b[0m\u001b[0;34m)\u001b[0m\u001b[0;34m\u001b[0m\u001b[0;34m\u001b[0m\u001b[0m\n\u001b[1;32m      3\u001b[0m \u001b[0;31m#we shldnt assign 7 values to 2 values\u001b[0m\u001b[0;34m\u001b[0m\u001b[0;34m\u001b[0m\u001b[0m\n",
            "\u001b[0;31mValueError\u001b[0m: too many values to unpack (expected 2)"
          ]
        }
      ]
    },
    {
      "cell_type": "code",
      "source": [
        "#suppose i want to take only a value  as 1\n"
      ],
      "metadata": {
        "id": "szWS_NKv61hC"
      },
      "execution_count": 15,
      "outputs": []
    },
    {
      "cell_type": "markdown",
      "source": [
        "use of * operator **bold text**"
      ],
      "metadata": {
        "id": "yzLuNKj87GHE"
      }
    },
    {
      "cell_type": "code",
      "source": [
        "a,*b =(1,2,3,4,5,6,7)\n",
        "print(a,b)\n",
        "print(a)\n",
        "print(type(a))\n",
        "print(b)\n",
        "print(type(b))\n",
        "#here it wont be a tuple it is list\n",
        "\n"
      ],
      "metadata": {
        "colab": {
          "base_uri": "https://localhost:8080/"
        },
        "id": "ZSUWvJmu7JhF",
        "outputId": "9eca087f-f40a-4070-bfa5-258b86f49673"
      },
      "execution_count": 16,
      "outputs": [
        {
          "output_type": "stream",
          "name": "stdout",
          "text": [
            "1 [2, 3, 4, 5, 6, 7]\n",
            "1\n",
            "<class 'int'>\n",
            "[2, 3, 4, 5, 6, 7]\n",
            "<class 'list'>\n"
          ]
        }
      ]
    },
    {
      "cell_type": "code",
      "source": [
        "*a,b,c,d =(1,2,3,4,5,6,7)\n",
        "print(a)\n",
        "print(type(a))\n",
        "print(b)\n",
        "print(type(b))\n",
        "print(c)\n",
        "print(type(c))\n",
        "print(d)\n",
        "print(type(d))\n"
      ],
      "metadata": {
        "colab": {
          "base_uri": "https://localhost:8080/"
        },
        "id": "M9gnFyf2V0_-",
        "outputId": "f847288f-75af-4d82-c6c6-eac2e8a29896"
      },
      "execution_count": 1,
      "outputs": [
        {
          "output_type": "stream",
          "name": "stdout",
          "text": [
            "[1, 2, 3, 4]\n",
            "<class 'list'>\n",
            "5\n",
            "<class 'int'>\n",
            "6\n",
            "<class 'int'>\n",
            "7\n",
            "<class 'int'>\n"
          ]
        }
      ]
    },
    {
      "cell_type": "code",
      "source": [
        "a,*b,c,d =(1,2,3,4,5,6,7)\n",
        "print(a)\n",
        "print(type(a))\n",
        "print(b)\n",
        "print(type(b))\n",
        "print(c)\n",
        "print(type(c))\n",
        "print(d)\n",
        "print(type(d))"
      ],
      "metadata": {
        "colab": {
          "base_uri": "https://localhost:8080/"
        },
        "id": "krkm1RMpWVB8",
        "outputId": "fd71995d-d080-47c3-b8cf-7580ff0b0318"
      },
      "execution_count": 2,
      "outputs": [
        {
          "output_type": "stream",
          "name": "stdout",
          "text": [
            "1\n",
            "<class 'int'>\n",
            "[2, 3, 4, 5]\n",
            "<class 'list'>\n",
            "6\n",
            "<class 'int'>\n",
            "7\n",
            "<class 'int'>\n"
          ]
        }
      ]
    },
    {
      "cell_type": "code",
      "source": [
        "a,b,*c,d =(1,2,3,4,5,6,7)\n",
        "print(a)\n",
        "print(type(a))\n",
        "print(b)\n",
        "print(type(b))\n",
        "print(c)\n",
        "print(type(c))\n",
        "print(d)\n",
        "print(type(d))"
      ],
      "metadata": {
        "colab": {
          "base_uri": "https://localhost:8080/"
        },
        "id": "YT6TKntuWcrf",
        "outputId": "51765fe7-0ff4-4179-c05a-fac27ca185a8"
      },
      "execution_count": 3,
      "outputs": [
        {
          "output_type": "stream",
          "name": "stdout",
          "text": [
            "1\n",
            "<class 'int'>\n",
            "2\n",
            "<class 'int'>\n",
            "[3, 4, 5, 6]\n",
            "<class 'list'>\n",
            "7\n",
            "<class 'int'>\n"
          ]
        }
      ]
    },
    {
      "cell_type": "code",
      "source": [
        "a,*b,*c,d =(1,2,3,4,5,6,7)\n",
        "print(a)\n",
        "print(type(a))\n",
        "print(b)\n",
        "print(type(b))\n",
        "print(c)\n",
        "print(type(c))\n",
        "print(d)\n",
        "print(type(d))"
      ],
      "metadata": {
        "colab": {
          "base_uri": "https://localhost:8080/",
          "height": 106
        },
        "id": "dzfajQ_wWhUj",
        "outputId": "5b0c5a3a-a948-4c53-c28c-9682e4fc2202"
      },
      "execution_count": 4,
      "outputs": [
        {
          "output_type": "error",
          "ename": "SyntaxError",
          "evalue": "multiple starred expressions in assignment (<ipython-input-4-c0cfc2b0bcf4>, line 1)",
          "traceback": [
            "\u001b[0;36m  File \u001b[0;32m\"<ipython-input-4-c0cfc2b0bcf4>\"\u001b[0;36m, line \u001b[0;32m1\u001b[0m\n\u001b[0;31m    a,*b,*c,d =(1,2,3,4,5,6,7)\u001b[0m\n\u001b[0m    ^\u001b[0m\n\u001b[0;31mSyntaxError\u001b[0m\u001b[0;31m:\u001b[0m multiple starred expressions in assignment\n"
          ]
        }
      ]
    },
    {
      "cell_type": "code",
      "source": [
        "a,*b=(1,2)\n",
        "c,d=(3,4)\n",
        "print(a)\n",
        "print(type(a))\n",
        "#even if we have single element with * it will be list\n",
        "print(b)\n",
        "print(type(b))\n",
        "print(c)\n",
        "print(type(c))\n",
        "print(d)\n",
        "print(type(d))"
      ],
      "metadata": {
        "colab": {
          "base_uri": "https://localhost:8080/"
        },
        "id": "abG9v17FeLu7",
        "outputId": "bd440cc8-8693-457c-ba2e-c5d39db46d4f"
      },
      "execution_count": 5,
      "outputs": [
        {
          "output_type": "stream",
          "name": "stdout",
          "text": [
            "1\n",
            "<class 'int'>\n",
            "[2]\n",
            "<class 'list'>\n",
            "3\n",
            "<class 'int'>\n",
            "4\n",
            "<class 'int'>\n"
          ]
        }
      ]
    },
    {
      "cell_type": "code",
      "source": [
        "a,b,c,d=(1,2)\n",
        "print(a)\n",
        "print(b)\n",
        "print(c)\n",
        "print(d)\n"
      ],
      "metadata": {
        "colab": {
          "base_uri": "https://localhost:8080/",
          "height": 211
        },
        "id": "guPGdarqefms",
        "outputId": "d9f9860c-f574-4b70-d66b-9fa3cd7c1bc5"
      },
      "execution_count": 6,
      "outputs": [
        {
          "output_type": "error",
          "ename": "ValueError",
          "evalue": "not enough values to unpack (expected 4, got 2)",
          "traceback": [
            "\u001b[0;31m---------------------------------------------------------------------------\u001b[0m",
            "\u001b[0;31mValueError\u001b[0m                                Traceback (most recent call last)",
            "\u001b[0;32m<ipython-input-6-6c030d46b0f5>\u001b[0m in \u001b[0;36m<cell line: 1>\u001b[0;34m()\u001b[0m\n\u001b[0;32m----> 1\u001b[0;31m \u001b[0ma\u001b[0m\u001b[0;34m,\u001b[0m\u001b[0mb\u001b[0m\u001b[0;34m,\u001b[0m\u001b[0mc\u001b[0m\u001b[0;34m,\u001b[0m\u001b[0md\u001b[0m\u001b[0;34m=\u001b[0m\u001b[0;34m(\u001b[0m\u001b[0;36m1\u001b[0m\u001b[0;34m,\u001b[0m\u001b[0;36m2\u001b[0m\u001b[0;34m)\u001b[0m\u001b[0;34m\u001b[0m\u001b[0;34m\u001b[0m\u001b[0m\n\u001b[0m\u001b[1;32m      2\u001b[0m \u001b[0mprint\u001b[0m\u001b[0;34m(\u001b[0m\u001b[0ma\u001b[0m\u001b[0;34m)\u001b[0m\u001b[0;34m\u001b[0m\u001b[0;34m\u001b[0m\u001b[0m\n\u001b[1;32m      3\u001b[0m \u001b[0mprint\u001b[0m\u001b[0;34m(\u001b[0m\u001b[0mb\u001b[0m\u001b[0;34m)\u001b[0m\u001b[0;34m\u001b[0m\u001b[0;34m\u001b[0m\u001b[0m\n\u001b[1;32m      4\u001b[0m \u001b[0mprint\u001b[0m\u001b[0;34m(\u001b[0m\u001b[0mc\u001b[0m\u001b[0;34m)\u001b[0m\u001b[0;34m\u001b[0m\u001b[0;34m\u001b[0m\u001b[0m\n\u001b[1;32m      5\u001b[0m \u001b[0mprint\u001b[0m\u001b[0;34m(\u001b[0m\u001b[0md\u001b[0m\u001b[0;34m)\u001b[0m\u001b[0;34m\u001b[0m\u001b[0;34m\u001b[0m\u001b[0m\n",
            "\u001b[0;31mValueError\u001b[0m: not enough values to unpack (expected 4, got 2)"
          ]
        }
      ]
    },
    {
      "cell_type": "code",
      "source": [
        "a,b=(1,2,3)\n",
        "print(a)\n",
        "print(b)"
      ],
      "metadata": {
        "colab": {
          "base_uri": "https://localhost:8080/",
          "height": 176
        },
        "id": "WV0GGalMe34Z",
        "outputId": "a8270bd6-4e8b-4b12-aa46-07f92888878f"
      },
      "execution_count": 7,
      "outputs": [
        {
          "output_type": "error",
          "ename": "ValueError",
          "evalue": "too many values to unpack (expected 2)",
          "traceback": [
            "\u001b[0;31m---------------------------------------------------------------------------\u001b[0m",
            "\u001b[0;31mValueError\u001b[0m                                Traceback (most recent call last)",
            "\u001b[0;32m<ipython-input-7-87cf2e313f0e>\u001b[0m in \u001b[0;36m<cell line: 1>\u001b[0;34m()\u001b[0m\n\u001b[0;32m----> 1\u001b[0;31m \u001b[0ma\u001b[0m\u001b[0;34m,\u001b[0m\u001b[0mb\u001b[0m\u001b[0;34m=\u001b[0m\u001b[0;34m(\u001b[0m\u001b[0;36m1\u001b[0m\u001b[0;34m,\u001b[0m\u001b[0;36m2\u001b[0m\u001b[0;34m,\u001b[0m\u001b[0;36m3\u001b[0m\u001b[0;34m)\u001b[0m\u001b[0;34m\u001b[0m\u001b[0;34m\u001b[0m\u001b[0m\n\u001b[0m\u001b[1;32m      2\u001b[0m \u001b[0mprint\u001b[0m\u001b[0;34m(\u001b[0m\u001b[0ma\u001b[0m\u001b[0;34m)\u001b[0m\u001b[0;34m\u001b[0m\u001b[0;34m\u001b[0m\u001b[0m\n\u001b[1;32m      3\u001b[0m \u001b[0mprint\u001b[0m\u001b[0;34m(\u001b[0m\u001b[0mb\u001b[0m\u001b[0;34m)\u001b[0m\u001b[0;34m\u001b[0m\u001b[0;34m\u001b[0m\u001b[0m\n",
            "\u001b[0;31mValueError\u001b[0m: too many values to unpack (expected 2)"
          ]
        }
      ]
    },
    {
      "cell_type": "code",
      "source": [
        "a,*b=[1,2,3]\n",
        "#in lists also packing and unpacking is works\n",
        "print(a)\n",
        "print(b)"
      ],
      "metadata": {
        "colab": {
          "base_uri": "https://localhost:8080/"
        },
        "id": "Zb9DJiu3e9tN",
        "outputId": "002fac2d-7ed3-4504-fce9-d61ac6d0db36"
      },
      "execution_count": 9,
      "outputs": [
        {
          "output_type": "stream",
          "name": "stdout",
          "text": [
            "1\n",
            "[2, 3]\n"
          ]
        }
      ]
    },
    {
      "cell_type": "markdown",
      "source": [
        "**Accessing tuples**"
      ],
      "metadata": {
        "id": "nQtNihRJfTqH"
      }
    },
    {
      "cell_type": "code",
      "source": [
        "t=tuple(\"python\")\n",
        "print(t)\n",
        "print(type(t))"
      ],
      "metadata": {
        "colab": {
          "base_uri": "https://localhost:8080/"
        },
        "id": "GOx5rcBjf3z2",
        "outputId": "7c2bf77a-0972-4b06-a389-9ba8d028762b"
      },
      "execution_count": 11,
      "outputs": [
        {
          "output_type": "stream",
          "name": "stdout",
          "text": [
            "('p', 'y', 't', 'h', 'o', 'n')\n",
            "<class 'tuple'>\n"
          ]
        }
      ]
    },
    {
      "cell_type": "code",
      "source": [
        "#index starts from 0 and from backwards -1\n",
        "print(t[0])\n",
        "print(t[1])\n",
        "print(t[-1])\n",
        "print(t[-2])"
      ],
      "metadata": {
        "colab": {
          "base_uri": "https://localhost:8080/"
        },
        "id": "gKbha5YJffhL",
        "outputId": "2133d244-4b28-4896-8911-5c3f1d59e658"
      },
      "execution_count": 12,
      "outputs": [
        {
          "output_type": "stream",
          "name": "stdout",
          "text": [
            "p\n",
            "y\n",
            "n\n",
            "o\n"
          ]
        }
      ]
    },
    {
      "cell_type": "markdown",
      "source": [
        "**Slicing a tuple**"
      ],
      "metadata": {
        "id": "qR-61AwbgnFx"
      }
    },
    {
      "cell_type": "code",
      "source": [
        "t=tuple(\"python\")\n",
        "print(t)\n",
        "print(t[1:3])\n",
        "print(t[1:])"
      ],
      "metadata": {
        "colab": {
          "base_uri": "https://localhost:8080/"
        },
        "id": "BCH4pk3RgcTr",
        "outputId": "c2195f48-9997-4808-ffa8-670793dd3e82"
      },
      "execution_count": 14,
      "outputs": [
        {
          "output_type": "stream",
          "name": "stdout",
          "text": [
            "('p', 'y', 't', 'h', 'o', 'n')\n",
            "('y', 't')\n",
            "('y', 't', 'h', 'o', 'n')\n"
          ]
        }
      ]
    },
    {
      "cell_type": "code",
      "source": [
        "l=list(\"python\")\n",
        "t=tuple(\"python\")\n",
        "print(l)\n",
        "print(t)\n",
        "l[0] = \"m\"\n",
        "print(l)\n",
        "t[0] = 'm'\n",
        "print(t)\n",
        "\n",
        "#tuple doesnt support item assignment we cant change values in tuple - immutable"
      ],
      "metadata": {
        "colab": {
          "base_uri": "https://localhost:8080/",
          "height": 245
        },
        "id": "JjQpEk99g6hn",
        "outputId": "df8d861e-6993-4b45-81a9-bd39042638d7"
      },
      "execution_count": 20,
      "outputs": [
        {
          "output_type": "stream",
          "name": "stdout",
          "text": [
            "['p', 'y', 't', 'h', 'o', 'n']\n",
            "('p', 'y', 't', 'h', 'o', 'n')\n",
            "['m', 'y', 't', 'h', 'o', 'n']\n"
          ]
        },
        {
          "output_type": "error",
          "ename": "TypeError",
          "evalue": "'tuple' object does not support item assignment",
          "traceback": [
            "\u001b[0;31m---------------------------------------------------------------------------\u001b[0m",
            "\u001b[0;31mTypeError\u001b[0m                                 Traceback (most recent call last)",
            "\u001b[0;32m<ipython-input-20-74c48523a195>\u001b[0m in \u001b[0;36m<cell line: 7>\u001b[0;34m()\u001b[0m\n\u001b[1;32m      5\u001b[0m \u001b[0ml\u001b[0m\u001b[0;34m[\u001b[0m\u001b[0;36m0\u001b[0m\u001b[0;34m]\u001b[0m \u001b[0;34m=\u001b[0m \u001b[0;34m\"m\"\u001b[0m\u001b[0;34m\u001b[0m\u001b[0;34m\u001b[0m\u001b[0m\n\u001b[1;32m      6\u001b[0m \u001b[0mprint\u001b[0m\u001b[0;34m(\u001b[0m\u001b[0ml\u001b[0m\u001b[0;34m)\u001b[0m\u001b[0;34m\u001b[0m\u001b[0;34m\u001b[0m\u001b[0m\n\u001b[0;32m----> 7\u001b[0;31m \u001b[0mt\u001b[0m\u001b[0;34m[\u001b[0m\u001b[0;36m0\u001b[0m\u001b[0;34m]\u001b[0m \u001b[0;34m=\u001b[0m \u001b[0;34m'm'\u001b[0m\u001b[0;34m\u001b[0m\u001b[0;34m\u001b[0m\u001b[0m\n\u001b[0m\u001b[1;32m      8\u001b[0m \u001b[0mprint\u001b[0m\u001b[0;34m(\u001b[0m\u001b[0mt\u001b[0m\u001b[0;34m)\u001b[0m\u001b[0;34m\u001b[0m\u001b[0;34m\u001b[0m\u001b[0m\n",
            "\u001b[0;31mTypeError\u001b[0m: 'tuple' object does not support item assignment"
          ]
        }
      ]
    },
    {
      "cell_type": "code",
      "source": [
        "l=[1,2,3,4]\n",
        "t=(5,6,7,l)\n",
        "print(l)\n",
        "print(t)\n",
        "print(type(t))\n",
        "l[0]=10\n",
        "print(t)\n",
        "#if we change a list the value gets changed in tuple also"
      ],
      "metadata": {
        "colab": {
          "base_uri": "https://localhost:8080/"
        },
        "id": "QMT_bPLniA9L",
        "outputId": "a0c0efd0-9e02-4a39-e02a-b16ac8857b07"
      },
      "execution_count": 23,
      "outputs": [
        {
          "output_type": "stream",
          "name": "stdout",
          "text": [
            "[1, 2, 3, 4]\n",
            "(5, 6, 7, [1, 2, 3, 4])\n",
            "<class 'tuple'>\n",
            "(5, 6, 7, [10, 2, 3, 4])\n"
          ]
        }
      ]
    },
    {
      "cell_type": "code",
      "source": [
        "print(t)\n",
        "t[3][1]=1000\n",
        "print(t)"
      ],
      "metadata": {
        "colab": {
          "base_uri": "https://localhost:8080/"
        },
        "id": "JKZ0ZsFYiwYf",
        "outputId": "edb42f22-982e-499c-b017-f1c8e1b567b7"
      },
      "execution_count": 25,
      "outputs": [
        {
          "output_type": "stream",
          "name": "stdout",
          "text": [
            "(5, 6, 7, [10, 2, 3, 4])\n",
            "(5, 6, 7, [10, 1000, 3, 4])\n"
          ]
        }
      ]
    },
    {
      "cell_type": "code",
      "source": [
        "t[3] = [10,1000,3,4]\n",
        "print(t)\n",
        "#tuple is immutable"
      ],
      "metadata": {
        "colab": {
          "base_uri": "https://localhost:8080/",
          "height": 158
        },
        "id": "dUqEftDyjhDf",
        "outputId": "a2bde814-9666-4400-f1bd-d618e5a75443"
      },
      "execution_count": 28,
      "outputs": [
        {
          "output_type": "error",
          "ename": "TypeError",
          "evalue": "'tuple' object does not support item assignment",
          "traceback": [
            "\u001b[0;31m---------------------------------------------------------------------------\u001b[0m",
            "\u001b[0;31mTypeError\u001b[0m                                 Traceback (most recent call last)",
            "\u001b[0;32m<ipython-input-28-b8261b9570d3>\u001b[0m in \u001b[0;36m<cell line: 1>\u001b[0;34m()\u001b[0m\n\u001b[0;32m----> 1\u001b[0;31m \u001b[0mt\u001b[0m\u001b[0;34m[\u001b[0m\u001b[0;36m3\u001b[0m\u001b[0;34m]\u001b[0m \u001b[0;34m=\u001b[0m \u001b[0;34m[\u001b[0m\u001b[0;36m10\u001b[0m\u001b[0;34m,\u001b[0m\u001b[0;36m1000\u001b[0m\u001b[0;34m,\u001b[0m\u001b[0;36m3\u001b[0m\u001b[0;34m,\u001b[0m\u001b[0;36m4\u001b[0m\u001b[0;34m]\u001b[0m\u001b[0;34m\u001b[0m\u001b[0;34m\u001b[0m\u001b[0m\n\u001b[0m\u001b[1;32m      2\u001b[0m \u001b[0mprint\u001b[0m\u001b[0;34m(\u001b[0m\u001b[0mt\u001b[0m\u001b[0;34m)\u001b[0m\u001b[0;34m\u001b[0m\u001b[0;34m\u001b[0m\u001b[0m\n",
            "\u001b[0;31mTypeError\u001b[0m: 'tuple' object does not support item assignment"
          ]
        }
      ]
    },
    {
      "cell_type": "code",
      "source": [
        "# t=(1,2,3,4,[10,20,30])\n",
        "# t[4]=[10,20]\n",
        "# t[4][2]=50\n",
        "# o/p = (1,2,3,4,[100,20,50])\n",
        "#tuple are immuatble we cannot change once created\n",
        "#above we change list not tuple\n",
        "#the value we changed is tuple which resulted in the values changed in list inside of tuple"
      ],
      "metadata": {
        "id": "h-8ajPeikZwe"
      },
      "execution_count": 29,
      "outputs": []
    },
    {
      "cell_type": "code",
      "source": [
        "l=[1,2,3,4] #list\n",
        "m=l\n",
        "print(m)\n",
        "print(l)\n",
        "print(id(m))\n",
        "print(id(m))\n",
        "#but wen are assigning l to m then both point to same id"
      ],
      "metadata": {
        "colab": {
          "base_uri": "https://localhost:8080/"
        },
        "id": "oZhHr_m4lKNF",
        "outputId": "8f6c2e55-392a-449e-bfff-7c8f7f55256b"
      },
      "execution_count": 30,
      "outputs": [
        {
          "output_type": "stream",
          "name": "stdout",
          "text": [
            "[1, 2, 3, 4]\n",
            "[1, 2, 3, 4]\n",
            "133168002013440\n",
            "133168002013440\n"
          ]
        }
      ]
    },
    {
      "cell_type": "code",
      "source": [
        "l=[1,2,3,4] #list\n",
        "m=[1,2,3,4]\n",
        "print(l)\n",
        "print(m)\n",
        "print(id(l))\n",
        "print(id(m))\n",
        "#even though both list are same doesnt mean id are pointing same"
      ],
      "metadata": {
        "colab": {
          "base_uri": "https://localhost:8080/"
        },
        "id": "xRrc9_flllHP",
        "outputId": "5a19e625-921c-4705-d593-7c1817e12699"
      },
      "execution_count": 33,
      "outputs": [
        {
          "output_type": "stream",
          "name": "stdout",
          "text": [
            "[1, 2, 3, 4]\n",
            "[1, 2, 3, 4]\n",
            "133168002170496\n",
            "133168002159296\n"
          ]
        }
      ]
    },
    {
      "cell_type": "code",
      "source": [
        "\n",
        "l=[1,2,3,4] #list\n",
        "m=[1,2,3,4]\n",
        "l=m\n",
        "l[0]=1000\n",
        "print(l)\n",
        "print(m)\n",
        "print(id(l))\n",
        "print(id(m))"
      ],
      "metadata": {
        "colab": {
          "base_uri": "https://localhost:8080/"
        },
        "id": "2RE3m-RRmF3y",
        "outputId": "accbbdb0-e04b-4161-ef00-0c637ecd389b"
      },
      "execution_count": 36,
      "outputs": [
        {
          "output_type": "stream",
          "name": "stdout",
          "text": [
            "[1000, 2, 3, 4]\n",
            "[1000, 2, 3, 4]\n",
            "133168002155072\n",
            "133168002155072\n"
          ]
        }
      ]
    },
    {
      "cell_type": "code",
      "source": [
        "l=[1,2,3,4] #list\n",
        "m=[1,2,3,4]\n",
        "l[0]=1000\n",
        "print(l)\n",
        "print(m)\n",
        "print(id(l))\n",
        "print(id(m))"
      ],
      "metadata": {
        "colab": {
          "base_uri": "https://localhost:8080/"
        },
        "id": "eIdpL2W6meLo",
        "outputId": "0ee5e1d1-0f51-4f50-88f9-b52371b17871"
      },
      "execution_count": 37,
      "outputs": [
        {
          "output_type": "stream",
          "name": "stdout",
          "text": [
            "[1000, 2, 3, 4]\n",
            "[1, 2, 3, 4]\n",
            "133168001892992\n",
            "133168002156928\n"
          ]
        }
      ]
    },
    {
      "cell_type": "markdown",
      "source": [
        "**copy()**"
      ],
      "metadata": {
        "id": "pSMHWy3imy0P"
      }
    },
    {
      "cell_type": "code",
      "source": [
        "l =[1,2,3,4,5]\n",
        "m=l.copy()\n",
        "print(l)\n",
        "print(m)\n",
        "print(id(l))\n",
        "print(id(m))\n",
        "#m l are same but id are different\n",
        "l[0]=100\n",
        "print(l)\n",
        "print(m)\n",
        "print(id(l))\n",
        "print(id(m))\n",
        "#chnage value in l doesnt make changes in id of lm it will be same as before"
      ],
      "metadata": {
        "colab": {
          "base_uri": "https://localhost:8080/"
        },
        "id": "15yJedfemttA",
        "outputId": "5a8f43e6-c63a-461e-86ab-d751e98ae17d"
      },
      "execution_count": 42,
      "outputs": [
        {
          "output_type": "stream",
          "name": "stdout",
          "text": [
            "[1, 2, 3, 4, 5]\n",
            "[1, 2, 3, 4, 5]\n",
            "133168000474304\n",
            "133168855213824\n",
            "[100, 2, 3, 4, 5]\n",
            "[1, 2, 3, 4, 5]\n",
            "133168000474304\n",
            "133168855213824\n"
          ]
        }
      ]
    },
    {
      "cell_type": "code",
      "source": [
        "slist =['a','b','c']\n",
        "l=[1,2,3,slist]\n",
        "m=l.copy()\n",
        "print(l)\n",
        "print(m)\n",
        "print(id(l))\n",
        "print(id(m))\n",
        "\n",
        "slist[1]=\"pavani\"\n",
        "print(l)\n",
        "print(m)\n",
        "print(id(l))\n",
        "print(id(m))\n",
        "\n",
        "#The id() of l and m differ because l.copy() creates a new list.\n",
        "# Modifying the first element of l does not affect m, but modifying the nested slist does because slist is referenced in both l and m."
      ],
      "metadata": {
        "colab": {
          "base_uri": "https://localhost:8080/"
        },
        "id": "HKZvdrhxn1pL",
        "outputId": "f1899eab-08bc-4e6a-dab7-92c8f1d4ccb3"
      },
      "execution_count": 44,
      "outputs": [
        {
          "output_type": "stream",
          "name": "stdout",
          "text": [
            "[1, 2, 3, ['a', 'b', 'c']]\n",
            "[1, 2, 3, ['a', 'b', 'c']]\n",
            "133168003369344\n",
            "133168003377920\n",
            "[1, 2, 3, ['a', 'pavani', 'c']]\n",
            "[1, 2, 3, ['a', 'pavani', 'c']]\n",
            "133168003369344\n",
            "133168003377920\n"
          ]
        }
      ]
    },
    {
      "cell_type": "code",
      "source": [
        "import copy\n",
        "#if you change sublist but diest copy to m we have to add copy.deepcopy()\n",
        "slist =['a','b','c']\n",
        "l=[1,2,3,slist]\n",
        "\n",
        "m = copy.deepcopy(l)\n",
        "print(l)\n",
        "print(m)\n",
        "print(id(l))\n",
        "print(id(m))\n",
        "\n",
        "slist[1]=\"pavani\"\n",
        "print(l)\n",
        "print(m)\n",
        "print(id(l))\n",
        "print(id(m))\n"
      ],
      "metadata": {
        "colab": {
          "base_uri": "https://localhost:8080/"
        },
        "id": "n0IzeGC3ps0z",
        "outputId": "7cd72b9e-7ac6-4e3d-9887-660d925b90bc"
      },
      "execution_count": 53,
      "outputs": [
        {
          "output_type": "stream",
          "name": "stdout",
          "text": [
            "[1, 2, 3, ['a', 'b', 'c']]\n",
            "[1, 2, 3, ['a', 'b', 'c']]\n",
            "133168000409216\n",
            "133168002166528\n",
            "[1, 2, 3, ['a', 'pavani', 'c']]\n",
            "[1, 2, 3, ['a', 'b', 'c']]\n",
            "133168000409216\n",
            "133168002166528\n"
          ]
        }
      ]
    },
    {
      "cell_type": "code",
      "source": [
        "#same in case of tuple of above operations\n",
        "l=(1,2,3,4)#tuple\n",
        "m=(1,2,3,4)\n",
        "print(l)\n",
        "print(m)\n",
        "print(id(l))\n",
        "print(id(m))\n",
        "\n",
        "print(\"___________________\")\n",
        "l=(1,2,3,4)\n",
        "m=(1,2,3,4)\n",
        "l=m\n",
        "l[0]=1000\n",
        "print(l)\n",
        "print(m)\n",
        "print(id(l))\n",
        "print(id(m))\n",
        "# This will print the tuple l and m, followed by their memory addresses (which should be the same since tuples are immutable and l and m are identical).\n",
        "print(\"___________________\")\n",
        "l=(1,2,3,4)\n",
        "m=(1,2,3,4)\n",
        "l[0]=1000\n",
        "print(l)\n",
        "print(m)\n",
        "print(id(l))\n",
        "print(id(m))\n",
        "#This block will raise an error because tuples are immutable, and you cannot modify them directly by assigning to an index like l[0] = 1000.\n",
        "print(\"___________________\")\n",
        "l =(1,2,3,4,5)\n",
        "m=l.copy()\n",
        "print(l)\n",
        "print(m)\n",
        "print(id(l))\n",
        "print(id(m))\n",
        "l[0]=100\n",
        "print(l)\n",
        "print(m)\n",
        "print(id(l))\n",
        "print(id(m))\n",
        "#Similar to the second block, this will also raise an error because tuples are immutable and cannot be modified.\n",
        "print(\"___________________\")\n",
        "slist =('a','b','c')\n",
        "l=(1,2,3,slist)\n",
        "m=l.copy()\n",
        "print(l)\n",
        "print(m)\n",
        "print(id(l))\n",
        "print(id(m))\n",
        "\n",
        "slist[1]=\"pavani\"\n",
        "print(l)\n",
        "print(m)\n",
        "print(id(l))\n",
        "print(id(m))\n",
        "#This will raise an error because tuples do not have a copy() method\n",
        "#Explanation:\n",
        "# Tuples are immutable, meaning you cannot change their content after creation.\n",
        "# There is no copy() method for tuples.\n",
        "# You can only copy tuples using slicing, but since they are immutable, it's mostly unnecessary.\n",
        "# Modifying a list inside a tuple (as in the last block) will reflect in both l and m because they refer to the same list object inside the tuple."
      ],
      "metadata": {
        "colab": {
          "base_uri": "https://localhost:8080/",
          "height": 297
        },
        "id": "DvjSVDniq4M2",
        "outputId": "d4d62878-17e5-443f-8033-37d0cd9cec9b"
      },
      "execution_count": 54,
      "outputs": [
        {
          "output_type": "stream",
          "name": "stdout",
          "text": [
            "(1, 2, 3, 4)\n",
            "(1, 2, 3, 4)\n",
            "133168002202048\n",
            "133168000293184\n",
            "___________________\n"
          ]
        },
        {
          "output_type": "error",
          "ename": "TypeError",
          "evalue": "'tuple' object does not support item assignment",
          "traceback": [
            "\u001b[0;31m---------------------------------------------------------------------------\u001b[0m",
            "\u001b[0;31mTypeError\u001b[0m                                 Traceback (most recent call last)",
            "\u001b[0;32m<ipython-input-54-972f57debce0>\u001b[0m in \u001b[0;36m<cell line: 13>\u001b[0;34m()\u001b[0m\n\u001b[1;32m     11\u001b[0m \u001b[0mm\u001b[0m\u001b[0;34m=\u001b[0m\u001b[0;34m(\u001b[0m\u001b[0;36m1\u001b[0m\u001b[0;34m,\u001b[0m\u001b[0;36m2\u001b[0m\u001b[0;34m,\u001b[0m\u001b[0;36m3\u001b[0m\u001b[0;34m,\u001b[0m\u001b[0;36m4\u001b[0m\u001b[0;34m)\u001b[0m\u001b[0;34m\u001b[0m\u001b[0;34m\u001b[0m\u001b[0m\n\u001b[1;32m     12\u001b[0m \u001b[0ml\u001b[0m\u001b[0;34m=\u001b[0m\u001b[0mm\u001b[0m\u001b[0;34m\u001b[0m\u001b[0;34m\u001b[0m\u001b[0m\n\u001b[0;32m---> 13\u001b[0;31m \u001b[0ml\u001b[0m\u001b[0;34m[\u001b[0m\u001b[0;36m0\u001b[0m\u001b[0;34m]\u001b[0m\u001b[0;34m=\u001b[0m\u001b[0;36m1000\u001b[0m\u001b[0;34m\u001b[0m\u001b[0;34m\u001b[0m\u001b[0m\n\u001b[0m\u001b[1;32m     14\u001b[0m \u001b[0mprint\u001b[0m\u001b[0;34m(\u001b[0m\u001b[0ml\u001b[0m\u001b[0;34m)\u001b[0m\u001b[0;34m\u001b[0m\u001b[0;34m\u001b[0m\u001b[0m\n\u001b[1;32m     15\u001b[0m \u001b[0mprint\u001b[0m\u001b[0;34m(\u001b[0m\u001b[0mm\u001b[0m\u001b[0;34m)\u001b[0m\u001b[0;34m\u001b[0m\u001b[0;34m\u001b[0m\u001b[0m\n",
            "\u001b[0;31mTypeError\u001b[0m: 'tuple' object does not support item assignment"
          ]
        }
      ]
    },
    {
      "cell_type": "markdown",
      "source": [
        "**Updating tuple**"
      ],
      "metadata": {
        "id": "OCae_eNWuzf4"
      }
    },
    {
      "cell_type": "code",
      "source": [
        "l = [1,2,3,4,5]\n",
        "del l[1:3]\n",
        "print(l)\n",
        "#in lists"
      ],
      "metadata": {
        "colab": {
          "base_uri": "https://localhost:8080/"
        },
        "id": "05k3dXNSvmv8",
        "outputId": "2a63e19f-9be9-4342-86fa-35f4b49ca98f"
      },
      "execution_count": 55,
      "outputs": [
        {
          "output_type": "stream",
          "name": "stdout",
          "text": [
            "[1, 4, 5]\n"
          ]
        }
      ]
    },
    {
      "cell_type": "code",
      "source": [
        "l = (1,2,3,4,5)\n",
        "del l[1:3]\n",
        "print(l)\n",
        "#in tuple we cant remove"
      ],
      "metadata": {
        "colab": {
          "base_uri": "https://localhost:8080/",
          "height": 193
        },
        "id": "gP2axjN5ZDao",
        "outputId": "08b97c90-307a-428d-cf31-cfcac4baef73"
      },
      "execution_count": 57,
      "outputs": [
        {
          "output_type": "error",
          "ename": "TypeError",
          "evalue": "'tuple' object does not support item deletion",
          "traceback": [
            "\u001b[0;31m---------------------------------------------------------------------------\u001b[0m",
            "\u001b[0;31mTypeError\u001b[0m                                 Traceback (most recent call last)",
            "\u001b[0;32m<ipython-input-57-5e113a519790>\u001b[0m in \u001b[0;36m<cell line: 2>\u001b[0;34m()\u001b[0m\n\u001b[1;32m      1\u001b[0m \u001b[0ml\u001b[0m \u001b[0;34m=\u001b[0m \u001b[0;34m(\u001b[0m\u001b[0;36m1\u001b[0m\u001b[0;34m,\u001b[0m\u001b[0;36m2\u001b[0m\u001b[0;34m,\u001b[0m\u001b[0;36m3\u001b[0m\u001b[0;34m,\u001b[0m\u001b[0;36m4\u001b[0m\u001b[0;34m,\u001b[0m\u001b[0;36m5\u001b[0m\u001b[0;34m)\u001b[0m\u001b[0;34m\u001b[0m\u001b[0;34m\u001b[0m\u001b[0m\n\u001b[0;32m----> 2\u001b[0;31m \u001b[0;32mdel\u001b[0m \u001b[0ml\u001b[0m\u001b[0;34m[\u001b[0m\u001b[0;36m1\u001b[0m\u001b[0;34m:\u001b[0m\u001b[0;36m3\u001b[0m\u001b[0;34m]\u001b[0m\u001b[0;34m\u001b[0m\u001b[0;34m\u001b[0m\u001b[0m\n\u001b[0m\u001b[1;32m      3\u001b[0m \u001b[0mprint\u001b[0m\u001b[0;34m(\u001b[0m\u001b[0ml\u001b[0m\u001b[0;34m)\u001b[0m\u001b[0;34m\u001b[0m\u001b[0;34m\u001b[0m\u001b[0m\n\u001b[1;32m      4\u001b[0m \u001b[0;31m#in tuple we cant remove\u001b[0m\u001b[0;34m\u001b[0m\u001b[0;34m\u001b[0m\u001b[0m\n",
            "\u001b[0;31mTypeError\u001b[0m: 'tuple' object does not support item deletion"
          ]
        }
      ]
    },
    {
      "cell_type": "code",
      "source": [
        "l = (1,2,3,4,5)\n",
        "del l\n",
        "print(l)\n",
        "#we can delete complete  tuple but not bits and pieces bc of immutable nature"
      ],
      "metadata": {
        "colab": {
          "base_uri": "https://localhost:8080/",
          "height": 176
        },
        "id": "QM4Swdpga6YZ",
        "outputId": "39ebe2c3-0566-410e-b042-4eb1a40fb20c"
      },
      "execution_count": 59,
      "outputs": [
        {
          "output_type": "error",
          "ename": "NameError",
          "evalue": "name 'l' is not defined",
          "traceback": [
            "\u001b[0;31m---------------------------------------------------------------------------\u001b[0m",
            "\u001b[0;31mNameError\u001b[0m                                 Traceback (most recent call last)",
            "\u001b[0;32m<ipython-input-59-02549cb321d4>\u001b[0m in \u001b[0;36m<cell line: 3>\u001b[0;34m()\u001b[0m\n\u001b[1;32m      1\u001b[0m \u001b[0ml\u001b[0m \u001b[0;34m=\u001b[0m \u001b[0;34m(\u001b[0m\u001b[0;36m1\u001b[0m\u001b[0;34m,\u001b[0m\u001b[0;36m2\u001b[0m\u001b[0;34m,\u001b[0m\u001b[0;36m3\u001b[0m\u001b[0;34m,\u001b[0m\u001b[0;36m4\u001b[0m\u001b[0;34m,\u001b[0m\u001b[0;36m5\u001b[0m\u001b[0;34m)\u001b[0m\u001b[0;34m\u001b[0m\u001b[0;34m\u001b[0m\u001b[0m\n\u001b[1;32m      2\u001b[0m \u001b[0;32mdel\u001b[0m \u001b[0ml\u001b[0m\u001b[0;34m\u001b[0m\u001b[0;34m\u001b[0m\u001b[0m\n\u001b[0;32m----> 3\u001b[0;31m \u001b[0mprint\u001b[0m\u001b[0;34m(\u001b[0m\u001b[0ml\u001b[0m\u001b[0;34m)\u001b[0m\u001b[0;34m\u001b[0m\u001b[0;34m\u001b[0m\u001b[0m\n\u001b[0m",
            "\u001b[0;31mNameError\u001b[0m: name 'l' is not defined"
          ]
        }
      ]
    },
    {
      "cell_type": "markdown",
      "source": [
        "**sort , sorted**"
      ],
      "metadata": {
        "id": "D-ZKm8i0cH7f"
      }
    },
    {
      "cell_type": "code",
      "source": [
        "#in lists\n",
        "l=[1,10,5,8,9,12]\n",
        "print(l)\n",
        "print(id(l))\n",
        "l.sort() #inplace sorting in sort\n",
        "print(l)\n",
        "print(id(l))\n",
        "#inplace sorting  happened - doesnt creates new list memory id remains same"
      ],
      "metadata": {
        "colab": {
          "base_uri": "https://localhost:8080/"
        },
        "id": "K4kq_s2rbXoy",
        "outputId": "0d5da0c3-d508-4b0e-aad8-0affda5018eb"
      },
      "execution_count": 60,
      "outputs": [
        {
          "output_type": "stream",
          "name": "stdout",
          "text": [
            "[1, 10, 5, 8, 9, 12]\n",
            "133168002630592\n",
            "[1, 5, 8, 9, 10, 12]\n",
            "133168002630592\n"
          ]
        }
      ]
    },
    {
      "cell_type": "code",
      "source": [
        "#in lists\n",
        "l=[1,10,5,8,9,12]\n",
        "print(l)\n",
        "print(id(l))\n",
        "sorted(l) #out of place sorting sorted()\n",
        "print(l)\n",
        "print(id(l))\n",
        "print(sorted(l))\n",
        "print(id(sorted(l)))\n",
        "#sorted(l) creates a new list and do sorting in that i.e sorted(l) is new list, original list remains same\n",
        "#memory id of list and sorted list will be differenet"
      ],
      "metadata": {
        "colab": {
          "base_uri": "https://localhost:8080/"
        },
        "id": "pZBUdgcvc9uC",
        "outputId": "0c5cc034-a7a8-4e86-936e-3b8f31db244e"
      },
      "execution_count": 63,
      "outputs": [
        {
          "output_type": "stream",
          "name": "stdout",
          "text": [
            "[1, 10, 5, 8, 9, 12]\n",
            "133168000467456\n",
            "[1, 10, 5, 8, 9, 12]\n",
            "133168000467456\n",
            "[1, 5, 8, 9, 10, 12]\n",
            "133168000476928\n"
          ]
        }
      ]
    },
    {
      "cell_type": "code",
      "source": [
        "#in lists using sort\n",
        "l=[1,10,5,8,9,12]\n",
        "print(l)\n",
        "print(id(l))\n",
        "l.sort(reverse=True)  #if we want descending order\n",
        "print(l)\n",
        "print(id(l))"
      ],
      "metadata": {
        "colab": {
          "base_uri": "https://localhost:8080/"
        },
        "id": "xQtAwM3qc8ZZ",
        "outputId": "19f133f9-9ffb-4e9f-aa35-0fee8b340277"
      },
      "execution_count": 64,
      "outputs": [
        {
          "output_type": "stream",
          "name": "stdout",
          "text": [
            "[1, 10, 5, 8, 9, 12]\n",
            "133168001969536\n",
            "[12, 10, 9, 8, 5, 1]\n",
            "133168001969536\n"
          ]
        }
      ]
    },
    {
      "cell_type": "code",
      "source": [
        "#in lists using sorted\n",
        "l=[1,10,5,8,9,12]\n",
        "print(l)\n",
        "print(id(l))\n",
        "#sorted((l),reverse=True)  #if we want descending order\n",
        "m=sorted(l,reverse=True)  #if we want descending order\n",
        "print(m)\n",
        "print(id(m))\n"
      ],
      "metadata": {
        "colab": {
          "base_uri": "https://localhost:8080/"
        },
        "id": "5sf0j4sWeSK_",
        "outputId": "62bb4452-459e-44cf-f090-634016b6dc7b"
      },
      "execution_count": 73,
      "outputs": [
        {
          "output_type": "stream",
          "name": "stdout",
          "text": [
            "[1, 10, 5, 8, 9, 12]\n",
            "133168000397888\n",
            "[12, 10, 9, 8, 5, 1]\n",
            "133168002579136\n"
          ]
        }
      ]
    },
    {
      "cell_type": "code",
      "source": [
        "l=['a','b','e','c','d','z']\n",
        "l.sort()\n",
        "print(l)\n",
        "#sorting happens acc to unicode values"
      ],
      "metadata": {
        "colab": {
          "base_uri": "https://localhost:8080/"
        },
        "id": "GK2GuW0pgRgb",
        "outputId": "34a3f059-7296-4844-bee3-654158272d38"
      },
      "execution_count": 74,
      "outputs": [
        {
          "output_type": "stream",
          "name": "stdout",
          "text": [
            "['a', 'b', 'c', 'd', 'e', 'z']\n"
          ]
        }
      ]
    },
    {
      "cell_type": "code",
      "source": [
        "#find unicode using ord()\n",
        "print(ord('a'))\n",
        "print(ord('e'))\n",
        "print(ord('c'))\n",
        "print(ord('z'))\n"
      ],
      "metadata": {
        "colab": {
          "base_uri": "https://localhost:8080/"
        },
        "id": "DzHefl4ogjeF",
        "outputId": "2572a5e2-70a2-46be-97f2-8f15b2a57224"
      },
      "execution_count": 80,
      "outputs": [
        {
          "output_type": "stream",
          "name": "stdout",
          "text": [
            "97\n",
            "101\n",
            "99\n",
            "122\n"
          ]
        }
      ]
    },
    {
      "cell_type": "code",
      "source": [
        "l=['abc','aab','aoe','mdc','od','z']\n",
        "l.sort()\n",
        "print(l)\n",
        "#If the first characters of two strings are the same, Python moves to the next character and compares them."
      ],
      "metadata": {
        "colab": {
          "base_uri": "https://localhost:8080/"
        },
        "id": "q-s4mSK9hBR5",
        "outputId": "0be02e29-9a07-4060-be6e-6be3b7b42c89"
      },
      "execution_count": 76,
      "outputs": [
        {
          "output_type": "stream",
          "name": "stdout",
          "text": [
            "['aab', 'abc', 'aoe', 'mdc', 'od', 'z']\n"
          ]
        }
      ]
    },
    {
      "cell_type": "code",
      "source": [
        "l=['abc','aab',1,'aoe','mdc',4,'od','z']\n",
        "l.sort()\n",
        "print(l)\n",
        "#we cant compare int and string values"
      ],
      "metadata": {
        "colab": {
          "base_uri": "https://localhost:8080/",
          "height": 176
        },
        "id": "VS3shXnAhIOp",
        "outputId": "2c8445bd-92ef-49f3-bec4-ca5dd5d10354"
      },
      "execution_count": 81,
      "outputs": [
        {
          "output_type": "error",
          "ename": "TypeError",
          "evalue": "'<' not supported between instances of 'int' and 'str'",
          "traceback": [
            "\u001b[0;31m---------------------------------------------------------------------------\u001b[0m",
            "\u001b[0;31mTypeError\u001b[0m                                 Traceback (most recent call last)",
            "\u001b[0;32m<ipython-input-81-f07eaaa7777b>\u001b[0m in \u001b[0;36m<cell line: 2>\u001b[0;34m()\u001b[0m\n\u001b[1;32m      1\u001b[0m \u001b[0ml\u001b[0m\u001b[0;34m=\u001b[0m\u001b[0;34m[\u001b[0m\u001b[0;34m'abc'\u001b[0m\u001b[0;34m,\u001b[0m\u001b[0;34m'aab'\u001b[0m\u001b[0;34m,\u001b[0m\u001b[0;36m1\u001b[0m\u001b[0;34m,\u001b[0m\u001b[0;34m'aoe'\u001b[0m\u001b[0;34m,\u001b[0m\u001b[0;34m'mdc'\u001b[0m\u001b[0;34m,\u001b[0m\u001b[0;36m4\u001b[0m\u001b[0;34m,\u001b[0m\u001b[0;34m'od'\u001b[0m\u001b[0;34m,\u001b[0m\u001b[0;34m'z'\u001b[0m\u001b[0;34m]\u001b[0m\u001b[0;34m\u001b[0m\u001b[0;34m\u001b[0m\u001b[0m\n\u001b[0;32m----> 2\u001b[0;31m \u001b[0ml\u001b[0m\u001b[0;34m.\u001b[0m\u001b[0msort\u001b[0m\u001b[0;34m(\u001b[0m\u001b[0;34m)\u001b[0m\u001b[0;34m\u001b[0m\u001b[0;34m\u001b[0m\u001b[0m\n\u001b[0m\u001b[1;32m      3\u001b[0m \u001b[0mprint\u001b[0m\u001b[0;34m(\u001b[0m\u001b[0ml\u001b[0m\u001b[0;34m)\u001b[0m\u001b[0;34m\u001b[0m\u001b[0;34m\u001b[0m\u001b[0m\n",
            "\u001b[0;31mTypeError\u001b[0m: '<' not supported between instances of 'int' and 'str'"
          ]
        }
      ]
    },
    {
      "cell_type": "code",
      "source": [
        "l=['abc','aab','1','aoe','mdc','4','od','z']\n",
        "l.sort()\n",
        "print(l)\n",
        "#we cant compare int and string values but if we give as strings then we can"
      ],
      "metadata": {
        "colab": {
          "base_uri": "https://localhost:8080/"
        },
        "id": "C06ZEmuBhlQt",
        "outputId": "a65d05f8-a3dc-4355-9217-003eaf7f2732"
      },
      "execution_count": 82,
      "outputs": [
        {
          "output_type": "stream",
          "name": "stdout",
          "text": [
            "['1', '4', 'aab', 'abc', 'aoe', 'mdc', 'od', 'z']\n"
          ]
        }
      ]
    },
    {
      "cell_type": "code",
      "source": [
        "l=[\"83893948949849\",\"9\"]\n",
        "l.sort()\n",
        "print(l)\n",
        "#even though 8998238932932 number is bigger it is smaller comoared to 9 cz its not int its acts as string and sorting in string done compares 1st elements out of 2 which is smaller or gretaer it will print depends on that"
      ],
      "metadata": {
        "colab": {
          "base_uri": "https://localhost:8080/"
        },
        "id": "gBWONdjMkVpr",
        "outputId": "556d6723-0c5b-4355-ed49-2970f595a5eb"
      },
      "execution_count": 85,
      "outputs": [
        {
          "output_type": "stream",
          "name": "stdout",
          "text": [
            "['83893948949849', '9']\n"
          ]
        }
      ]
    },
    {
      "cell_type": "code",
      "source": [
        "l=[\"a\",\"1\",\" \"]\n",
        "l.sort()\n",
        "print(l)\n",
        "print(ord(\"a\"))\n",
        "print(ord(\"1\"))\n",
        "print(ord(\" \"))"
      ],
      "metadata": {
        "colab": {
          "base_uri": "https://localhost:8080/"
        },
        "id": "21bn6VDuhusP",
        "outputId": "cdf4471d-ffce-4d62-9ffd-bd46b8aa9c12"
      },
      "execution_count": 86,
      "outputs": [
        {
          "output_type": "stream",
          "name": "stdout",
          "text": [
            "[' ', '1', 'a']\n",
            "97\n",
            "49\n",
            "32\n"
          ]
        }
      ]
    },
    {
      "cell_type": "code",
      "source": [
        "#in tuples sprt\n",
        "t=(1,2,3,4,5,6)\n",
        "t.sort()\n",
        "print(t)\n",
        "#in tuple t.sort didnt work bcz it inplace sorting it wont support bcz of immutablity"
      ],
      "metadata": {
        "colab": {
          "base_uri": "https://localhost:8080/",
          "height": 193
        },
        "id": "FpgYRLu_lLVy",
        "outputId": "525acab9-6750-471d-87bf-6ff8d7d12bd5"
      },
      "execution_count": 87,
      "outputs": [
        {
          "output_type": "error",
          "ename": "AttributeError",
          "evalue": "'tuple' object has no attribute 'sort'",
          "traceback": [
            "\u001b[0;31m---------------------------------------------------------------------------\u001b[0m",
            "\u001b[0;31mAttributeError\u001b[0m                            Traceback (most recent call last)",
            "\u001b[0;32m<ipython-input-87-c9d07afe1390>\u001b[0m in \u001b[0;36m<cell line: 3>\u001b[0;34m()\u001b[0m\n\u001b[1;32m      1\u001b[0m \u001b[0;31m#in tuples sprt\u001b[0m\u001b[0;34m\u001b[0m\u001b[0;34m\u001b[0m\u001b[0m\n\u001b[1;32m      2\u001b[0m \u001b[0mt\u001b[0m\u001b[0;34m=\u001b[0m\u001b[0;34m(\u001b[0m\u001b[0;36m1\u001b[0m\u001b[0;34m,\u001b[0m\u001b[0;36m2\u001b[0m\u001b[0;34m,\u001b[0m\u001b[0;36m3\u001b[0m\u001b[0;34m,\u001b[0m\u001b[0;36m4\u001b[0m\u001b[0;34m,\u001b[0m\u001b[0;36m5\u001b[0m\u001b[0;34m,\u001b[0m\u001b[0;36m6\u001b[0m\u001b[0;34m)\u001b[0m\u001b[0;34m\u001b[0m\u001b[0;34m\u001b[0m\u001b[0m\n\u001b[0;32m----> 3\u001b[0;31m \u001b[0mt\u001b[0m\u001b[0;34m.\u001b[0m\u001b[0msort\u001b[0m\u001b[0;34m(\u001b[0m\u001b[0;34m)\u001b[0m\u001b[0;34m\u001b[0m\u001b[0;34m\u001b[0m\u001b[0m\n\u001b[0m\u001b[1;32m      4\u001b[0m \u001b[0mprint\u001b[0m\u001b[0;34m(\u001b[0m\u001b[0mt\u001b[0m\u001b[0;34m)\u001b[0m\u001b[0;34m\u001b[0m\u001b[0;34m\u001b[0m\u001b[0m\n",
            "\u001b[0;31mAttributeError\u001b[0m: 'tuple' object has no attribute 'sort'"
          ]
        }
      ]
    },
    {
      "cell_type": "code",
      "source": [
        "#in tuples sorted will work\n",
        "t=(1,2,10,44,5,6)\n",
        "sorted(t)\n",
        "print(sorted(t))\n",
        "print(type(sorted(t)))\n",
        "#in tuple tsorted()  work bcz sorted will create new list thats why it works\n",
        "#even though we sorted tuple we will get list after sorting"
      ],
      "metadata": {
        "colab": {
          "base_uri": "https://localhost:8080/"
        },
        "id": "FksVi8sNlvvD",
        "outputId": "bb802a1f-39b6-4588-e3c0-59d14f82926a"
      },
      "execution_count": 92,
      "outputs": [
        {
          "output_type": "stream",
          "name": "stdout",
          "text": [
            "[1, 2, 5, 6, 10, 44]\n",
            "<class 'list'>\n"
          ]
        }
      ]
    },
    {
      "cell_type": "code",
      "source": [
        "t=(\"pavani\")\n",
        "sorted(t)\n",
        "print(sorted(t))\n",
        "print(type(sorted(t)))\n",
        "#watever we give in sorted() it will return lists only\n",
        "#why outpur is in that order is bcz of unicade values of respective"
      ],
      "metadata": {
        "colab": {
          "base_uri": "https://localhost:8080/"
        },
        "id": "jZxzy82MqRc2",
        "outputId": "ec6c9332-5958-42fc-cf18-a3b1803ca092"
      },
      "execution_count": 94,
      "outputs": [
        {
          "output_type": "stream",
          "name": "stdout",
          "text": [
            "['a', 'a', 'i', 'n', 'p', 'v']\n",
            "<class 'list'>\n"
          ]
        }
      ]
    },
    {
      "cell_type": "markdown",
      "source": [
        "**Reverse**"
      ],
      "metadata": {
        "id": "APc8dimitVrJ"
      }
    },
    {
      "cell_type": "markdown",
      "source": [
        "* reverse() is equivalent to   slicing [::-1]\n",
        "* reverse() is inplace same old list\n",
        "* reversed(l) is out of place creates new list"
      ],
      "metadata": {
        "id": "PXfgsfkOuSra"
      }
    },
    {
      "cell_type": "code",
      "source": [
        "l=list(\"pavani\")\n",
        "print(l)\n",
        "print(type(l))\n",
        "l.reverse()\n",
        "print(l)"
      ],
      "metadata": {
        "colab": {
          "base_uri": "https://localhost:8080/"
        },
        "id": "We1wN_ActYUh",
        "outputId": "efba5d71-25ad-46bc-9ebf-f22296549068"
      },
      "execution_count": 100,
      "outputs": [
        {
          "output_type": "stream",
          "name": "stdout",
          "text": [
            "['p', 'a', 'v', 'a', 'n', 'i']\n",
            "<class 'list'>\n",
            "['i', 'n', 'a', 'v', 'a', 'p']\n"
          ]
        }
      ]
    },
    {
      "cell_type": "code",
      "source": [
        "l=list(\"pavani\")\n",
        "print(l)\n",
        "l.reverse()\n",
        "print(l)\n",
        "l2=reversed(l)\n",
        "print (l2)\n"
      ],
      "metadata": {
        "colab": {
          "base_uri": "https://localhost:8080/"
        },
        "id": "tJCXEJact7sC",
        "outputId": "bb00446c-8a6f-476c-9574-d5c1ef040419"
      },
      "execution_count": 107,
      "outputs": [
        {
          "output_type": "stream",
          "name": "stdout",
          "text": [
            "['p', 'a', 'v', 'a', 'n', 'i']\n",
            "['i', 'n', 'a', 'v', 'a', 'p']\n",
            "<list_reverseiterator object at 0x791d977c38e0>\n"
          ]
        }
      ]
    },
    {
      "cell_type": "code",
      "source": [
        "l=list(\"pavani\")\n",
        "print(l)\n",
        "l.reverse()\n",
        "print(l)\n",
        "# If you want to see the output of reversed(), convert it to a list\n",
        "# To view the reversed list, you can convert the iterator to a list using list(reversed(l)).\n",
        "\n",
        "l2=list(reversed(l))\n",
        "print (l2)\n"
      ],
      "metadata": {
        "colab": {
          "base_uri": "https://localhost:8080/"
        },
        "id": "CYXjkyPRwTH1",
        "outputId": "5b291a58-f404-488e-cef8-9089bc4dc2fc"
      },
      "execution_count": 108,
      "outputs": [
        {
          "output_type": "stream",
          "name": "stdout",
          "text": [
            "['p', 'a', 'v', 'a', 'n', 'i']\n",
            "['i', 'n', 'a', 'v', 'a', 'p']\n",
            "['p', 'a', 'v', 'a', 'n', 'i']\n"
          ]
        }
      ]
    },
    {
      "cell_type": "code",
      "source": [
        "#in tuple\n",
        "t=tuple(\"pavani\")\n",
        "t.reverse()\n",
        "print(t)"
      ],
      "metadata": {
        "colab": {
          "base_uri": "https://localhost:8080/",
          "height": 176
        },
        "id": "CekmlA_cw0WW",
        "outputId": "c8e49205-9eaf-457b-a85e-a2873cd8913a"
      },
      "execution_count": 109,
      "outputs": [
        {
          "output_type": "error",
          "ename": "AttributeError",
          "evalue": "'tuple' object has no attribute 'reverse'",
          "traceback": [
            "\u001b[0;31m---------------------------------------------------------------------------\u001b[0m",
            "\u001b[0;31mAttributeError\u001b[0m                            Traceback (most recent call last)",
            "\u001b[0;32m<ipython-input-109-f603d9318b10>\u001b[0m in \u001b[0;36m<cell line: 2>\u001b[0;34m()\u001b[0m\n\u001b[1;32m      1\u001b[0m \u001b[0mt\u001b[0m\u001b[0;34m=\u001b[0m\u001b[0mtuple\u001b[0m\u001b[0;34m(\u001b[0m\u001b[0;34m\"pavani\"\u001b[0m\u001b[0;34m)\u001b[0m\u001b[0;34m\u001b[0m\u001b[0;34m\u001b[0m\u001b[0m\n\u001b[0;32m----> 2\u001b[0;31m \u001b[0mt\u001b[0m\u001b[0;34m.\u001b[0m\u001b[0mreverse\u001b[0m\u001b[0;34m(\u001b[0m\u001b[0;34m)\u001b[0m\u001b[0;34m\u001b[0m\u001b[0;34m\u001b[0m\u001b[0m\n\u001b[0m\u001b[1;32m      3\u001b[0m \u001b[0mprint\u001b[0m\u001b[0;34m(\u001b[0m\u001b[0mt\u001b[0m\u001b[0;34m)\u001b[0m\u001b[0;34m\u001b[0m\u001b[0;34m\u001b[0m\u001b[0m\n",
            "\u001b[0;31mAttributeError\u001b[0m: 'tuple' object has no attribute 'reverse'"
          ]
        }
      ]
    },
    {
      "cell_type": "code",
      "source": [
        "#in tuple\n",
        "t=tuple(\"pavani\")\n",
        "l=reversed(t)\n",
        "print(t)\n",
        "print((l))\n",
        "\n",
        "print(\"_______________\")\n",
        "#in tuple\n",
        "t=tuple(\"pavani\")\n",
        "l=tuple(reversed(t))\n",
        "print(t)\n",
        "print((l))\n",
        "print(\"_______________\")\n",
        "#in tuple\n",
        "t=tuple(\"pavani\")\n",
        "l=list(reversed(t))\n",
        "print(t)\n",
        "print((l))\n",
        "\n"
      ],
      "metadata": {
        "colab": {
          "base_uri": "https://localhost:8080/"
        },
        "id": "JF0s-3jexAGF",
        "outputId": "f4e11797-e6d2-46d8-9c03-79dcee7ee5d7"
      },
      "execution_count": 115,
      "outputs": [
        {
          "output_type": "stream",
          "name": "stdout",
          "text": [
            "('p', 'a', 'v', 'a', 'n', 'i')\n",
            "<reversed object at 0x791d97899030>\n",
            "_______________\n",
            "('p', 'a', 'v', 'a', 'n', 'i')\n",
            "('i', 'n', 'a', 'v', 'a', 'p')\n",
            "_______________\n",
            "('p', 'a', 'v', 'a', 'n', 'i')\n",
            "['i', 'n', 'a', 'v', 'a', 'p']\n"
          ]
        }
      ]
    },
    {
      "cell_type": "markdown",
      "source": [
        "**count()**"
      ],
      "metadata": {
        "id": "t92Ny9UCx4Bj"
      }
    },
    {
      "cell_type": "code",
      "source": [
        "#in lists\n",
        "l=[1,2,3,6,5,7,2,1,5,1,2,8,2,2,3,1,1,3,5,7]\n",
        "print(l.count(1))\n",
        "print(l.count(10))"
      ],
      "metadata": {
        "colab": {
          "base_uri": "https://localhost:8080/"
        },
        "id": "dz8FhWtzx7DI",
        "outputId": "313b220b-56b9-4d8d-8bff-20cd85878237"
      },
      "execution_count": 119,
      "outputs": [
        {
          "output_type": "stream",
          "name": "stdout",
          "text": [
            "5\n",
            "0\n"
          ]
        }
      ]
    },
    {
      "cell_type": "code",
      "source": [
        "#in tuples\n",
        "l=(1,2,3,6,5,7,2,1,5,1,2,8,2,2,3,1,1,3,5,7)\n",
        "print(l.count(1))\n",
        "print(l.count(10))"
      ],
      "metadata": {
        "colab": {
          "base_uri": "https://localhost:8080/"
        },
        "id": "n0s5sXC5y0W0",
        "outputId": "e0bf15c9-f4b3-41be-9d70-4f21a6ff942b"
      },
      "execution_count": 120,
      "outputs": [
        {
          "output_type": "stream",
          "name": "stdout",
          "text": [
            "5\n",
            "0\n"
          ]
        }
      ]
    },
    {
      "cell_type": "code",
      "source": [
        "#in lists\n",
        "l=[\"Pavani\",\"maira\"]\n",
        "print(l.count('a'))\n",
        "print(l.count('i'))"
      ],
      "metadata": {
        "colab": {
          "base_uri": "https://localhost:8080/"
        },
        "id": "XqWFtKBqzJOH",
        "outputId": "62d56a36-850f-43c4-ef7a-8c68f93af154"
      },
      "execution_count": 125,
      "outputs": [
        {
          "output_type": "stream",
          "name": "stdout",
          "text": [
            "0\n",
            "0\n"
          ]
        }
      ]
    },
    {
      "cell_type": "code",
      "source": [
        "l=\"Pavani\"\n",
        "print(l.count('a'))\n",
        "print(l.count('i'))"
      ],
      "metadata": {
        "colab": {
          "base_uri": "https://localhost:8080/"
        },
        "id": "9CD5F-vXzqaF",
        "outputId": "596d8363-4c69-45c9-b405-9d56ac00876d"
      },
      "execution_count": 129,
      "outputs": [
        {
          "output_type": "stream",
          "name": "stdout",
          "text": [
            "2\n",
            "1\n"
          ]
        }
      ]
    },
    {
      "cell_type": "code",
      "source": [],
      "metadata": {
        "id": "n4rFGrTHzK0a"
      },
      "execution_count": null,
      "outputs": []
    }
  ]
}