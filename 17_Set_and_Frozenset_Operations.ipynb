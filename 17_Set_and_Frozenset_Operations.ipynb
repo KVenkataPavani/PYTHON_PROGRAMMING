{
  "nbformat": 4,
  "nbformat_minor": 0,
  "metadata": {
    "colab": {
      "provenance": [],
      "authorship_tag": "ABX9TyPm2FRSWYbgdvSnPbpltTkx",
      "include_colab_link": true
    },
    "kernelspec": {
      "name": "python3",
      "display_name": "Python 3"
    },
    "language_info": {
      "name": "python"
    }
  },
  "cells": [
    {
      "cell_type": "markdown",
      "metadata": {
        "id": "view-in-github",
        "colab_type": "text"
      },
      "source": [
        "<a href=\"https://colab.research.google.com/github/KVenkataPavani/PYTHON_PROGRAMMING/blob/main/17_Set_and_Frozenset_Operations.ipynb\" target=\"_parent\"><img src=\"https://colab.research.google.com/assets/colab-badge.svg\" alt=\"Open In Colab\"/></a>"
      ]
    },
    {
      "cell_type": "markdown",
      "source": [
        "# **SETS**\n"
      ],
      "metadata": {
        "id": "-X_wPeYF2ojc"
      }
    },
    {
      "cell_type": "markdown",
      "source": [
        "* Initializing a set\n",
        "* Accessing Set Items\n",
        "* How to add items to the set?\n",
        "* How to remove items from the set?\n",
        "* Methods supported in sets\n",
        "* union\n",
        "* intersection\n",
        "* difference\n",
        "* subset, superset, disjoint"
      ],
      "metadata": {
        "id": "pmIe2yqx43gr"
      }
    },
    {
      "cell_type": "markdown",
      "source": [
        "**initializing a set**"
      ],
      "metadata": {
        "id": "hwsDkAMz5UEY"
      }
    },
    {
      "cell_type": "code",
      "source": [
        "s={}\n",
        "print(s)\n",
        "print(type(s))\n",
        "#its not \"set\" by default it will consider as dictionary if we give empty  flower brackets\n",
        "print(\"--------------\")\n",
        "s={1}\n",
        "print(s)\n",
        "print(type(s))\n",
        "print(\"--------------\")\n",
        "\n",
        "s=set()\n",
        "print(s)\n",
        "print(type(s))\n",
        "#emty set will be written as like thsi"
      ],
      "metadata": {
        "colab": {
          "base_uri": "https://localhost:8080/"
        },
        "id": "pXcIAGHe5-LL",
        "outputId": "c2a8030b-2924-4515-a74e-3f15d52bc4ba"
      },
      "execution_count": 4,
      "outputs": [
        {
          "output_type": "stream",
          "name": "stdout",
          "text": [
            "{}\n",
            "<class 'dict'>\n",
            "--------------\n",
            "{1}\n",
            "<class 'set'>\n",
            "--------------\n",
            "set()\n",
            "<class 'set'>\n"
          ]
        }
      ]
    },
    {
      "cell_type": "markdown",
      "source": [
        "* we can add/remove items\n",
        "* unordered , unindexed\n",
        "* unchangeable(cant modify existing\n",
        "elements)\n",
        "* duplicate values not allowed\n",
        "* data types we cant have set ,list dictonary inside set\n",
        "* mutable"
      ],
      "metadata": {
        "id": "1YI_kwUO7VjF"
      }
    },
    {
      "cell_type": "code",
      "source": [
        "s={1,2,3,4,5}\n",
        "print(s)\n",
        "print(id(s))\n",
        "\n",
        "\n",
        "s.add(8)\n",
        "print(s)\n",
        "print(id(s))\n",
        "\n",
        "#set is mutable id remains the same it wont create new one"
      ],
      "metadata": {
        "colab": {
          "base_uri": "https://localhost:8080/"
        },
        "id": "8zxTR2ih7BY8",
        "outputId": "823c3945-3a7c-45c7-fddc-c8d857827217"
      },
      "execution_count": 8,
      "outputs": [
        {
          "output_type": "stream",
          "name": "stdout",
          "text": [
            "{1, 2, 3, 4, 5}\n",
            "132008401335264\n",
            "{1, 2, 3, 4, 5, 8}\n",
            "132008401335264\n"
          ]
        }
      ]
    },
    {
      "cell_type": "code",
      "source": [
        "s={1,2,3,4,5,[6,8]}\n",
        "print(s)\n",
        "#we cant add list to set"
      ],
      "metadata": {
        "colab": {
          "base_uri": "https://localhost:8080/",
          "height": 176
        },
        "id": "6VYsHw_V85IN",
        "outputId": "4359d164-7ee2-4804-c7fd-6866bedcca66"
      },
      "execution_count": 10,
      "outputs": [
        {
          "output_type": "error",
          "ename": "TypeError",
          "evalue": "unhashable type: 'list'",
          "traceback": [
            "\u001b[0;31m---------------------------------------------------------------------------\u001b[0m",
            "\u001b[0;31mTypeError\u001b[0m                                 Traceback (most recent call last)",
            "\u001b[0;32m<ipython-input-10-92e3b061f4f3>\u001b[0m in \u001b[0;36m<cell line: 1>\u001b[0;34m()\u001b[0m\n\u001b[0;32m----> 1\u001b[0;31m \u001b[0ms\u001b[0m\u001b[0;34m=\u001b[0m\u001b[0;34m{\u001b[0m\u001b[0;36m1\u001b[0m\u001b[0;34m,\u001b[0m\u001b[0;36m2\u001b[0m\u001b[0;34m,\u001b[0m\u001b[0;36m3\u001b[0m\u001b[0;34m,\u001b[0m\u001b[0;36m4\u001b[0m\u001b[0;34m,\u001b[0m\u001b[0;36m5\u001b[0m\u001b[0;34m,\u001b[0m\u001b[0;34m[\u001b[0m\u001b[0;36m6\u001b[0m\u001b[0;34m,\u001b[0m\u001b[0;36m8\u001b[0m\u001b[0;34m]\u001b[0m\u001b[0;34m}\u001b[0m\u001b[0;34m\u001b[0m\u001b[0;34m\u001b[0m\u001b[0m\n\u001b[0m\u001b[1;32m      2\u001b[0m \u001b[0mprint\u001b[0m\u001b[0;34m(\u001b[0m\u001b[0ms\u001b[0m\u001b[0;34m)\u001b[0m\u001b[0;34m\u001b[0m\u001b[0;34m\u001b[0m\u001b[0m\n\u001b[1;32m      3\u001b[0m \u001b[0;31m#we cant add list to set\u001b[0m\u001b[0;34m\u001b[0m\u001b[0;34m\u001b[0m\u001b[0m\n",
            "\u001b[0;31mTypeError\u001b[0m: unhashable type: 'list'"
          ]
        }
      ]
    },
    {
      "cell_type": "code",
      "source": [
        "s={1,2,3,4,5,{6:2,8:4}}\n",
        "print(s)"
      ],
      "metadata": {
        "colab": {
          "base_uri": "https://localhost:8080/",
          "height": 158
        },
        "id": "ryZKT-Ym9sWO",
        "outputId": "7f056eb1-210f-44b3-9e1e-478928c479a9"
      },
      "execution_count": 13,
      "outputs": [
        {
          "output_type": "error",
          "ename": "TypeError",
          "evalue": "unhashable type: 'dict'",
          "traceback": [
            "\u001b[0;31m---------------------------------------------------------------------------\u001b[0m",
            "\u001b[0;31mTypeError\u001b[0m                                 Traceback (most recent call last)",
            "\u001b[0;32m<ipython-input-13-6cfc39ba1d56>\u001b[0m in \u001b[0;36m<cell line: 1>\u001b[0;34m()\u001b[0m\n\u001b[0;32m----> 1\u001b[0;31m \u001b[0ms\u001b[0m\u001b[0;34m=\u001b[0m\u001b[0;34m{\u001b[0m\u001b[0;36m1\u001b[0m\u001b[0;34m,\u001b[0m\u001b[0;36m2\u001b[0m\u001b[0;34m,\u001b[0m\u001b[0;36m3\u001b[0m\u001b[0;34m,\u001b[0m\u001b[0;36m4\u001b[0m\u001b[0;34m,\u001b[0m\u001b[0;36m5\u001b[0m\u001b[0;34m,\u001b[0m\u001b[0;34m{\u001b[0m\u001b[0;36m6\u001b[0m\u001b[0;34m:\u001b[0m\u001b[0;36m2\u001b[0m\u001b[0;34m,\u001b[0m\u001b[0;36m8\u001b[0m\u001b[0;34m:\u001b[0m\u001b[0;36m4\u001b[0m\u001b[0;34m}\u001b[0m\u001b[0;34m}\u001b[0m\u001b[0;34m\u001b[0m\u001b[0;34m\u001b[0m\u001b[0m\n\u001b[0m\u001b[1;32m      2\u001b[0m \u001b[0mprint\u001b[0m\u001b[0;34m(\u001b[0m\u001b[0ms\u001b[0m\u001b[0;34m)\u001b[0m\u001b[0;34m\u001b[0m\u001b[0;34m\u001b[0m\u001b[0m\n",
            "\u001b[0;31mTypeError\u001b[0m: unhashable type: 'dict'"
          ]
        }
      ]
    },
    {
      "cell_type": "code",
      "source": [
        "s={1,2,3,4,5,{6,8}}\n",
        "print(s)"
      ],
      "metadata": {
        "colab": {
          "base_uri": "https://localhost:8080/",
          "height": 158
        },
        "id": "nJ30LIll9xWi",
        "outputId": "9d5b41bd-247f-41f0-e7c3-bf97cfe1d48f"
      },
      "execution_count": 12,
      "outputs": [
        {
          "output_type": "error",
          "ename": "TypeError",
          "evalue": "unhashable type: 'set'",
          "traceback": [
            "\u001b[0;31m---------------------------------------------------------------------------\u001b[0m",
            "\u001b[0;31mTypeError\u001b[0m                                 Traceback (most recent call last)",
            "\u001b[0;32m<ipython-input-12-ad64cd9be54b>\u001b[0m in \u001b[0;36m<cell line: 1>\u001b[0;34m()\u001b[0m\n\u001b[0;32m----> 1\u001b[0;31m \u001b[0ms\u001b[0m\u001b[0;34m=\u001b[0m\u001b[0;34m{\u001b[0m\u001b[0;36m1\u001b[0m\u001b[0;34m,\u001b[0m\u001b[0;36m2\u001b[0m\u001b[0;34m,\u001b[0m\u001b[0;36m3\u001b[0m\u001b[0;34m,\u001b[0m\u001b[0;36m4\u001b[0m\u001b[0;34m,\u001b[0m\u001b[0;36m5\u001b[0m\u001b[0;34m,\u001b[0m\u001b[0;34m{\u001b[0m\u001b[0;36m6\u001b[0m\u001b[0;34m,\u001b[0m\u001b[0;36m8\u001b[0m\u001b[0;34m}\u001b[0m\u001b[0;34m}\u001b[0m\u001b[0;34m\u001b[0m\u001b[0;34m\u001b[0m\u001b[0m\n\u001b[0m\u001b[1;32m      2\u001b[0m \u001b[0mprint\u001b[0m\u001b[0;34m(\u001b[0m\u001b[0ms\u001b[0m\u001b[0;34m)\u001b[0m\u001b[0;34m\u001b[0m\u001b[0;34m\u001b[0m\u001b[0m\n",
            "\u001b[0;31mTypeError\u001b[0m: unhashable type: 'set'"
          ]
        }
      ]
    },
    {
      "cell_type": "markdown",
      "source": [
        "**set wont allow other mutable objects**"
      ],
      "metadata": {
        "id": "qUpaetUx-M-q"
      }
    },
    {
      "cell_type": "markdown",
      "source": [
        "* set wont allow set,dictionary,list inside\n",
        "* tuple we can have\n"
      ],
      "metadata": {
        "id": "k82e2BR6-Zof"
      }
    },
    {
      "cell_type": "code",
      "source": [
        "s={1,2,3,4,5,(6,8)}\n",
        "print(s)"
      ],
      "metadata": {
        "colab": {
          "base_uri": "https://localhost:8080/"
        },
        "id": "nPlh7C499xQK",
        "outputId": "d475d2c8-bd4a-430e-a3fb-15e3adcd5da4"
      },
      "execution_count": 14,
      "outputs": [
        {
          "output_type": "stream",
          "name": "stdout",
          "text": [
            "{1, 2, 3, 4, 5, (6, 8)}\n"
          ]
        }
      ]
    },
    {
      "cell_type": "code",
      "source": [
        "#suppose we have list inside tuple also it will not work\n",
        "t=(3,[4,5])\n",
        "s={1,2,3,4,5,(6,8),t}\n",
        "print(s)"
      ],
      "metadata": {
        "colab": {
          "base_uri": "https://localhost:8080/",
          "height": 193
        },
        "id": "FydjaE3n-nyU",
        "outputId": "d4a7091d-1cdd-4a24-8057-af50bda296c5"
      },
      "execution_count": 15,
      "outputs": [
        {
          "output_type": "error",
          "ename": "TypeError",
          "evalue": "unhashable type: 'list'",
          "traceback": [
            "\u001b[0;31m---------------------------------------------------------------------------\u001b[0m",
            "\u001b[0;31mTypeError\u001b[0m                                 Traceback (most recent call last)",
            "\u001b[0;32m<ipython-input-15-801379674165>\u001b[0m in \u001b[0;36m<cell line: 3>\u001b[0;34m()\u001b[0m\n\u001b[1;32m      1\u001b[0m \u001b[0;31m#suppose we have list inside tuple\u001b[0m\u001b[0;34m\u001b[0m\u001b[0;34m\u001b[0m\u001b[0m\n\u001b[1;32m      2\u001b[0m \u001b[0mt\u001b[0m\u001b[0;34m=\u001b[0m\u001b[0;34m(\u001b[0m\u001b[0;36m3\u001b[0m\u001b[0;34m,\u001b[0m\u001b[0;34m[\u001b[0m\u001b[0;36m4\u001b[0m\u001b[0;34m,\u001b[0m\u001b[0;36m5\u001b[0m\u001b[0;34m]\u001b[0m\u001b[0;34m)\u001b[0m\u001b[0;34m\u001b[0m\u001b[0;34m\u001b[0m\u001b[0m\n\u001b[0;32m----> 3\u001b[0;31m \u001b[0ms\u001b[0m\u001b[0;34m=\u001b[0m\u001b[0;34m{\u001b[0m\u001b[0;36m1\u001b[0m\u001b[0;34m,\u001b[0m\u001b[0;36m2\u001b[0m\u001b[0;34m,\u001b[0m\u001b[0;36m3\u001b[0m\u001b[0;34m,\u001b[0m\u001b[0;36m4\u001b[0m\u001b[0;34m,\u001b[0m\u001b[0;36m5\u001b[0m\u001b[0;34m,\u001b[0m\u001b[0;34m(\u001b[0m\u001b[0;36m6\u001b[0m\u001b[0;34m,\u001b[0m\u001b[0;36m8\u001b[0m\u001b[0;34m)\u001b[0m\u001b[0;34m,\u001b[0m\u001b[0mt\u001b[0m\u001b[0;34m}\u001b[0m\u001b[0;34m\u001b[0m\u001b[0;34m\u001b[0m\u001b[0m\n\u001b[0m\u001b[1;32m      4\u001b[0m \u001b[0mprint\u001b[0m\u001b[0;34m(\u001b[0m\u001b[0ms\u001b[0m\u001b[0;34m)\u001b[0m\u001b[0;34m\u001b[0m\u001b[0;34m\u001b[0m\u001b[0m\n",
            "\u001b[0;31mTypeError\u001b[0m: unhashable type: 'list'"
          ]
        }
      ]
    },
    {
      "cell_type": "markdown",
      "source": [
        "* 1,1.0 --> true\n",
        "* 0,0.0 --> false\n",
        "* above ones are treated same in set"
      ],
      "metadata": {
        "id": "hl8WkIPB_OzC"
      }
    },
    {
      "cell_type": "code",
      "source": [
        "s={1,True}\n",
        "print(s)\n",
        "#it prints only one 1 bcz true also value 1 so it consider as duplicate value so thats why t will print only one value 1"
      ],
      "metadata": {
        "colab": {
          "base_uri": "https://localhost:8080/"
        },
        "id": "ptii0OUI_aZM",
        "outputId": "0c52c308-d9c9-4109-a1f2-1f43a9677624"
      },
      "execution_count": 16,
      "outputs": [
        {
          "output_type": "stream",
          "name": "stdout",
          "text": [
            "{1}\n"
          ]
        }
      ]
    },
    {
      "cell_type": "code",
      "source": [
        "hash(1)"
      ],
      "metadata": {
        "colab": {
          "base_uri": "https://localhost:8080/"
        },
        "id": "kXOSu3_F_7oB",
        "outputId": "8d6563fb-a0b6-4fee-f335-7bc35932ebfa"
      },
      "execution_count": 17,
      "outputs": [
        {
          "output_type": "execute_result",
          "data": {
            "text/plain": [
              "1"
            ]
          },
          "metadata": {},
          "execution_count": 17
        }
      ]
    },
    {
      "cell_type": "code",
      "source": [
        "hash(True)"
      ],
      "metadata": {
        "colab": {
          "base_uri": "https://localhost:8080/"
        },
        "id": "pgGr07B8_-K2",
        "outputId": "dac90f99-145a-4645-82d6-81ddd7bc6744"
      },
      "execution_count": 18,
      "outputs": [
        {
          "output_type": "execute_result",
          "data": {
            "text/plain": [
              "1"
            ]
          },
          "metadata": {},
          "execution_count": 18
        }
      ]
    },
    {
      "cell_type": "code",
      "source": [
        "s={1,2,3,4,5,(6,8)}\n",
        "print(len(s))\n",
        "s={1,2,3,4,5}\n",
        "print(len(s))\n",
        "s={1,2,3,4,5,6,1,2}\n",
        "#removes duplicates in list\n",
        "print(len(s))\n",
        "#index starts from 1 in sets"
      ],
      "metadata": {
        "colab": {
          "base_uri": "https://localhost:8080/"
        },
        "id": "hJUIBuO5AVGe",
        "outputId": "2200b4fe-9dc1-4c04-f9dc-33bad78fd211"
      },
      "execution_count": 21,
      "outputs": [
        {
          "output_type": "stream",
          "name": "stdout",
          "text": [
            "6\n",
            "5\n",
            "6\n"
          ]
        }
      ]
    },
    {
      "cell_type": "markdown",
      "source": [
        "**accessing a set**"
      ],
      "metadata": {
        "id": "iiAUNlTWBezO"
      }
    },
    {
      "cell_type": "code",
      "source": [
        "s={\"pavani\",\"kv\",\"vijaya\",\"sathyam\",\"pavan\",\"maira\"}\n",
        "s[1]"
      ],
      "metadata": {
        "colab": {
          "base_uri": "https://localhost:8080/",
          "height": 158
        },
        "id": "kNJTSjk7BhaX",
        "outputId": "84dca3d4-faed-4735-b6c5-f4e0f9493147"
      },
      "execution_count": 22,
      "outputs": [
        {
          "output_type": "error",
          "ename": "TypeError",
          "evalue": "'set' object is not subscriptable",
          "traceback": [
            "\u001b[0;31m---------------------------------------------------------------------------\u001b[0m",
            "\u001b[0;31mTypeError\u001b[0m                                 Traceback (most recent call last)",
            "\u001b[0;32m<ipython-input-22-539379bcb5e9>\u001b[0m in \u001b[0;36m<cell line: 2>\u001b[0;34m()\u001b[0m\n\u001b[1;32m      1\u001b[0m \u001b[0ms\u001b[0m\u001b[0;34m=\u001b[0m\u001b[0;34m{\u001b[0m\u001b[0;34m\"pavani\"\u001b[0m\u001b[0;34m,\u001b[0m\u001b[0;34m\"kv\"\u001b[0m\u001b[0;34m,\u001b[0m\u001b[0;34m\"vijaya\"\u001b[0m\u001b[0;34m,\u001b[0m\u001b[0;34m\"sathyam\"\u001b[0m\u001b[0;34m,\u001b[0m\u001b[0;34m\"pavan\"\u001b[0m\u001b[0;34m,\u001b[0m\u001b[0;34m\"maira\"\u001b[0m\u001b[0;34m}\u001b[0m\u001b[0;34m\u001b[0m\u001b[0;34m\u001b[0m\u001b[0m\n\u001b[0;32m----> 2\u001b[0;31m \u001b[0ms\u001b[0m\u001b[0;34m[\u001b[0m\u001b[0;36m1\u001b[0m\u001b[0;34m]\u001b[0m\u001b[0;34m\u001b[0m\u001b[0;34m\u001b[0m\u001b[0m\n\u001b[0m",
            "\u001b[0;31mTypeError\u001b[0m: 'set' object is not subscriptable"
          ]
        }
      ]
    },
    {
      "cell_type": "markdown",
      "source": [
        "in - checks weather its there or not"
      ],
      "metadata": {
        "id": "_wD2LkrgCCBf"
      }
    },
    {
      "cell_type": "code",
      "source": [
        "s={\"pavani\",\"kv\",\"vijaya\",\"sathyam\",\"pavan\",\"maira\"}\n",
        "\"pavani\"  in s"
      ],
      "metadata": {
        "colab": {
          "base_uri": "https://localhost:8080/"
        },
        "id": "yW9V9Q3uB5nR",
        "outputId": "f637062b-dc61-41f7-a1c0-db5b08092edd"
      },
      "execution_count": 23,
      "outputs": [
        {
          "output_type": "execute_result",
          "data": {
            "text/plain": [
              "True"
            ]
          },
          "metadata": {},
          "execution_count": 23
        }
      ]
    },
    {
      "cell_type": "code",
      "source": [
        "s={\"pavani\",\"kv\",\"vijaya\",\"sathyam\",\"pavan\",\"maira\"}\n",
        "\"pavani \"  in s\n",
        "# spaces also it wil consider"
      ],
      "metadata": {
        "colab": {
          "base_uri": "https://localhost:8080/"
        },
        "id": "uLrCt8uwCG29",
        "outputId": "de9aac55-cbc1-40b4-9bdb-aa3a7d6cbf80"
      },
      "execution_count": 24,
      "outputs": [
        {
          "output_type": "execute_result",
          "data": {
            "text/plain": [
              "False"
            ]
          },
          "metadata": {},
          "execution_count": 24
        }
      ]
    },
    {
      "cell_type": "markdown",
      "source": [
        "* adding element to set\n",
        "* updating a set"
      ],
      "metadata": {
        "id": "PMty5405CgAc"
      }
    },
    {
      "cell_type": "code",
      "source": [
        "s={10,20,30,40}\n",
        "s.add(50)\n",
        "print(s)"
      ],
      "metadata": {
        "colab": {
          "base_uri": "https://localhost:8080/"
        },
        "id": "1uWXeGvfCqxf",
        "outputId": "d746eef8-3731-4c3a-8145-b36cba9542bc"
      },
      "execution_count": 25,
      "outputs": [
        {
          "output_type": "stream",
          "name": "stdout",
          "text": [
            "{40, 10, 50, 20, 30}\n"
          ]
        }
      ]
    },
    {
      "cell_type": "code",
      "source": [
        "s={10,20,30,40}\n",
        "s.add(50,20)\n",
        "print(s)\n",
        "#add will take only one argument to pass"
      ],
      "metadata": {
        "colab": {
          "base_uri": "https://localhost:8080/",
          "height": 176
        },
        "id": "HcM7bOOVC0XU",
        "outputId": "e2d8a3d1-3872-440c-fbbd-86ec62806a9f"
      },
      "execution_count": 26,
      "outputs": [
        {
          "output_type": "error",
          "ename": "TypeError",
          "evalue": "set.add() takes exactly one argument (2 given)",
          "traceback": [
            "\u001b[0;31m---------------------------------------------------------------------------\u001b[0m",
            "\u001b[0;31mTypeError\u001b[0m                                 Traceback (most recent call last)",
            "\u001b[0;32m<ipython-input-26-22fa40a124dd>\u001b[0m in \u001b[0;36m<cell line: 2>\u001b[0;34m()\u001b[0m\n\u001b[1;32m      1\u001b[0m \u001b[0ms\u001b[0m\u001b[0;34m=\u001b[0m\u001b[0;34m{\u001b[0m\u001b[0;36m10\u001b[0m\u001b[0;34m,\u001b[0m\u001b[0;36m20\u001b[0m\u001b[0;34m,\u001b[0m\u001b[0;36m30\u001b[0m\u001b[0;34m,\u001b[0m\u001b[0;36m40\u001b[0m\u001b[0;34m}\u001b[0m\u001b[0;34m\u001b[0m\u001b[0;34m\u001b[0m\u001b[0m\n\u001b[0;32m----> 2\u001b[0;31m \u001b[0ms\u001b[0m\u001b[0;34m.\u001b[0m\u001b[0madd\u001b[0m\u001b[0;34m(\u001b[0m\u001b[0;36m50\u001b[0m\u001b[0;34m,\u001b[0m\u001b[0;36m20\u001b[0m\u001b[0;34m)\u001b[0m\u001b[0;34m\u001b[0m\u001b[0;34m\u001b[0m\u001b[0m\n\u001b[0m\u001b[1;32m      3\u001b[0m \u001b[0mprint\u001b[0m\u001b[0;34m(\u001b[0m\u001b[0ms\u001b[0m\u001b[0;34m)\u001b[0m\u001b[0;34m\u001b[0m\u001b[0;34m\u001b[0m\u001b[0m\n",
            "\u001b[0;31mTypeError\u001b[0m: set.add() takes exactly one argument (2 given)"
          ]
        }
      ]
    },
    {
      "cell_type": "code",
      "source": [
        "s={10,20,30,40}\n",
        "s.add((50,60,70))\n",
        "print(s)\n",
        "#if we want to add multiple we can add as a tuple"
      ],
      "metadata": {
        "colab": {
          "base_uri": "https://localhost:8080/"
        },
        "id": "xnE2lG51C6-O",
        "outputId": "bcf5518a-005e-4c87-c476-287d00b6c678"
      },
      "execution_count": 27,
      "outputs": [
        {
          "output_type": "stream",
          "name": "stdout",
          "text": [
            "{40, 10, (50, 60, 70), 20, 30}\n"
          ]
        }
      ]
    },
    {
      "cell_type": "code",
      "source": [
        "s={10,20,30,40 ,50,60,70}\n",
        "s.add((50,60,70))\n",
        "print(s)\n",
        "#50,60,70 already we have in set but we are adding as a tuple thats why its taking usually set wont take  duplicates right"
      ],
      "metadata": {
        "colab": {
          "base_uri": "https://localhost:8080/"
        },
        "id": "WGgo4218DPBo",
        "outputId": "a55da6d9-b87b-438c-d5fc-75c3683dd223"
      },
      "execution_count": 29,
      "outputs": [
        {
          "output_type": "stream",
          "name": "stdout",
          "text": [
            "{50, (50, 60, 70), 20, 70, 40, 10, 60, 30}\n"
          ]
        }
      ]
    },
    {
      "cell_type": "markdown",
      "source": [
        "**update()**"
      ],
      "metadata": {
        "id": "RxG0lsCiDrjx"
      }
    },
    {
      "cell_type": "code",
      "source": [
        "s1={10,20,30,40}\n",
        "# s.add((50,60,70))\n",
        "# if we want to add multiple values in set like {40, 10, 50, 20, 30,60,70} we use update crete a new set and update\n",
        "s2={50,60,70}\n",
        "s1.update(s2)\n",
        "print(s1)"
      ],
      "metadata": {
        "colab": {
          "base_uri": "https://localhost:8080/"
        },
        "id": "maH4pmXtDppC",
        "outputId": "fcf5f8ac-62f1-40fb-895d-34b6cb2f72fb"
      },
      "execution_count": 30,
      "outputs": [
        {
          "output_type": "stream",
          "name": "stdout",
          "text": [
            "{50, 20, 70, 40, 10, 60, 30}\n"
          ]
        }
      ]
    },
    {
      "cell_type": "markdown",
      "source": [
        "**union()**"
      ],
      "metadata": {
        "id": "HnQ3qnWYElWm"
      }
    },
    {
      "cell_type": "code",
      "source": [
        "s1={10,20,30,40}\n",
        "s2={50,60,70}\n",
        "\n",
        "print(s1.union(s2))\n",
        "print(s1)\n",
        "print(s2)\n",
        "\n",
        "print(\"__________\")\n",
        "#if we have duplicate values removes\n",
        "s1={10,20,30,40}\n",
        "s2={50,30,40}\n",
        "\n",
        "print(s1.union(s2))\n",
        "print(s1)\n",
        "print(s2)"
      ],
      "metadata": {
        "colab": {
          "base_uri": "https://localhost:8080/"
        },
        "id": "YxMtdSVsEkO9",
        "outputId": "60a3e136-8235-49aa-d492-5609ad015ce4"
      },
      "execution_count": 39,
      "outputs": [
        {
          "output_type": "stream",
          "name": "stdout",
          "text": [
            "{50, 20, 70, 40, 10, 60, 30}\n",
            "{40, 10, 20, 30}\n",
            "{50, 60, 70}\n",
            "__________\n",
            "{50, 20, 40, 10, 30}\n",
            "{40, 10, 20, 30}\n",
            "{40, 50, 30}\n"
          ]
        }
      ]
    },
    {
      "cell_type": "code",
      "source": [
        "s={1,2,3}\n",
        "t={4,5,6}\n",
        "s.update(t)\n",
        "s\n"
      ],
      "metadata": {
        "colab": {
          "base_uri": "https://localhost:8080/"
        },
        "id": "WiCYuuAbHIBT",
        "outputId": "bd7abe0f-18c1-49be-c5b5-4d8871dd51c6"
      },
      "execution_count": 40,
      "outputs": [
        {
          "output_type": "execute_result",
          "data": {
            "text/plain": [
              "{1, 2, 3, 4, 5, 6}"
            ]
          },
          "metadata": {},
          "execution_count": 40
        }
      ]
    },
    {
      "cell_type": "code",
      "source": [
        "t2=[10,20,30]\n",
        "s.update(t2)\n",
        "s\n",
        "#here we are giving t2 list still it will be added in set using update method"
      ],
      "metadata": {
        "colab": {
          "base_uri": "https://localhost:8080/"
        },
        "id": "bXCJXhRLHTOO",
        "outputId": "357585a5-bffe-484f-9f9d-d2a3c67aa036"
      },
      "execution_count": 42,
      "outputs": [
        {
          "output_type": "execute_result",
          "data": {
            "text/plain": [
              "{1, 2, 3, 4, 5, 6, 10, 20, 30}"
            ]
          },
          "metadata": {},
          "execution_count": 42
        }
      ]
    },
    {
      "cell_type": "code",
      "source": [
        "s={1,2,3}\n",
        "t={4,5,6}\n",
        "t2=[10,20,30]\n",
        "s.update(t)\n",
        "s.union(t2)\n",
        "print(s.union(t2))\n",
        "\n",
        "\n",
        "\n",
        "#unon work we we adding list to set"
      ],
      "metadata": {
        "colab": {
          "base_uri": "https://localhost:8080/"
        },
        "id": "ppf5e80WItXW",
        "outputId": "bc9f231e-dad2-4e94-beb8-63b658e8e9ef"
      },
      "execution_count": 49,
      "outputs": [
        {
          "output_type": "stream",
          "name": "stdout",
          "text": [
            "{1, 2, 3, 4, 5, 6, 10, 20, 30}\n"
          ]
        }
      ]
    },
    {
      "cell_type": "code",
      "source": [
        "s={1,2,3}\n",
        "t={4,5,6}\n",
        "t2=[10,20,30]\n",
        "s.update(t)\n",
        "t2.union(s)\n",
        "print(t2.union(s))\n"
      ],
      "metadata": {
        "colab": {
          "base_uri": "https://localhost:8080/",
          "height": 193
        },
        "id": "4bilQnaiJvjI",
        "outputId": "0600c4a9-d436-4e5d-82bf-d9d68d87a53d"
      },
      "execution_count": 51,
      "outputs": [
        {
          "output_type": "error",
          "ename": "AttributeError",
          "evalue": "'list' object has no attribute 'union'",
          "traceback": [
            "\u001b[0;31m---------------------------------------------------------------------------\u001b[0m",
            "\u001b[0;31mAttributeError\u001b[0m                            Traceback (most recent call last)",
            "\u001b[0;32m<ipython-input-51-68cb543901eb>\u001b[0m in \u001b[0;36m<cell line: 5>\u001b[0;34m()\u001b[0m\n\u001b[1;32m      3\u001b[0m \u001b[0mt2\u001b[0m\u001b[0;34m=\u001b[0m\u001b[0;34m[\u001b[0m\u001b[0;36m10\u001b[0m\u001b[0;34m,\u001b[0m\u001b[0;36m20\u001b[0m\u001b[0;34m,\u001b[0m\u001b[0;36m30\u001b[0m\u001b[0;34m]\u001b[0m\u001b[0;34m\u001b[0m\u001b[0;34m\u001b[0m\u001b[0m\n\u001b[1;32m      4\u001b[0m \u001b[0ms\u001b[0m\u001b[0;34m.\u001b[0m\u001b[0mupdate\u001b[0m\u001b[0;34m(\u001b[0m\u001b[0mt\u001b[0m\u001b[0;34m)\u001b[0m\u001b[0;34m\u001b[0m\u001b[0;34m\u001b[0m\u001b[0m\n\u001b[0;32m----> 5\u001b[0;31m \u001b[0mt2\u001b[0m\u001b[0;34m.\u001b[0m\u001b[0munion\u001b[0m\u001b[0;34m(\u001b[0m\u001b[0ms\u001b[0m\u001b[0;34m)\u001b[0m\u001b[0;34m\u001b[0m\u001b[0;34m\u001b[0m\u001b[0m\n\u001b[0m\u001b[1;32m      6\u001b[0m \u001b[0mprint\u001b[0m\u001b[0;34m(\u001b[0m\u001b[0mt2\u001b[0m\u001b[0;34m.\u001b[0m\u001b[0munion\u001b[0m\u001b[0;34m(\u001b[0m\u001b[0ms\u001b[0m\u001b[0;34m)\u001b[0m\u001b[0;34m)\u001b[0m\u001b[0;34m\u001b[0m\u001b[0;34m\u001b[0m\u001b[0m\n",
            "\u001b[0;31mAttributeError\u001b[0m: 'list' object has no attribute 'union'"
          ]
        }
      ]
    },
    {
      "cell_type": "code",
      "source": [
        "s={1,2,3}\n",
        "t={4,5,6}\n",
        "t2=[10,20,30]\n",
        "s.update(t)\n",
        "t2.update(s)\n",
        "print(s.update(t2))\n"
      ],
      "metadata": {
        "colab": {
          "base_uri": "https://localhost:8080/",
          "height": 193
        },
        "id": "cs5qHgN2Igjv",
        "outputId": "ab68b3af-4b7a-46f8-e4b9-cc6038754b38"
      },
      "execution_count": 50,
      "outputs": [
        {
          "output_type": "error",
          "ename": "AttributeError",
          "evalue": "'list' object has no attribute 'update'",
          "traceback": [
            "\u001b[0;31m---------------------------------------------------------------------------\u001b[0m",
            "\u001b[0;31mAttributeError\u001b[0m                            Traceback (most recent call last)",
            "\u001b[0;32m<ipython-input-50-199010c1ac8d>\u001b[0m in \u001b[0;36m<cell line: 5>\u001b[0;34m()\u001b[0m\n\u001b[1;32m      3\u001b[0m \u001b[0mt2\u001b[0m\u001b[0;34m=\u001b[0m\u001b[0;34m[\u001b[0m\u001b[0;36m10\u001b[0m\u001b[0;34m,\u001b[0m\u001b[0;36m20\u001b[0m\u001b[0;34m,\u001b[0m\u001b[0;36m30\u001b[0m\u001b[0;34m]\u001b[0m\u001b[0;34m\u001b[0m\u001b[0;34m\u001b[0m\u001b[0m\n\u001b[1;32m      4\u001b[0m \u001b[0ms\u001b[0m\u001b[0;34m.\u001b[0m\u001b[0mupdate\u001b[0m\u001b[0;34m(\u001b[0m\u001b[0mt\u001b[0m\u001b[0;34m)\u001b[0m\u001b[0;34m\u001b[0m\u001b[0;34m\u001b[0m\u001b[0m\n\u001b[0;32m----> 5\u001b[0;31m \u001b[0mt2\u001b[0m\u001b[0;34m.\u001b[0m\u001b[0mupdate\u001b[0m\u001b[0;34m(\u001b[0m\u001b[0ms\u001b[0m\u001b[0;34m)\u001b[0m\u001b[0;34m\u001b[0m\u001b[0;34m\u001b[0m\u001b[0m\n\u001b[0m\u001b[1;32m      6\u001b[0m \u001b[0mprint\u001b[0m\u001b[0;34m(\u001b[0m\u001b[0ms\u001b[0m\u001b[0;34m.\u001b[0m\u001b[0mupdate\u001b[0m\u001b[0;34m(\u001b[0m\u001b[0mt2\u001b[0m\u001b[0;34m)\u001b[0m\u001b[0;34m)\u001b[0m\u001b[0;34m\u001b[0m\u001b[0;34m\u001b[0m\u001b[0m\n",
            "\u001b[0;31mAttributeError\u001b[0m: 'list' object has no attribute 'update'"
          ]
        }
      ]
    },
    {
      "cell_type": "code",
      "source": [
        "s={1,2,3}\n",
        "s.update([\"RBR\"]) #in update if we give list it will print whole\n",
        "print(s)"
      ],
      "metadata": {
        "colab": {
          "base_uri": "https://localhost:8080/"
        },
        "id": "iBpYbsz9J25w",
        "outputId": "b939d95c-99a7-4bae-de42-5470d87e88b5"
      },
      "execution_count": 52,
      "outputs": [
        {
          "output_type": "stream",
          "name": "stdout",
          "text": [
            "{1, 2, 3, 'RBR'}\n"
          ]
        }
      ]
    },
    {
      "cell_type": "code",
      "source": [
        "s={1,2,3}\n",
        "s.update((\"RBR\"))#in  update if we give tuple it will print each one and if any duplicates it will be removed\n",
        "print(s)"
      ],
      "metadata": {
        "colab": {
          "base_uri": "https://localhost:8080/"
        },
        "id": "CampLg12LSsV",
        "outputId": "3e8dc66e-1533-4f72-8f17-033a6679c644"
      },
      "execution_count": 53,
      "outputs": [
        {
          "output_type": "stream",
          "name": "stdout",
          "text": [
            "{1, 2, 3, 'B', 'R'}\n"
          ]
        }
      ]
    },
    {
      "cell_type": "markdown",
      "source": [
        "**Remove()**"
      ],
      "metadata": {
        "id": "5uPMUcBKL-a0"
      }
    },
    {
      "cell_type": "code",
      "source": [
        "s={\"pavani\",\"kv\",\"vijaya\",\"sathyam\",\"pavan\",\"maira\"}\n",
        "s.remove(\"pavani\")\n",
        "s"
      ],
      "metadata": {
        "colab": {
          "base_uri": "https://localhost:8080/"
        },
        "id": "VehgFM_2MBFD",
        "outputId": "7c146c6c-96fa-483e-a7b8-d7c64c265b07"
      },
      "execution_count": 54,
      "outputs": [
        {
          "output_type": "execute_result",
          "data": {
            "text/plain": [
              "{'kv', 'maira', 'pavan', 'sathyam', 'vijaya'}"
            ]
          },
          "metadata": {},
          "execution_count": 54
        }
      ]
    },
    {
      "cell_type": "code",
      "source": [
        "s={\"pavani\",\"kv\",\"vijaya\",\"sathyam\",\"pavan\",\"maira\"}\n",
        "s.remove(\"pavani\",\"maira\")\n",
        "s"
      ],
      "metadata": {
        "colab": {
          "base_uri": "https://localhost:8080/",
          "height": 176
        },
        "id": "derwsgPyMKgc",
        "outputId": "ec89b704-c6e9-4999-fdee-2fef759730f9"
      },
      "execution_count": 55,
      "outputs": [
        {
          "output_type": "error",
          "ename": "TypeError",
          "evalue": "set.remove() takes exactly one argument (2 given)",
          "traceback": [
            "\u001b[0;31m---------------------------------------------------------------------------\u001b[0m",
            "\u001b[0;31mTypeError\u001b[0m                                 Traceback (most recent call last)",
            "\u001b[0;32m<ipython-input-55-79e0e0ffec25>\u001b[0m in \u001b[0;36m<cell line: 2>\u001b[0;34m()\u001b[0m\n\u001b[1;32m      1\u001b[0m \u001b[0ms\u001b[0m\u001b[0;34m=\u001b[0m\u001b[0;34m{\u001b[0m\u001b[0;34m\"pavani\"\u001b[0m\u001b[0;34m,\u001b[0m\u001b[0;34m\"kv\"\u001b[0m\u001b[0;34m,\u001b[0m\u001b[0;34m\"vijaya\"\u001b[0m\u001b[0;34m,\u001b[0m\u001b[0;34m\"sathyam\"\u001b[0m\u001b[0;34m,\u001b[0m\u001b[0;34m\"pavan\"\u001b[0m\u001b[0;34m,\u001b[0m\u001b[0;34m\"maira\"\u001b[0m\u001b[0;34m}\u001b[0m\u001b[0;34m\u001b[0m\u001b[0;34m\u001b[0m\u001b[0m\n\u001b[0;32m----> 2\u001b[0;31m \u001b[0ms\u001b[0m\u001b[0;34m.\u001b[0m\u001b[0mremove\u001b[0m\u001b[0;34m(\u001b[0m\u001b[0;34m\"pavani\"\u001b[0m\u001b[0;34m,\u001b[0m\u001b[0;34m\"maira\"\u001b[0m\u001b[0;34m)\u001b[0m\u001b[0;34m\u001b[0m\u001b[0;34m\u001b[0m\u001b[0m\n\u001b[0m\u001b[1;32m      3\u001b[0m \u001b[0ms\u001b[0m\u001b[0;34m\u001b[0m\u001b[0;34m\u001b[0m\u001b[0m\n",
            "\u001b[0;31mTypeError\u001b[0m: set.remove() takes exactly one argument (2 given)"
          ]
        }
      ]
    },
    {
      "cell_type": "markdown",
      "source": [
        "** discard()**"
      ],
      "metadata": {
        "id": "imJo4X-LMjQ_"
      }
    },
    {
      "cell_type": "code",
      "source": [
        "s={\"pavani\",\"kv\",\"vijaya\",\"sathyam\",\"pavan\",\"maira\"}\n",
        "s.discard(\"pavani\")\n",
        "s"
      ],
      "metadata": {
        "colab": {
          "base_uri": "https://localhost:8080/"
        },
        "id": "AeOqzGlkMdUN",
        "outputId": "fca0e33d-8f43-4f29-bd15-fd4643de059c"
      },
      "execution_count": 57,
      "outputs": [
        {
          "output_type": "execute_result",
          "data": {
            "text/plain": [
              "{'kv', 'maira', 'pavan', 'sathyam', 'vijaya'}"
            ]
          },
          "metadata": {},
          "execution_count": 57
        }
      ]
    },
    {
      "cell_type": "code",
      "source": [
        "s={\"pavani\",\"kv\",\"vijaya\",\"sathyam\",\"pavan\",\"maira\"}\n",
        "s.remove(\"bittu\")\n",
        "s\n",
        "#bittu is not there in set\n",
        "#remove() throws an error if that element is not there in set"
      ],
      "metadata": {
        "colab": {
          "base_uri": "https://localhost:8080/",
          "height": 176
        },
        "id": "xB9xBIl-MPyG",
        "outputId": "7960c364-7eb6-4c96-8269-fa6596d0af90"
      },
      "execution_count": 56,
      "outputs": [
        {
          "output_type": "error",
          "ename": "KeyError",
          "evalue": "'bittu'",
          "traceback": [
            "\u001b[0;31m---------------------------------------------------------------------------\u001b[0m",
            "\u001b[0;31mKeyError\u001b[0m                                  Traceback (most recent call last)",
            "\u001b[0;32m<ipython-input-56-465df9b8950a>\u001b[0m in \u001b[0;36m<cell line: 2>\u001b[0;34m()\u001b[0m\n\u001b[1;32m      1\u001b[0m \u001b[0ms\u001b[0m\u001b[0;34m=\u001b[0m\u001b[0;34m{\u001b[0m\u001b[0;34m\"pavani\"\u001b[0m\u001b[0;34m,\u001b[0m\u001b[0;34m\"kv\"\u001b[0m\u001b[0;34m,\u001b[0m\u001b[0;34m\"vijaya\"\u001b[0m\u001b[0;34m,\u001b[0m\u001b[0;34m\"sathyam\"\u001b[0m\u001b[0;34m,\u001b[0m\u001b[0;34m\"pavan\"\u001b[0m\u001b[0;34m,\u001b[0m\u001b[0;34m\"maira\"\u001b[0m\u001b[0;34m}\u001b[0m\u001b[0;34m\u001b[0m\u001b[0;34m\u001b[0m\u001b[0m\n\u001b[0;32m----> 2\u001b[0;31m \u001b[0ms\u001b[0m\u001b[0;34m.\u001b[0m\u001b[0mremove\u001b[0m\u001b[0;34m(\u001b[0m\u001b[0;34m\"bittu\"\u001b[0m\u001b[0;34m)\u001b[0m\u001b[0;34m\u001b[0m\u001b[0;34m\u001b[0m\u001b[0m\n\u001b[0m\u001b[1;32m      3\u001b[0m \u001b[0ms\u001b[0m\u001b[0;34m\u001b[0m\u001b[0;34m\u001b[0m\u001b[0m\n",
            "\u001b[0;31mKeyError\u001b[0m: 'bittu'"
          ]
        }
      ]
    },
    {
      "cell_type": "code",
      "source": [
        "s={\"pavani\",\"kv\",\"vijaya\",\"sathyam\",\"pavan\",\"maira\"}\n",
        "s.discard(\"bittu\")\n",
        "s\n",
        "#discard()  will not throws an error if that element is not there in set it will print the list"
      ],
      "metadata": {
        "colab": {
          "base_uri": "https://localhost:8080/"
        },
        "id": "mnJtmrANMlMG",
        "outputId": "b1a5e486-eba1-41a0-c982-a97f45724f63"
      },
      "execution_count": 58,
      "outputs": [
        {
          "output_type": "execute_result",
          "data": {
            "text/plain": [
              "{'kv', 'maira', 'pavan', 'pavani', 'sathyam', 'vijaya'}"
            ]
          },
          "metadata": {},
          "execution_count": 58
        }
      ]
    },
    {
      "cell_type": "markdown",
      "source": [
        "**pop()**"
      ],
      "metadata": {
        "id": "Sl5e2PBnNBnF"
      }
    },
    {
      "cell_type": "code",
      "source": [
        "#by default pop() will remove the last element in list\n",
        "#in lists\n",
        "l=[1,2,3,4,5]\n",
        "l.pop()\n",
        "print(l)\n",
        "\n",
        "l=[1,2,3,4,5]\n",
        "l.pop(3)\n",
        "print(l)\n"
      ],
      "metadata": {
        "colab": {
          "base_uri": "https://localhost:8080/"
        },
        "id": "EdQdNmorNI85",
        "outputId": "55d483fa-7f37-4abb-d0f1-d2f96d9d4115"
      },
      "execution_count": 61,
      "outputs": [
        {
          "output_type": "stream",
          "name": "stdout",
          "text": [
            "[1, 2, 3, 4]\n",
            "[1, 2, 3, 5]\n"
          ]
        }
      ]
    },
    {
      "cell_type": "code",
      "source": [
        "# pop() will remove the random  element in set not 1st and last or anything\n",
        "#in sets\n",
        "l={1,2,3,4,5}\n",
        "l.pop()\n",
        "print(l)\n",
        "#pop() doesnt remove particular index  element in set bcz set doesnt have proper index\n",
        "l={1,2,3,4,5}\n",
        "l.pop(3)\n",
        "print(l)"
      ],
      "metadata": {
        "colab": {
          "base_uri": "https://localhost:8080/",
          "height": 211
        },
        "id": "OEf29IkoNx27",
        "outputId": "3ee99cae-3177-41a3-d911-48f2d0a85921"
      },
      "execution_count": 62,
      "outputs": [
        {
          "output_type": "stream",
          "name": "stdout",
          "text": [
            "{2, 3, 4, 5}\n"
          ]
        },
        {
          "output_type": "error",
          "ename": "TypeError",
          "evalue": "set.pop() takes no arguments (1 given)",
          "traceback": [
            "\u001b[0;31m---------------------------------------------------------------------------\u001b[0m",
            "\u001b[0;31mTypeError\u001b[0m                                 Traceback (most recent call last)",
            "\u001b[0;32m<ipython-input-62-261048291402>\u001b[0m in \u001b[0;36m<cell line: 7>\u001b[0;34m()\u001b[0m\n\u001b[1;32m      5\u001b[0m \u001b[0;34m\u001b[0m\u001b[0m\n\u001b[1;32m      6\u001b[0m \u001b[0ml\u001b[0m\u001b[0;34m=\u001b[0m\u001b[0;34m{\u001b[0m\u001b[0;36m1\u001b[0m\u001b[0;34m,\u001b[0m\u001b[0;36m2\u001b[0m\u001b[0;34m,\u001b[0m\u001b[0;36m3\u001b[0m\u001b[0;34m,\u001b[0m\u001b[0;36m4\u001b[0m\u001b[0;34m,\u001b[0m\u001b[0;36m5\u001b[0m\u001b[0;34m}\u001b[0m\u001b[0;34m\u001b[0m\u001b[0;34m\u001b[0m\u001b[0m\n\u001b[0;32m----> 7\u001b[0;31m \u001b[0ml\u001b[0m\u001b[0;34m.\u001b[0m\u001b[0mpop\u001b[0m\u001b[0;34m(\u001b[0m\u001b[0;36m3\u001b[0m\u001b[0;34m)\u001b[0m\u001b[0;34m\u001b[0m\u001b[0;34m\u001b[0m\u001b[0m\n\u001b[0m\u001b[1;32m      8\u001b[0m \u001b[0mprint\u001b[0m\u001b[0;34m(\u001b[0m\u001b[0ml\u001b[0m\u001b[0;34m)\u001b[0m\u001b[0;34m\u001b[0m\u001b[0;34m\u001b[0m\u001b[0m\n",
            "\u001b[0;31mTypeError\u001b[0m: set.pop() takes no arguments (1 given)"
          ]
        }
      ]
    },
    {
      "cell_type": "code",
      "source": [
        "#in sets\n",
        "l={1,2,3,4,5,\"abc\",12,1.5,24}\n",
        "print(l.pop())\n",
        "print(l)\n",
        "print(l.pop())\n",
        "print(l)\n",
        "\n",
        "\n",
        "l={1,2,3,4,5,\"abc\",12,1.5,24}\n",
        "l.pop(3)\n",
        "print(l)"
      ],
      "metadata": {
        "colab": {
          "base_uri": "https://localhost:8080/",
          "height": 263
        },
        "id": "BirYSC1MN7Rc",
        "outputId": "01001054-55da-48db-c769-fe4854f709d2"
      },
      "execution_count": 69,
      "outputs": [
        {
          "output_type": "stream",
          "name": "stdout",
          "text": [
            "1\n",
            "{2, 3, 4, 5, 1.5, 12, 24, 'abc'}\n",
            "2\n",
            "{3, 4, 5, 1.5, 12, 24, 'abc'}\n"
          ]
        },
        {
          "output_type": "error",
          "ename": "TypeError",
          "evalue": "set.pop() takes no arguments (1 given)",
          "traceback": [
            "\u001b[0;31m---------------------------------------------------------------------------\u001b[0m",
            "\u001b[0;31mTypeError\u001b[0m                                 Traceback (most recent call last)",
            "\u001b[0;32m<ipython-input-69-c8bf374826ac>\u001b[0m in \u001b[0;36m<cell line: 10>\u001b[0;34m()\u001b[0m\n\u001b[1;32m      8\u001b[0m \u001b[0;34m\u001b[0m\u001b[0m\n\u001b[1;32m      9\u001b[0m \u001b[0ml\u001b[0m\u001b[0;34m=\u001b[0m\u001b[0;34m{\u001b[0m\u001b[0;36m1\u001b[0m\u001b[0;34m,\u001b[0m\u001b[0;36m2\u001b[0m\u001b[0;34m,\u001b[0m\u001b[0;36m3\u001b[0m\u001b[0;34m,\u001b[0m\u001b[0;36m4\u001b[0m\u001b[0;34m,\u001b[0m\u001b[0;36m5\u001b[0m\u001b[0;34m,\u001b[0m\u001b[0;34m\"abc\"\u001b[0m\u001b[0;34m,\u001b[0m\u001b[0;36m12\u001b[0m\u001b[0;34m,\u001b[0m\u001b[0;36m1.5\u001b[0m\u001b[0;34m,\u001b[0m\u001b[0;36m24\u001b[0m\u001b[0;34m}\u001b[0m\u001b[0;34m\u001b[0m\u001b[0;34m\u001b[0m\u001b[0m\n\u001b[0;32m---> 10\u001b[0;31m \u001b[0ml\u001b[0m\u001b[0;34m.\u001b[0m\u001b[0mpop\u001b[0m\u001b[0;34m(\u001b[0m\u001b[0;36m3\u001b[0m\u001b[0;34m)\u001b[0m\u001b[0;34m\u001b[0m\u001b[0;34m\u001b[0m\u001b[0m\n\u001b[0m\u001b[1;32m     11\u001b[0m \u001b[0mprint\u001b[0m\u001b[0;34m(\u001b[0m\u001b[0ml\u001b[0m\u001b[0;34m)\u001b[0m\u001b[0;34m\u001b[0m\u001b[0;34m\u001b[0m\u001b[0m\n",
            "\u001b[0;31mTypeError\u001b[0m: set.pop() takes no arguments (1 given)"
          ]
        }
      ]
    },
    {
      "cell_type": "markdown",
      "source": [
        "**Operations on set**"
      ],
      "metadata": {
        "id": "QwHEszeeQ6jK"
      }
    },
    {
      "cell_type": "markdown",
      "source": [
        "union()"
      ],
      "metadata": {
        "id": "KjGtpG7vQ9bs"
      }
    },
    {
      "cell_type": "code",
      "source": [
        "#using uinon()\n",
        "s={1,2,3}\n",
        "t={4,5,6}\n",
        "print(s.union(t))\n",
        "#using |\n",
        "s={1,2,3}\n",
        "t={4,5,6}\n",
        "print(s | t)"
      ],
      "metadata": {
        "colab": {
          "base_uri": "https://localhost:8080/"
        },
        "id": "rAGVVzkTRBfo",
        "outputId": "3a0e393f-011c-4a8d-eb20-28520291075a"
      },
      "execution_count": 73,
      "outputs": [
        {
          "output_type": "stream",
          "name": "stdout",
          "text": [
            "{1, 2, 3, 4, 5, 6}\n",
            "{1, 2, 3, 4, 5, 6}\n"
          ]
        }
      ]
    },
    {
      "cell_type": "code",
      "source": [
        "#using uinon()\n",
        "s={1,2,3}\n",
        "t={4,5,6}\n",
        "u={7,8,9}\n",
        "v={10,11,12}\n",
        "\n",
        "print(s.union(t,u,v))\n",
        "\n",
        "#using uinon()\n",
        "s={1,2,3}\n",
        "t={4,5,6}\n",
        "u={7,8,9}\n",
        "v={10,11,12}\n",
        "print(s.union(t,u))\n",
        "\n",
        "#using |\n",
        "s={1,2,3}\n",
        "t={4,5,6}\n",
        "u={7,8,9}\n",
        "v={10,11,12}\n",
        "print(s | t| u)"
      ],
      "metadata": {
        "colab": {
          "base_uri": "https://localhost:8080/"
        },
        "id": "fUfPJW2PRzBy",
        "outputId": "853d805f-043a-4247-f543-0052aec4130e"
      },
      "execution_count": 76,
      "outputs": [
        {
          "output_type": "stream",
          "name": "stdout",
          "text": [
            "{1, 2, 3, 4, 5, 6, 7, 8, 9, 10, 11, 12}\n",
            "{1, 2, 3, 4, 5, 6, 7, 8, 9}\n",
            "{1, 2, 3, 4, 5, 6, 7, 8, 9}\n"
          ]
        }
      ]
    },
    {
      "cell_type": "code",
      "source": [
        "#using uinon()\n",
        "s={1,2,3}\n",
        "t={4,5,6}\n",
        "u=(7,8,9)\n",
        "v=[10,11,12]\n",
        "w=\"pavani\"\n",
        "\n",
        "print(s.union(t,u,v,w))\n",
        "\n",
        "#using uinon()\n",
        "s={1,2,3}\n",
        "t={4,5,6}\n",
        "u=(7,8,9)\n",
        "v=[10,11,12]\n",
        "w=\"pavani\"\n",
        "\n",
        "print(s.union(t,u,w))\n",
        "\n",
        "#using |\n",
        "s={1,2,3}\n",
        "t={4,5,6}\n",
        "u=(7,8,9)\n",
        "v=[10,11,12]\n",
        "w=\"pavani\"\n",
        "\n",
        "print(s | t | u |w)"
      ],
      "metadata": {
        "colab": {
          "base_uri": "https://localhost:8080/",
          "height": 211
        },
        "id": "Wn9-cKt_S4XH",
        "outputId": "9c855663-f2f5-41a3-84f8-462828804329"
      },
      "execution_count": 79,
      "outputs": [
        {
          "output_type": "stream",
          "name": "stdout",
          "text": [
            "{1, 2, 3, 4, 5, 6, 7, 8, 9, 10, 11, 12, 'a', 'p', 'i', 'n', 'v'}\n",
            "{1, 2, 3, 4, 5, 6, 7, 8, 9, 'a', 'v', 'p', 'i', 'n'}\n"
          ]
        },
        {
          "output_type": "error",
          "ename": "TypeError",
          "evalue": "unsupported operand type(s) for |: 'set' and 'tuple'",
          "traceback": [
            "\u001b[0;31m---------------------------------------------------------------------------\u001b[0m",
            "\u001b[0;31mTypeError\u001b[0m                                 Traceback (most recent call last)",
            "\u001b[0;32m<ipython-input-79-d4c929990d7e>\u001b[0m in \u001b[0;36m<cell line: 26>\u001b[0;34m()\u001b[0m\n\u001b[1;32m     24\u001b[0m \u001b[0mw\u001b[0m\u001b[0;34m=\u001b[0m\u001b[0;34m\"pavani\"\u001b[0m\u001b[0;34m\u001b[0m\u001b[0;34m\u001b[0m\u001b[0m\n\u001b[1;32m     25\u001b[0m \u001b[0;34m\u001b[0m\u001b[0m\n\u001b[0;32m---> 26\u001b[0;31m \u001b[0mprint\u001b[0m\u001b[0;34m(\u001b[0m\u001b[0ms\u001b[0m \u001b[0;34m|\u001b[0m \u001b[0mt\u001b[0m \u001b[0;34m|\u001b[0m \u001b[0mu\u001b[0m \u001b[0;34m|\u001b[0m\u001b[0mw\u001b[0m\u001b[0;34m)\u001b[0m\u001b[0;34m\u001b[0m\u001b[0;34m\u001b[0m\u001b[0m\n\u001b[0m",
            "\u001b[0;31mTypeError\u001b[0m: unsupported operand type(s) for |: 'set' and 'tuple'"
          ]
        }
      ]
    },
    {
      "cell_type": "code",
      "source": [
        "#using |\n",
        "s={1,2,3}\n",
        "t={4,5,6}\n",
        "u={7,8,9}\n",
        "v={10,11,12}\n",
        "w=\"pavani\"\n",
        "\n",
        "print(s | t | u |w)\n",
        "# | it will not take other datatypes takes only set"
      ],
      "metadata": {
        "colab": {
          "base_uri": "https://localhost:8080/",
          "height": 193
        },
        "id": "UXXgqD5tSYb4",
        "outputId": "c6c33fb8-e731-4861-d628-0d7dd5e3925f"
      },
      "execution_count": 80,
      "outputs": [
        {
          "output_type": "error",
          "ename": "TypeError",
          "evalue": "unsupported operand type(s) for |: 'set' and 'str'",
          "traceback": [
            "\u001b[0;31m---------------------------------------------------------------------------\u001b[0m",
            "\u001b[0;31mTypeError\u001b[0m                                 Traceback (most recent call last)",
            "\u001b[0;32m<ipython-input-80-968885190bea>\u001b[0m in \u001b[0;36m<cell line: 8>\u001b[0;34m()\u001b[0m\n\u001b[1;32m      6\u001b[0m \u001b[0mw\u001b[0m\u001b[0;34m=\u001b[0m\u001b[0;34m\"pavani\"\u001b[0m\u001b[0;34m\u001b[0m\u001b[0;34m\u001b[0m\u001b[0m\n\u001b[1;32m      7\u001b[0m \u001b[0;34m\u001b[0m\u001b[0m\n\u001b[0;32m----> 8\u001b[0;31m \u001b[0mprint\u001b[0m\u001b[0;34m(\u001b[0m\u001b[0ms\u001b[0m \u001b[0;34m|\u001b[0m \u001b[0mt\u001b[0m \u001b[0;34m|\u001b[0m \u001b[0mu\u001b[0m \u001b[0;34m|\u001b[0m\u001b[0mw\u001b[0m\u001b[0;34m)\u001b[0m\u001b[0;34m\u001b[0m\u001b[0;34m\u001b[0m\u001b[0m\n\u001b[0m\u001b[1;32m      9\u001b[0m \u001b[0;31m# | it will not take other datatypes takes only set\u001b[0m\u001b[0;34m\u001b[0m\u001b[0;34m\u001b[0m\u001b[0m\n",
            "\u001b[0;31mTypeError\u001b[0m: unsupported operand type(s) for |: 'set' and 'str'"
          ]
        }
      ]
    },
    {
      "cell_type": "markdown",
      "source": [
        "**intersection()**"
      ],
      "metadata": {
        "id": "9VdmjVN-TiP2"
      }
    },
    {
      "cell_type": "code",
      "source": [
        "a ={1,2,3,4}\n",
        "b={2,3,5,7}\n",
        "a.intersection(b)"
      ],
      "metadata": {
        "colab": {
          "base_uri": "https://localhost:8080/"
        },
        "id": "dgzgMCflTljK",
        "outputId": "b409ef56-ee8f-4897-8baf-6979327e4bea"
      },
      "execution_count": 81,
      "outputs": [
        {
          "output_type": "execute_result",
          "data": {
            "text/plain": [
              "{2, 3}"
            ]
          },
          "metadata": {},
          "execution_count": 81
        }
      ]
    },
    {
      "cell_type": "code",
      "source": [
        "a ={1,2,3,4}\n",
        "b={2,3,5,7}\n",
        "c={10,20,30,40}\n",
        "a.intersection(b,c)\n",
        "#empty set"
      ],
      "metadata": {
        "colab": {
          "base_uri": "https://localhost:8080/"
        },
        "id": "y5I1kMUpT_Cl",
        "outputId": "f9b155c1-4eaf-4f72-d863-2c404fc52c12"
      },
      "execution_count": 82,
      "outputs": [
        {
          "output_type": "execute_result",
          "data": {
            "text/plain": [
              "set()"
            ]
          },
          "metadata": {},
          "execution_count": 82
        }
      ]
    },
    {
      "cell_type": "code",
      "source": [
        "a ={1,2,3,4}\n",
        "b={2,3,5,7}\n",
        "c={10,20,30,40,3}\n",
        "a.intersection(b,c)\n",
        "#a & b& c -- similar\n"
      ],
      "metadata": {
        "colab": {
          "base_uri": "https://localhost:8080/"
        },
        "id": "g0nLOt2LUNxP",
        "outputId": "ccd7d712-0623-41cb-d012-1997814e4d25"
      },
      "execution_count": 84,
      "outputs": [
        {
          "output_type": "execute_result",
          "data": {
            "text/plain": [
              "{3}"
            ]
          },
          "metadata": {},
          "execution_count": 84
        }
      ]
    },
    {
      "cell_type": "code",
      "source": [
        "a ={1,2,3,4}\n",
        "b=[2,3,5,7]\n",
        "c={10,20,30,40,3}\n",
        "a.intersection(b,c)\n",
        "#here b is list still it considers\n",
        "# in | operator it will not consider only sets will be considered"
      ],
      "metadata": {
        "colab": {
          "base_uri": "https://localhost:8080/"
        },
        "id": "g6UnrvWBU435",
        "outputId": "e279fd22-21dd-4043-d7f0-543bbabc9fe7"
      },
      "execution_count": 88,
      "outputs": [
        {
          "output_type": "execute_result",
          "data": {
            "text/plain": [
              "{3}"
            ]
          },
          "metadata": {},
          "execution_count": 88
        }
      ]
    },
    {
      "cell_type": "markdown",
      "source": [
        "**& operator -- acts as intersection**"
      ],
      "metadata": {
        "id": "l0XgrZthUZB-"
      }
    },
    {
      "cell_type": "code",
      "source": [
        "a ={1,2,3,4}\n",
        "b={2,3,5,7}\n",
        "c={10,20,30,40,3}\n",
        "a & b & c"
      ],
      "metadata": {
        "colab": {
          "base_uri": "https://localhost:8080/"
        },
        "id": "2RU16vuOUc_F",
        "outputId": "702c0215-2f0f-4ec2-c0d0-1669de17fe44"
      },
      "execution_count": 85,
      "outputs": [
        {
          "output_type": "execute_result",
          "data": {
            "text/plain": [
              "{3}"
            ]
          },
          "metadata": {},
          "execution_count": 85
        }
      ]
    },
    {
      "cell_type": "code",
      "source": [
        "a ={1,2,3,4}\n",
        "b=[2,3,5,7]\n",
        "c={10,20,30,40,3}\n",
        "a & b & c\n",
        "#here b is list"
      ],
      "metadata": {
        "colab": {
          "base_uri": "https://localhost:8080/",
          "height": 176
        },
        "id": "ojTQkr6mUuow",
        "outputId": "f7693695-b7ac-49a1-e22f-6c6f5fe19c13"
      },
      "execution_count": 86,
      "outputs": [
        {
          "output_type": "error",
          "ename": "TypeError",
          "evalue": "unsupported operand type(s) for &: 'set' and 'list'",
          "traceback": [
            "\u001b[0;31m---------------------------------------------------------------------------\u001b[0m",
            "\u001b[0;31mTypeError\u001b[0m                                 Traceback (most recent call last)",
            "\u001b[0;32m<ipython-input-86-a95244095a4e>\u001b[0m in \u001b[0;36m<cell line: 4>\u001b[0;34m()\u001b[0m\n\u001b[1;32m      2\u001b[0m \u001b[0mb\u001b[0m\u001b[0;34m=\u001b[0m\u001b[0;34m[\u001b[0m\u001b[0;36m2\u001b[0m\u001b[0;34m,\u001b[0m\u001b[0;36m3\u001b[0m\u001b[0;34m,\u001b[0m\u001b[0;36m5\u001b[0m\u001b[0;34m,\u001b[0m\u001b[0;36m7\u001b[0m\u001b[0;34m]\u001b[0m\u001b[0;34m\u001b[0m\u001b[0;34m\u001b[0m\u001b[0m\n\u001b[1;32m      3\u001b[0m \u001b[0mc\u001b[0m\u001b[0;34m=\u001b[0m\u001b[0;34m{\u001b[0m\u001b[0;36m10\u001b[0m\u001b[0;34m,\u001b[0m\u001b[0;36m20\u001b[0m\u001b[0;34m,\u001b[0m\u001b[0;36m30\u001b[0m\u001b[0;34m,\u001b[0m\u001b[0;36m40\u001b[0m\u001b[0;34m,\u001b[0m\u001b[0;36m3\u001b[0m\u001b[0;34m}\u001b[0m\u001b[0;34m\u001b[0m\u001b[0;34m\u001b[0m\u001b[0m\n\u001b[0;32m----> 4\u001b[0;31m \u001b[0ma\u001b[0m \u001b[0;34m&\u001b[0m \u001b[0mb\u001b[0m \u001b[0;34m&\u001b[0m \u001b[0mc\u001b[0m\u001b[0;34m\u001b[0m\u001b[0;34m\u001b[0m\u001b[0m\n\u001b[0m",
            "\u001b[0;31mTypeError\u001b[0m: unsupported operand type(s) for &: 'set' and 'list'"
          ]
        }
      ]
    },
    {
      "cell_type": "markdown",
      "source": [
        "* update | union\n",
        "* intersection_update | intersection"
      ],
      "metadata": {
        "id": "6GJR75RgVnMv"
      }
    },
    {
      "cell_type": "code",
      "source": [
        "a ={1,2,3,4}\n",
        "b={2,3,5,7}\n",
        "print(a.intersection(b))\n",
        "print(a)\n",
        "print(b)"
      ],
      "metadata": {
        "colab": {
          "base_uri": "https://localhost:8080/"
        },
        "id": "oKpHQjqvV0Ui",
        "outputId": "b437249e-cc4b-447e-c1f0-cc328e3c8fd4"
      },
      "execution_count": 90,
      "outputs": [
        {
          "output_type": "stream",
          "name": "stdout",
          "text": [
            "{2, 3}\n",
            "{1, 2, 3, 4}\n",
            "{2, 3, 5, 7}\n"
          ]
        }
      ]
    },
    {
      "cell_type": "code",
      "source": [
        "a ={1,2,3,4}\n",
        "b={2,3,5,7}\n",
        "print(a.intersection_update(b))\n",
        "print(a)\n",
        "print(b)"
      ],
      "metadata": {
        "colab": {
          "base_uri": "https://localhost:8080/"
        },
        "id": "fcdchNqgWDTr",
        "outputId": "c69493b7-cf53-4c40-b529-65a67459b9c8"
      },
      "execution_count": 93,
      "outputs": [
        {
          "output_type": "stream",
          "name": "stdout",
          "text": [
            "None\n",
            "{2, 3}\n",
            "{2, 3, 5, 7}\n"
          ]
        }
      ]
    },
    {
      "cell_type": "markdown",
      "source": [
        "**intersection_update --  is  \" &=\"**"
      ],
      "metadata": {
        "id": "4bv5R1aWWayz"
      }
    },
    {
      "cell_type": "code",
      "source": [
        "a ={1,2,3,4}\n",
        "b={2,3,5,7}\n",
        "a &= b\n",
        "print(a)\n",
        "print(b)"
      ],
      "metadata": {
        "colab": {
          "base_uri": "https://localhost:8080/"
        },
        "id": "AVKLdyElWiZ5",
        "outputId": "2c6cdf08-ce1a-4fd1-e03b-e6f3878da8dd"
      },
      "execution_count": 97,
      "outputs": [
        {
          "output_type": "stream",
          "name": "stdout",
          "text": [
            "{2, 3}\n",
            "{2, 3, 5, 7}\n"
          ]
        }
      ]
    },
    {
      "cell_type": "markdown",
      "source": [
        "* ** & -- intersection**\n",
        "* **&= --intersection_update**\n",
        "* **| -- union**\n",
        "*** |= -- update**"
      ],
      "metadata": {
        "id": "eJ6tRJwcXCaf"
      }
    },
    {
      "cell_type": "code",
      "source": [
        "a ={1,2,3,4}\n",
        "b={2,3,5,7}\n",
        "a |= b # union\n",
        "a"
      ],
      "metadata": {
        "colab": {
          "base_uri": "https://localhost:8080/"
        },
        "id": "_b-am10rXWEs",
        "outputId": "c92d2e32-8e98-47a5-e976-6f6182e9ef45"
      },
      "execution_count": 100,
      "outputs": [
        {
          "output_type": "execute_result",
          "data": {
            "text/plain": [
              "{1, 2, 3, 4, 5, 7}"
            ]
          },
          "metadata": {},
          "execution_count": 100
        }
      ]
    },
    {
      "cell_type": "markdown",
      "source": [
        "**difference()**"
      ],
      "metadata": {
        "id": "39nK04p4YEHr"
      }
    },
    {
      "cell_type": "code",
      "source": [
        "a ={1,2,3,4}\n",
        "b={2,3,5,7}\n",
        "print(a.difference(b))\n",
        "print(a) #remains same"
      ],
      "metadata": {
        "colab": {
          "base_uri": "https://localhost:8080/"
        },
        "id": "OvdS8gMYYG8n",
        "outputId": "d7817147-65c8-44a9-9846-c25f9070e579"
      },
      "execution_count": 102,
      "outputs": [
        {
          "output_type": "stream",
          "name": "stdout",
          "text": [
            "{1, 4}\n",
            "{1, 2, 3, 4}\n"
          ]
        }
      ]
    },
    {
      "cell_type": "code",
      "source": [
        "a ={1,2,3,4}\n",
        "b={2,3,5,7}\n",
        "print(a -b)\n",
        "print(a) #remains same"
      ],
      "metadata": {
        "colab": {
          "base_uri": "https://localhost:8080/"
        },
        "id": "k22tTuemYay9",
        "outputId": "408fd583-dbf7-4eca-f888-50262e478fdf"
      },
      "execution_count": 103,
      "outputs": [
        {
          "output_type": "stream",
          "name": "stdout",
          "text": [
            "{1, 4}\n",
            "{1, 2, 3, 4}\n"
          ]
        }
      ]
    },
    {
      "cell_type": "markdown",
      "source": [
        "**difference_update()  -- symbol      \"-=\"**"
      ],
      "metadata": {
        "id": "52QFMY_OYesI"
      }
    },
    {
      "cell_type": "code",
      "source": [
        "a ={1,2,3,4}\n",
        "b={2,3,5,7}\n",
        "a.difference_update(b)\n",
        "print(a) #changes a set after difference"
      ],
      "metadata": {
        "colab": {
          "base_uri": "https://localhost:8080/"
        },
        "id": "Y82rTyYIYiP3",
        "outputId": "1375191c-fec1-4c03-9e9d-b035ad32f6f3"
      },
      "execution_count": 105,
      "outputs": [
        {
          "output_type": "stream",
          "name": "stdout",
          "text": [
            "{1, 4}\n"
          ]
        }
      ]
    },
    {
      "cell_type": "code",
      "source": [
        "a ={1,2,3,4}\n",
        "b={2,3,5,7}\n",
        "a -= b #difference_update symbol\n",
        "print(a) #changes a set after difference"
      ],
      "metadata": {
        "colab": {
          "base_uri": "https://localhost:8080/"
        },
        "id": "dmrkh6zJY1Et",
        "outputId": "885d95f6-537a-4fc8-ae9b-4e1822563d2f"
      },
      "execution_count": 106,
      "outputs": [
        {
          "output_type": "stream",
          "name": "stdout",
          "text": [
            "{1, 4}\n"
          ]
        }
      ]
    },
    {
      "cell_type": "markdown",
      "source": [
        "**symmetric_difference**  also **^** we use this symbol"
      ],
      "metadata": {
        "id": "K4djajDfZNQN"
      }
    },
    {
      "cell_type": "code",
      "source": [
        "gateda={\"ML\",\"python\",\"LA\",\"calculus\",\"aptitude\"}\n",
        "gatecs={\"OS\",\"C++\",\"LA\",\"calculus\",\"aptitude\"}\n",
        "gateda.symmetric_difference(gatecs)\n",
        "#removes common elements and gives remaining"
      ],
      "metadata": {
        "colab": {
          "base_uri": "https://localhost:8080/"
        },
        "id": "fyG5lCZxZQto",
        "outputId": "21871b00-6762-434b-f1f4-28fe49969640"
      },
      "execution_count": 108,
      "outputs": [
        {
          "output_type": "execute_result",
          "data": {
            "text/plain": [
              "{'C++', 'ML', 'OS', 'python'}"
            ]
          },
          "metadata": {},
          "execution_count": 108
        }
      ]
    },
    {
      "cell_type": "code",
      "source": [
        "a ={1,2,3,4}\n",
        "b={2,3,5,7}\n",
        "a.symmetric_difference(b)\n",
        "#removes common elements and gives remaining"
      ],
      "metadata": {
        "colab": {
          "base_uri": "https://localhost:8080/"
        },
        "id": "HOYDnJUZaP4n",
        "outputId": "00943f26-5ee8-4fb3-ccd1-bea05bf83ede"
      },
      "execution_count": 110,
      "outputs": [
        {
          "output_type": "execute_result",
          "data": {
            "text/plain": [
              "{1, 4, 5, 7}"
            ]
          },
          "metadata": {},
          "execution_count": 110
        }
      ]
    },
    {
      "cell_type": "code",
      "source": [
        "a ={1,2,3,4}\n",
        "b={2,3,5,7}\n",
        "a^b"
      ],
      "metadata": {
        "colab": {
          "base_uri": "https://localhost:8080/"
        },
        "id": "LB_0voAha5WJ",
        "outputId": "1d31dab8-4ef3-454c-ed92-ebf6eeb19def"
      },
      "execution_count": 111,
      "outputs": [
        {
          "output_type": "execute_result",
          "data": {
            "text/plain": [
              "{1, 4, 5, 7}"
            ]
          },
          "metadata": {},
          "execution_count": 111
        }
      ]
    },
    {
      "cell_type": "markdown",
      "source": [
        "**symmetric_difference_update()**  also **^=** we use this symbol"
      ],
      "metadata": {
        "id": "ctGduNoqbKc8"
      }
    },
    {
      "cell_type": "code",
      "source": [
        "gateda={\"ML\",\"python\",\"LA\",\"calculus\",\"aptitude\"}\n",
        "gatecs={\"OS\",\"C++\",\"LA\",\"calculus\",\"aptitude\"}\n",
        "gateda.symmetric_difference_update(gatecs)\n",
        "print(gateda) # it will get updated\n",
        "print(gatecs)\n",
        "\n",
        "#removes common elements and gives remaining"
      ],
      "metadata": {
        "colab": {
          "base_uri": "https://localhost:8080/"
        },
        "id": "j2aPs2t_bOo4",
        "outputId": "f315ae8c-5981-4d36-d100-09547af1680b"
      },
      "execution_count": 114,
      "outputs": [
        {
          "output_type": "stream",
          "name": "stdout",
          "text": [
            "{'OS', 'ML', 'python', 'C++'}\n",
            "{'calculus', 'aptitude', 'OS', 'LA', 'C++'}\n"
          ]
        }
      ]
    },
    {
      "cell_type": "code",
      "source": [
        "gateda={\"ML\",\"python\",\"LA\",\"calculus\",\"aptitude\"}\n",
        "gatecs={\"OS\",\"C++\",\"LA\",\"calculus\",\"aptitude\"}\n",
        "gateda ^= gatecs\n",
        "print(gateda) # it will get updated\n",
        "print(gatecs)"
      ],
      "metadata": {
        "colab": {
          "base_uri": "https://localhost:8080/"
        },
        "id": "iH0wqBSGbfFX",
        "outputId": "c33bd4f7-e241-48a1-bee5-00131a5ef53f"
      },
      "execution_count": 115,
      "outputs": [
        {
          "output_type": "stream",
          "name": "stdout",
          "text": [
            "{'OS', 'ML', 'python', 'C++'}\n",
            "{'calculus', 'aptitude', 'OS', 'LA', 'C++'}\n"
          ]
        }
      ]
    },
    {
      "cell_type": "markdown",
      "source": [
        "**clear()**"
      ],
      "metadata": {
        "id": "h5tMw7MLbsQD"
      }
    },
    {
      "cell_type": "code",
      "source": [
        "gateda={\"ML\",\"python\",\"LA\",\"calculus\",\"aptitude\"}\n",
        "print(gateda)\n",
        "gateda.clear() #clear the set empties\n",
        "gateda\n",
        "\n",
        "#clear only removes elements from set doesnt delelet whole set"
      ],
      "metadata": {
        "colab": {
          "base_uri": "https://localhost:8080/"
        },
        "id": "hwZ_VEXubuOK",
        "outputId": "c0c9cfe4-a84f-4994-ebf8-1c84daab3736"
      },
      "execution_count": 118,
      "outputs": [
        {
          "output_type": "stream",
          "name": "stdout",
          "text": [
            "{'calculus', 'aptitude', 'ML', 'python', 'LA'}\n"
          ]
        },
        {
          "output_type": "execute_result",
          "data": {
            "text/plain": [
              "set()"
            ]
          },
          "metadata": {},
          "execution_count": 118
        }
      ]
    },
    {
      "cell_type": "code",
      "source": [
        "a={1,2,3,4,5,6}\n",
        "del a\n",
        "print(a)\n",
        "\n",
        "#del deletes the whole set not like clear()"
      ],
      "metadata": {
        "colab": {
          "base_uri": "https://localhost:8080/",
          "height": 176
        },
        "id": "VlFkhiNOcH_N",
        "outputId": "cee2a47c-db0d-41ea-9576-a3645837ba02"
      },
      "execution_count": 120,
      "outputs": [
        {
          "output_type": "error",
          "ename": "NameError",
          "evalue": "name 'a' is not defined",
          "traceback": [
            "\u001b[0;31m---------------------------------------------------------------------------\u001b[0m",
            "\u001b[0;31mNameError\u001b[0m                                 Traceback (most recent call last)",
            "\u001b[0;32m<ipython-input-120-4055dc8ffcfb>\u001b[0m in \u001b[0;36m<cell line: 3>\u001b[0;34m()\u001b[0m\n\u001b[1;32m      1\u001b[0m \u001b[0ma\u001b[0m\u001b[0;34m=\u001b[0m\u001b[0;34m{\u001b[0m\u001b[0;36m1\u001b[0m\u001b[0;34m,\u001b[0m\u001b[0;36m2\u001b[0m\u001b[0;34m,\u001b[0m\u001b[0;36m3\u001b[0m\u001b[0;34m,\u001b[0m\u001b[0;36m4\u001b[0m\u001b[0;34m,\u001b[0m\u001b[0;36m5\u001b[0m\u001b[0;34m,\u001b[0m\u001b[0;36m6\u001b[0m\u001b[0;34m}\u001b[0m\u001b[0;34m\u001b[0m\u001b[0;34m\u001b[0m\u001b[0m\n\u001b[1;32m      2\u001b[0m \u001b[0;32mdel\u001b[0m \u001b[0ma\u001b[0m\u001b[0;34m\u001b[0m\u001b[0;34m\u001b[0m\u001b[0m\n\u001b[0;32m----> 3\u001b[0;31m \u001b[0mprint\u001b[0m\u001b[0;34m(\u001b[0m\u001b[0ma\u001b[0m\u001b[0;34m)\u001b[0m\u001b[0;34m\u001b[0m\u001b[0;34m\u001b[0m\u001b[0m\n\u001b[0m",
            "\u001b[0;31mNameError\u001b[0m: name 'a' is not defined"
          ]
        }
      ]
    },
    {
      "cell_type": "code",
      "source": [
        "#copy()\n",
        "a={1,2,3,5}\n",
        "b=a.copy()\n",
        "b"
      ],
      "metadata": {
        "colab": {
          "base_uri": "https://localhost:8080/"
        },
        "id": "AXw6m42KcnN4",
        "outputId": "bd5f4a43-1082-4fe1-f678-30faf4177f30"
      },
      "execution_count": 121,
      "outputs": [
        {
          "output_type": "execute_result",
          "data": {
            "text/plain": [
              "{1, 2, 3, 5}"
            ]
          },
          "metadata": {},
          "execution_count": 121
        }
      ]
    },
    {
      "cell_type": "markdown",
      "source": [
        "**isdisjoint()**"
      ],
      "metadata": {
        "id": "XQJDOW5gc2r1"
      }
    },
    {
      "cell_type": "code",
      "source": [
        "a={1,2,3,4}\n",
        "a={2,3,5,7}\n",
        "\n",
        "a.isdisjoint(b)\n",
        "#if there is any common elements it will return FALSE\n",
        "#if there is no common elements it will return TRUE\n"
      ],
      "metadata": {
        "colab": {
          "base_uri": "https://localhost:8080/"
        },
        "id": "gxPz7KTMc5qL",
        "outputId": "9b6f5565-958b-462d-e0f3-8ddb75c0d4a9"
      },
      "execution_count": 123,
      "outputs": [
        {
          "output_type": "execute_result",
          "data": {
            "text/plain": [
              "False"
            ]
          },
          "metadata": {},
          "execution_count": 123
        }
      ]
    },
    {
      "cell_type": "code",
      "source": [
        "a={1,2,3,4}\n",
        "b={9,6,5,7}\n",
        "\n",
        "a.isdisjoint(b)\n",
        "#if there is any common elements it will return FALSE i.e aintersection b = not empty\n",
        "#if there is no common elements it will return TRUE i.e aintersection b = empty"
      ],
      "metadata": {
        "colab": {
          "base_uri": "https://localhost:8080/"
        },
        "id": "m0UHG5TRdQ-4",
        "outputId": "7c2b5b78-99b7-43be-b396-1efce2b77509"
      },
      "execution_count": 127,
      "outputs": [
        {
          "output_type": "execute_result",
          "data": {
            "text/plain": [
              "True"
            ]
          },
          "metadata": {},
          "execution_count": 127
        }
      ]
    },
    {
      "cell_type": "markdown",
      "source": [
        "**issuperset()**"
      ],
      "metadata": {
        "id": "uSIh4T5idfir"
      }
    },
    {
      "cell_type": "code",
      "source": [
        "a = {1,2,3,4}\n",
        "b={2,3,5,7}\n",
        "a.issuperset(b)\n",
        "#all the elements in b has to be in a  TRUE\n",
        "#all the elements in b are not  in a  FALSE\n"
      ],
      "metadata": {
        "colab": {
          "base_uri": "https://localhost:8080/"
        },
        "id": "DzIpqMLDdxdW",
        "outputId": "a6396298-61dd-4f97-80dd-f6e92b3e67d6"
      },
      "execution_count": 129,
      "outputs": [
        {
          "output_type": "execute_result",
          "data": {
            "text/plain": [
              "False"
            ]
          },
          "metadata": {},
          "execution_count": 129
        }
      ]
    },
    {
      "cell_type": "code",
      "source": [
        "a = {1,2,3,4,5,7,8}\n",
        "b={2,3,5,7}\n",
        "a.issuperset(b)"
      ],
      "metadata": {
        "colab": {
          "base_uri": "https://localhost:8080/"
        },
        "id": "ZONkRbcSeHtX",
        "outputId": "dab3dd6b-b1eb-4bb6-dc20-a4a426693083"
      },
      "execution_count": 130,
      "outputs": [
        {
          "output_type": "execute_result",
          "data": {
            "text/plain": [
              "True"
            ]
          },
          "metadata": {},
          "execution_count": 130
        }
      ]
    },
    {
      "cell_type": "markdown",
      "source": [
        "**issubset()**"
      ],
      "metadata": {
        "id": "uY8vNPqfeMdA"
      }
    },
    {
      "cell_type": "code",
      "source": [
        "a = {1,2,3,4}\n",
        "b={1,2}\n",
        "a.issubset(b)\n",
        "#all the elements in a has to be in b  TRUE\n",
        "#all the elements in a are not  in b  FALSE"
      ],
      "metadata": {
        "colab": {
          "base_uri": "https://localhost:8080/"
        },
        "id": "0mnKcayoeTdK",
        "outputId": "29c9a57f-9b8e-43b4-82ce-c7545bed29ed"
      },
      "execution_count": 131,
      "outputs": [
        {
          "output_type": "execute_result",
          "data": {
            "text/plain": [
              "False"
            ]
          },
          "metadata": {},
          "execution_count": 131
        }
      ]
    },
    {
      "cell_type": "code",
      "source": [
        "a = {1,2,3,4}\n",
        "b={1,2,3,4,7,8,9}\n",
        "a.issubset(b)\n",
        "#all the elements in a has to be in b  TRUE\n",
        "#all the elements in a are not  in b  FALSE"
      ],
      "metadata": {
        "colab": {
          "base_uri": "https://localhost:8080/"
        },
        "id": "uxcSytqUejMn",
        "outputId": "ef4d8053-6cf9-4206-de26-baae5dfd2090"
      },
      "execution_count": 132,
      "outputs": [
        {
          "output_type": "execute_result",
          "data": {
            "text/plain": [
              "True"
            ]
          },
          "metadata": {},
          "execution_count": 132
        }
      ]
    },
    {
      "cell_type": "markdown",
      "source": [
        "# Frozen Set"
      ],
      "metadata": {
        "id": "cJG_8azNfQo8"
      }
    },
    {
      "cell_type": "markdown",
      "source": [
        "* sets - mutable  (we can add /remove)\n",
        "* frozenset - immutable once creaed canot chage\n",
        "* wont allow duplicates\n",
        "* all properties are same except mutable\n",
        "* unordered unindexed"
      ],
      "metadata": {
        "id": "ljyO-mnnfgTD"
      }
    },
    {
      "cell_type": "code",
      "source": [
        "f=frozenset()\n",
        "print(f)\n",
        "print(type(f))"
      ],
      "metadata": {
        "colab": {
          "base_uri": "https://localhost:8080/"
        },
        "id": "IGB3wB9mfo-y",
        "outputId": "a57405f2-c061-4cdb-f31e-e96c66883e7c"
      },
      "execution_count": 133,
      "outputs": [
        {
          "output_type": "stream",
          "name": "stdout",
          "text": [
            "frozenset()\n",
            "<class 'frozenset'>\n"
          ]
        }
      ]
    },
    {
      "cell_type": "code",
      "source": [
        "# add elements in frozen set\n",
        "f= frozenset([10,20,30,1,True,0,False])\n",
        "print(f)"
      ],
      "metadata": {
        "colab": {
          "base_uri": "https://localhost:8080/"
        },
        "id": "wSK36E4MgAe4",
        "outputId": "86fa803c-a401-46b2-ff6b-c3a37f2d723e"
      },
      "execution_count": 134,
      "outputs": [
        {
          "output_type": "stream",
          "name": "stdout",
          "text": [
            "frozenset({0, 1, 10, 20, 30})\n"
          ]
        }
      ]
    },
    {
      "cell_type": "code",
      "source": [
        "f= frozenset([10,20,30,1,True,0,False])\n",
        "f.add(12)\n",
        "print(f)"
      ],
      "metadata": {
        "colab": {
          "base_uri": "https://localhost:8080/",
          "height": 176
        },
        "id": "kfuIBuZAgVqf",
        "outputId": "6fba5146-a1fa-4515-d7c0-2bc09bfd7fd8"
      },
      "execution_count": 135,
      "outputs": [
        {
          "output_type": "error",
          "ename": "AttributeError",
          "evalue": "'frozenset' object has no attribute 'add'",
          "traceback": [
            "\u001b[0;31m---------------------------------------------------------------------------\u001b[0m",
            "\u001b[0;31mAttributeError\u001b[0m                            Traceback (most recent call last)",
            "\u001b[0;32m<ipython-input-135-c90061ec519c>\u001b[0m in \u001b[0;36m<cell line: 2>\u001b[0;34m()\u001b[0m\n\u001b[1;32m      1\u001b[0m \u001b[0mf\u001b[0m\u001b[0;34m=\u001b[0m \u001b[0mfrozenset\u001b[0m\u001b[0;34m(\u001b[0m\u001b[0;34m[\u001b[0m\u001b[0;36m10\u001b[0m\u001b[0;34m,\u001b[0m\u001b[0;36m20\u001b[0m\u001b[0;34m,\u001b[0m\u001b[0;36m30\u001b[0m\u001b[0;34m,\u001b[0m\u001b[0;36m1\u001b[0m\u001b[0;34m,\u001b[0m\u001b[0;32mTrue\u001b[0m\u001b[0;34m,\u001b[0m\u001b[0;36m0\u001b[0m\u001b[0;34m,\u001b[0m\u001b[0;32mFalse\u001b[0m\u001b[0;34m]\u001b[0m\u001b[0;34m)\u001b[0m\u001b[0;34m\u001b[0m\u001b[0;34m\u001b[0m\u001b[0m\n\u001b[0;32m----> 2\u001b[0;31m \u001b[0mf\u001b[0m\u001b[0;34m.\u001b[0m\u001b[0madd\u001b[0m\u001b[0;34m(\u001b[0m\u001b[0;36m12\u001b[0m\u001b[0;34m)\u001b[0m\u001b[0;34m\u001b[0m\u001b[0;34m\u001b[0m\u001b[0m\n\u001b[0m\u001b[1;32m      3\u001b[0m \u001b[0mprint\u001b[0m\u001b[0;34m(\u001b[0m\u001b[0mf\u001b[0m\u001b[0;34m)\u001b[0m\u001b[0;34m\u001b[0m\u001b[0;34m\u001b[0m\u001b[0m\n",
            "\u001b[0;31mAttributeError\u001b[0m: 'frozenset' object has no attribute 'add'"
          ]
        }
      ]
    },
    {
      "cell_type": "code",
      "source": [
        "f= frozenset([10,20,30,1,True,0,False])\n",
        "f.remove(20)\n",
        "print(f)"
      ],
      "metadata": {
        "colab": {
          "base_uri": "https://localhost:8080/",
          "height": 176
        },
        "id": "hkycfiYrgapL",
        "outputId": "0eb10b80-30db-4630-fe28-789f836ee8ae"
      },
      "execution_count": 136,
      "outputs": [
        {
          "output_type": "error",
          "ename": "AttributeError",
          "evalue": "'frozenset' object has no attribute 'remove'",
          "traceback": [
            "\u001b[0;31m---------------------------------------------------------------------------\u001b[0m",
            "\u001b[0;31mAttributeError\u001b[0m                            Traceback (most recent call last)",
            "\u001b[0;32m<ipython-input-136-9c5eaf7a687d>\u001b[0m in \u001b[0;36m<cell line: 2>\u001b[0;34m()\u001b[0m\n\u001b[1;32m      1\u001b[0m \u001b[0mf\u001b[0m\u001b[0;34m=\u001b[0m \u001b[0mfrozenset\u001b[0m\u001b[0;34m(\u001b[0m\u001b[0;34m[\u001b[0m\u001b[0;36m10\u001b[0m\u001b[0;34m,\u001b[0m\u001b[0;36m20\u001b[0m\u001b[0;34m,\u001b[0m\u001b[0;36m30\u001b[0m\u001b[0;34m,\u001b[0m\u001b[0;36m1\u001b[0m\u001b[0;34m,\u001b[0m\u001b[0;32mTrue\u001b[0m\u001b[0;34m,\u001b[0m\u001b[0;36m0\u001b[0m\u001b[0;34m,\u001b[0m\u001b[0;32mFalse\u001b[0m\u001b[0;34m]\u001b[0m\u001b[0;34m)\u001b[0m\u001b[0;34m\u001b[0m\u001b[0;34m\u001b[0m\u001b[0m\n\u001b[0;32m----> 2\u001b[0;31m \u001b[0mf\u001b[0m\u001b[0;34m.\u001b[0m\u001b[0mremove\u001b[0m\u001b[0;34m(\u001b[0m\u001b[0;36m20\u001b[0m\u001b[0;34m)\u001b[0m\u001b[0;34m\u001b[0m\u001b[0;34m\u001b[0m\u001b[0m\n\u001b[0m\u001b[1;32m      3\u001b[0m \u001b[0mprint\u001b[0m\u001b[0;34m(\u001b[0m\u001b[0mf\u001b[0m\u001b[0;34m)\u001b[0m\u001b[0;34m\u001b[0m\u001b[0;34m\u001b[0m\u001b[0m\n",
            "\u001b[0;31mAttributeError\u001b[0m: 'frozenset' object has no attribute 'remove'"
          ]
        }
      ]
    },
    {
      "cell_type": "markdown",
      "source": [
        "* union\n",
        "* intersection\n",
        "* difference\n",
        "* symmetric_difference\n",
        "* copy\n",
        "* will work on frozen sets"
      ],
      "metadata": {
        "id": "zDJaK2jTgkq6"
      }
    },
    {
      "cell_type": "markdown",
      "source": [
        "* union_update\n",
        "* intersection_update\n",
        "* difference_update\n",
        "* symmetric_difference_update\n",
        "* copy\n",
        "* will not work on frozen sets"
      ],
      "metadata": {
        "id": "wEP6Dr91g07t"
      }
    },
    {
      "cell_type": "code",
      "source": [
        "f1=frozenset([10,20,30,40,50,60])\n",
        "f2=frozenset([50,60,70])\n",
        "f1.union(f2)"
      ],
      "metadata": {
        "colab": {
          "base_uri": "https://localhost:8080/"
        },
        "id": "Xf-jNqgXhJv_",
        "outputId": "5c1593e8-54fe-4b45-9d07-298dbb3ec016"
      },
      "execution_count": 137,
      "outputs": [
        {
          "output_type": "execute_result",
          "data": {
            "text/plain": [
              "frozenset({10, 20, 30, 40, 50, 60, 70})"
            ]
          },
          "metadata": {},
          "execution_count": 137
        }
      ]
    },
    {
      "cell_type": "code",
      "source": [
        "f1=frozenset([10,20,30,40,50,60])\n",
        "f2=frozenset([50,60,70])\n",
        "f1.intersection(f2)"
      ],
      "metadata": {
        "colab": {
          "base_uri": "https://localhost:8080/"
        },
        "id": "MjNFnPY1hckE",
        "outputId": "bcb1b7ff-c401-4c01-8484-9b4690e664e5"
      },
      "execution_count": 138,
      "outputs": [
        {
          "output_type": "execute_result",
          "data": {
            "text/plain": [
              "frozenset({50, 60})"
            ]
          },
          "metadata": {},
          "execution_count": 138
        }
      ]
    },
    {
      "cell_type": "code",
      "source": [
        "f1=frozenset([10,20,30,40,50,60])\n",
        "f2=frozenset([50,60,70])\n",
        "f1.difference(f2)"
      ],
      "metadata": {
        "colab": {
          "base_uri": "https://localhost:8080/"
        },
        "id": "Cv-S-3GQhg9L",
        "outputId": "1acb5048-1cd5-4872-d8ad-50f5978a5e09"
      },
      "execution_count": 139,
      "outputs": [
        {
          "output_type": "execute_result",
          "data": {
            "text/plain": [
              "frozenset({10, 20, 30, 40})"
            ]
          },
          "metadata": {},
          "execution_count": 139
        }
      ]
    },
    {
      "cell_type": "code",
      "source": [
        "f1=frozenset([10,20,30,40,50,60])\n",
        "f2=frozenset([50,60,70])\n",
        "f1.symmetric_difference(f2)"
      ],
      "metadata": {
        "colab": {
          "base_uri": "https://localhost:8080/"
        },
        "id": "sF36Y3JhhmgB",
        "outputId": "dd9ea16c-de15-43b4-d560-8af7f1b0f77f"
      },
      "execution_count": 140,
      "outputs": [
        {
          "output_type": "execute_result",
          "data": {
            "text/plain": [
              "frozenset({10, 20, 30, 40, 70})"
            ]
          },
          "metadata": {},
          "execution_count": 140
        }
      ]
    },
    {
      "cell_type": "code",
      "source": [
        "f1=frozenset([10,20,30,40,50,60])\n",
        "f2=f1.copy()\n",
        "f2"
      ],
      "metadata": {
        "colab": {
          "base_uri": "https://localhost:8080/"
        },
        "id": "pVguq1Yrhuiz",
        "outputId": "48b8a0a1-9bf3-4e6f-8c4b-3960f5097670"
      },
      "execution_count": 144,
      "outputs": [
        {
          "output_type": "execute_result",
          "data": {
            "text/plain": [
              "frozenset({10, 20, 30, 40, 50, 60})"
            ]
          },
          "metadata": {},
          "execution_count": 144
        }
      ]
    }
  ]
}