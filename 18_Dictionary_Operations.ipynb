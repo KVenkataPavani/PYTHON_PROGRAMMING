{
  "cells": [
    {
      "cell_type": "markdown",
      "metadata": {
        "id": "view-in-github",
        "colab_type": "text"
      },
      "source": [
        "<a href=\"https://colab.research.google.com/github/KVenkataPavani/PYTHON_PROGRAMMING/blob/main/18_Dictionary_Operations.ipynb\" target=\"_parent\"><img src=\"https://colab.research.google.com/assets/colab-badge.svg\" alt=\"Open In Colab\"/></a>"
      ]
    },
    {
      "cell_type": "markdown",
      "metadata": {
        "id": "dUnP4IA3ub7u"
      },
      "source": [
        "# Dictionary\n"
      ]
    },
    {
      "cell_type": "markdown",
      "metadata": {
        "id": "hoGq6LADue_y"
      },
      "source": [
        "* Initialize a dictionary\n",
        "* Create a dictionary with items\n",
        "* dict.fromkeys\n",
        "* Dictionary is mutable (keys & values - what can be added?)\n",
        "* keys, values, items\n",
        "* Accessing Items in Dictionary (get method)\n",
        "* Modifying a dictionary\n",
        "* update method\n",
        "* deleting items in dictionary\n",
        "* clear\n",
        "* pop\n",
        "* popitem\n",
        "* Looping through dictionary"
      ]
    },
    {
      "cell_type": "markdown",
      "source": [
        "Points"
      ],
      "metadata": {
        "id": "rBVypXs7dSyM"
      }
    },
    {
      "cell_type": "markdown",
      "metadata": {
        "id": "kjXJNP7RvBx_"
      },
      "source": [
        "* Dict = we have {key:value} pairs  in dict\n",
        "* unordered before python3.7 and now its ordered i.e how we pass the values in the dict that order\n",
        "* duplicates not allowed\n",
        "* written in {}"
      ]
    },
    {
      "cell_type": "markdown",
      "metadata": {
        "id": "5zPY7dwd3hhD"
      },
      "source": [
        "**initializing a dictionary**"
      ]
    },
    {
      "cell_type": "code",
      "execution_count": null,
      "metadata": {
        "colab": {
          "base_uri": "https://localhost:8080/"
        },
        "id": "SsxYgS0ru4dC",
        "outputId": "d435644b-fd8e-4a8b-ee22-9815d5ebc34c"
      },
      "outputs": [
        {
          "name": "stdout",
          "output_type": "stream",
          "text": [
            "{}\n",
            "<class 'dict'>\n"
          ]
        }
      ],
      "source": [
        "d={}\n",
        "print(d)\n",
        "print(type(d))\n",
        "#{} will be used for set and dict , but if we give empty it will consider as dict not set unless we give some values in it it will consider as set"
      ]
    },
    {
      "cell_type": "code",
      "execution_count": null,
      "metadata": {
        "colab": {
          "base_uri": "https://localhost:8080/"
        },
        "id": "XwkPZDXD4HV_",
        "outputId": "35892896-a281-43a5-c0a8-27b176e0c248"
      },
      "outputs": [
        {
          "name": "stdout",
          "output_type": "stream",
          "text": [
            "{1, 2, 3}\n",
            "<class 'set'>\n",
            "{1: 'a', 2: 'b', 3: 'c'}\n",
            "<class 'dict'>\n"
          ]
        }
      ],
      "source": [
        "d={1,2,3} #set only values\n",
        "print(d)\n",
        "print(type(d))\n",
        "d={1:'a',2:'b',3:'c'} #dict key value pairs\n",
        "print(d)\n",
        "print(type(d))"
      ]
    },
    {
      "cell_type": "code",
      "execution_count": null,
      "metadata": {
        "colab": {
          "base_uri": "https://localhost:8080/"
        },
        "id": "JZpLhU_e5PIG",
        "outputId": "2f6d6c76-9bef-4649-ee39-2d92ca9b800e"
      },
      "outputs": [
        {
          "name": "stdout",
          "output_type": "stream",
          "text": [
            "{}\n",
            "<class 'dict'>\n"
          ]
        }
      ],
      "source": [
        "d=dict()\n",
        "print(d)\n",
        "print(type(d))\n",
        "#another way to represent dict"
      ]
    },
    {
      "cell_type": "code",
      "execution_count": null,
      "metadata": {
        "colab": {
          "base_uri": "https://localhost:8080/"
        },
        "id": "YBl6GFnH5mD_",
        "outputId": "4a6b3024-3aa8-4e68-bd92-b7d843a6db58"
      },
      "outputs": [
        {
          "name": "stdout",
          "output_type": "stream",
          "text": [
            "{}\n",
            "<class 'dict'>\n"
          ]
        }
      ],
      "source": [
        "d=dict([])\n",
        "print(d)\n",
        "print(type(d))"
      ]
    },
    {
      "cell_type": "markdown",
      "metadata": {
        "id": "GIz_lqwq5w6p"
      },
      "source": [
        "**dictionary is ordered**"
      ]
    },
    {
      "cell_type": "code",
      "execution_count": null,
      "metadata": {
        "colab": {
          "base_uri": "https://localhost:8080/"
        },
        "id": "ZEsP1ye851Pr",
        "outputId": "b91cf846-cd87-48f8-e44e-038c59b3838d"
      },
      "outputs": [
        {
          "name": "stdout",
          "output_type": "stream",
          "text": [
            "{'A': 1, 'B': 2, 'C': 3}\n",
            "{0, 1, 2, 5, 8}\n"
          ]
        }
      ],
      "source": [
        "d={\"A\" : 1,\"B\" : 2 , \"C\" : 3}\n",
        "print(d)\n",
        "#it will print in order we wrote in \"d\" in dict , where as in sets it will print in random order\n",
        "d={1,5,2,8,0}\n",
        "print(d)"
      ]
    },
    {
      "cell_type": "code",
      "execution_count": null,
      "metadata": {
        "colab": {
          "base_uri": "https://localhost:8080/"
        },
        "id": "aObhMPDG6cof",
        "outputId": "41ec8953-d5d6-44f5-d709-cf08e85a8ab6"
      },
      "outputs": [
        {
          "name": "stdout",
          "output_type": "stream",
          "text": [
            "{'A': 1, 'B': 2, 'C': 3}\n",
            "{'A': [1, 2, 3], 'B': 2, 'C': (3, (4, 5))}\n"
          ]
        }
      ],
      "source": [
        "d={\"A\" : 1,\"B\" : 2 , \"C\" : 3}\n",
        "d1={\"A\" : [1,2,3],\"B\" : 2 , \"C\" : (3,(4,5))}\n",
        "print(d)\n",
        "print(d1)"
      ]
    },
    {
      "cell_type": "markdown",
      "metadata": {
        "id": "6rmqz_EQ7AHf"
      },
      "source": [
        "* dictionary is not indexed by sequence\n",
        "* indexing is done using keys"
      ]
    },
    {
      "cell_type": "code",
      "execution_count": null,
      "metadata": {
        "colab": {
          "base_uri": "https://localhost:8080/",
          "height": 201
        },
        "id": "QDco7PuP60DA",
        "outputId": "4aaa8396-3d50-4555-8136-656b08ae21cb"
      },
      "outputs": [
        {
          "output_type": "error",
          "ename": "KeyError",
          "evalue": "0",
          "traceback": [
            "\u001b[0;31m---------------------------------------------------------------------------\u001b[0m",
            "\u001b[0;31mKeyError\u001b[0m                                  Traceback (most recent call last)",
            "\u001b[0;32m<ipython-input-16-63c638cc1136>\u001b[0m in \u001b[0;36m<cell line: 3>\u001b[0;34m()\u001b[0m\n\u001b[1;32m      1\u001b[0m \u001b[0md\u001b[0m\u001b[0;34m=\u001b[0m\u001b[0;34m{\u001b[0m\u001b[0;34m\"A\"\u001b[0m \u001b[0;34m:\u001b[0m \u001b[0;36m1\u001b[0m\u001b[0;34m,\u001b[0m\u001b[0;34m\"B\"\u001b[0m \u001b[0;34m:\u001b[0m \u001b[0;36m2\u001b[0m \u001b[0;34m,\u001b[0m \u001b[0;34m\"C\"\u001b[0m \u001b[0;34m:\u001b[0m \u001b[0;36m3\u001b[0m\u001b[0;34m}\u001b[0m\u001b[0;34m\u001b[0m\u001b[0;34m\u001b[0m\u001b[0m\n\u001b[1;32m      2\u001b[0m \u001b[0md1\u001b[0m\u001b[0;34m=\u001b[0m\u001b[0;34m{\u001b[0m\u001b[0;34m\"A\"\u001b[0m \u001b[0;34m:\u001b[0m \u001b[0;34m[\u001b[0m\u001b[0;36m1\u001b[0m\u001b[0;34m,\u001b[0m\u001b[0;36m2\u001b[0m\u001b[0;34m,\u001b[0m\u001b[0;36m3\u001b[0m\u001b[0;34m]\u001b[0m\u001b[0;34m,\u001b[0m\u001b[0;34m\"B\"\u001b[0m \u001b[0;34m:\u001b[0m \u001b[0;36m2\u001b[0m \u001b[0;34m,\u001b[0m \u001b[0;34m\"C\"\u001b[0m \u001b[0;34m:\u001b[0m \u001b[0;34m(\u001b[0m\u001b[0;36m3\u001b[0m\u001b[0;34m,\u001b[0m\u001b[0;34m(\u001b[0m\u001b[0;36m4\u001b[0m\u001b[0;34m,\u001b[0m\u001b[0;36m5\u001b[0m\u001b[0;34m)\u001b[0m\u001b[0;34m)\u001b[0m\u001b[0;34m}\u001b[0m\u001b[0;34m\u001b[0m\u001b[0;34m\u001b[0m\u001b[0m\n\u001b[0;32m----> 3\u001b[0;31m \u001b[0mprint\u001b[0m\u001b[0;34m(\u001b[0m\u001b[0md\u001b[0m\u001b[0;34m[\u001b[0m\u001b[0;36m0\u001b[0m\u001b[0;34m]\u001b[0m\u001b[0;34m)\u001b[0m\u001b[0;34m\u001b[0m\u001b[0;34m\u001b[0m\u001b[0m\n\u001b[0m\u001b[1;32m      4\u001b[0m \u001b[0mprint\u001b[0m\u001b[0;34m(\u001b[0m\u001b[0md1\u001b[0m\u001b[0;34m[\u001b[0m\u001b[0;36m2\u001b[0m\u001b[0;34m]\u001b[0m\u001b[0;34m)\u001b[0m\u001b[0;34m\u001b[0m\u001b[0;34m\u001b[0m\u001b[0m\n",
            "\u001b[0;31mKeyError\u001b[0m: 0"
          ]
        }
      ],
      "source": [
        "d={\"A\" : 1,\"B\" : 2 , \"C\" : 3}\n",
        "d1={\"A\" : [1,2,3],\"B\" : 2 , \"C\" : (3,(4,5))}\n",
        "print(d[0])\n",
        "print(d1[2])\n",
        "#we shoukdnt give index values like 0,1,2...."
      ]
    },
    {
      "cell_type": "code",
      "source": [
        "d={\"A\" : 1,\"B\" : 2 , \"C\" : 3}\n",
        "d1={\"A\" : [1,2,3],\"B\" : 2 , \"C\" : (3,(4,5))}\n",
        "print(d[\"A\"])\n",
        "print(d[\"B\"])\n",
        "print(d[\"C\"])\n",
        "print(\"__________\")\n",
        "print(\"__________\")\n",
        "\n",
        "print(d1[\"A\"])\n",
        "print(d1[\"A\"][2])\n",
        "print(\"__________\")\n",
        "print(\"__________\")\n",
        "\n",
        "print(d1[\"B\"])\n",
        "print(d1[\"C\"])\n",
        "print(d1[\"C\"][0])\n",
        "print(d1[\"C\"][1])\n",
        "print(d1[\"C\"][1][0])\n",
        "print(d1[\"C\"][1][1])\n",
        "\n",
        "#accessing value from  multiple index inside of inside of dictionary\n",
        "#we have to give key value in place of index numbers\n"
      ],
      "metadata": {
        "colab": {
          "base_uri": "https://localhost:8080/"
        },
        "id": "zFDPPxKB7_7P",
        "outputId": "95326e60-efc2-44ca-8328-93e46033d3f9"
      },
      "execution_count": null,
      "outputs": [
        {
          "output_type": "stream",
          "name": "stdout",
          "text": [
            "1\n",
            "2\n",
            "3\n",
            "__________\n",
            "__________\n",
            "[1, 2, 3]\n",
            "3\n",
            "__________\n",
            "__________\n",
            "2\n",
            "(3, (4, 5))\n",
            "3\n",
            "(4, 5)\n",
            "4\n",
            "5\n"
          ]
        }
      ]
    },
    {
      "cell_type": "code",
      "source": [
        "d={\"A\" : 1,\"B\" : 2 , \"C\" : 3}\n",
        "d1={\"A\" : [1,2,3],\"B\" : 2 , \"C\" : (3,(4,5))}\n",
        "print(d)\n",
        "print(d1)\n",
        "print(\"__________\")\n",
        "\n",
        "for k in d:\n",
        "  print(\"Keys: \", k)\n",
        "  print(\"Values: \", d[k])\n",
        "\n",
        "print(\"__________\")\n",
        "\n",
        "for k in d1:\n",
        "  print(\"Keys:\", k)\n",
        "  print(\"Values: \", d1[k])"
      ],
      "metadata": {
        "colab": {
          "base_uri": "https://localhost:8080/"
        },
        "id": "6t1LLIjq8kVV",
        "outputId": "49f1aedd-60b6-4a80-8f2c-cf3318fc6f55"
      },
      "execution_count": null,
      "outputs": [
        {
          "output_type": "stream",
          "name": "stdout",
          "text": [
            "{'A': 1, 'B': 2, 'C': 3}\n",
            "{'A': [1, 2, 3], 'B': 2, 'C': (3, (4, 5))}\n",
            "__________\n",
            "Keys:  A\n",
            "Values:  1\n",
            "Keys:  B\n",
            "Values:  2\n",
            "Keys:  C\n",
            "Values:  3\n",
            "__________\n",
            "Keys: A\n",
            "Values:  [1, 2, 3]\n",
            "Keys: B\n",
            "Values:  2\n",
            "Keys: C\n",
            "Values:  (3, (4, 5))\n"
          ]
        }
      ]
    },
    {
      "cell_type": "markdown",
      "source": [
        "**accessing a value in a dictionary**"
      ],
      "metadata": {
        "id": "4e41YuHG_VRz"
      }
    },
    {
      "cell_type": "markdown",
      "source": [
        "**syntax --dictionary_name[key]**"
      ],
      "metadata": {
        "id": "RbkBlzC6_bPT"
      }
    },
    {
      "cell_type": "code",
      "source": [
        "d={\"A\" : 1,\"B\" : 2 , \"C\" : 3}\n",
        "d1={\"A\" : [1,2,3],\"B\" : 2 , \"C\" : (3,(4,5))}\n",
        "print(d[\"C\"])"
      ],
      "metadata": {
        "colab": {
          "base_uri": "https://localhost:8080/"
        },
        "id": "uDD5v7T3_no2",
        "outputId": "2f6159e9-fc9c-49ef-ccaa-52e8c2d10670"
      },
      "execution_count": null,
      "outputs": [
        {
          "output_type": "stream",
          "name": "stdout",
          "text": [
            "3\n"
          ]
        }
      ]
    },
    {
      "cell_type": "markdown",
      "source": [
        "**duplicate keys are not allowed**\n",
        "*  1,1.0,True are treated same\n",
        "* 0,0.0, False are treated same"
      ],
      "metadata": {
        "id": "8EaUwVKmAHFe"
      }
    },
    {
      "cell_type": "code",
      "source": [
        "s = {1,1.5,\"abc\",2,2.4,\"bca\",False}\n",
        "print(s)\n",
        "\n",
        "d = {1: 'A', 1.0: \"F\", True: 'B', 0 : 'Z', 0.0 : 'FZ', False : 'BZ'}\n",
        "print(d)\n",
        "\n",
        "# 1: 'A' → Dictionary initially has {1: 'A'}\n",
        "# 1.0: 'F' → 1.0 is treated the same as 1, so it updates the value, resulting in {1: 'F'}\n",
        "# True: 'B' → True is also treated the same as 1, so it updates the value again, resulting in {1: 'B'}\n",
        "# 0: 'Z' → Adds a new key-value pair, so now {1: 'B', 0: 'Z'}\n",
        "# 0.0: 'FZ' → 0.0 is treated the same as 0, so it updates the value, resulting in {1: 'B', 0: 'FZ'}\n",
        "# False: 'BZ' → False is treated the same as 0, so it updates the value again, resulting in {1: 'B', 0: 'BZ'}"
      ],
      "metadata": {
        "colab": {
          "base_uri": "https://localhost:8080/"
        },
        "id": "_5xzGkXDAAeh",
        "outputId": "f01dc58c-0c39-4af5-8b28-450f26a86eee"
      },
      "execution_count": null,
      "outputs": [
        {
          "output_type": "stream",
          "name": "stdout",
          "text": [
            "{False, 1, 2, 'abc', 1.5, 2.4, 'bca'}\n",
            "{1: 'B', 0: 'BZ'}\n"
          ]
        }
      ]
    },
    {
      "cell_type": "code",
      "source": [
        "d = {\"1\": \"A\", 1.0: \"BZ\", True: \"B\"}\n",
        "print(d)\n",
        "#its not 1:\"B\" , cuz 1st 1 is string\"1\""
      ],
      "metadata": {
        "colab": {
          "base_uri": "https://localhost:8080/"
        },
        "id": "jrwDgAF5AFNZ",
        "outputId": "92b94322-ccff-432c-9f86-5a1254e3a3bd"
      },
      "execution_count": null,
      "outputs": [
        {
          "output_type": "stream",
          "name": "stdout",
          "text": [
            "{'1': 'A', 1.0: 'B'}\n"
          ]
        }
      ]
    },
    {
      "cell_type": "markdown",
      "source": [
        "**duplicate values are allowed**"
      ],
      "metadata": {
        "id": "8Uw24JNAVHp0"
      }
    },
    {
      "cell_type": "code",
      "source": [
        "#suppose\n",
        "a=\"pavani\"\n",
        "d={a:12}\n",
        "print(d)\n",
        "#here dict created and changed and assigned\n",
        "a=\"maira\"\n",
        "print(d)\n",
        "#here it wont be assigned"
      ],
      "metadata": {
        "colab": {
          "base_uri": "https://localhost:8080/"
        },
        "id": "WVveIeKYVL3t",
        "outputId": "5732c93b-be7e-4143-ed94-650905c03fda"
      },
      "execution_count": null,
      "outputs": [
        {
          "output_type": "stream",
          "name": "stdout",
          "text": [
            "{'pavani': 12}\n",
            "{'pavani': 12}\n"
          ]
        }
      ]
    },
    {
      "cell_type": "code",
      "source": [
        "d={'A':12, 'B':12, \"C\":12}\n",
        "print(d)\n",
        "#duplicate values are allowed"
      ],
      "metadata": {
        "colab": {
          "base_uri": "https://localhost:8080/"
        },
        "id": "Usd9AIK0Vj2o",
        "outputId": "180db193-eedd-4aba-e008-6acc6abfe4a8"
      },
      "execution_count": null,
      "outputs": [
        {
          "output_type": "stream",
          "name": "stdout",
          "text": [
            "{'A': 12, 'B': 12, 'C': 12}\n"
          ]
        }
      ]
    },
    {
      "cell_type": "markdown",
      "source": [
        "**dict() method**"
      ],
      "metadata": {
        "id": "zraqIYT4WcjT"
      }
    },
    {
      "cell_type": "code",
      "source": [
        "d1=dict(a=10,b=12,c=50,d=[20,30])\n",
        "print(d1)\n",
        "print(type(d1))\n",
        "\n",
        "#this will not work\n",
        "d1=dict(10,20,30)\n",
        "print(d1)\n",
        "print(type(d1))"
      ],
      "metadata": {
        "colab": {
          "base_uri": "https://localhost:8080/",
          "height": 256
        },
        "id": "ZQG5VpgOWg_v",
        "outputId": "b14fb5eb-3ff7-4417-98f9-d9d288020a68"
      },
      "execution_count": null,
      "outputs": [
        {
          "output_type": "stream",
          "name": "stdout",
          "text": [
            "{'a': 10, 'b': 12, 'c': 50, 'd': [20, 30]}\n",
            "<class 'dict'>\n"
          ]
        },
        {
          "output_type": "error",
          "ename": "TypeError",
          "evalue": "dict expected at most 1 argument, got 3",
          "traceback": [
            "\u001b[0;31m---------------------------------------------------------------------------\u001b[0m",
            "\u001b[0;31mTypeError\u001b[0m                                 Traceback (most recent call last)",
            "\u001b[0;32m<ipython-input-41-25d822dba27b>\u001b[0m in \u001b[0;36m<cell line: 6>\u001b[0;34m()\u001b[0m\n\u001b[1;32m      4\u001b[0m \u001b[0;34m\u001b[0m\u001b[0m\n\u001b[1;32m      5\u001b[0m \u001b[0;31m#this will not work\u001b[0m\u001b[0;34m\u001b[0m\u001b[0;34m\u001b[0m\u001b[0m\n\u001b[0;32m----> 6\u001b[0;31m \u001b[0md1\u001b[0m\u001b[0;34m=\u001b[0m\u001b[0mdict\u001b[0m\u001b[0;34m(\u001b[0m\u001b[0;36m10\u001b[0m\u001b[0;34m,\u001b[0m\u001b[0;36m20\u001b[0m\u001b[0;34m,\u001b[0m\u001b[0;36m30\u001b[0m\u001b[0;34m)\u001b[0m\u001b[0;34m\u001b[0m\u001b[0;34m\u001b[0m\u001b[0m\n\u001b[0m\u001b[1;32m      7\u001b[0m \u001b[0mprint\u001b[0m\u001b[0;34m(\u001b[0m\u001b[0md1\u001b[0m\u001b[0;34m)\u001b[0m\u001b[0;34m\u001b[0m\u001b[0;34m\u001b[0m\u001b[0m\n\u001b[1;32m      8\u001b[0m \u001b[0mprint\u001b[0m\u001b[0;34m(\u001b[0m\u001b[0mtype\u001b[0m\u001b[0;34m(\u001b[0m\u001b[0md1\u001b[0m\u001b[0;34m)\u001b[0m\u001b[0;34m)\u001b[0m\u001b[0;34m\u001b[0m\u001b[0;34m\u001b[0m\u001b[0m\n",
            "\u001b[0;31mTypeError\u001b[0m: dict expected at most 1 argument, got 3"
          ]
        }
      ]
    },
    {
      "cell_type": "markdown",
      "source": [
        "**copy of dictionary**"
      ],
      "metadata": {
        "id": "GrK1cXZPW9X2"
      }
    },
    {
      "cell_type": "code",
      "source": [
        "d1 = {'A': 12, 'B': 20, 'C': 30}\n",
        "d2=d1\n",
        "print(d1)\n",
        "print(d2)\n",
        "print(id(d1))\n",
        "print(id(d2))#dict are mutable"
      ],
      "metadata": {
        "colab": {
          "base_uri": "https://localhost:8080/"
        },
        "id": "Vg19dQbKXAo5",
        "outputId": "cfe50e41-c2a0-4e2e-ac6c-9190bcc02c19"
      },
      "execution_count": null,
      "outputs": [
        {
          "output_type": "stream",
          "name": "stdout",
          "text": [
            "{'A': 12, 'B': 20, 'C': 30}\n",
            "{'A': 12, 'B': 20, 'C': 30}\n",
            "139770230153984\n",
            "139770230153984\n"
          ]
        }
      ]
    },
    {
      "cell_type": "code",
      "source": [
        "d1 = {'A': 12, 'B': 20, 'C': 30}\n",
        "d2=d1\n",
        "print(d1)\n",
        "print(d2)\n",
        "d1[\"A\"] =100\n",
        "print(d1)\n",
        "print(d2)\n",
        "print(id(d1))\n",
        "print(id(d2))\n",
        "\n",
        "#if we use \"=\" d2 also changes"
      ],
      "metadata": {
        "colab": {
          "base_uri": "https://localhost:8080/"
        },
        "id": "Gixtpz6GXSzR",
        "outputId": "7c64ab4b-beb9-4f3d-aa0a-ab1138bd6b38"
      },
      "execution_count": null,
      "outputs": [
        {
          "output_type": "stream",
          "name": "stdout",
          "text": [
            "{'A': 12, 'B': 20, 'C': 30}\n",
            "{'A': 12, 'B': 20, 'C': 30}\n",
            "{'A': 100, 'B': 20, 'C': 30}\n",
            "{'A': 100, 'B': 20, 'C': 30}\n",
            "139770230960384\n",
            "139770230960384\n"
          ]
        }
      ]
    },
    {
      "cell_type": "code",
      "source": [
        "d1 = {'A': 12, 'B': 20, 'C': 30}\n",
        "d2=d1.copy()\n",
        "print(d1)\n",
        "print(d2)\n",
        "d1[\"A\"] =100\n",
        "print(d1)\n",
        "print(d2)\n"
      ],
      "metadata": {
        "colab": {
          "base_uri": "https://localhost:8080/"
        },
        "id": "VPgdn_OrX5oj",
        "outputId": "d0f05b41-563e-41d5-b83c-de4d5dedc805"
      },
      "execution_count": null,
      "outputs": [
        {
          "output_type": "stream",
          "name": "stdout",
          "text": [
            "{'A': 12, 'B': 20, 'C': 30}\n",
            "{'A': 12, 'B': 20, 'C': 30}\n",
            "{'A': 100, 'B': 20, 'C': 30}\n",
            "{'A': 12, 'B': 20, 'C': 30}\n"
          ]
        }
      ]
    },
    {
      "cell_type": "markdown",
      "source": [
        "**deepcopy()**"
      ],
      "metadata": {
        "id": "m-6rWMi1Yap3"
      }
    },
    {
      "cell_type": "code",
      "source": [
        "d1 = {'A': [10,20,30], 'B': 20, 'C': 30}\n",
        "print(d1)\n",
        "d3 = d1.copy()\n",
        "d1['A']= 500\n",
        "print(d1)\n",
        "print(d3)\n"
      ],
      "metadata": {
        "colab": {
          "base_uri": "https://localhost:8080/"
        },
        "id": "UiJzM0zTYYqG",
        "outputId": "e833c0f8-fe39-4235-b0e9-35c705bec6db"
      },
      "execution_count": null,
      "outputs": [
        {
          "output_type": "stream",
          "name": "stdout",
          "text": [
            "{'A': [10, 20, 30], 'B': 20, 'C': 30}\n",
            "{'A': 500, 'B': 20, 'C': 30}\n",
            "{'A': [10, 20, 30], 'B': 20, 'C': 30}\n"
          ]
        }
      ]
    },
    {
      "cell_type": "code",
      "source": [
        "d1 = {'A': [10,20,30], 'B': 20, 'C': 30}\n",
        "d2 = d1.copy()\n",
        "\n",
        "print(d1)\n",
        "print(d2)\n",
        "\n",
        "d1['A'][1] = 100\n",
        "\n",
        "print(d1)\n",
        "print(d2)\n",
        "\n",
        "# if we use copy() it will change a[1] value in both to overcome this, u go to deepcopy"
      ],
      "metadata": {
        "colab": {
          "base_uri": "https://localhost:8080/"
        },
        "id": "bd1UePAuaiMS",
        "outputId": "c3216331-32e7-4a41-f1b1-93c115fd1f37"
      },
      "execution_count": null,
      "outputs": [
        {
          "output_type": "stream",
          "name": "stdout",
          "text": [
            "{'A': [10, 20, 30], 'B': 20, 'C': 30}\n",
            "{'A': [10, 20, 30], 'B': 20, 'C': 30}\n",
            "{'A': [10, 100, 30], 'B': 20, 'C': 30}\n",
            "{'A': [10, 100, 30], 'B': 20, 'C': 30}\n"
          ]
        }
      ]
    },
    {
      "cell_type": "code",
      "source": [
        "import copy\n",
        "\n",
        "d1 = {'A': [10,20,30], 'B': 20, 'C': 30}\n",
        "d2 = copy.deepcopy(d1)\n",
        "print(d1)\n",
        "print(d2)\n",
        "\n",
        "d1['A'][1] = 100\n",
        "\n",
        "print(d1)\n",
        "print(d2)\n",
        "   # if we use deepcopy() it will change a[1] value in only d1 not in d2"
      ],
      "metadata": {
        "colab": {
          "base_uri": "https://localhost:8080/"
        },
        "id": "MZ08vPn8YiEK",
        "outputId": "7e62d556-0566-4612-f1df-f70a488f0530"
      },
      "execution_count": null,
      "outputs": [
        {
          "output_type": "stream",
          "name": "stdout",
          "text": [
            "{'A': [10, 20, 30], 'B': 20, 'C': 30}\n",
            "{'A': [10, 20, 30], 'B': 20, 'C': 30}\n",
            "{'A': [10, 100, 30], 'B': 20, 'C': 30}\n",
            "{'A': [10, 20, 30], 'B': 20, 'C': 30}\n"
          ]
        }
      ]
    },
    {
      "cell_type": "code",
      "source": [
        "# \"=\" is similar to deepcopy() it will not change d_2\n",
        "d = {'a': 10, 'b': 20, 'c': 30}\n",
        "\n",
        "d_2 = dict(d)\n",
        "\n",
        "print(d)\n",
        "print(d_2)\n",
        "\n",
        "d['a'] = 100\n",
        "print(d)\n",
        "print(d_2)\n",
        "#Shallow Copy -- only if list inside is there like below example then only it will also updated ,d_2 doesntchange bcz When you create d_2 as a shallow copy of d, only the top-level objects are copied. Since lists are mutable, both d and d_2 still reference the same list object for the key 'a'."
      ],
      "metadata": {
        "colab": {
          "base_uri": "https://localhost:8080/"
        },
        "id": "rn7XN8UQbATY",
        "outputId": "f78fdb35-d9ce-4917-c1c4-b6b03aa72052"
      },
      "execution_count": null,
      "outputs": [
        {
          "output_type": "stream",
          "name": "stdout",
          "text": [
            "{'a': 10, 'b': 20, 'c': 30}\n",
            "{'a': 10, 'b': 20, 'c': 30}\n",
            "{'a': 100, 'b': 20, 'c': 30}\n",
            "{'a': 10, 'b': 20, 'c': 30}\n"
          ]
        }
      ]
    },
    {
      "cell_type": "code",
      "source": [
        "d = {'a': [100,200,300], 'b': 20, 'c': 30}\n",
        "\n",
        "d_2 = dict(d) # similar to copy() method\n",
        "\n",
        "print(d)\n",
        "print(d_2)\n",
        "\n",
        "d['a'][1] = 1000\n",
        "print(d)\n",
        "print(d_2)\n",
        "# here d_2 also changes bcz Modifying the list inside d also modifies the list in d_2 because they share the same reference to that list.\n",
        "#if we have list inside dict like that it gets change in ref dict also\n"
      ],
      "metadata": {
        "colab": {
          "base_uri": "https://localhost:8080/"
        },
        "id": "Uhu2DE2UbhoW",
        "outputId": "c46fe837-70af-40be-a0c9-fe774eca7941"
      },
      "execution_count": null,
      "outputs": [
        {
          "output_type": "stream",
          "name": "stdout",
          "text": [
            "{'a': [100, 200, 300], 'b': 20, 'c': 30}\n",
            "{'a': [100, 200, 300], 'b': 20, 'c': 30}\n",
            "{'a': [100, 1000, 300], 'b': 20, 'c': 30}\n",
            "{'a': [100, 1000, 300], 'b': 20, 'c': 30}\n"
          ]
        }
      ]
    },
    {
      "cell_type": "code",
      "source": [
        "d = {\"a\": 1, \"b\": 2}\n",
        "print(\"d\")\n",
        "print(d)\n",
        "print(id(d))\n",
        "d2 = d\n",
        "print(\"d2\")\n",
        "print(d2)\n",
        "print(id(d2))\n",
        "d3 = d.copy()\n",
        "print(\"d3\")\n",
        "print(d3)\n",
        "print(id(d3))#d3 creates a new copy\n",
        "d4 = dict(d)\n",
        "print(\"d4\")\n",
        "print(d4)\n",
        "print(id(d4))#d4 also creates a new copy"
      ],
      "metadata": {
        "colab": {
          "base_uri": "https://localhost:8080/"
        },
        "id": "vOwpF6BAdHdj",
        "outputId": "642d0bae-a7ce-402f-d46a-1d3a20f8f69a"
      },
      "execution_count": null,
      "outputs": [
        {
          "output_type": "stream",
          "name": "stdout",
          "text": [
            "d\n",
            "{'a': 1, 'b': 2}\n",
            "139770230013888\n",
            "d2\n",
            "{'a': 1, 'b': 2}\n",
            "139770230013888\n",
            "d3\n",
            "{'a': 1, 'b': 2}\n",
            "139770233003712\n",
            "d4\n",
            "{'a': 1, 'b': 2}\n",
            "139770230960384\n"
          ]
        }
      ]
    },
    {
      "cell_type": "code",
      "source": [
        "print(d)\n",
        "d['b'] = 1000\n",
        "\n",
        "print(d)\n",
        "print(d2)\n",
        "print(d3)#shallow copy\n",
        "print(d4)#shallow copy"
      ],
      "metadata": {
        "colab": {
          "base_uri": "https://localhost:8080/"
        },
        "id": "7MYQoDtRean_",
        "outputId": "69e4fce6-7297-46aa-f9ed-1d05a9906263"
      },
      "execution_count": null,
      "outputs": [
        {
          "output_type": "stream",
          "name": "stdout",
          "text": [
            "{'a': 1, 'b': 1000}\n",
            "{'a': 1, 'b': 1000}\n",
            "{'a': 1, 'b': 1000}\n",
            "{'a': 1, 'b': 2}\n",
            "{'a': 1, 'b': 2}\n"
          ]
        }
      ]
    },
    {
      "cell_type": "markdown",
      "source": [
        "**creating dictionaries using iterables - lists ,tuples**"
      ],
      "metadata": {
        "id": "7tklBaAYfWq_"
      }
    },
    {
      "cell_type": "code",
      "source": [
        "d = dict([(\"a\",2), (\"b\", 4), (\"c\", 10)])\n",
        "print(d)"
      ],
      "metadata": {
        "colab": {
          "base_uri": "https://localhost:8080/"
        },
        "id": "boG1Dyz2feF0",
        "outputId": "11842ad4-e5d7-4fcd-cbd4-0a18ac81f21b"
      },
      "execution_count": null,
      "outputs": [
        {
          "output_type": "stream",
          "name": "stdout",
          "text": [
            "{'a': 2, 'b': 4, 'c': 10}\n"
          ]
        }
      ]
    },
    {
      "cell_type": "code",
      "source": [
        "d = dict([(\"a\",2), (\"b\", 4), (\"c\", 10), (\"d\", 100, 2)])\n",
        "#in d key we passed 3 values is not crct syntax\n",
        "print(d)"
      ],
      "metadata": {
        "colab": {
          "base_uri": "https://localhost:8080/",
          "height": 183
        },
        "id": "5aPIAJCffned",
        "outputId": "b03a0af2-05f9-4c4c-b3a0-d789ead3b702"
      },
      "execution_count": null,
      "outputs": [
        {
          "output_type": "error",
          "ename": "ValueError",
          "evalue": "dictionary update sequence element #3 has length 3; 2 is required",
          "traceback": [
            "\u001b[0;31m---------------------------------------------------------------------------\u001b[0m",
            "\u001b[0;31mValueError\u001b[0m                                Traceback (most recent call last)",
            "\u001b[0;32m<ipython-input-75-2bdcb7b1ce96>\u001b[0m in \u001b[0;36m<cell line: 1>\u001b[0;34m()\u001b[0m\n\u001b[0;32m----> 1\u001b[0;31m \u001b[0md\u001b[0m \u001b[0;34m=\u001b[0m \u001b[0mdict\u001b[0m\u001b[0;34m(\u001b[0m\u001b[0;34m[\u001b[0m\u001b[0;34m(\u001b[0m\u001b[0;34m\"a\"\u001b[0m\u001b[0;34m,\u001b[0m\u001b[0;36m2\u001b[0m\u001b[0;34m)\u001b[0m\u001b[0;34m,\u001b[0m \u001b[0;34m(\u001b[0m\u001b[0;34m\"b\"\u001b[0m\u001b[0;34m,\u001b[0m \u001b[0;36m4\u001b[0m\u001b[0;34m)\u001b[0m\u001b[0;34m,\u001b[0m \u001b[0;34m(\u001b[0m\u001b[0;34m\"c\"\u001b[0m\u001b[0;34m,\u001b[0m \u001b[0;36m10\u001b[0m\u001b[0;34m)\u001b[0m\u001b[0;34m,\u001b[0m \u001b[0;34m(\u001b[0m\u001b[0;34m\"d\"\u001b[0m\u001b[0;34m,\u001b[0m \u001b[0;36m100\u001b[0m\u001b[0;34m,\u001b[0m \u001b[0;36m2\u001b[0m\u001b[0;34m)\u001b[0m\u001b[0;34m]\u001b[0m\u001b[0;34m)\u001b[0m\u001b[0;34m\u001b[0m\u001b[0;34m\u001b[0m\u001b[0m\n\u001b[0m\u001b[1;32m      2\u001b[0m \u001b[0;31m#in d key we passed 3 values is not crct syntax\u001b[0m\u001b[0;34m\u001b[0m\u001b[0;34m\u001b[0m\u001b[0m\n\u001b[1;32m      3\u001b[0m \u001b[0mprint\u001b[0m\u001b[0;34m(\u001b[0m\u001b[0md\u001b[0m\u001b[0;34m)\u001b[0m\u001b[0;34m\u001b[0m\u001b[0;34m\u001b[0m\u001b[0m\n",
            "\u001b[0;31mValueError\u001b[0m: dictionary update sequence element #3 has length 3; 2 is required"
          ]
        }
      ]
    },
    {
      "cell_type": "code",
      "source": [
        "d = dict([(\"a\",2), (\"b\", 4), (\"c\", 10), (100,\"d\")])\n",
        "print(d)\n",
        "     # here 100 is key and d is value"
      ],
      "metadata": {
        "colab": {
          "base_uri": "https://localhost:8080/"
        },
        "id": "V9gIPuAqf5Dl",
        "outputId": "c2883d15-25af-4f31-b903-515a47e18b77"
      },
      "execution_count": null,
      "outputs": [
        {
          "output_type": "stream",
          "name": "stdout",
          "text": [
            "{'a': 2, 'b': 4, 'c': 10, 100: 'd'}\n"
          ]
        }
      ]
    },
    {
      "cell_type": "code",
      "source": [
        "#we are using tuple\n",
        "d = dict(((\"a\",2), (\"b\", 4), (\"c\", 10), (100,\"d\")))\n",
        "print(d)\n",
        "# d-dict(inside tuple of tuple will allow)"
      ],
      "metadata": {
        "colab": {
          "base_uri": "https://localhost:8080/"
        },
        "id": "oecwNiKqgBZP",
        "outputId": "a235c22f-b960-48a3-bd90-1fee6f698fdd"
      },
      "execution_count": null,
      "outputs": [
        {
          "output_type": "stream",
          "name": "stdout",
          "text": [
            "{'a': 2, 'b': 4, 'c': 10, 100: 'd'}\n"
          ]
        }
      ]
    },
    {
      "cell_type": "code",
      "source": [
        "d = dict((\"a\",2), (\"b\", 4), (\"c\", 10), (100,\"d\"))\n",
        "print(d)\n",
        "# d-dict(inside tuple of tuple will allow) not only tuple valyes it has to be key value pairs in dict ut we are giving the tuple so its has to be inside tuple"
      ],
      "metadata": {
        "colab": {
          "base_uri": "https://localhost:8080/",
          "height": 201
        },
        "id": "EPt48QlQgJgO",
        "outputId": "bdda583b-f8ff-474d-e413-53639f3f3d88"
      },
      "execution_count": null,
      "outputs": [
        {
          "output_type": "error",
          "ename": "TypeError",
          "evalue": "dict expected at most 1 argument, got 4",
          "traceback": [
            "\u001b[0;31m---------------------------------------------------------------------------\u001b[0m",
            "\u001b[0;31mTypeError\u001b[0m                                 Traceback (most recent call last)",
            "\u001b[0;32m<ipython-input-80-7e9bb9488ef2>\u001b[0m in \u001b[0;36m<cell line: 1>\u001b[0;34m()\u001b[0m\n\u001b[0;32m----> 1\u001b[0;31m \u001b[0md\u001b[0m \u001b[0;34m=\u001b[0m \u001b[0mdict\u001b[0m\u001b[0;34m(\u001b[0m\u001b[0;34m(\u001b[0m\u001b[0;34m\"a\"\u001b[0m\u001b[0;34m,\u001b[0m\u001b[0;36m2\u001b[0m\u001b[0;34m)\u001b[0m\u001b[0;34m,\u001b[0m \u001b[0;34m(\u001b[0m\u001b[0;34m\"b\"\u001b[0m\u001b[0;34m,\u001b[0m \u001b[0;36m4\u001b[0m\u001b[0;34m)\u001b[0m\u001b[0;34m,\u001b[0m \u001b[0;34m(\u001b[0m\u001b[0;34m\"c\"\u001b[0m\u001b[0;34m,\u001b[0m \u001b[0;36m10\u001b[0m\u001b[0;34m)\u001b[0m\u001b[0;34m,\u001b[0m \u001b[0;34m(\u001b[0m\u001b[0;36m100\u001b[0m\u001b[0;34m,\u001b[0m\u001b[0;34m\"d\"\u001b[0m\u001b[0;34m)\u001b[0m\u001b[0;34m)\u001b[0m\u001b[0;34m\u001b[0m\u001b[0;34m\u001b[0m\u001b[0m\n\u001b[0m\u001b[1;32m      2\u001b[0m \u001b[0mprint\u001b[0m\u001b[0;34m(\u001b[0m\u001b[0md\u001b[0m\u001b[0;34m)\u001b[0m\u001b[0;34m\u001b[0m\u001b[0;34m\u001b[0m\u001b[0m\n\u001b[1;32m      3\u001b[0m \u001b[0;31m# d-dict(inside tuple of tuple will allow) not only tuple valyes it has to be key value pairs in dict ut we are giving the tuple so its has to be inside tuple\u001b[0m\u001b[0;34m\u001b[0m\u001b[0;34m\u001b[0m\u001b[0m\n",
            "\u001b[0;31mTypeError\u001b[0m: dict expected at most 1 argument, got 4"
          ]
        }
      ]
    },
    {
      "cell_type": "code",
      "source": [
        "d = dict([(\"a\",[1,2,3]), (\"b\", 4), (\"c\", 10), (100,\"d\")])\n",
        "print(d)"
      ],
      "metadata": {
        "colab": {
          "base_uri": "https://localhost:8080/"
        },
        "id": "f79955GuhOSr",
        "outputId": "eb5ac608-0214-4834-b350-034270cc3398"
      },
      "execution_count": null,
      "outputs": [
        {
          "output_type": "stream",
          "name": "stdout",
          "text": [
            "{'a': [1, 2, 3], 'b': 4, 'c': 10, 100: 'd'}\n"
          ]
        }
      ]
    },
    {
      "cell_type": "code",
      "source": [
        "\n",
        "d = dict([(\"a\",[1,2,3]), (\"b\", 4), (\"c\", 10), (100,\"d\")], virat=120)#here we dnt need to pass as a string it will convert automatically in dict\n",
        "print(d)"
      ],
      "metadata": {
        "colab": {
          "base_uri": "https://localhost:8080/"
        },
        "id": "ROglXm6EhXBR",
        "outputId": "85109621-495d-4b10-e2c0-b24741d4a540"
      },
      "execution_count": null,
      "outputs": [
        {
          "output_type": "stream",
          "name": "stdout",
          "text": [
            "{'a': [1, 2, 3], 'b': 4, 'c': 10, 100: 'd', 'virat': 120}\n"
          ]
        }
      ]
    },
    {
      "cell_type": "code",
      "source": [
        "#if we want to consider virat as a variable we give like--  virat = \"ABC\"\n",
        "virat = \"ABC\"\n",
        "d = dict([(virat, 120)])\n",
        "print(d)\n",
        "\n",
        "d2 = dict([(120, virat)])\n",
        "print(d2)"
      ],
      "metadata": {
        "colab": {
          "base_uri": "https://localhost:8080/"
        },
        "id": "DHyd_HMMhpJ0",
        "outputId": "1e580b9d-75e9-4f12-9e5a-fb2bf1edb036"
      },
      "execution_count": null,
      "outputs": [
        {
          "output_type": "stream",
          "name": "stdout",
          "text": [
            "{'ABC': 120}\n",
            "{120: 'ABC'}\n"
          ]
        }
      ]
    },
    {
      "cell_type": "code",
      "source": [
        "d = dict([(\"a\",[1,2,3]), (\"b\", 4), (\"c\", 10), (100,\"d\")], virat=120, rohit=100)\n",
        "#here we passed as keywrd argument where converts into string and store as key so thats why 100 value is not changed\n",
        "print(d)\n"
      ],
      "metadata": {
        "colab": {
          "base_uri": "https://localhost:8080/"
        },
        "id": "HKvvcU_Jh7e_",
        "outputId": "767e5ea5-bad2-4d33-e910-c1c7af4ef7eb"
      },
      "execution_count": null,
      "outputs": [
        {
          "output_type": "stream",
          "name": "stdout",
          "text": [
            "{'a': [1, 2, 3], 'b': 4, 'c': 10, 100: 'd', 'virat': 120, 'rohit': 100}\n"
          ]
        }
      ]
    },
    {
      "cell_type": "code",
      "source": [
        "virat"
      ],
      "metadata": {
        "colab": {
          "base_uri": "https://localhost:8080/",
          "height": 36
        },
        "id": "xyuzGobcizKy",
        "outputId": "5ba02712-99c0-4ac6-e59a-70a962041000"
      },
      "execution_count": null,
      "outputs": [
        {
          "output_type": "execute_result",
          "data": {
            "text/plain": [
              "'ABC'"
            ],
            "application/vnd.google.colaboratory.intrinsic+json": {
              "type": "string"
            }
          },
          "metadata": {},
          "execution_count": 90
        }
      ]
    },
    {
      "cell_type": "markdown",
      "source": [
        "**Creating dictionary fromkeys method**"
      ],
      "metadata": {
        "id": "NNgjSLuxi28R"
      }
    },
    {
      "cell_type": "code",
      "source": [
        "#one way of initializing dict with  a fixed value\n",
        "students = ['pavani', 'venkata', 'kv', 'hehe', 'me'] # using lists\n",
        "d =dict.fromkeys(students)\n",
        "print(d)\n",
        "#The fromkeys() method returns a dictionary with the specified keys and the specified value.\n",
        "# syntax\n",
        "#  ---      dict.fromkeys(keys, value)\n",
        "# keys\tRequired. An iterable specifying the keys of the new dictionary\n",
        "# value\tOptional. The value for all keys. Default value is None\n"
      ],
      "metadata": {
        "colab": {
          "base_uri": "https://localhost:8080/"
        },
        "id": "745FPYK-i5bW",
        "outputId": "e26b2f44-1f2b-454f-8d72-b65a708e235f"
      },
      "execution_count": null,
      "outputs": [
        {
          "output_type": "stream",
          "name": "stdout",
          "text": [
            "{'pavani': None, 'venkata': None, 'kv': None, 'hehe': None, 'me': None}\n"
          ]
        }
      ]
    },
    {
      "cell_type": "code",
      "source": [
        "students = ['pavani', 'venkata', 'kv', 'hehe', 'me']\n",
        "d =dict.fromkeys(students,0)#giivng value =0\n",
        "print(d)"
      ],
      "metadata": {
        "colab": {
          "base_uri": "https://localhost:8080/"
        },
        "id": "Ry2WAw7qJPth",
        "outputId": "c3f5982d-72ec-4bcd-a54e-75dae9d1837d"
      },
      "execution_count": null,
      "outputs": [
        {
          "output_type": "stream",
          "name": "stdout",
          "text": [
            "{'pavani': 0, 'venkata': 0, 'kv': 0, 'hehe': 0, 'me': 0}\n"
          ]
        }
      ]
    },
    {
      "cell_type": "code",
      "source": [
        "students = ('pavani', 'venkata', 'kv', 'hehe', 'me') #using tuple\n",
        "d =dict.fromkeys(students)\n",
        "print(d)"
      ],
      "metadata": {
        "colab": {
          "base_uri": "https://localhost:8080/"
        },
        "id": "fZP88clqJ3xz",
        "outputId": "4f13e7de-873a-450b-d176-362347712533"
      },
      "execution_count": null,
      "outputs": [
        {
          "output_type": "stream",
          "name": "stdout",
          "text": [
            "{'pavani': None, 'venkata': None, 'kv': None, 'hehe': None, 'me': None}\n"
          ]
        }
      ]
    },
    {
      "cell_type": "code",
      "source": [
        "students = ('pavani', 'venkata', 'kv', 'hehe', 'me') #using tuple\n",
        "d =dict.fromkeys(students,[1,2,3])\n",
        "print(d)\n",
        "# we use this method suppose wen we have a list /tuple  and we want to print keys as dictionaries we use this method"
      ],
      "metadata": {
        "colab": {
          "base_uri": "https://localhost:8080/"
        },
        "id": "aq5XJgA7KAi3",
        "outputId": "cfcf4e2e-a0ca-4bb1-f127-01a449b52bda"
      },
      "execution_count": null,
      "outputs": [
        {
          "output_type": "stream",
          "name": "stdout",
          "text": [
            "{'pavani': [1, 2, 3], 'venkata': [1, 2, 3], 'kv': [1, 2, 3], 'hehe': [1, 2, 3], 'me': [1, 2, 3]}\n"
          ]
        }
      ]
    },
    {
      "cell_type": "markdown",
      "source": [
        "**keys and values in dictionary**"
      ],
      "metadata": {
        "id": "TNHDoSTFKjP3"
      }
    },
    {
      "cell_type": "code",
      "source": [
        "d = {'a': [12,20,30], 'b': (20,30,40), 'c': {12,30,40}, 'd': {10:20,20:30,30:40}} # dictionary inside dictionary is possible as a value\n",
        "print(d)\n"
      ],
      "metadata": {
        "colab": {
          "base_uri": "https://localhost:8080/"
        },
        "id": "HGEIGZL2Km8r",
        "outputId": "d7f2bd45-0b5e-4663-f7d5-34c19ee6b1cd"
      },
      "execution_count": null,
      "outputs": [
        {
          "output_type": "stream",
          "name": "stdout",
          "text": [
            "{'a': [12, 20, 30], 'b': (20, 30, 40), 'c': {40, 12, 30}, 'd': {10: 20, 20: 30, 30: 40}}\n"
          ]
        }
      ]
    },
    {
      "cell_type": "code",
      "source": [
        "d = { (12,20,30): 'p'} #tuple as a key\n",
        "print(d)\n",
        "# we can give tuple as key in dictionary bcz tuple were immutable\n",
        "#to use as key in dictionary iterable has to be immutable"
      ],
      "metadata": {
        "colab": {
          "base_uri": "https://localhost:8080/"
        },
        "id": "DDJ4jJDNLOv6",
        "outputId": "f18df602-9899-4e89-a250-620d59a42944"
      },
      "execution_count": null,
      "outputs": [
        {
          "output_type": "stream",
          "name": "stdout",
          "text": [
            "{(12, 20, 30): 'p'}\n"
          ]
        }
      ]
    },
    {
      "cell_type": "code",
      "source": [
        "d = { [12,20,30]: 'p'} #list as a key\n",
        "print(d)"
      ],
      "metadata": {
        "colab": {
          "base_uri": "https://localhost:8080/",
          "height": 165
        },
        "id": "DqlVe6mPLraj",
        "outputId": "0d967880-121d-4a2f-eaf2-46024c531ff8"
      },
      "execution_count": null,
      "outputs": [
        {
          "output_type": "error",
          "ename": "TypeError",
          "evalue": "unhashable type: 'list'",
          "traceback": [
            "\u001b[0;31m---------------------------------------------------------------------------\u001b[0m",
            "\u001b[0;31mTypeError\u001b[0m                                 Traceback (most recent call last)",
            "\u001b[0;32m<ipython-input-8-e3c43574268d>\u001b[0m in \u001b[0;36m<cell line: 1>\u001b[0;34m()\u001b[0m\n\u001b[0;32m----> 1\u001b[0;31m \u001b[0md\u001b[0m \u001b[0;34m=\u001b[0m \u001b[0;34m{\u001b[0m \u001b[0;34m[\u001b[0m\u001b[0;36m12\u001b[0m\u001b[0;34m,\u001b[0m\u001b[0;36m20\u001b[0m\u001b[0;34m,\u001b[0m\u001b[0;36m30\u001b[0m\u001b[0;34m]\u001b[0m\u001b[0;34m:\u001b[0m \u001b[0;34m'p'\u001b[0m\u001b[0;34m}\u001b[0m \u001b[0;31m#list as a key\u001b[0m\u001b[0;34m\u001b[0m\u001b[0;34m\u001b[0m\u001b[0m\n\u001b[0m\u001b[1;32m      2\u001b[0m \u001b[0mprint\u001b[0m\u001b[0;34m(\u001b[0m\u001b[0md\u001b[0m\u001b[0;34m)\u001b[0m\u001b[0;34m\u001b[0m\u001b[0;34m\u001b[0m\u001b[0m\n",
            "\u001b[0;31mTypeError\u001b[0m: unhashable type: 'list'"
          ]
        }
      ]
    },
    {
      "cell_type": "code",
      "source": [
        "d = {(12,30,[12,30]): \"A\"} #even inside of tuple also we cannot give list in dictionary as a key\n",
        "#tuple inside tuple is possile\n",
        "#list inside tuple is not possible\n",
        "print(d)\n",
        "# list, set, dictionaries - are mutable (so it cannot be passed as a key to a dictionary)\n"
      ],
      "metadata": {
        "colab": {
          "base_uri": "https://localhost:8080/",
          "height": 219
        },
        "id": "tjUoHVBLL3wi",
        "outputId": "ad7053f0-45c4-41e0-e500-ff124fcf27c0"
      },
      "execution_count": null,
      "outputs": [
        {
          "output_type": "error",
          "ename": "TypeError",
          "evalue": "unhashable type: 'list'",
          "traceback": [
            "\u001b[0;31m---------------------------------------------------------------------------\u001b[0m",
            "\u001b[0;31mTypeError\u001b[0m                                 Traceback (most recent call last)",
            "\u001b[0;32m<ipython-input-15-30a47716ae95>\u001b[0m in \u001b[0;36m<cell line: 1>\u001b[0;34m()\u001b[0m\n\u001b[0;32m----> 1\u001b[0;31m \u001b[0md\u001b[0m \u001b[0;34m=\u001b[0m \u001b[0;34m{\u001b[0m\u001b[0;34m(\u001b[0m\u001b[0;36m12\u001b[0m\u001b[0;34m,\u001b[0m\u001b[0;36m30\u001b[0m\u001b[0;34m,\u001b[0m\u001b[0;34m[\u001b[0m\u001b[0;36m12\u001b[0m\u001b[0;34m,\u001b[0m\u001b[0;36m30\u001b[0m\u001b[0;34m]\u001b[0m\u001b[0;34m)\u001b[0m\u001b[0;34m:\u001b[0m \u001b[0;34m\"A\"\u001b[0m\u001b[0;34m}\u001b[0m \u001b[0;31m#even inside of tuple also we cannot give list in dictionary as a key\u001b[0m\u001b[0;34m\u001b[0m\u001b[0;34m\u001b[0m\u001b[0m\n\u001b[0m\u001b[1;32m      2\u001b[0m \u001b[0;31m#tuple inside tuple is possile\u001b[0m\u001b[0;34m\u001b[0m\u001b[0;34m\u001b[0m\u001b[0m\n\u001b[1;32m      3\u001b[0m \u001b[0;31m#list inside tuple is not possible\u001b[0m\u001b[0;34m\u001b[0m\u001b[0;34m\u001b[0m\u001b[0m\n\u001b[1;32m      4\u001b[0m \u001b[0mprint\u001b[0m\u001b[0;34m(\u001b[0m\u001b[0md\u001b[0m\u001b[0;34m)\u001b[0m\u001b[0;34m\u001b[0m\u001b[0;34m\u001b[0m\u001b[0m\n\u001b[1;32m      5\u001b[0m \u001b[0;31m# list, set, dictionaries - are mutable (so it cannot be passed as a key to a dictionary)\u001b[0m\u001b[0;34m\u001b[0m\u001b[0;34m\u001b[0m\u001b[0m\n",
            "\u001b[0;31mTypeError\u001b[0m: unhashable type: 'list'"
          ]
        }
      ]
    },
    {
      "cell_type": "markdown",
      "source": [
        "**len()**"
      ],
      "metadata": {
        "id": "6Ka3VUe-MMJg"
      }
    },
    {
      "cell_type": "code",
      "source": [
        "d = {\"a\": 12, \"b\": 13, \"c\": 100}\n",
        "print(len(d))\n",
        "#prints no of keys"
      ],
      "metadata": {
        "colab": {
          "base_uri": "https://localhost:8080/"
        },
        "id": "7brWs6k5MOfQ",
        "outputId": "d381ef4f-b1de-46b3-c39d-babbc0d3be93"
      },
      "execution_count": null,
      "outputs": [
        {
          "output_type": "stream",
          "name": "stdout",
          "text": [
            "3\n"
          ]
        }
      ]
    },
    {
      "cell_type": "code",
      "source": [
        "d = {\"a\": 12, \"b\": 13, \"c\": 100, 1:\"A\", \"1\": \"ABC\", 1.0:\"2\", False: \"True\"}\n",
        "print(d)\n",
        "print(len(d)) #not 5 bcz one '1' is string type"
      ],
      "metadata": {
        "colab": {
          "base_uri": "https://localhost:8080/"
        },
        "id": "AoIBUs4JMQms",
        "outputId": "c7c5c75d-1578-468f-b075-284a07534df6"
      },
      "execution_count": null,
      "outputs": [
        {
          "output_type": "stream",
          "name": "stdout",
          "text": [
            "{'a': 12, 'b': 13, 'c': 100, 1: '2', '1': 'ABC', False: 'True'}\n",
            "6\n"
          ]
        }
      ]
    },
    {
      "cell_type": "markdown",
      "source": [
        "* keys : cannot be list,set,dict and we can use  tuple\n",
        "* values : any data type"
      ],
      "metadata": {
        "id": "TIjYfraxNZ0e"
      }
    },
    {
      "cell_type": "markdown",
      "source": [
        "**# keys(), values(), items()**"
      ],
      "metadata": {
        "id": "DqjmE14FNFc_"
      }
    },
    {
      "cell_type": "code",
      "source": [
        "d = {\"pavani\": 55.4, \"maira\": 46.9, \"me\": 60.9}\n",
        "print(d.keys())\n",
        "print(d.values())\n",
        "print(d.items())\n"
      ],
      "metadata": {
        "colab": {
          "base_uri": "https://localhost:8080/"
        },
        "id": "GnTREm5iNKpa",
        "outputId": "22693c40-e024-4440-d7d7-c31e514b6639"
      },
      "execution_count": null,
      "outputs": [
        {
          "output_type": "stream",
          "name": "stdout",
          "text": [
            "dict_keys(['pavani', 'maira', 'me'])\n",
            "dict_values([55.4, 46.9, 60.9])\n",
            "dict_items([('pavani', 55.4), ('maira', 46.9), ('me', 60.9)])\n"
          ]
        }
      ]
    },
    {
      "cell_type": "code",
      "source": [
        "# why we use\n",
        "for k in d.keys():\n",
        "  print(\"keys :\",k)\n",
        "\n",
        "print(\"----------\")\n",
        "for k in d.values():\n",
        "  print(\"values :\",k)\n",
        "\n",
        "#wen we want to ietrate a dict we use d.items() where it returns tuple contains key value pairs\n",
        "\n",
        "print(\"----------\")\n",
        "for k in d.items():\n",
        "  print(\"items(key:value) :\",k)\n",
        "\n",
        "\n",
        "print(\"----------\")\n",
        "for k,v in d.items():\n",
        "  print(\"key :\",k, \"|\", \"values:\",v)"
      ],
      "metadata": {
        "colab": {
          "base_uri": "https://localhost:8080/"
        },
        "id": "vL33cGAdPJWD",
        "outputId": "3a0be0db-5878-4483-e0d7-1be2121e6b27"
      },
      "execution_count": null,
      "outputs": [
        {
          "output_type": "stream",
          "name": "stdout",
          "text": [
            "keys : pavani\n",
            "keys : maira\n",
            "keys : me\n",
            "----------\n",
            "values : 55.4\n",
            "values : 46.9\n",
            "values : 60.9\n",
            "----------\n",
            "items(key:value) : ('pavani', 55.4)\n",
            "items(key:value) : ('maira', 46.9)\n",
            "items(key:value) : ('me', 60.9)\n",
            "----------\n",
            "key : pavani | values: 55.4\n",
            "key : maira | values: 46.9\n",
            "key : me | values: 60.9\n"
          ]
        }
      ]
    },
    {
      "cell_type": "markdown",
      "source": [
        "# **Accessing in a dictionary**"
      ],
      "metadata": {
        "id": "36tiXpd1T5_4"
      }
    },
    {
      "cell_type": "code",
      "source": [
        "d = {\"pavani\": 55.4, \"maira\": 46.9, \"me\": 60.9}\n",
        "d['pavani']"
      ],
      "metadata": {
        "colab": {
          "base_uri": "https://localhost:8080/"
        },
        "id": "BOSBbwbNT97w",
        "outputId": "a8330253-0bd6-4e6d-bfef-dbc0de66847a"
      },
      "execution_count": null,
      "outputs": [
        {
          "output_type": "execute_result",
          "data": {
            "text/plain": [
              "55.4"
            ]
          },
          "metadata": {},
          "execution_count": 25
        }
      ]
    },
    {
      "cell_type": "code",
      "source": [
        "d = {\"pavani\": 55.4, \"maira\": 46.9, \"me\": 60.9}\n",
        "d['hehe'] #not there"
      ],
      "metadata": {
        "colab": {
          "base_uri": "https://localhost:8080/",
          "height": 165
        },
        "id": "wJUXyPR0UI-q",
        "outputId": "a7a623cf-bb38-4bfd-95b8-9814ac605b52"
      },
      "execution_count": null,
      "outputs": [
        {
          "output_type": "error",
          "ename": "KeyError",
          "evalue": "'hehe'",
          "traceback": [
            "\u001b[0;31m---------------------------------------------------------------------------\u001b[0m",
            "\u001b[0;31mKeyError\u001b[0m                                  Traceback (most recent call last)",
            "\u001b[0;32m<ipython-input-26-c6ef13851106>\u001b[0m in \u001b[0;36m<cell line: 2>\u001b[0;34m()\u001b[0m\n\u001b[1;32m      1\u001b[0m \u001b[0md\u001b[0m \u001b[0;34m=\u001b[0m \u001b[0;34m{\u001b[0m\u001b[0;34m\"pavani\"\u001b[0m\u001b[0;34m:\u001b[0m \u001b[0;36m55.4\u001b[0m\u001b[0;34m,\u001b[0m \u001b[0;34m\"maira\"\u001b[0m\u001b[0;34m:\u001b[0m \u001b[0;36m46.9\u001b[0m\u001b[0;34m,\u001b[0m \u001b[0;34m\"me\"\u001b[0m\u001b[0;34m:\u001b[0m \u001b[0;36m60.9\u001b[0m\u001b[0;34m}\u001b[0m\u001b[0;34m\u001b[0m\u001b[0;34m\u001b[0m\u001b[0m\n\u001b[0;32m----> 2\u001b[0;31m \u001b[0md\u001b[0m\u001b[0;34m[\u001b[0m\u001b[0;34m'hehe'\u001b[0m\u001b[0;34m]\u001b[0m\u001b[0;34m\u001b[0m\u001b[0;34m\u001b[0m\u001b[0m\n\u001b[0m",
            "\u001b[0;31mKeyError\u001b[0m: 'hehe'"
          ]
        }
      ]
    },
    {
      "cell_type": "code",
      "source": [
        "d = {\"pavani\": 55.4, \"maira\": 46.9, \"me\": 60.9}\n",
        "d.get('pavani')"
      ],
      "metadata": {
        "colab": {
          "base_uri": "https://localhost:8080/"
        },
        "id": "XflOgG52Uofz",
        "outputId": "5eec10f7-5e1d-4687-acb9-b36ac531bdd9"
      },
      "execution_count": null,
      "outputs": [
        {
          "output_type": "execute_result",
          "data": {
            "text/plain": [
              "55.4"
            ]
          },
          "metadata": {},
          "execution_count": 27
        }
      ]
    },
    {
      "cell_type": "code",
      "source": [
        "d = {\"pavani\": 55.4, \"maira\": 46.9, \"me\": 60.9}\n",
        "b=d.get('hehe')\n",
        "#here wen we use d.get we get nothing instead of error like above\n",
        "print(b)"
      ],
      "metadata": {
        "colab": {
          "base_uri": "https://localhost:8080/"
        },
        "id": "BRMyQzeyUst6",
        "outputId": "8cd9fdbd-e100-4bc1-d907-726b2e4857ed"
      },
      "execution_count": null,
      "outputs": [
        {
          "output_type": "stream",
          "name": "stdout",
          "text": [
            "None\n"
          ]
        }
      ]
    },
    {
      "cell_type": "code",
      "source": [
        "d = {\"pavani\": 55.4, \"maira\": 46.9, \"me\": 60.9}\n",
        "d.get('hehe',-1)  # get(key,default_val)\n",
        "# we are assigning def value -1 so that wen value is not there it prints -1"
      ],
      "metadata": {
        "colab": {
          "base_uri": "https://localhost:8080/"
        },
        "id": "2zWVbgB6VfD1",
        "outputId": "e8e3cc3a-5254-48c2-c6dd-22e617d368aa"
      },
      "execution_count": null,
      "outputs": [
        {
          "output_type": "execute_result",
          "data": {
            "text/plain": [
              "-1"
            ]
          },
          "metadata": {},
          "execution_count": 31
        }
      ]
    },
    {
      "cell_type": "code",
      "source": [
        "d = {\"pavani\": 55.4, \"maira\": 46.9, \"me\": 60.9}\n",
        "d.get('hehe',\"key not found\")  # get(key,default_val)"
      ],
      "metadata": {
        "colab": {
          "base_uri": "https://localhost:8080/",
          "height": 36
        },
        "id": "XYyqfB28VrsT",
        "outputId": "2f23e608-c2cb-4278-b4f2-836a71f0a7eb"
      },
      "execution_count": null,
      "outputs": [
        {
          "output_type": "execute_result",
          "data": {
            "text/plain": [
              "'key not found'"
            ],
            "application/vnd.google.colaboratory.intrinsic+json": {
              "type": "string"
            }
          },
          "metadata": {},
          "execution_count": 34
        }
      ]
    },
    {
      "cell_type": "markdown",
      "source": [
        "# **Modifying a dictionary**"
      ],
      "metadata": {
        "id": "D8zNOLqSXhQH"
      }
    },
    {
      "cell_type": "code",
      "source": [
        "d = {\"pavani\": 55.4, \"maira\": 46.9, \"me\": 60.9}\n",
        "d['pavani']= [100,20,30]  # keys in dic needs to be unique\n",
        "print(d)\n",
        "# we can add /delete a key--not value\n",
        "#we cannot update a key --not value"
      ],
      "metadata": {
        "colab": {
          "base_uri": "https://localhost:8080/"
        },
        "id": "g_4AKVmfXjy1",
        "outputId": "b4b3b321-fa83-4671-883c-4bc20206a055"
      },
      "execution_count": null,
      "outputs": [
        {
          "output_type": "stream",
          "name": "stdout",
          "text": [
            "{'pavani': [100, 20, 30], 'maira': 46.9, 'me': 60.9}\n"
          ]
        }
      ]
    },
    {
      "cell_type": "markdown",
      "source": [
        "**in,not in**"
      ],
      "metadata": {
        "id": "dsI-8uuRYcuI"
      }
    },
    {
      "cell_type": "code",
      "source": [
        "d = {\"pavani\": 55.4, \"maira\": 46.9, \"me\": 60.9}\n",
        "print('pavani' in d)\n",
        "print('pavani' not in d)\n",
        "print('hehe' in d)\n",
        "#in not in operatir looks for keys not values"
      ],
      "metadata": {
        "colab": {
          "base_uri": "https://localhost:8080/"
        },
        "id": "NEKEUURFYfHV",
        "outputId": "b8791a01-42a2-4c83-c442-d1ed73bb8d46"
      },
      "execution_count": null,
      "outputs": [
        {
          "output_type": "stream",
          "name": "stdout",
          "text": [
            "True\n",
            "False\n",
            "False\n"
          ]
        }
      ]
    },
    {
      "cell_type": "code",
      "source": [
        "d = {\"pavani\": 55.4, \"maira\": 46.9, \"me\": 60.9}\n",
        "print('55.4' in d)\n",
        "print('46.9' not in d)\n",
        "print('60.9' in d)\n",
        "#here we gave values it will not consider values"
      ],
      "metadata": {
        "colab": {
          "base_uri": "https://localhost:8080/"
        },
        "id": "bHvf_AAvYx5W",
        "outputId": "59468541-76a2-4a90-f322-8bdb51cd5e6e"
      },
      "execution_count": null,
      "outputs": [
        {
          "output_type": "stream",
          "name": "stdout",
          "text": [
            "False\n",
            "True\n",
            "False\n"
          ]
        }
      ]
    },
    {
      "cell_type": "markdown",
      "source": [
        "# **Update Method**"
      ],
      "metadata": {
        "id": "-9GX5nzDY9dk"
      }
    },
    {
      "cell_type": "code",
      "source": [
        "mine={\"name\": \"pavani\" , \"age\" : 24 ,\"profession\": \"data analyst\"}\n",
        "print(mine)"
      ],
      "metadata": {
        "colab": {
          "base_uri": "https://localhost:8080/"
        },
        "id": "bPaJAE2kY_3X",
        "outputId": "b864370c-8b9f-441f-cbd6-dd897a6d2de7"
      },
      "execution_count": null,
      "outputs": [
        {
          "output_type": "stream",
          "name": "stdout",
          "text": [
            "{'name': 'pavani', 'age': 24, 'profession': 'data analyst'}\n"
          ]
        }
      ]
    },
    {
      "cell_type": "code",
      "source": [
        "mine.update(profession=\" senior data analyst\")\n",
        "print(mine)"
      ],
      "metadata": {
        "colab": {
          "base_uri": "https://localhost:8080/"
        },
        "id": "oocG3B3wZamE",
        "outputId": "7f9f538f-fc07-40aa-b914-39ed9d7eb36a"
      },
      "execution_count": null,
      "outputs": [
        {
          "output_type": "stream",
          "name": "stdout",
          "text": [
            "{'name': 'pavani', 'age': 24, 'profession': ' senior data analyst'}\n"
          ]
        }
      ]
    },
    {
      "cell_type": "code",
      "source": [
        "mine.update(profession=\" senior data analyst\",age=25)\n",
        "print(mine)"
      ],
      "metadata": {
        "colab": {
          "base_uri": "https://localhost:8080/"
        },
        "id": "ICgZ4pUDZsi1",
        "outputId": "e2b1b248-85d3-470e-b28d-81ce516ee780"
      },
      "execution_count": null,
      "outputs": [
        {
          "output_type": "stream",
          "name": "stdout",
          "text": [
            "{'name': 'pavani', 'age': 25, 'profession': ' senior data analyst'}\n"
          ]
        }
      ]
    },
    {
      "cell_type": "code",
      "source": [
        "mine1={\"name\": \"pavani\" , \"age\" : 24 ,\"profession\": \"data analyst\"}\n",
        "mine2={\"salary\": \"15LPA\" , \"age\" : 25 ,\"profession\": \"senior data analyst\"}\n",
        "mine1.update(mine2)\n",
        "print(mine1)"
      ],
      "metadata": {
        "colab": {
          "base_uri": "https://localhost:8080/"
        },
        "id": "02kZHLmZZwiy",
        "outputId": "457ce3f3-c8e2-4864-a541-60aec845c3b3"
      },
      "execution_count": null,
      "outputs": [
        {
          "output_type": "stream",
          "name": "stdout",
          "text": [
            "{'name': 'pavani', 'age': 25, 'profession': 'senior data analyst', 'salary': '15LPA'}\n"
          ]
        }
      ]
    },
    {
      "cell_type": "code",
      "source": [
        "d = {\"a\": [12]}\n",
        "d[\"a\"].append(20)\n",
        "print(d)"
      ],
      "metadata": {
        "colab": {
          "base_uri": "https://localhost:8080/"
        },
        "id": "xfySF1rIaVmR",
        "outputId": "c9347185-4590-4306-edf2-5d971ebb1a73"
      },
      "execution_count": null,
      "outputs": [
        {
          "output_type": "stream",
          "name": "stdout",
          "text": [
            "{'a': [12, 20]}\n"
          ]
        }
      ]
    },
    {
      "cell_type": "code",
      "source": [
        "\n",
        "d = {\"a\": 1, \"a\": 2}\n",
        "print(d)"
      ],
      "metadata": {
        "colab": {
          "base_uri": "https://localhost:8080/"
        },
        "id": "d7mXPtOKauPC",
        "outputId": "b1f65950-dea6-4818-bc9e-fae536e2afbc"
      },
      "execution_count": null,
      "outputs": [
        {
          "output_type": "stream",
          "name": "stdout",
          "text": [
            "{'a': 2}\n"
          ]
        }
      ]
    },
    {
      "cell_type": "code",
      "source": [
        "mine1"
      ],
      "metadata": {
        "colab": {
          "base_uri": "https://localhost:8080/"
        },
        "id": "pTuNHyoiaxnM",
        "outputId": "f46f3ccd-9fe8-4b79-bb3e-e3809b791e56"
      },
      "execution_count": null,
      "outputs": [
        {
          "output_type": "execute_result",
          "data": {
            "text/plain": [
              "{'name': 'pavani',\n",
              " 'age': 25,\n",
              " 'profession': 'senior data analyst',\n",
              " 'salary': '15LPA'}"
            ]
          },
          "metadata": {},
          "execution_count": 50
        }
      ]
    },
    {
      "cell_type": "code",
      "source": [
        "mine1={\"name\": \"pavani\" , \"age\" : 24 ,\"profession\": \"data analyst\"}\n",
        "mine2=[\"salary\" , \"15LPA\"] , [\"age\" , 25] ,[\"profession\",\"senior data analyst\"]\n",
        "print(type(mine2))\n",
        "# we can give as a list\n",
        "# mine2=[\"salary\" : \"15LPA\"] , [\"age\" : 25] ,[\"profession\":\"senior data analyst\"] wrong we have to keep comma\n",
        "mine1.update(mine2)\n",
        "print(mine1)\n",
        "print(type(mine1))\n",
        "print(type(mine2))"
      ],
      "metadata": {
        "colab": {
          "base_uri": "https://localhost:8080/"
        },
        "id": "GO2DUn_2a0fn",
        "outputId": "95273054-81f9-431a-f5da-1fb622f7d809"
      },
      "execution_count": null,
      "outputs": [
        {
          "output_type": "stream",
          "name": "stdout",
          "text": [
            "<class 'tuple'>\n",
            "{'name': 'pavani', 'age': 25, 'profession': 'senior data analyst', 'salary': '15LPA'}\n",
            "<class 'dict'>\n",
            "<class 'tuple'>\n"
          ]
        }
      ]
    },
    {
      "cell_type": "code",
      "source": [
        "mine1={\"name\": \"pavani\" , \"age\" : 24 ,\"profession\": \"data analyst\"}\n",
        "mine2=(\"salary\" , \"15LPA\") ,(\"age\" , 25) ,(\"profession\",\"senior data analyst\")\n",
        "#we can give as a tuple\n",
        "# mine2=[\"salary\" : \"15LPA\"] , [\"age\" : 25] ,[\"profession\":\"senior data analyst\"] wrong we have to keep comma\n",
        "mine1.update(mine2)\n",
        "print(mine1)\n",
        "print(type(mine1))\n",
        "print(type(mine2))"
      ],
      "metadata": {
        "colab": {
          "base_uri": "https://localhost:8080/"
        },
        "id": "8AAcT4Hvb1d4",
        "outputId": "4fb93871-1f9d-4355-d96d-06d5a04a8844"
      },
      "execution_count": null,
      "outputs": [
        {
          "output_type": "stream",
          "name": "stdout",
          "text": [
            "{'name': 'pavani', 'age': 25, 'profession': 'senior data analyst', 'salary': '15LPA'}\n",
            "<class 'dict'>\n",
            "<class 'tuple'>\n"
          ]
        }
      ]
    },
    {
      "cell_type": "markdown",
      "source": [
        "**del**"
      ],
      "metadata": {
        "id": "dcpYKjsCcbQJ"
      }
    },
    {
      "cell_type": "code",
      "source": [
        "mine1={\"name\": \"pavani\" , \"age\" : 24 ,\"profession\": \"data analyst\"}\n",
        "mine2=(\"salary\" , \"15LPA\") ,(\"age\" , 25) ,(\"profession\",\"senior data analyst\")\n",
        "del mine1[\"age\"]\n",
        "print(mine1)"
      ],
      "metadata": {
        "colab": {
          "base_uri": "https://localhost:8080/"
        },
        "id": "ov_JZm1uccbx",
        "outputId": "79e964e8-afb3-4311-c427-88294696cd23"
      },
      "execution_count": null,
      "outputs": [
        {
          "output_type": "stream",
          "name": "stdout",
          "text": [
            "{'name': 'pavani', 'profession': 'data analyst'}\n"
          ]
        }
      ]
    },
    {
      "cell_type": "code",
      "source": [
        "del mine1\n",
        "print(mine1)"
      ],
      "metadata": {
        "colab": {
          "base_uri": "https://localhost:8080/",
          "height": 165
        },
        "id": "TupfnvErcquW",
        "outputId": "369f3c25-f983-4ce7-ea2c-8462c45fdd0b"
      },
      "execution_count": null,
      "outputs": [
        {
          "output_type": "error",
          "ename": "NameError",
          "evalue": "name 'mine1' is not defined",
          "traceback": [
            "\u001b[0;31m---------------------------------------------------------------------------\u001b[0m",
            "\u001b[0;31mNameError\u001b[0m                                 Traceback (most recent call last)",
            "\u001b[0;32m<ipython-input-63-52fa5baf3167>\u001b[0m in \u001b[0;36m<cell line: 1>\u001b[0;34m()\u001b[0m\n\u001b[0;32m----> 1\u001b[0;31m \u001b[0;32mdel\u001b[0m \u001b[0mmine1\u001b[0m\u001b[0;34m\u001b[0m\u001b[0;34m\u001b[0m\u001b[0m\n\u001b[0m\u001b[1;32m      2\u001b[0m \u001b[0mprint\u001b[0m\u001b[0;34m(\u001b[0m\u001b[0mmine1\u001b[0m\u001b[0;34m)\u001b[0m\u001b[0;34m\u001b[0m\u001b[0;34m\u001b[0m\u001b[0m\n",
            "\u001b[0;31mNameError\u001b[0m: name 'mine1' is not defined"
          ]
        }
      ]
    },
    {
      "cell_type": "markdown",
      "source": [
        "**clear()**"
      ],
      "metadata": {
        "id": "UbB9-WKScy0R"
      }
    },
    {
      "cell_type": "code",
      "source": [
        "mine1={\"name\": \"pavani\" , \"age\" : 24 ,\"profession\": \"data analyst\"}\n",
        "mine1.clear()\n",
        "print(mine1)"
      ],
      "metadata": {
        "colab": {
          "base_uri": "https://localhost:8080/"
        },
        "id": "VN15KpaJc0_m",
        "outputId": "952860ea-99bb-4168-b6ef-d175a112cc80"
      },
      "execution_count": null,
      "outputs": [
        {
          "output_type": "stream",
          "name": "stdout",
          "text": [
            "{}\n"
          ]
        }
      ]
    },
    {
      "cell_type": "markdown",
      "source": [
        "**pop()**"
      ],
      "metadata": {
        "id": "KRpngR5BqXwN"
      }
    },
    {
      "cell_type": "code",
      "source": [
        "d = {\"pavani\": 55.4, \"maira\": 46.9, \"me\": 60.9}\n",
        "d.pop()"
      ],
      "metadata": {
        "colab": {
          "base_uri": "https://localhost:8080/",
          "height": 165
        },
        "id": "XvSkeoypq0Vs",
        "outputId": "70c64c23-4f9f-4d58-f814-103d996cc4df"
      },
      "execution_count": null,
      "outputs": [
        {
          "output_type": "error",
          "ename": "TypeError",
          "evalue": "pop expected at least 1 argument, got 0",
          "traceback": [
            "\u001b[0;31m---------------------------------------------------------------------------\u001b[0m",
            "\u001b[0;31mTypeError\u001b[0m                                 Traceback (most recent call last)",
            "\u001b[0;32m<ipython-input-67-56050176ef42>\u001b[0m in \u001b[0;36m<cell line: 2>\u001b[0;34m()\u001b[0m\n\u001b[1;32m      1\u001b[0m \u001b[0md\u001b[0m \u001b[0;34m=\u001b[0m \u001b[0;34m{\u001b[0m\u001b[0;34m\"pavani\"\u001b[0m\u001b[0;34m:\u001b[0m \u001b[0;36m55.4\u001b[0m\u001b[0;34m,\u001b[0m \u001b[0;34m\"maira\"\u001b[0m\u001b[0;34m:\u001b[0m \u001b[0;36m46.9\u001b[0m\u001b[0;34m,\u001b[0m \u001b[0;34m\"me\"\u001b[0m\u001b[0;34m:\u001b[0m \u001b[0;36m60.9\u001b[0m\u001b[0;34m}\u001b[0m\u001b[0;34m\u001b[0m\u001b[0;34m\u001b[0m\u001b[0m\n\u001b[0;32m----> 2\u001b[0;31m \u001b[0md\u001b[0m\u001b[0;34m.\u001b[0m\u001b[0mpop\u001b[0m\u001b[0;34m(\u001b[0m\u001b[0;34m)\u001b[0m\u001b[0;34m\u001b[0m\u001b[0;34m\u001b[0m\u001b[0m\n\u001b[0m",
            "\u001b[0;31mTypeError\u001b[0m: pop expected at least 1 argument, got 0"
          ]
        }
      ]
    },
    {
      "cell_type": "code",
      "source": [
        "d = {\"pavani\": 55.4, \"maira\": 46.9, \"me\": 60.9}\n",
        "print(d.pop(\"pavani\"))\n",
        "print(d)\n",
        "#pop removes a value from dict and reurns a value"
      ],
      "metadata": {
        "colab": {
          "base_uri": "https://localhost:8080/"
        },
        "id": "IQrHgLf3r6PG",
        "outputId": "73dd9598-1f48-4ceb-fe8b-6cff517fc6e5"
      },
      "execution_count": null,
      "outputs": [
        {
          "output_type": "stream",
          "name": "stdout",
          "text": [
            "55.4\n",
            "{'maira': 46.9, 'me': 60.9}\n"
          ]
        }
      ]
    },
    {
      "cell_type": "code",
      "source": [
        "d = {\"pavani\": 55.4, \"maira\": 46.9, \"me\": 60.9}\n",
        "print(d.pop(\"hehe\"))\n",
        "print(d)\n",
        "#hehe is not in dict giving key error"
      ],
      "metadata": {
        "colab": {
          "base_uri": "https://localhost:8080/",
          "height": 183
        },
        "id": "znFXuaGqsbEI",
        "outputId": "8aad8b10-8a8b-499c-b660-95a7991984b2"
      },
      "execution_count": null,
      "outputs": [
        {
          "output_type": "error",
          "ename": "KeyError",
          "evalue": "'hehe'",
          "traceback": [
            "\u001b[0;31m---------------------------------------------------------------------------\u001b[0m",
            "\u001b[0;31mKeyError\u001b[0m                                  Traceback (most recent call last)",
            "\u001b[0;32m<ipython-input-72-02206d01c137>\u001b[0m in \u001b[0;36m<cell line: 2>\u001b[0;34m()\u001b[0m\n\u001b[1;32m      1\u001b[0m \u001b[0md\u001b[0m \u001b[0;34m=\u001b[0m \u001b[0;34m{\u001b[0m\u001b[0;34m\"pavani\"\u001b[0m\u001b[0;34m:\u001b[0m \u001b[0;36m55.4\u001b[0m\u001b[0;34m,\u001b[0m \u001b[0;34m\"maira\"\u001b[0m\u001b[0;34m:\u001b[0m \u001b[0;36m46.9\u001b[0m\u001b[0;34m,\u001b[0m \u001b[0;34m\"me\"\u001b[0m\u001b[0;34m:\u001b[0m \u001b[0;36m60.9\u001b[0m\u001b[0;34m}\u001b[0m\u001b[0;34m\u001b[0m\u001b[0;34m\u001b[0m\u001b[0m\n\u001b[0;32m----> 2\u001b[0;31m \u001b[0mprint\u001b[0m\u001b[0;34m(\u001b[0m\u001b[0md\u001b[0m\u001b[0;34m.\u001b[0m\u001b[0mpop\u001b[0m\u001b[0;34m(\u001b[0m\u001b[0;34m\"hehe\"\u001b[0m\u001b[0;34m)\u001b[0m\u001b[0;34m)\u001b[0m\u001b[0;34m\u001b[0m\u001b[0;34m\u001b[0m\u001b[0m\n\u001b[0m\u001b[1;32m      3\u001b[0m \u001b[0mprint\u001b[0m\u001b[0;34m(\u001b[0m\u001b[0md\u001b[0m\u001b[0;34m)\u001b[0m\u001b[0;34m\u001b[0m\u001b[0;34m\u001b[0m\u001b[0m\n",
            "\u001b[0;31mKeyError\u001b[0m: 'hehe'"
          ]
        }
      ]
    },
    {
      "cell_type": "code",
      "source": [
        "#to avoid key error\n",
        "d = {\"pavani\": 55.4, \"maira\": 46.9, \"me\": 60.9}\n",
        "print(d.pop(\"hehe\",\"kiki\")) #if the hehe is not there its taking kiki as default value and it prints\n",
        "print(d)"
      ],
      "metadata": {
        "colab": {
          "base_uri": "https://localhost:8080/"
        },
        "id": "RQVA7h2nsl_N",
        "outputId": "ccd1ef3f-87f2-4ba2-a8b6-1ad252f92057"
      },
      "execution_count": null,
      "outputs": [
        {
          "output_type": "stream",
          "name": "stdout",
          "text": [
            "kiki\n",
            "{'pavani': 55.4, 'maira': 46.9, 'me': 60.9}\n"
          ]
        }
      ]
    },
    {
      "cell_type": "code",
      "source": [
        "#to avoid key error\n",
        "d = {\"pavani\": 55.4, \"maira\": 46.9, \"me\": 60.9}\n",
        "print(d.pop(\"pavani\",\"kiki\")) #if the pavani is  there itprint there own value from dict\n",
        "print(d)\n"
      ],
      "metadata": {
        "colab": {
          "base_uri": "https://localhost:8080/"
        },
        "id": "jcK4xbFDtHjE",
        "outputId": "fa16185f-ebb7-4e28-9fd4-6afd7d498e68"
      },
      "execution_count": null,
      "outputs": [
        {
          "output_type": "stream",
          "name": "stdout",
          "text": [
            "55.4\n",
            "{'maira': 46.9, 'me': 60.9}\n"
          ]
        }
      ]
    },
    {
      "cell_type": "markdown",
      "source": [
        "**popitem()**"
      ],
      "metadata": {
        "id": "PBF3ueUmtUHf"
      }
    },
    {
      "cell_type": "code",
      "source": [
        "d = {\"pavani\": 55.4, \"maira\": 46.9, \"me\": 60.9}\n",
        "d.popitem()\n",
        "#it will print last key:value  pair in dict in the form of tuple"
      ],
      "metadata": {
        "colab": {
          "base_uri": "https://localhost:8080/"
        },
        "id": "T-ea8M0FtWpd",
        "outputId": "2530963b-a7e4-45b9-dbff-bc578d919421"
      },
      "execution_count": null,
      "outputs": [
        {
          "output_type": "execute_result",
          "data": {
            "text/plain": [
              "('me', 60.9)"
            ]
          },
          "metadata": {},
          "execution_count": 79
        }
      ]
    },
    {
      "cell_type": "code",
      "source": [
        "d"
      ],
      "metadata": {
        "colab": {
          "base_uri": "https://localhost:8080/"
        },
        "id": "nto-YaSEtiK3",
        "outputId": "d630c366-ad1b-4947-c8d3-4fe1c3d40788"
      },
      "execution_count": null,
      "outputs": [
        {
          "output_type": "execute_result",
          "data": {
            "text/plain": [
              "{'pavani': 55.4, 'maira': 46.9}"
            ]
          },
          "metadata": {},
          "execution_count": 78
        }
      ]
    },
    {
      "cell_type": "markdown",
      "source": [
        "* pop() returns the value\n",
        "* popitem()  removes  last key vaue pair and returns  that key value pair as a tuple"
      ],
      "metadata": {
        "id": "cnlDr5fkvKeO"
      }
    },
    {
      "cell_type": "code",
      "source": [
        "d = {\"pavani\": 55.4, \"maira\": 46.9, \"me\": 60.9}\n",
        "d.popitem(\"pavani\")\n",
        "#like pop() it doesnt take argument"
      ],
      "metadata": {
        "colab": {
          "base_uri": "https://localhost:8080/",
          "height": 165
        },
        "id": "Q7OZkFgkvdBE",
        "outputId": "b2f57d7b-506f-4c94-b730-718466c51b2a"
      },
      "execution_count": 80,
      "outputs": [
        {
          "output_type": "error",
          "ename": "TypeError",
          "evalue": "dict.popitem() takes no arguments (1 given)",
          "traceback": [
            "\u001b[0;31m---------------------------------------------------------------------------\u001b[0m",
            "\u001b[0;31mTypeError\u001b[0m                                 Traceback (most recent call last)",
            "\u001b[0;32m<ipython-input-80-6d187e724d2f>\u001b[0m in \u001b[0;36m<cell line: 2>\u001b[0;34m()\u001b[0m\n\u001b[1;32m      1\u001b[0m \u001b[0md\u001b[0m \u001b[0;34m=\u001b[0m \u001b[0;34m{\u001b[0m\u001b[0;34m\"pavani\"\u001b[0m\u001b[0;34m:\u001b[0m \u001b[0;36m55.4\u001b[0m\u001b[0;34m,\u001b[0m \u001b[0;34m\"maira\"\u001b[0m\u001b[0;34m:\u001b[0m \u001b[0;36m46.9\u001b[0m\u001b[0;34m,\u001b[0m \u001b[0;34m\"me\"\u001b[0m\u001b[0;34m:\u001b[0m \u001b[0;36m60.9\u001b[0m\u001b[0;34m}\u001b[0m\u001b[0;34m\u001b[0m\u001b[0;34m\u001b[0m\u001b[0m\n\u001b[0;32m----> 2\u001b[0;31m \u001b[0md\u001b[0m\u001b[0;34m.\u001b[0m\u001b[0mpopitem\u001b[0m\u001b[0;34m(\u001b[0m\u001b[0;34m\"pavani\"\u001b[0m\u001b[0;34m)\u001b[0m\u001b[0;34m\u001b[0m\u001b[0;34m\u001b[0m\u001b[0m\n\u001b[0m",
            "\u001b[0;31mTypeError\u001b[0m: dict.popitem() takes no arguments (1 given)"
          ]
        }
      ]
    },
    {
      "cell_type": "code",
      "source": [
        "# Immutable dictionary (NOT FOR GATE)\n",
        "\n",
        "from immutabledict import immutabledict\n",
        "\n",
        "d = immutabledict({\"a\":10, \"b\": 12})\n",
        "\n",
        "print(d)\n",
        "print(type(d))"
      ],
      "metadata": {
        "colab": {
          "base_uri": "https://localhost:8080/"
        },
        "id": "0axs9rDAwG91",
        "outputId": "ae3ad7c2-4051-4d71-cf8d-2934814e3bd2"
      },
      "execution_count": 81,
      "outputs": [
        {
          "output_type": "stream",
          "name": "stdout",
          "text": [
            "immutabledict({'a': 10, 'b': 12})\n",
            "<class 'immutabledict.immutabledict'>\n"
          ]
        }
      ]
    },
    {
      "cell_type": "code",
      "source": [
        "d[\"a\"]"
      ],
      "metadata": {
        "colab": {
          "base_uri": "https://localhost:8080/"
        },
        "id": "Q7PKvMmFwM_2",
        "outputId": "453ffb3f-04c3-4ba6-efd6-b5e7e6493bbe"
      },
      "execution_count": 83,
      "outputs": [
        {
          "output_type": "execute_result",
          "data": {
            "text/plain": [
              "10"
            ]
          },
          "metadata": {},
          "execution_count": 83
        }
      ]
    },
    {
      "cell_type": "code",
      "source": [
        "d[\"a\"]=100\n",
        "print(d)"
      ],
      "metadata": {
        "colab": {
          "base_uri": "https://localhost:8080/",
          "height": 165
        },
        "id": "tN7IpJtnwSLe",
        "outputId": "ae64558f-3890-48c3-aeec-43e7737685e4"
      },
      "execution_count": 84,
      "outputs": [
        {
          "output_type": "error",
          "ename": "TypeError",
          "evalue": "'immutabledict' object does not support item assignment",
          "traceback": [
            "\u001b[0;31m---------------------------------------------------------------------------\u001b[0m",
            "\u001b[0;31mTypeError\u001b[0m                                 Traceback (most recent call last)",
            "\u001b[0;32m<ipython-input-84-6ceb9b4adeb0>\u001b[0m in \u001b[0;36m<cell line: 1>\u001b[0;34m()\u001b[0m\n\u001b[0;32m----> 1\u001b[0;31m \u001b[0md\u001b[0m\u001b[0;34m[\u001b[0m\u001b[0;34m\"a\"\u001b[0m\u001b[0;34m]\u001b[0m\u001b[0;34m=\u001b[0m\u001b[0;36m100\u001b[0m\u001b[0;34m\u001b[0m\u001b[0;34m\u001b[0m\u001b[0m\n\u001b[0m\u001b[1;32m      2\u001b[0m \u001b[0mprint\u001b[0m\u001b[0;34m(\u001b[0m\u001b[0md\u001b[0m\u001b[0;34m)\u001b[0m\u001b[0;34m\u001b[0m\u001b[0;34m\u001b[0m\u001b[0m\n",
            "\u001b[0;31mTypeError\u001b[0m: 'immutabledict' object does not support item assignment"
          ]
        }
      ]
    }
  ],
  "metadata": {
    "colab": {
      "provenance": [],
      "authorship_tag": "ABX9TyMMsEOg1h390YKK6qXVGviJ",
      "include_colab_link": true
    },
    "kernelspec": {
      "display_name": "Python 3",
      "name": "python3"
    },
    "language_info": {
      "name": "python"
    }
  },
  "nbformat": 4,
  "nbformat_minor": 0
}