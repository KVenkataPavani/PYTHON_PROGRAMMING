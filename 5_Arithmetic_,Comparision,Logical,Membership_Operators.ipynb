{
  "nbformat": 4,
  "nbformat_minor": 0,
  "metadata": {
    "colab": {
      "provenance": [],
      "authorship_tag": "ABX9TyO+il5v1IbquMMSIeJqwbCL",
      "include_colab_link": true
    },
    "kernelspec": {
      "name": "python3",
      "display_name": "Python 3"
    },
    "language_info": {
      "name": "python"
    }
  },
  "cells": [
    {
      "cell_type": "markdown",
      "metadata": {
        "id": "view-in-github",
        "colab_type": "text"
      },
      "source": [
        "<a href=\"https://colab.research.google.com/github/KVenkataPavani/PYTHON_PROGRAMMING/blob/main/5_Arithmetic_%2CComparision%2CLogical%2CMembership_Operators.ipynb\" target=\"_parent\"><img src=\"https://colab.research.google.com/assets/colab-badge.svg\" alt=\"Open In Colab\"/></a>"
      ]
    },
    {
      "cell_type": "markdown",
      "source": [
        "# Arithmetic Operators"
      ],
      "metadata": {
        "id": "0NLhiBlF7Okq"
      }
    },
    {
      "cell_type": "code",
      "source": [
        "A = 9\n",
        "B = 5\n",
        "print(\"Addition A+B =\", A+B)\n",
        "print(\"Subtraction A-B =\", A-B)\n",
        "print(\"Multiplication A*B =\", A*B)\n",
        "print(\"Division A/B =\", A/B)\n",
        "print(\"Modulo A%B =\", A%B) #gives remainder\n",
        "print(\"Floor A//B =\", A//B) # less number wen we get positive\n",
        "print(\"Floor -A//B =\", -A//B) # greater number we we get negative 1.8 ~ -1 no -2 we take bcz -1 > -2 in floor div we take lesser one so -2\n",
        "print(\"Exponent A**B =\", A**B)"
      ],
      "metadata": {
        "colab": {
          "base_uri": "https://localhost:8080/"
        },
        "id": "wx4d9zXi7TOU",
        "outputId": "720b0f3f-a0a0-46fc-c652-a0e37353069b"
      },
      "execution_count": null,
      "outputs": [
        {
          "output_type": "stream",
          "name": "stdout",
          "text": [
            "Addition A+B = 14\n",
            "Subtraction A-B = 4\n",
            "Multiplication A*B = 45\n",
            "Division A/B = 1.8\n",
            "Modulo A%B = 4\n",
            "Floor A//B = 1\n",
            "Floor -A//B = -2\n",
            "Exponent A**B = 59049\n"
          ]
        }
      ]
    },
    {
      "cell_type": "code",
      "source": [
        "print(10//3)\n",
        "print(-10//3)"
      ],
      "metadata": {
        "colab": {
          "base_uri": "https://localhost:8080/"
        },
        "id": "rRaFzocG-zzI",
        "outputId": "4f4d8d1b-ac21-46c1-f422-6c05c18ee9f1"
      },
      "execution_count": null,
      "outputs": [
        {
          "output_type": "stream",
          "name": "stdout",
          "text": [
            "3\n",
            "-4\n"
          ]
        }
      ]
    },
    {
      "cell_type": "markdown",
      "source": [
        "Modulo"
      ],
      "metadata": {
        "id": "inuZe1UtBhPr"
      }
    },
    {
      "cell_type": "code",
      "source": [
        "12.5%7.5"
      ],
      "metadata": {
        "colab": {
          "base_uri": "https://localhost:8080/"
        },
        "id": "QNo41_A4_B5-",
        "outputId": "e72c5da4-9c1e-4ac4-b47b-abb18ea679ee"
      },
      "execution_count": null,
      "outputs": [
        {
          "output_type": "execute_result",
          "data": {
            "text/plain": [
              "5.0"
            ]
          },
          "metadata": {},
          "execution_count": 11
        }
      ]
    },
    {
      "cell_type": "code",
      "source": [
        "5%2"
      ],
      "metadata": {
        "colab": {
          "base_uri": "https://localhost:8080/"
        },
        "id": "QZ9MnkI9_ltn",
        "outputId": "93ace02f-81e3-4092-f0ef-6a350cadb395"
      },
      "execution_count": null,
      "outputs": [
        {
          "output_type": "execute_result",
          "data": {
            "text/plain": [
              "1"
            ]
          },
          "metadata": {},
          "execution_count": 13
        }
      ]
    },
    {
      "cell_type": "code",
      "source": [
        "5.6%2.0\n"
      ],
      "metadata": {
        "colab": {
          "base_uri": "https://localhost:8080/"
        },
        "id": "aXTG9yyZBm16",
        "outputId": "5b9afe8b-e535-4038-dbe6-f758bbc9044e"
      },
      "execution_count": null,
      "outputs": [
        {
          "output_type": "execute_result",
          "data": {
            "text/plain": [
              "1.5999999999999996"
            ]
          },
          "metadata": {},
          "execution_count": 16
        }
      ]
    },
    {
      "cell_type": "markdown",
      "source": [
        "#**Comparision Operators**  **== | != | >= | <= | > | <**\n"
      ],
      "metadata": {
        "id": "RmQz6cZ_B5Fy"
      }
    },
    {
      "cell_type": "code",
      "source": [
        "A = 9\n",
        "B = 5\n",
        "print(\"A==B =\", A==B)\n",
        "print(\"A!=B =\", A!=B)\n",
        "print(\"A>=B =\", A>=B)\n",
        "print(\"A<=B =\", A<=B)\n",
        "print(\"A>B =\", A>B)\n",
        "print(\"A<B =\", A<B)"
      ],
      "metadata": {
        "colab": {
          "base_uri": "https://localhost:8080/"
        },
        "id": "0v4_wV7jB9qK",
        "outputId": "e60617a5-d2b9-424a-dedb-e5de6f7f506a"
      },
      "execution_count": null,
      "outputs": [
        {
          "output_type": "stream",
          "name": "stdout",
          "text": [
            "A==B = False\n",
            "A!=B = True\n",
            "A>=B = True\n",
            "A<=B = False\n",
            "A>B = True\n",
            "A<B = False\n"
          ]
        }
      ]
    },
    {
      "cell_type": "code",
      "source": [
        "print(0==0.0)\n",
        "print(0==0)\n",
        "print(1==1.0)\n",
        "print(1==True)\n",
        "print(0==False)\n",
        "print(0.0==False)\n",
        "print(1.0==True)\n",
        "\n",
        "#0 =false , 1= true\n"
      ],
      "metadata": {
        "colab": {
          "base_uri": "https://localhost:8080/"
        },
        "id": "yrNaT_IMCwn-",
        "outputId": "101ebb74-d046-4a6f-9c84-871523a92b6b"
      },
      "execution_count": null,
      "outputs": [
        {
          "output_type": "stream",
          "name": "stdout",
          "text": [
            "True\n",
            "True\n",
            "True\n",
            "True\n",
            "True\n",
            "True\n",
            "True\n"
          ]
        }
      ]
    },
    {
      "cell_type": "markdown",
      "source": [
        "# **LOGICAL OPERATORS**  - AND | OR | NOT"
      ],
      "metadata": {
        "id": "GM79EKnTDTji"
      }
    },
    {
      "cell_type": "code",
      "source": [
        "x = 2\n",
        "y = 4\n",
        "print(x>1 and y<12)\n",
        "print(x>4 and y<10)\n",
        "print(x>6 and y<10)\n",
        "print(x>6 and y<12)\n",
        "print(x>4 or y<12)\n",
        "print(x>4 or y<10)\n",
        "print(x>6 or y<10)\n",
        "print(x>6 or y<12)"
      ],
      "metadata": {
        "colab": {
          "base_uri": "https://localhost:8080/"
        },
        "id": "7l-kkIlCDfaq",
        "outputId": "2956a7e5-3e9b-4876-be17-8a6967980168"
      },
      "execution_count": null,
      "outputs": [
        {
          "output_type": "stream",
          "name": "stdout",
          "text": [
            "True\n",
            "False\n",
            "False\n",
            "False\n",
            "True\n",
            "True\n",
            "True\n",
            "True\n"
          ]
        }
      ]
    },
    {
      "cell_type": "code",
      "source": [
        "a = 1\n",
        "b=3\n",
        "c=5\n",
        "#Since all are truthy, the last value (c = 5) is returned.\n",
        "print(a and b and c)\n",
        "\n",
        "#a and b truthy so end value 3 will be taken\n",
        "#3 or c is evaluated. Since 3 is truthy, it is returned.\n",
        "print(a and b or c)\n",
        "\n",
        "#a is 1 (truthy), so b and c are not evaluated.\n",
        "#The first truthy value (1) is returned.\n",
        "\n",
        "print(a or b or c)\n",
        "\n",
        "#b and c is evaluated first. Since both are truthy, it returns c (which is 5).\n",
        "#Then, a or 5 is evaluated. Since a is 1 (truthy), it is returned.\n",
        "print(a or b and c)\n",
        "\n",
        "#or comes 1st that value gets printed if and comes end truthy value will get printed"
      ],
      "metadata": {
        "colab": {
          "base_uri": "https://localhost:8080/"
        },
        "id": "gDirV4bHEUrM",
        "outputId": "4c620d70-356e-43bb-9135-14e86ccb06fe"
      },
      "execution_count": null,
      "outputs": [
        {
          "output_type": "stream",
          "name": "stdout",
          "text": [
            "5\n",
            "3\n",
            "1\n",
            "1\n"
          ]
        }
      ]
    },
    {
      "cell_type": "code",
      "source": [
        "a = 0\n",
        "b = 0\n",
        "c = 12\n",
        "\n",
        "print(a or b or c)\n",
        "# a is 0 (falsy), so it moves to b.\n",
        "# b is 0 (falsy), so it moves to c.\n",
        "# c is 12 (truthy), so 12 is returned.\n",
        "print(not(a or b or c))\n"
      ],
      "metadata": {
        "colab": {
          "base_uri": "https://localhost:8080/"
        },
        "id": "icwyrBB8GFPv",
        "outputId": "6109d53b-280b-4f21-cedc-1884a6345cf2"
      },
      "execution_count": null,
      "outputs": [
        {
          "output_type": "stream",
          "name": "stdout",
          "text": [
            "12\n",
            "False\n"
          ]
        }
      ]
    },
    {
      "cell_type": "code",
      "source": [
        "\n",
        "a = -1\n",
        "b = -2\n",
        "c = -3\n",
        "#if everything is truthy values so in or 1st truth value will be output\n",
        "# a is -1, which is truthy, so the evaluation stops here.\n",
        "# The result is -1.\n",
        "print(a or b or c)\n",
        "\n",
        "##if everything is truthy values so in and last truth value will be output\n",
        "# a is -1 (truthy), so it moves to b.\n",
        "# b is -2 (truthy), so it moves to c.\n",
        "# c is -3 (truthy), and since it's the last value, c is returned.\n",
        "print(a and b and c)"
      ],
      "metadata": {
        "colab": {
          "base_uri": "https://localhost:8080/"
        },
        "id": "4R7aWDD9Gnrq",
        "outputId": "a1ce9eda-34c1-48ac-c9a3-6feeddc46ea8"
      },
      "execution_count": null,
      "outputs": [
        {
          "output_type": "stream",
          "name": "stdout",
          "text": [
            "-1\n",
            "-3\n"
          ]
        }
      ]
    },
    {
      "cell_type": "code",
      "source": [
        "a = 1\n",
        "b=3\n",
        "c=0\n",
        "#why 0 output not 3 bcz\n",
        "#The and operator returns the first falsy value it encounters, or the last value if all are truthy.\n",
        "print(a and b and c)\n",
        "\n",
        "#This expression is a combination of and and or. According to Python's operator precedence, and is evaluated before or.and The or operator returns the first truthy value it encounters.\n",
        "print(a and b or c)\n",
        "\n",
        "#The or operator returns the first truthy value it encounters.\n",
        "print(a or b or c)\n",
        "\n",
        "# due to operator precedence, b and c is evaluated first, followed by a or (result of b and c)\n",
        "#Then, a or 0 is evaluated. Since a is 1 (truthy), it is returned.\n",
        "print(a or b and c)"
      ],
      "metadata": {
        "colab": {
          "base_uri": "https://localhost:8080/"
        },
        "id": "nfzp5VFMHCT7",
        "outputId": "7fbc2ea6-159d-41ab-e2cd-a8a81dd3cdfe"
      },
      "execution_count": null,
      "outputs": [
        {
          "output_type": "stream",
          "name": "stdout",
          "text": [
            "0\n",
            "3\n",
            "1\n",
            "1\n"
          ]
        }
      ]
    },
    {
      "cell_type": "markdown",
      "source": [
        "# MEMBERSHIP OPERATORS - in | not in"
      ],
      "metadata": {
        "id": "_IlMYTStJaxX"
      }
    },
    {
      "cell_type": "code",
      "source": [
        "name = [\"p\",\"a\",\"v\",\"a\",\"n\",\"i\"]\n",
        "print(\"n\" in name)\n",
        "print(\"k\" in name)\n",
        "print(\"p\" in name, end=\"\\n\\n\")\n",
        "print(\"n\" not in name)\n",
        "print(\"k\" not in name)\n",
        "print(\"p\" not in name)\n",
        "\n",
        "\n"
      ],
      "metadata": {
        "colab": {
          "base_uri": "https://localhost:8080/"
        },
        "id": "EtkW8uViJkIi",
        "outputId": "a9f715d9-1973-41e2-8461-83dd8595f529"
      },
      "execution_count": null,
      "outputs": [
        {
          "output_type": "stream",
          "name": "stdout",
          "text": [
            "True\n",
            "False\n",
            "True\n",
            "\n",
            "False\n",
            "True\n",
            "False\n"
          ]
        }
      ]
    }
  ]
}