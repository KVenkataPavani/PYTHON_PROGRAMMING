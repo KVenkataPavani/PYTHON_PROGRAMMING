{
  "nbformat": 4,
  "nbformat_minor": 0,
  "metadata": {
    "colab": {
      "provenance": [],
      "authorship_tag": "ABX9TyNHhpNbEH22Z+JcunIUUmVW",
      "include_colab_link": true
    },
    "kernelspec": {
      "name": "python3",
      "display_name": "Python 3"
    },
    "language_info": {
      "name": "python"
    }
  },
  "cells": [
    {
      "cell_type": "markdown",
      "metadata": {
        "id": "view-in-github",
        "colab_type": "text"
      },
      "source": [
        "<a href=\"https://colab.research.google.com/github/KVenkataPavani/PYTHON_PROGRAMMING/blob/main/1_Variables_and_Datatypes.ipynb\" target=\"_parent\"><img src=\"https://colab.research.google.com/assets/colab-badge.svg\" alt=\"Open In Colab\"/></a>"
      ]
    },
    {
      "cell_type": "markdown",
      "source": [
        "# PRINT STATEMENT"
      ],
      "metadata": {
        "id": "YBSXhfqmZL3-"
      }
    },
    {
      "cell_type": "code",
      "source": [
        "print(\"Hellom\")"
      ],
      "metadata": {
        "colab": {
          "base_uri": "https://localhost:8080/"
        },
        "id": "UbvRaR3OZTbF",
        "outputId": "2702f1c1-9804-4c71-bef7-19b726edeae8"
      },
      "execution_count": null,
      "outputs": [
        {
          "output_type": "stream",
          "name": "stdout",
          "text": [
            "Hello\n"
          ]
        }
      ]
    },
    {
      "cell_type": "code",
      "source": [
        "print(\"hello\")\n",
        "print(\"pavani\")"
      ],
      "metadata": {
        "colab": {
          "base_uri": "https://localhost:8080/"
        },
        "id": "ATdCCW3IZgOy",
        "outputId": "54d872d4-2157-4ce9-ea53-87981f2e5881"
      },
      "execution_count": null,
      "outputs": [
        {
          "output_type": "stream",
          "name": "stdout",
          "text": [
            "hello\n",
            "pavani\n"
          ]
        }
      ]
    },
    {
      "cell_type": "markdown",
      "source": [
        "\n",
        "\n",
        "---\n",
        "\n"
      ],
      "metadata": {
        "id": "KXNHbQj5d47J"
      }
    },
    {
      "cell_type": "markdown",
      "source": [
        "# Use of - \"end\""
      ],
      "metadata": {
        "id": "gN5BgHHBa0Lv"
      }
    },
    {
      "cell_type": "code",
      "source": [
        "print(\"hello\",end='')\n",
        "print(\"pavani\")"
      ],
      "metadata": {
        "colab": {
          "base_uri": "https://localhost:8080/"
        },
        "id": "0aSssNAjZwQw",
        "outputId": "11f4f960-353a-4a06-951c-47b18e38b508"
      },
      "execution_count": null,
      "outputs": [
        {
          "output_type": "stream",
          "name": "stdout",
          "text": [
            "hellopavani\n"
          ]
        }
      ]
    },
    {
      "cell_type": "code",
      "source": [
        "print(\"hello\",end='\\n')\n",
        "print(\"pavani\")"
      ],
      "metadata": {
        "colab": {
          "base_uri": "https://localhost:8080/"
        },
        "id": "K-CWlW64aty4",
        "outputId": "adf047f1-25a9-46cb-8d6c-2330a8cc3878"
      },
      "execution_count": null,
      "outputs": [
        {
          "output_type": "stream",
          "name": "stdout",
          "text": [
            "hello\n",
            "pavani\n"
          ]
        }
      ]
    },
    {
      "cell_type": "code",
      "source": [
        "print(\"Hai\"\\n)\n",
        "print(\"Pavani\")"
      ],
      "metadata": {
        "colab": {
          "base_uri": "https://localhost:8080/",
          "height": 106
        },
        "id": "aTVyIIeZbQAQ",
        "outputId": "1a77fbe2-47ba-4ead-f6b5-a63f4ccea70c"
      },
      "execution_count": null,
      "outputs": [
        {
          "output_type": "error",
          "ename": "SyntaxError",
          "evalue": "unexpected character after line continuation character (<ipython-input-11-e3f235427874>, line 1)",
          "traceback": [
            "\u001b[0;36m  File \u001b[0;32m\"<ipython-input-11-e3f235427874>\"\u001b[0;36m, line \u001b[0;32m1\u001b[0m\n\u001b[0;31m    print(\"Hai\"\\n)\u001b[0m\n\u001b[0m                ^\u001b[0m\n\u001b[0;31mSyntaxError\u001b[0m\u001b[0;31m:\u001b[0m unexpected character after line continuation character\n"
          ]
        }
      ]
    },
    {
      "cell_type": "code",
      "source": [
        "#\\n have to give inside double quotes and\n",
        "# in output it gives 1 line space between print statments\n",
        "print(\"Hai\\n\")\n",
        "print(\"Pavani\")"
      ],
      "metadata": {
        "colab": {
          "base_uri": "https://localhost:8080/"
        },
        "id": "AMHszzjBbeRI",
        "outputId": "bb6577c7-4585-482f-c7fd-1b8f979b905d"
      },
      "execution_count": null,
      "outputs": [
        {
          "output_type": "stream",
          "name": "stdout",
          "text": [
            "Hai\n",
            "\n",
            "Pavani\n"
          ]
        }
      ]
    },
    {
      "cell_type": "markdown",
      "source": [
        "\n",
        "\n",
        "---\n",
        "\n"
      ],
      "metadata": {
        "id": "CE_a1aLAd_JK"
      }
    },
    {
      "cell_type": "markdown",
      "source": [
        "# 'sep' UseCase"
      ],
      "metadata": {
        "id": "yNG1e-KfcPd3"
      }
    },
    {
      "cell_type": "code",
      "source": [
        "print(\"pavani\"\"is\"\"good\")\n",
        "# if we dont give any seperator in print statements it will combine all"
      ],
      "metadata": {
        "colab": {
          "base_uri": "https://localhost:8080/"
        },
        "id": "d-Evo2UAcV56",
        "outputId": "182810f0-f3cc-432f-8bdb-13243923914f"
      },
      "execution_count": null,
      "outputs": [
        {
          "output_type": "stream",
          "name": "stdout",
          "text": [
            "pavaniisgood\n"
          ]
        }
      ]
    },
    {
      "cell_type": "code",
      "source": [
        "print(\"pavani\",\"is\",\"good\")\n"
      ],
      "metadata": {
        "colab": {
          "base_uri": "https://localhost:8080/"
        },
        "id": "cIjqn8HQc2OM",
        "outputId": "c16f66ee-92e7-45ed-e95b-5398396e00a3"
      },
      "execution_count": null,
      "outputs": [
        {
          "output_type": "stream",
          "name": "stdout",
          "text": [
            "pavani is good\n"
          ]
        }
      ]
    },
    {
      "cell_type": "code",
      "source": [
        "#if you dont want space add\n",
        "# sep=\"\"  at end\n",
        "print(\"pavani\",\"is\",\"good\",sep=\"\")\n",
        "print(\"pavani\",\"is\",\"good\",sep=\"___\")\n",
        "print(\"pavani\",\"is\",\"good\",sep=\"\\n\")\n",
        "print(\"pavani\",\"is\",\"good\",sep=\"*\")"
      ],
      "metadata": {
        "colab": {
          "base_uri": "https://localhost:8080/"
        },
        "id": "abrWEjJBc_Ug",
        "outputId": "f4651c0c-e006-434c-9c90-6c58170b6183"
      },
      "execution_count": null,
      "outputs": [
        {
          "output_type": "stream",
          "name": "stdout",
          "text": [
            "pavaniisgood\n",
            "pavani___is___good\n",
            "pavani\n",
            "is\n",
            "good\n",
            "pavani*is*good\n"
          ]
        }
      ]
    },
    {
      "cell_type": "markdown",
      "source": [
        "\n",
        "\n",
        "---\n",
        "\n"
      ],
      "metadata": {
        "id": "hyf2-9Y6dw-E"
      }
    },
    {
      "cell_type": "markdown",
      "source": [
        "#**VARIABLES**\n",
        "\n",
        "*   Variables are case sensitive i.e name,Name,NAME are different\n",
        "*   we dont need to declare them before and also data type also\n",
        "\n",
        "###**Rules**\n",
        "\n",
        "\n",
        "*   starts wid letter or _\n",
        "*   cannot start with number\n",
        "*   only contain alphanumeric characters and underscore\n",
        "\n",
        "\n",
        "\n"
      ],
      "metadata": {
        "id": "G7PVAfpydnTC"
      }
    },
    {
      "cell_type": "code",
      "source": [
        "print(2+3)\n",
        "id(2+3)"
      ],
      "metadata": {
        "colab": {
          "base_uri": "https://localhost:8080/"
        },
        "id": "frdJoTG8e0T0",
        "outputId": "67e3b808-4907-47d5-b54a-81c43690d89b"
      },
      "execution_count": null,
      "outputs": [
        {
          "output_type": "stream",
          "name": "stdout",
          "text": [
            "5\n"
          ]
        },
        {
          "output_type": "execute_result",
          "data": {
            "text/plain": [
              "137751240360304"
            ]
          },
          "metadata": {},
          "execution_count": 24
        }
      ]
    },
    {
      "cell_type": "code",
      "source": [
        "value=5\n",
        "id(value)"
      ],
      "metadata": {
        "colab": {
          "base_uri": "https://localhost:8080/"
        },
        "id": "78dI4VGEkq4G",
        "outputId": "97fa1635-44fd-4a91-e5bf-0faf94bbf1c0"
      },
      "execution_count": null,
      "outputs": [
        {
          "output_type": "execute_result",
          "data": {
            "text/plain": [
              "137751240360304"
            ]
          },
          "metadata": {},
          "execution_count": 22
        }
      ]
    },
    {
      "cell_type": "markdown",
      "source": [
        "to know the address of variable we give **id()** \\\\\n",
        "to know type of the variable we give **type()**"
      ],
      "metadata": {
        "id": "40puWF_klVs8"
      }
    },
    {
      "cell_type": "code",
      "source": [
        "\n",
        "print(id(5))\n",
        "print(type(5))"
      ],
      "metadata": {
        "colab": {
          "base_uri": "https://localhost:8080/"
        },
        "id": "kMC9rUEuk7Yl",
        "outputId": "974cef59-9b42-4420-dd10-a23eb0d2cf51"
      },
      "execution_count": null,
      "outputs": [
        {
          "output_type": "stream",
          "name": "stdout",
          "text": [
            "137751240360304\n",
            "<class 'int'>\n"
          ]
        }
      ]
    },
    {
      "cell_type": "markdown",
      "source": [
        "**KEYWORDS**"
      ],
      "metadata": {
        "id": "FwmlrLLEnJnS"
      }
    },
    {
      "cell_type": "code",
      "source": [
        "#. Import the module and use the function called kwlist.\n",
        "import keyword\n",
        "keyword.kwlist"
      ],
      "metadata": {
        "colab": {
          "base_uri": "https://localhost:8080/"
        },
        "id": "Z6xqk9e0k1fE",
        "outputId": "08cf44ae-0395-4ac3-fbf0-22979100bba5"
      },
      "execution_count": null,
      "outputs": [
        {
          "output_type": "execute_result",
          "data": {
            "text/plain": [
              "['False',\n",
              " 'None',\n",
              " 'True',\n",
              " 'and',\n",
              " 'as',\n",
              " 'assert',\n",
              " 'async',\n",
              " 'await',\n",
              " 'break',\n",
              " 'class',\n",
              " 'continue',\n",
              " 'def',\n",
              " 'del',\n",
              " 'elif',\n",
              " 'else',\n",
              " 'except',\n",
              " 'finally',\n",
              " 'for',\n",
              " 'from',\n",
              " 'global',\n",
              " 'if',\n",
              " 'import',\n",
              " 'in',\n",
              " 'is',\n",
              " 'lambda',\n",
              " 'nonlocal',\n",
              " 'not',\n",
              " 'or',\n",
              " 'pass',\n",
              " 'raise',\n",
              " 'return',\n",
              " 'try',\n",
              " 'while',\n",
              " 'with',\n",
              " 'yield']"
            ]
          },
          "metadata": {},
          "execution_count": 28
        }
      ]
    },
    {
      "cell_type": "code",
      "source": [
        "len(keyword.kwlist)"
      ],
      "metadata": {
        "colab": {
          "base_uri": "https://localhost:8080/"
        },
        "id": "Ech1Ccu8ruCb",
        "outputId": "630824f6-98b3-4c38-c398-f98192c477eb"
      },
      "execution_count": null,
      "outputs": [
        {
          "output_type": "execute_result",
          "data": {
            "text/plain": [
              "35"
            ]
          },
          "metadata": {},
          "execution_count": 41
        }
      ]
    },
    {
      "cell_type": "markdown",
      "source": [
        "**using semicoln**\n"
      ],
      "metadata": {
        "id": "4ChnjzCqosmP"
      }
    },
    {
      "cell_type": "code",
      "source": [
        "print(\"pavani\")\n",
        "print(\"pavani\");"
      ],
      "metadata": {
        "colab": {
          "base_uri": "https://localhost:8080/"
        },
        "id": "4Jx7dSZbn-mE",
        "outputId": "ba9cff4c-4d12-4804-981a-33a23ff1ceaa"
      },
      "execution_count": null,
      "outputs": [
        {
          "output_type": "stream",
          "name": "stdout",
          "text": [
            "pavani\n",
            "pavani\n"
          ]
        }
      ]
    },
    {
      "cell_type": "code",
      "source": [
        "print(\"hello\") print(\"pavani\")\n"
      ],
      "metadata": {
        "colab": {
          "base_uri": "https://localhost:8080/",
          "height": 106
        },
        "id": "9Jfcr9bWoONs",
        "outputId": "8d464d61-e293-4f8a-c854-cfeaf12078a2"
      },
      "execution_count": null,
      "outputs": [
        {
          "output_type": "error",
          "ename": "SyntaxError",
          "evalue": "invalid syntax (<ipython-input-35-5d9c9a79abf8>, line 1)",
          "traceback": [
            "\u001b[0;36m  File \u001b[0;32m\"<ipython-input-35-5d9c9a79abf8>\"\u001b[0;36m, line \u001b[0;32m1\u001b[0m\n\u001b[0;31m    print(\"hello\") print(\"pavani\")\u001b[0m\n\u001b[0m                   ^\u001b[0m\n\u001b[0;31mSyntaxError\u001b[0m\u001b[0;31m:\u001b[0m invalid syntax\n"
          ]
        }
      ]
    },
    {
      "cell_type": "markdown",
      "source": [
        "**we have to use semicolon if we use multiple print in same line**"
      ],
      "metadata": {
        "id": "KsHKp6o8o2po"
      }
    },
    {
      "cell_type": "markdown",
      "source": [
        "print(\"hello\"); print(\"pavani\")"
      ],
      "metadata": {
        "id": "BcuU0QI7ocJE"
      }
    },
    {
      "cell_type": "markdown",
      "source": [
        "**Indentation**\n",
        "***all Print statements must be in same indent ***"
      ],
      "metadata": {
        "id": "b3l1YX4NpBKo"
      }
    },
    {
      "cell_type": "code",
      "source": [
        "print(\"pavani\")\n",
        "    print(\"maira\")"
      ],
      "metadata": {
        "colab": {
          "base_uri": "https://localhost:8080/",
          "height": 106
        },
        "id": "CIxogwMqpcgn",
        "outputId": "d126a5e9-674c-48df-da26-f16158bc2d55"
      },
      "execution_count": null,
      "outputs": [
        {
          "output_type": "error",
          "ename": "IndentationError",
          "evalue": "unexpected indent (<ipython-input-37-4d2a3848ac5b>, line 2)",
          "traceback": [
            "\u001b[0;36m  File \u001b[0;32m\"<ipython-input-37-4d2a3848ac5b>\"\u001b[0;36m, line \u001b[0;32m2\u001b[0m\n\u001b[0;31m    print(\"maira\")\u001b[0m\n\u001b[0m    ^\u001b[0m\n\u001b[0;31mIndentationError\u001b[0m\u001b[0;31m:\u001b[0m unexpected indent\n"
          ]
        }
      ]
    },
    {
      "cell_type": "markdown",
      "source": [
        "**Space not allowed while declaring the variables**"
      ],
      "metadata": {
        "id": "70pisqNsp5o6"
      }
    },
    {
      "cell_type": "code",
      "source": [
        "my birthday =\"is on 17th july\"\n",
        "print(\"my birthday\")"
      ],
      "metadata": {
        "colab": {
          "base_uri": "https://localhost:8080/",
          "height": 106
        },
        "id": "V6-wjh6XqDn4",
        "outputId": "7d2605ce-598c-4a32-ff3b-3b43f1e47c1b"
      },
      "execution_count": null,
      "outputs": [
        {
          "output_type": "error",
          "ename": "SyntaxError",
          "evalue": "invalid syntax (<ipython-input-38-f51f594740f6>, line 1)",
          "traceback": [
            "\u001b[0;36m  File \u001b[0;32m\"<ipython-input-38-f51f594740f6>\"\u001b[0;36m, line \u001b[0;32m1\u001b[0m\n\u001b[0;31m    my birthday =\"is on 17th july\"\u001b[0m\n\u001b[0m       ^\u001b[0m\n\u001b[0;31mSyntaxError\u001b[0m\u001b[0;31m:\u001b[0m invalid syntax\n"
          ]
        }
      ]
    },
    {
      "cell_type": "code",
      "source": [
        "my_birthday =\"is on 17th july\"\n",
        "print(\"my_birthday\")\n",
        "#if we keep \"\" in print after declaring variables it will print exact wat we gave in quotes so we shld give"
      ],
      "metadata": {
        "colab": {
          "base_uri": "https://localhost:8080/"
        },
        "id": "j21StoC6qNVf",
        "outputId": "6babcd2b-78f1-4e14-87f1-8def5e18c91a"
      },
      "execution_count": null,
      "outputs": [
        {
          "output_type": "stream",
          "name": "stdout",
          "text": [
            "my_birthday\n"
          ]
        }
      ]
    },
    {
      "cell_type": "code",
      "source": [
        "my_birthday =\"is on 17th july\"\n",
        "print(my_birthday)"
      ],
      "metadata": {
        "colab": {
          "base_uri": "https://localhost:8080/"
        },
        "id": "JC5yWiaSqgCJ",
        "outputId": "410db1da-eaee-43db-9f67-1f199ae3f5be"
      },
      "execution_count": null,
      "outputs": [
        {
          "output_type": "stream",
          "name": "stdout",
          "text": [
            "is on 17th july\n"
          ]
        }
      ]
    },
    {
      "cell_type": "code",
      "source": [
        "name = \"pavani\"\n",
        "address=\"Ashok Nagar\"\n",
        "city=\"kurnool\"\n",
        "print(len(name))\n",
        "print(address)"
      ],
      "metadata": {
        "colab": {
          "base_uri": "https://localhost:8080/"
        },
        "id": "3XC_NA08sD_T",
        "outputId": "a66418b0-36f6-4cad-ec7e-006917d25fa3"
      },
      "execution_count": null,
      "outputs": [
        {
          "output_type": "stream",
          "name": "stdout",
          "text": [
            "6\n",
            "Ashok Nagar\n"
          ]
        }
      ]
    },
    {
      "cell_type": "markdown",
      "source": [
        "    COMMENTS\n"
      ],
      "metadata": {
        "id": "QcEqJjIwsmFT"
      }
    },
    {
      "cell_type": "code",
      "source": [
        "# for single line comments\n",
        "# \"\"\" triple quotes for Multiline comments \"\"\"\n",
        "# '''  multiline comments '''"
      ],
      "metadata": {
        "id": "aZSVYxYispyc"
      },
      "execution_count": null,
      "outputs": []
    },
    {
      "cell_type": "code",
      "source": [
        "\"\"\"\n",
        "this is multiline commands\n",
        "\"\"\"\n",
        "'''\n",
        "these are also multi\n",
        "line c\n",
        "comments\n",
        "'''\n",
        "\n",
        "print(\"comments\")"
      ],
      "metadata": {
        "colab": {
          "base_uri": "https://localhost:8080/"
        },
        "id": "xIDlCsOXtgFl",
        "outputId": "75d6fad6-f673-4eef-c0a7-de1b1a84b401"
      },
      "execution_count": null,
      "outputs": [
        {
          "output_type": "stream",
          "name": "stdout",
          "text": [
            "comments\n"
          ]
        }
      ]
    },
    {
      "cell_type": "markdown",
      "source": [
        "\n",
        "---"
      ],
      "metadata": {
        "id": "BxPslU8hvYIH"
      }
    },
    {
      "cell_type": "markdown",
      "source": [
        "  **DATA** **TYPES**"
      ],
      "metadata": {
        "id": "QjGQUjAJvNfM"
      }
    },
    {
      "cell_type": "code",
      "source": [
        "#TEXT DT -- STRING\n",
        "introduce_urself = \"Hello ,This is Pavani KV\"\n",
        "wats_ur_age = \"I'm 25 years old\"\n",
        "\n",
        "print(introduce_urself)\n",
        "print(wats_ur_age)\n",
        "print(type(introduce_urself))"
      ],
      "metadata": {
        "colab": {
          "base_uri": "https://localhost:8080/"
        },
        "id": "RLIMYThNvVUX",
        "outputId": "f46676e5-0926-4df7-9ce9-3b2f4c615166"
      },
      "execution_count": null,
      "outputs": [
        {
          "output_type": "stream",
          "name": "stdout",
          "text": [
            "Hello ,This is Pavani KV\n",
            "I'm 25 years old\n",
            "<class 'str'>\n"
          ]
        }
      ]
    },
    {
      "cell_type": "markdown",
      "source": [
        "  **STRIP FUNCTION IN STRINGS**"
      ],
      "metadata": {
        "id": "2ybDwMMJwrUj"
      }
    },
    {
      "cell_type": "markdown",
      "source": [
        "  **lstrip(), rstrip(), strip()-both sides**\n",
        "  **it removes the blank spaces**"
      ],
      "metadata": {
        "id": "qYWcG6O3w1V5"
      }
    },
    {
      "cell_type": "code",
      "source": [
        "name=\"    Pavani\"\n",
        "print(name)\n",
        "print(name.lstrip())"
      ],
      "metadata": {
        "colab": {
          "base_uri": "https://localhost:8080/"
        },
        "id": "ggTlYUiowy_J",
        "outputId": "73b63d3d-41cf-4de3-a17b-9e8bce85f909"
      },
      "execution_count": null,
      "outputs": [
        {
          "output_type": "stream",
          "name": "stdout",
          "text": [
            "    Pavani\n",
            "Pavani\n"
          ]
        }
      ]
    },
    {
      "cell_type": "code",
      "source": [
        "name=\"Pavani     \"\n",
        "print(name)\n",
        "print(name.rstrip())"
      ],
      "metadata": {
        "colab": {
          "base_uri": "https://localhost:8080/"
        },
        "id": "5T_kodfDyobP",
        "outputId": "a7e77784-6ecb-4a73-ca30-5f0350707007"
      },
      "execution_count": null,
      "outputs": [
        {
          "output_type": "stream",
          "name": "stdout",
          "text": [
            "  Pavani     \n",
            "  Pavani\n"
          ]
        }
      ]
    },
    {
      "cell_type": "code",
      "source": [
        "name=\"     Pavani       \"\n",
        "print(name)\n",
        "print(name.strip())"
      ],
      "metadata": {
        "colab": {
          "base_uri": "https://localhost:8080/"
        },
        "id": "NPyGgKyHy8bQ",
        "outputId": "638b070c-b588-4552-866e-1a6e086dd600"
      },
      "execution_count": null,
      "outputs": [
        {
          "output_type": "stream",
          "name": "stdout",
          "text": [
            "     Pavani       \n",
            "Pavani\n"
          ]
        }
      ]
    },
    {
      "cell_type": "markdown",
      "source": [
        "  **FLOOR DIVISION -- // gives the lower value wen divides**\n",
        "  **ceil -- math.ceil()  gives upper number**"
      ],
      "metadata": {
        "id": "yqZX-BDTztkl"
      }
    },
    {
      "cell_type": "code",
      "source": [
        "import math\n",
        "a=9\n",
        "b=5\n",
        "\n",
        "print(a/b)\n",
        "print(type(a/b))\n",
        "print(a//b)\n",
        "print(type(a//b))\n",
        "print(math.ceil(12.3))"
      ],
      "metadata": {
        "colab": {
          "base_uri": "https://localhost:8080/"
        },
        "id": "wj2ppkiyzyx7",
        "outputId": "13329649-740b-4ce2-ef4c-a534811d90d4"
      },
      "execution_count": null,
      "outputs": [
        {
          "output_type": "stream",
          "name": "stdout",
          "text": [
            "1.8\n",
            "<class 'float'>\n",
            "1\n",
            "<class 'int'>\n",
            "13\n"
          ]
        }
      ]
    },
    {
      "cell_type": "markdown",
      "source": [
        "**ROUND()**"
      ],
      "metadata": {
        "id": "nuRgDbOzKyLs"
      }
    },
    {
      "cell_type": "code",
      "source": [
        "a=10.38832338\n",
        "round(a,3)"
      ],
      "metadata": {
        "colab": {
          "base_uri": "https://localhost:8080/"
        },
        "id": "fHcGEM41K3Fj",
        "outputId": "5389a388-6416-4a45-c345-c4008da7cf15"
      },
      "execution_count": null,
      "outputs": [
        {
          "output_type": "execute_result",
          "data": {
            "text/plain": [
              "10.388"
            ]
          },
          "metadata": {},
          "execution_count": 9
        }
      ]
    },
    {
      "cell_type": "markdown",
      "source": [
        "**COMPLEX**"
      ],
      "metadata": {
        "id": "pyrEov-mLGKO"
      }
    },
    {
      "cell_type": "code",
      "source": [
        "a=complex(12)\n",
        "print(a)"
      ],
      "metadata": {
        "colab": {
          "base_uri": "https://localhost:8080/"
        },
        "id": "hIIh413aLJEh",
        "outputId": "5e66e77d-5b0a-4f6f-fbe0-9ffb7a66a909"
      },
      "execution_count": null,
      "outputs": [
        {
          "output_type": "stream",
          "name": "stdout",
          "text": [
            "(12+0j)\n"
          ]
        }
      ]
    },
    {
      "cell_type": "code",
      "source": [
        "complex(12)\n",
        "print(complex(12))\n",
        "complex(12,3)\n",
        "print(complex(12,3))"
      ],
      "metadata": {
        "colab": {
          "base_uri": "https://localhost:8080/"
        },
        "id": "PABbZsX8LUkd",
        "outputId": "834cd11f-b028-4c3f-cc37-1237365899fd"
      },
      "execution_count": null,
      "outputs": [
        {
          "output_type": "stream",
          "name": "stdout",
          "text": [
            "(12+0j)\n",
            "(12+3j)\n"
          ]
        }
      ]
    },
    {
      "cell_type": "markdown",
      "source": [
        "\n",
        "\n",
        "---\n",
        "\n"
      ],
      "metadata": {
        "id": "2ONdQ1G3LxC7"
      }
    },
    {
      "cell_type": "markdown",
      "source": [
        "  **LIST -- [ ]**"
      ],
      "metadata": {
        "id": "esg9xdrALyJX"
      }
    },
    {
      "cell_type": "code",
      "source": [
        "mylist = [1,2,19.6,9,2.5,\"sathyam\",\"vijaya\",\"pavani\",\"pavan\"]\n",
        "type(mylist)"
      ],
      "metadata": {
        "colab": {
          "base_uri": "https://localhost:8080/"
        },
        "id": "JgWB0hTZL220",
        "outputId": "d4a0c895-e7ba-4ca8-8dd4-eb1cee127fc6"
      },
      "execution_count": null,
      "outputs": [
        {
          "output_type": "execute_result",
          "data": {
            "text/plain": [
              "list"
            ]
          },
          "metadata": {},
          "execution_count": 16
        }
      ]
    },
    {
      "cell_type": "code",
      "source": [
        "mylist = [1,7,19.6,2.5,\"sathyam\",\"vijaya\",\"pavani\",\"pavan\"]\n",
        "print(mylist[0])\n",
        "print(mylist[1])\n",
        "print(mylist[-1])\n",
        "print(mylist[-2])\n",
        "print(len(mylist))\n"
      ],
      "metadata": {
        "colab": {
          "base_uri": "https://localhost:8080/"
        },
        "id": "xohek9loMgpL",
        "outputId": "738fd04a-84e3-4719-8e49-d1fa7313af1a"
      },
      "execution_count": null,
      "outputs": [
        {
          "output_type": "stream",
          "name": "stdout",
          "text": [
            "1\n",
            "7\n",
            "pavan\n",
            "pavani\n",
            "8\n"
          ]
        }
      ]
    },
    {
      "cell_type": "code",
      "source": [
        "mylist = [1,7,19.6,2.5,\"sathyam\",\"vijaya\",\"pavani\",\"pavan\"]\n",
        "mylist[0]=\"maira\"\n",
        "print(mylist)\n",
        "#we can update the existing values in  Lists"
      ],
      "metadata": {
        "colab": {
          "base_uri": "https://localhost:8080/"
        },
        "id": "a6tQ2yAgODEj",
        "outputId": "859685f9-b3bf-4a7e-8de0-dc212bdd4ff1"
      },
      "execution_count": null,
      "outputs": [
        {
          "output_type": "stream",
          "name": "stdout",
          "text": [
            "['maira', 7, 19.6, 2.5, 'sathyam', 'vijaya', 'pavani', 'pavan']\n"
          ]
        }
      ]
    },
    {
      "cell_type": "code",
      "source": [
        "mypetname =\"maira\"\n",
        "mypetname[0] = \"p\"\n",
        "#here we can change value in list form not for individual string"
      ],
      "metadata": {
        "colab": {
          "base_uri": "https://localhost:8080/",
          "height": 158
        },
        "id": "i2diamsxO97i",
        "outputId": "3df5ffdf-50b7-42a8-cca7-490c4499e04a"
      },
      "execution_count": null,
      "outputs": [
        {
          "output_type": "error",
          "ename": "TypeError",
          "evalue": "'str' object does not support item assignment",
          "traceback": [
            "\u001b[0;31m---------------------------------------------------------------------------\u001b[0m",
            "\u001b[0;31mTypeError\u001b[0m                                 Traceback (most recent call last)",
            "\u001b[0;32m<ipython-input-30-2708783f5b74>\u001b[0m in \u001b[0;36m<cell line: 2>\u001b[0;34m()\u001b[0m\n\u001b[1;32m      1\u001b[0m \u001b[0mmypetname\u001b[0m \u001b[0;34m=\u001b[0m\u001b[0;34m\"maira\"\u001b[0m\u001b[0;34m\u001b[0m\u001b[0;34m\u001b[0m\u001b[0m\n\u001b[0;32m----> 2\u001b[0;31m \u001b[0mmypetname\u001b[0m\u001b[0;34m[\u001b[0m\u001b[0;36m0\u001b[0m\u001b[0;34m]\u001b[0m \u001b[0;34m=\u001b[0m \u001b[0;34m\"p\"\u001b[0m\u001b[0;34m\u001b[0m\u001b[0;34m\u001b[0m\u001b[0m\n\u001b[0m",
            "\u001b[0;31mTypeError\u001b[0m: 'str' object does not support item assignment"
          ]
        }
      ]
    },
    {
      "cell_type": "code",
      "source": [
        "mypetname =\"maira\"\n",
        "print(mypetname[0])\n",
        "print(mypetname[1])\n",
        "print(mypetname[2])\n",
        "print(mypetname[-4])\n",
        "print(mypetname[-3])\n",
        "print(mypetname[-2])"
      ],
      "metadata": {
        "colab": {
          "base_uri": "https://localhost:8080/"
        },
        "id": "QmJ2NdilOjcj",
        "outputId": "74575eae-b83a-4751-a0f6-1bbc4a327720"
      },
      "execution_count": null,
      "outputs": [
        {
          "output_type": "stream",
          "name": "stdout",
          "text": [
            "m\n",
            "a\n",
            "i\n",
            "a\n",
            "i\n",
            "r\n"
          ]
        }
      ]
    },
    {
      "cell_type": "markdown",
      "source": [
        "  **TUPLE -- ()**"
      ],
      "metadata": {
        "id": "OK7CjyEbPQ6f"
      }
    },
    {
      "cell_type": "code",
      "source": [
        "mylist = (1,2,19.6,9,2.5,\"sathyam\",\"vijaya\",\"pavani\",\"pavan\")\n",
        "type(mylist)"
      ],
      "metadata": {
        "colab": {
          "base_uri": "https://localhost:8080/"
        },
        "id": "MYyhK3AhPcbA",
        "outputId": "e30057fa-9d74-44f9-e95d-7ca1ad33f34f"
      },
      "execution_count": null,
      "outputs": [
        {
          "output_type": "execute_result",
          "data": {
            "text/plain": [
              "tuple"
            ]
          },
          "metadata": {},
          "execution_count": 31
        }
      ]
    },
    {
      "cell_type": "code",
      "source": [
        "mylist = (1,2.5,\"sathyam\",\"vijaya\",\"pavani\",\"pavan\")\n",
        "print(mylist[0])\n",
        "print(mylist[1])\n",
        "print(mylist[-1])\n",
        "print(mylist[-4])\n",
        "print(len(mylist))"
      ],
      "metadata": {
        "colab": {
          "base_uri": "https://localhost:8080/"
        },
        "id": "5_Py0lwuPoXx",
        "outputId": "d05c78e9-abf8-4ea4-a0e5-9d2baab5fd34"
      },
      "execution_count": null,
      "outputs": [
        {
          "output_type": "stream",
          "name": "stdout",
          "text": [
            "1\n",
            "2.5\n",
            "pavan\n",
            "sathyam\n",
            "6\n"
          ]
        }
      ]
    },
    {
      "cell_type": "code",
      "source": [
        "mylist = (1,7,19.6,2.5,\"sathyam\",\"vijaya\",\"pavani\",\"pavan\")\n",
        "mylist[0]=\"maira\"\n",
        "print(mylist)\n",
        "\n",
        "#we cannot update the existing  values in  tuple like we do in lists"
      ],
      "metadata": {
        "colab": {
          "base_uri": "https://localhost:8080/",
          "height": 176
        },
        "id": "xaKX6HGEQMkk",
        "outputId": "ab944cff-9bee-4ed7-eedd-97ab5f26a2aa"
      },
      "execution_count": null,
      "outputs": [
        {
          "output_type": "error",
          "ename": "TypeError",
          "evalue": "'tuple' object does not support item assignment",
          "traceback": [
            "\u001b[0;31m---------------------------------------------------------------------------\u001b[0m",
            "\u001b[0;31mTypeError\u001b[0m                                 Traceback (most recent call last)",
            "\u001b[0;32m<ipython-input-36-f635aff9af25>\u001b[0m in \u001b[0;36m<cell line: 2>\u001b[0;34m()\u001b[0m\n\u001b[1;32m      1\u001b[0m \u001b[0mmylist\u001b[0m \u001b[0;34m=\u001b[0m \u001b[0;34m(\u001b[0m\u001b[0;36m1\u001b[0m\u001b[0;34m,\u001b[0m\u001b[0;36m7\u001b[0m\u001b[0;34m,\u001b[0m\u001b[0;36m19.6\u001b[0m\u001b[0;34m,\u001b[0m\u001b[0;36m2.5\u001b[0m\u001b[0;34m,\u001b[0m\u001b[0;34m\"sathyam\"\u001b[0m\u001b[0;34m,\u001b[0m\u001b[0;34m\"vijaya\"\u001b[0m\u001b[0;34m,\u001b[0m\u001b[0;34m\"pavani\"\u001b[0m\u001b[0;34m,\u001b[0m\u001b[0;34m\"pavan\"\u001b[0m\u001b[0;34m)\u001b[0m\u001b[0;34m\u001b[0m\u001b[0;34m\u001b[0m\u001b[0m\n\u001b[0;32m----> 2\u001b[0;31m \u001b[0mmylist\u001b[0m\u001b[0;34m[\u001b[0m\u001b[0;36m0\u001b[0m\u001b[0;34m]\u001b[0m\u001b[0;34m=\u001b[0m\u001b[0;34m\"maira\"\u001b[0m\u001b[0;34m\u001b[0m\u001b[0;34m\u001b[0m\u001b[0m\n\u001b[0m\u001b[1;32m      3\u001b[0m \u001b[0mprint\u001b[0m\u001b[0;34m(\u001b[0m\u001b[0mmylist\u001b[0m\u001b[0;34m)\u001b[0m\u001b[0;34m\u001b[0m\u001b[0;34m\u001b[0m\u001b[0m\n",
            "\u001b[0;31mTypeError\u001b[0m: 'tuple' object does not support item assignment"
          ]
        }
      ]
    }
  ]
}