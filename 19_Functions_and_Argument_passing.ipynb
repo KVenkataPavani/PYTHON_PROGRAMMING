{
  "nbformat": 4,
  "nbformat_minor": 0,
  "metadata": {
    "colab": {
      "provenance": [],
      "authorship_tag": "ABX9TyMehflS5FlFdrN1XRFRyFm6",
      "include_colab_link": true
    },
    "kernelspec": {
      "name": "python3",
      "display_name": "Python 3"
    },
    "language_info": {
      "name": "python"
    }
  },
  "cells": [
    {
      "cell_type": "markdown",
      "metadata": {
        "id": "view-in-github",
        "colab_type": "text"
      },
      "source": [
        "<a href=\"https://colab.research.google.com/github/KVenkataPavani/PYTHON_PROGRAMMING/blob/main/19_Functions_and_Argument_passing.ipynb\" target=\"_parent\"><img src=\"https://colab.research.google.com/assets/colab-badge.svg\" alt=\"Open In Colab\"/></a>"
      ]
    },
    {
      "cell_type": "markdown",
      "source": [
        "# **Functions**"
      ],
      "metadata": {
        "id": "VPgUMEQOHWwC"
      }
    },
    {
      "cell_type": "markdown",
      "source": [
        "* A function is a piece of code that you can call whenever you need it, and it will run the code inside it.\n",
        "* Think of it like a mini-program that you can reuse without having to rewrite the same code over and over again."
      ],
      "metadata": {
        "id": "GdEQSZJALlta"
      }
    },
    {
      "cell_type": "markdown",
      "source": [
        "syntax to declare a function\n",
        "* def function_name(arguments): #colon is mandatory\n",
        "*            #body of the function\n",
        "* return expression\n",
        "\n"
      ],
      "metadata": {
        "id": "2SuBWW0FeY9b"
      }
    },
    {
      "cell_type": "markdown",
      "source": [
        "* passing parameters is optional\n",
        "* in python we can write a function without return statement as well\n",
        "* by default \"none\" will get returned"
      ],
      "metadata": {
        "id": "CsHkr3JOYsQL"
      }
    },
    {
      "cell_type": "markdown",
      "source": [
        "#**Defining Functions**"
      ],
      "metadata": {
        "id": "a1MSqnRQZMRb"
      }
    },
    {
      "cell_type": "code",
      "source": [
        "# Defining a function\n",
        "def pythonfunc_class():\n",
        "  print(\"welcome to functions class\")\n",
        "\n",
        "# Calling a function\n",
        "pythonfunc_class()"
      ],
      "metadata": {
        "id": "IYiFG7goMCdO",
        "colab": {
          "base_uri": "https://localhost:8080/"
        },
        "outputId": "7cc82c7e-678b-4de2-f542-af010d37f126"
      },
      "execution_count": 1,
      "outputs": [
        {
          "output_type": "stream",
          "name": "stdout",
          "text": [
            "welcome to functions class\n"
          ]
        }
      ]
    },
    {
      "cell_type": "code",
      "source": [
        "# Defining a function\n",
        "def pythonfunc_class():\n",
        "  print(\"welcome to functions class\")\n",
        "\n",
        "# Calling a function\n",
        "usingreturn_func = pythonfunc_class()\n",
        "print(usingreturn_func) #default its none"
      ],
      "metadata": {
        "colab": {
          "base_uri": "https://localhost:8080/"
        },
        "id": "4iS8t2B3aI--",
        "outputId": "1e706627-3b02-441d-d995-fdf97888618a"
      },
      "execution_count": 3,
      "outputs": [
        {
          "output_type": "stream",
          "name": "stdout",
          "text": [
            "welcome to functions class\n",
            "None\n"
          ]
        }
      ]
    },
    {
      "cell_type": "code",
      "source": [
        "def pythonfunc_class():\n",
        "  print(\"welcome to functions class\")\n",
        "  l=[100,200,300,400]\n",
        "  return sum(l)\n",
        "usingreturn_func = pythonfunc_class()\n",
        "print(usingreturn_func)\n",
        "print(type(usingreturn_func))\n"
      ],
      "metadata": {
        "colab": {
          "base_uri": "https://localhost:8080/"
        },
        "id": "-VsVH91fa2Zh",
        "outputId": "69b23a5c-0dd6-430e-f980-79c4a514f0f0"
      },
      "execution_count": 5,
      "outputs": [
        {
          "output_type": "stream",
          "name": "stdout",
          "text": [
            "welcome to functions class\n",
            "1000\n",
            "<class 'int'>\n"
          ]
        }
      ]
    },
    {
      "cell_type": "markdown",
      "source": [
        "#**Passing the arguments to functions**"
      ],
      "metadata": {
        "id": "hYrak12OohO5"
      }
    },
    {
      "cell_type": "code",
      "source": [
        "def  myname(name):\n",
        "  print(\"Entered name :{}\" .format(name))\n",
        "  return name*2\n",
        "\n",
        "ret_val = myname(\"Pavani\")\n",
        "print(ret_val)\n",
        "print(type(ret_val))\n",
        "\n",
        "#The function prints the entered name using string formatting.\n",
        "#myname(\"Pavani\") prints \"Entered name : Pavani\".\n",
        "# return name*2 returns \"PavaniPavani\".\n",
        "# type(ret_val) shows that ret_val is of type <class 'str'> since the input was a string."
      ],
      "metadata": {
        "colab": {
          "base_uri": "https://localhost:8080/"
        },
        "id": "C0sz93Djok8x",
        "outputId": "bfac7361-d286-490b-9962-8a95f2b6c629"
      },
      "execution_count": 10,
      "outputs": [
        {
          "output_type": "stream",
          "name": "stdout",
          "text": [
            "Entered name :Pavani\n",
            "PavaniPavani\n",
            "<class 'str'>\n"
          ]
        }
      ]
    },
    {
      "cell_type": "code",
      "source": [
        "def  myname(name):\n",
        "  print(\"Entered name :\", name )\n",
        "  return name*2\n",
        "\n",
        "ret_val = myname(\"Pavani\")\n",
        "print(ret_val)\n",
        "print(type(ret_val))"
      ],
      "metadata": {
        "colab": {
          "base_uri": "https://localhost:8080/"
        },
        "id": "L98d6LxfqY14",
        "outputId": "d437078a-ac6f-4ac7-c80e-d2aaed78b507"
      },
      "execution_count": 13,
      "outputs": [
        {
          "output_type": "stream",
          "name": "stdout",
          "text": [
            "Entered name : Pavani\n",
            "PavaniPavani\n",
            "<class 'str'>\n"
          ]
        }
      ]
    },
    {
      "cell_type": "code",
      "source": [
        "def  myname(name):\n",
        "  print(\"Entered name :{}\" .format(name))\n",
        "  return name*2\n",
        "\n",
        "ret_val = myname(10)\n",
        "print(ret_val)\n",
        "print(type(ret_val))\n",
        "\n",
        "#in python it doesnt matter wat data type you are specifying we can pass list int str"
      ],
      "metadata": {
        "colab": {
          "base_uri": "https://localhost:8080/"
        },
        "id": "1VyerwMQqqb5",
        "outputId": "bfd428b5-bd39-484f-f6ba-593416001206"
      },
      "execution_count": 14,
      "outputs": [
        {
          "output_type": "stream",
          "name": "stdout",
          "text": [
            "Entered name :10\n",
            "20\n",
            "<class 'int'>\n"
          ]
        }
      ]
    },
    {
      "cell_type": "code",
      "source": [
        "def  myname(name):\n",
        "  print(\"Entered name :{}\" .format(name))\n",
        "  return name*2\n",
        "\n",
        "ret_val = myname([10,20,30])\n",
        "print(ret_val)\n",
        "print(type(ret_val))\n"
      ],
      "metadata": {
        "colab": {
          "base_uri": "https://localhost:8080/"
        },
        "id": "ZRWX-3umq-V5",
        "outputId": "da5e4a24-2521-4f16-a02f-a8bd5bbe5c72"
      },
      "execution_count": 15,
      "outputs": [
        {
          "output_type": "stream",
          "name": "stdout",
          "text": [
            "Entered name :[10, 20, 30]\n",
            "[10, 20, 30, 10, 20, 30]\n",
            "<class 'list'>\n"
          ]
        }
      ]
    },
    {
      "cell_type": "code",
      "source": [
        "def  calculator (num):\n",
        "  print(\"Entered Number :{}\" .format(num))\n",
        "  a=100\n",
        "  return a-num\n",
        "\n",
        "ret_val = calculator(50)\n",
        "print(ret_val)\n",
        "print(type(ret_val))\n"
      ],
      "metadata": {
        "colab": {
          "base_uri": "https://localhost:8080/"
        },
        "id": "qoshO-zlrJxE",
        "outputId": "f1a3c1d7-1555-417c-b7af-f5e238e95213"
      },
      "execution_count": 16,
      "outputs": [
        {
          "output_type": "stream",
          "name": "stdout",
          "text": [
            "Entered Number :50\n",
            "50\n",
            "<class 'int'>\n"
          ]
        }
      ]
    },
    {
      "cell_type": "code",
      "source": [
        "def  calculator (num):\n",
        "  print(\"Entered Number :{}\" .format(num))\n",
        "  a=100\n",
        "  return a-num\n",
        "\n",
        "ret_val = calculator(100)\n",
        "print(ret_val)\n",
        "print(type(ret_val))"
      ],
      "metadata": {
        "colab": {
          "base_uri": "https://localhost:8080/"
        },
        "id": "bkl-nZKGrkb_",
        "outputId": "cf1da430-07b2-4211-d1e9-a4a1125fac69"
      },
      "execution_count": 17,
      "outputs": [
        {
          "output_type": "stream",
          "name": "stdout",
          "text": [
            "Entered Number :100\n",
            "0\n",
            "<class 'int'>\n"
          ]
        }
      ]
    },
    {
      "cell_type": "code",
      "source": [
        "def  calculator (num):\n",
        "  print(\"Entered Number :{}\" .format(num))\n",
        "  a=100\n",
        "  print(\"abc\")\n",
        "  print(num*3)\n",
        "  print(num+\"5\")\n",
        "  return a-num\n",
        "\n",
        "ret_val = calculator(\"50\")\n",
        "print(ret_val)\n",
        "print(type(ret_val))\n",
        "\n",
        "#here we are passing 50 as a string"
      ],
      "metadata": {
        "colab": {
          "base_uri": "https://localhost:8080/",
          "height": 420
        },
        "id": "iwg9uYi1rvE-",
        "outputId": "dc3e5124-d2c3-47c2-feeb-8fffd0fefb03"
      },
      "execution_count": 20,
      "outputs": [
        {
          "output_type": "stream",
          "name": "stdout",
          "text": [
            "Entered Number :50\n",
            "abc\n",
            "505050\n",
            "505\n"
          ]
        },
        {
          "output_type": "error",
          "ename": "TypeError",
          "evalue": "unsupported operand type(s) for -: 'int' and 'str'",
          "traceback": [
            "\u001b[0;31m---------------------------------------------------------------------------\u001b[0m",
            "\u001b[0;31mTypeError\u001b[0m                                 Traceback (most recent call last)",
            "\u001b[0;32m<ipython-input-20-0ee7c50ba612>\u001b[0m in \u001b[0;36m<cell line: 9>\u001b[0;34m()\u001b[0m\n\u001b[1;32m      7\u001b[0m   \u001b[0;32mreturn\u001b[0m \u001b[0ma\u001b[0m\u001b[0;34m-\u001b[0m\u001b[0mnum\u001b[0m\u001b[0;34m\u001b[0m\u001b[0;34m\u001b[0m\u001b[0m\n\u001b[1;32m      8\u001b[0m \u001b[0;34m\u001b[0m\u001b[0m\n\u001b[0;32m----> 9\u001b[0;31m \u001b[0mret_val\u001b[0m \u001b[0;34m=\u001b[0m \u001b[0mcalculator\u001b[0m\u001b[0;34m(\u001b[0m\u001b[0;34m\"50\"\u001b[0m\u001b[0;34m)\u001b[0m\u001b[0;34m\u001b[0m\u001b[0;34m\u001b[0m\u001b[0m\n\u001b[0m\u001b[1;32m     10\u001b[0m \u001b[0mprint\u001b[0m\u001b[0;34m(\u001b[0m\u001b[0mret_val\u001b[0m\u001b[0;34m)\u001b[0m\u001b[0;34m\u001b[0m\u001b[0;34m\u001b[0m\u001b[0m\n\u001b[1;32m     11\u001b[0m \u001b[0mprint\u001b[0m\u001b[0;34m(\u001b[0m\u001b[0mtype\u001b[0m\u001b[0;34m(\u001b[0m\u001b[0mret_val\u001b[0m\u001b[0;34m)\u001b[0m\u001b[0;34m)\u001b[0m\u001b[0;34m\u001b[0m\u001b[0;34m\u001b[0m\u001b[0m\n",
            "\u001b[0;32m<ipython-input-20-0ee7c50ba612>\u001b[0m in \u001b[0;36mcalculator\u001b[0;34m(num)\u001b[0m\n\u001b[1;32m      5\u001b[0m   \u001b[0mprint\u001b[0m\u001b[0;34m(\u001b[0m\u001b[0mnum\u001b[0m\u001b[0;34m*\u001b[0m\u001b[0;36m3\u001b[0m\u001b[0;34m)\u001b[0m\u001b[0;34m\u001b[0m\u001b[0;34m\u001b[0m\u001b[0m\n\u001b[1;32m      6\u001b[0m   \u001b[0mprint\u001b[0m\u001b[0;34m(\u001b[0m\u001b[0mnum\u001b[0m\u001b[0;34m+\u001b[0m\u001b[0;34m\"5\"\u001b[0m\u001b[0;34m)\u001b[0m\u001b[0;34m\u001b[0m\u001b[0;34m\u001b[0m\u001b[0m\n\u001b[0;32m----> 7\u001b[0;31m   \u001b[0;32mreturn\u001b[0m \u001b[0ma\u001b[0m\u001b[0;34m-\u001b[0m\u001b[0mnum\u001b[0m\u001b[0;34m\u001b[0m\u001b[0;34m\u001b[0m\u001b[0m\n\u001b[0m\u001b[1;32m      8\u001b[0m \u001b[0;34m\u001b[0m\u001b[0m\n\u001b[1;32m      9\u001b[0m \u001b[0mret_val\u001b[0m \u001b[0;34m=\u001b[0m \u001b[0mcalculator\u001b[0m\u001b[0;34m(\u001b[0m\u001b[0;34m\"50\"\u001b[0m\u001b[0;34m)\u001b[0m\u001b[0;34m\u001b[0m\u001b[0;34m\u001b[0m\u001b[0m\n",
            "\u001b[0;31mTypeError\u001b[0m: unsupported operand type(s) for -: 'int' and 'str'"
          ]
        }
      ]
    },
    {
      "cell_type": "code",
      "source": [
        "def  calculator (num):\n",
        "  print(\"Entered Number :{}\" .format(num))\n",
        "  a=100\n",
        "  print(\"abc\")\n",
        "  print(num*3)\n",
        "  print(num+\"5\")\n",
        "  return a-num\n",
        "\n",
        "ret_val = calculator() #we are not giving any argument\n",
        "print(ret_val)\n",
        "print(type(ret_val))"
      ],
      "metadata": {
        "colab": {
          "base_uri": "https://localhost:8080/",
          "height": 219
        },
        "id": "y5SVHfEKsuQe",
        "outputId": "43ed2981-3c0a-4e23-c76c-dea8e7a7757e"
      },
      "execution_count": 21,
      "outputs": [
        {
          "output_type": "error",
          "ename": "TypeError",
          "evalue": "calculator() missing 1 required positional argument: 'num'",
          "traceback": [
            "\u001b[0;31m---------------------------------------------------------------------------\u001b[0m",
            "\u001b[0;31mTypeError\u001b[0m                                 Traceback (most recent call last)",
            "\u001b[0;32m<ipython-input-21-6847b44e1359>\u001b[0m in \u001b[0;36m<cell line: 9>\u001b[0;34m()\u001b[0m\n\u001b[1;32m      7\u001b[0m   \u001b[0;32mreturn\u001b[0m \u001b[0ma\u001b[0m\u001b[0;34m-\u001b[0m\u001b[0mnum\u001b[0m\u001b[0;34m\u001b[0m\u001b[0;34m\u001b[0m\u001b[0m\n\u001b[1;32m      8\u001b[0m \u001b[0;34m\u001b[0m\u001b[0m\n\u001b[0;32m----> 9\u001b[0;31m \u001b[0mret_val\u001b[0m \u001b[0;34m=\u001b[0m \u001b[0mcalculator\u001b[0m\u001b[0;34m(\u001b[0m\u001b[0;34m)\u001b[0m\u001b[0;34m\u001b[0m\u001b[0;34m\u001b[0m\u001b[0m\n\u001b[0m\u001b[1;32m     10\u001b[0m \u001b[0mprint\u001b[0m\u001b[0;34m(\u001b[0m\u001b[0mret_val\u001b[0m\u001b[0;34m)\u001b[0m\u001b[0;34m\u001b[0m\u001b[0;34m\u001b[0m\u001b[0m\n\u001b[1;32m     11\u001b[0m \u001b[0mprint\u001b[0m\u001b[0;34m(\u001b[0m\u001b[0mtype\u001b[0m\u001b[0;34m(\u001b[0m\u001b[0mret_val\u001b[0m\u001b[0;34m)\u001b[0m\u001b[0;34m)\u001b[0m\u001b[0;34m\u001b[0m\u001b[0;34m\u001b[0m\u001b[0m\n",
            "\u001b[0;31mTypeError\u001b[0m: calculator() missing 1 required positional argument: 'num'"
          ]
        }
      ]
    },
    {
      "cell_type": "code",
      "source": [
        "def  information(name,age,profession):\n",
        "\n",
        "  print(\" name :\", name )\n",
        "  print(\" age :\", age )\n",
        "  print(\" profession :\", profession )\n",
        "\n",
        "ret_val = information(\"Pavani\",25,\"Senior Data Analyst\")\n",
        "print(ret_val)\n",
        "print(type(ret_val))\n",
        "\n",
        "#type none bcz we havnt given any return value by default it  returns non type"
      ],
      "metadata": {
        "colab": {
          "base_uri": "https://localhost:8080/"
        },
        "id": "xvGtBKRBtlZg",
        "outputId": "06c43831-992e-445c-c65d-3c1ff22c2aea"
      },
      "execution_count": 42,
      "outputs": [
        {
          "output_type": "stream",
          "name": "stdout",
          "text": [
            " name : Pavani\n",
            " age : 25\n",
            " profession : Senior Data Analyst\n",
            "None\n",
            "<class 'NoneType'>\n"
          ]
        }
      ]
    },
    {
      "cell_type": "code",
      "source": [
        "def  information(name,age,profession):\n",
        "\n",
        "  print(\" name :\", name )\n",
        "  print(\" age :\", age )\n",
        "  print(\" profession :\", profession )\n",
        "\n",
        "ret_val = information(\"Pavani\",\"Senior Data Analyst\")\n",
        "print(ret_val)\n",
        "print(type(ret_val))\n",
        "#im not passing one argument it will throw an error\n",
        "#TypeError: information() missing 1 required positional argument: 'profession'\n",
        "#here its taking name as 25 age as sr data analyst thats why its showing profession is no passed"
      ],
      "metadata": {
        "colab": {
          "base_uri": "https://localhost:8080/",
          "height": 219
        },
        "id": "9vUE_rMIunQL",
        "outputId": "ec8783ea-8f27-434a-c764-40ead6328da8"
      },
      "execution_count": 43,
      "outputs": [
        {
          "output_type": "error",
          "ename": "TypeError",
          "evalue": "information() missing 1 required positional argument: 'profession'",
          "traceback": [
            "\u001b[0;31m---------------------------------------------------------------------------\u001b[0m",
            "\u001b[0;31mTypeError\u001b[0m                                 Traceback (most recent call last)",
            "\u001b[0;32m<ipython-input-43-bf615d59cc25>\u001b[0m in \u001b[0;36m<cell line: 7>\u001b[0;34m()\u001b[0m\n\u001b[1;32m      5\u001b[0m   \u001b[0mprint\u001b[0m\u001b[0;34m(\u001b[0m\u001b[0;34m\" profession :\"\u001b[0m\u001b[0;34m,\u001b[0m \u001b[0mprofession\u001b[0m \u001b[0;34m)\u001b[0m\u001b[0;34m\u001b[0m\u001b[0;34m\u001b[0m\u001b[0m\n\u001b[1;32m      6\u001b[0m \u001b[0;34m\u001b[0m\u001b[0m\n\u001b[0;32m----> 7\u001b[0;31m \u001b[0mret_val\u001b[0m \u001b[0;34m=\u001b[0m \u001b[0minformation\u001b[0m\u001b[0;34m(\u001b[0m\u001b[0;34m\"Pavani\"\u001b[0m\u001b[0;34m,\u001b[0m\u001b[0;34m\"Senior Data Analyst\"\u001b[0m\u001b[0;34m)\u001b[0m\u001b[0;34m\u001b[0m\u001b[0;34m\u001b[0m\u001b[0m\n\u001b[0m\u001b[1;32m      8\u001b[0m \u001b[0mprint\u001b[0m\u001b[0;34m(\u001b[0m\u001b[0mret_val\u001b[0m\u001b[0;34m)\u001b[0m\u001b[0;34m\u001b[0m\u001b[0;34m\u001b[0m\u001b[0m\n\u001b[1;32m      9\u001b[0m \u001b[0mprint\u001b[0m\u001b[0;34m(\u001b[0m\u001b[0mtype\u001b[0m\u001b[0;34m(\u001b[0m\u001b[0mret_val\u001b[0m\u001b[0;34m)\u001b[0m\u001b[0;34m)\u001b[0m\u001b[0;34m\u001b[0m\u001b[0;34m\u001b[0m\u001b[0m\n",
            "\u001b[0;31mTypeError\u001b[0m: information() missing 1 required positional argument: 'profession'"
          ]
        }
      ]
    },
    {
      "cell_type": "code",
      "source": [
        "def  information(name,age,profession):\n",
        "\n",
        "  print(\" name :\", name )\n",
        "  print(\" age :\", age )\n",
        "  print(\" profession :\", profession )\n",
        "\n",
        "ret_val = information(\"Pavani\",[10,20,30,40],\"Senior Data Analyst\")\n",
        "print(ret_val)\n",
        "print(type(ret_val))"
      ],
      "metadata": {
        "colab": {
          "base_uri": "https://localhost:8080/"
        },
        "id": "v5CAeTgFuxxi",
        "outputId": "ad24f564-13af-4ebd-f013-0f9102a334e1"
      },
      "execution_count": 44,
      "outputs": [
        {
          "output_type": "stream",
          "name": "stdout",
          "text": [
            " name : Pavani\n",
            " age : [10, 20, 30, 40]\n",
            " profession : Senior Data Analyst\n",
            "None\n",
            "<class 'NoneType'>\n"
          ]
        }
      ]
    },
    {
      "cell_type": "markdown",
      "source": [
        "#**To pass any number of arguments , i.e  number of arguments is unknown**"
      ],
      "metadata": {
        "id": "OKdvPMs4vahh"
      }
    },
    {
      "cell_type": "markdown",
      "source": [
        "***s**  \n",
        "* *args or * name  etc means any number of positional arguments\n",
        "* give output type as -- tuple"
      ],
      "metadata": {
        "id": "jahyGM2VCfTx"
      }
    },
    {
      "cell_type": "code",
      "source": [
        "def string_sum(*s):\n",
        "  #*s, which allows it to accept a variable number of arguments\n",
        "   #*s syntax turns the inputs into a tuple. even we given in any format it will converts into  class type tuple\n",
        "  print(s)\n",
        "  print(type(s))\n",
        "\n",
        "string_sum(\"a\",\"b\",\"c\")"
      ],
      "metadata": {
        "colab": {
          "base_uri": "https://localhost:8080/"
        },
        "id": "-4Uw965UvxX0",
        "outputId": "c61e2943-e7b0-4581-bebd-83dd60c0b5bf"
      },
      "execution_count": 28,
      "outputs": [
        {
          "output_type": "stream",
          "name": "stdout",
          "text": [
            "('a', 'b', 'c')\n",
            "<class 'tuple'>\n"
          ]
        }
      ]
    },
    {
      "cell_type": "code",
      "source": [
        "def string_sum(*s):\n",
        "  print(s)\n",
        "  print(type(s))\n",
        "\n",
        "string_sum[\"a\",\"b\",\"c\"]\n",
        "   #*s syntax turns the inputs into a tuple.\n"
      ],
      "metadata": {
        "colab": {
          "base_uri": "https://localhost:8080/",
          "height": 183
        },
        "id": "1i1wyvB8wQtq",
        "outputId": "3e45bb28-89ac-402c-c954-035e96927c9f"
      },
      "execution_count": 29,
      "outputs": [
        {
          "output_type": "error",
          "ename": "TypeError",
          "evalue": "'function' object is not subscriptable",
          "traceback": [
            "\u001b[0;31m---------------------------------------------------------------------------\u001b[0m",
            "\u001b[0;31mTypeError\u001b[0m                                 Traceback (most recent call last)",
            "\u001b[0;32m<ipython-input-29-db2a1c758021>\u001b[0m in \u001b[0;36m<cell line: 5>\u001b[0;34m()\u001b[0m\n\u001b[1;32m      3\u001b[0m   \u001b[0mprint\u001b[0m\u001b[0;34m(\u001b[0m\u001b[0mtype\u001b[0m\u001b[0;34m(\u001b[0m\u001b[0ms\u001b[0m\u001b[0;34m)\u001b[0m\u001b[0;34m)\u001b[0m\u001b[0;34m\u001b[0m\u001b[0;34m\u001b[0m\u001b[0m\n\u001b[1;32m      4\u001b[0m \u001b[0;34m\u001b[0m\u001b[0m\n\u001b[0;32m----> 5\u001b[0;31m \u001b[0mstring_sum\u001b[0m\u001b[0;34m[\u001b[0m\u001b[0;34m\"a\"\u001b[0m\u001b[0;34m,\u001b[0m\u001b[0;34m\"b\"\u001b[0m\u001b[0;34m,\u001b[0m\u001b[0;34m\"c\"\u001b[0m\u001b[0;34m]\u001b[0m\u001b[0;34m\u001b[0m\u001b[0;34m\u001b[0m\u001b[0m\n\u001b[0m",
            "\u001b[0;31mTypeError\u001b[0m: 'function' object is not subscriptable"
          ]
        }
      ]
    },
    {
      "cell_type": "code",
      "source": [
        "def string_sum(*s):\n",
        "  print(s)\n",
        "  print(type(s))\n",
        "\n",
        "string_sum(\"a\")"
      ],
      "metadata": {
        "colab": {
          "base_uri": "https://localhost:8080/"
        },
        "id": "awBWxY1bwa3Q",
        "outputId": "75045417-b8bc-47ec-bb49-ea30e49273bd"
      },
      "execution_count": 31,
      "outputs": [
        {
          "output_type": "stream",
          "name": "stdout",
          "text": [
            "('a',)\n",
            "<class 'tuple'>\n"
          ]
        }
      ]
    },
    {
      "cell_type": "code",
      "source": [
        "def string_sum(*s):\n",
        "  print(s)\n",
        "  print(type(s))\n",
        "\n",
        "string_sum()"
      ],
      "metadata": {
        "colab": {
          "base_uri": "https://localhost:8080/"
        },
        "id": "rNRmZomh6ALz",
        "outputId": "12399106-442a-40c3-907b-48c55138a8a4"
      },
      "execution_count": 32,
      "outputs": [
        {
          "output_type": "stream",
          "name": "stdout",
          "text": [
            "()\n",
            "<class 'tuple'>\n"
          ]
        }
      ]
    },
    {
      "cell_type": "code",
      "source": [
        "def string_sum(*s):\n",
        "  print(s)\n",
        "  print(type(s))\n",
        "\n",
        "string_sum(' ')"
      ],
      "metadata": {
        "colab": {
          "base_uri": "https://localhost:8080/"
        },
        "id": "xv6e-syW6K8i",
        "outputId": "0c91472e-0ef4-4a27-eea0-791660185729"
      },
      "execution_count": 35,
      "outputs": [
        {
          "output_type": "stream",
          "name": "stdout",
          "text": [
            "(' ',)\n",
            "<class 'tuple'>\n"
          ]
        }
      ]
    },
    {
      "cell_type": "code",
      "source": [
        "def string_sum(*s):\n",
        "  print(s)\n",
        "  print(type(s))\n",
        "\n",
        "string_sum('')"
      ],
      "metadata": {
        "colab": {
          "base_uri": "https://localhost:8080/"
        },
        "id": "z8GdEabI6as8",
        "outputId": "ed1e644b-3095-4e9f-c3c5-42b77bd1721d"
      },
      "execution_count": 37,
      "outputs": [
        {
          "output_type": "stream",
          "name": "stdout",
          "text": [
            "('',)\n",
            "<class 'tuple'>\n"
          ]
        }
      ]
    },
    {
      "cell_type": "code",
      "source": [
        "def string_sum(*s):\n",
        "  print(s)\n",
        "  print(type(s))\n",
        "\n",
        "string_sum(\"a\",1,2,5.6,'l',[1,2,3])"
      ],
      "metadata": {
        "colab": {
          "base_uri": "https://localhost:8080/"
        },
        "id": "fi5KO55k6k6B",
        "outputId": "3fc3f35c-ef33-4049-9694-f863f3618af5"
      },
      "execution_count": 39,
      "outputs": [
        {
          "output_type": "stream",
          "name": "stdout",
          "text": [
            "('a', 1, 2, 5.6, 'l', [1, 2, 3])\n",
            "<class 'tuple'>\n"
          ]
        }
      ]
    },
    {
      "cell_type": "markdown",
      "source": [
        "#**Keyword Arguments**"
      ],
      "metadata": {
        "id": "Kf82wim5Cplr"
      }
    },
    {
      "cell_type": "code",
      "source": [
        "def  information(name,age,profession):\n",
        "\n",
        "  print(\" name :\", name )\n",
        "  print(\" age :\", age )\n",
        "  print(\" profession :\", profession )\n",
        "\n",
        "ret_val = information(name=\"Pavani\" , age=25 ,profession= \"Senior Data Analyst\")\n",
        "print(ret_val)\n",
        "print(type(ret_val))\n"
      ],
      "metadata": {
        "colab": {
          "base_uri": "https://localhost:8080/"
        },
        "id": "C-7oq9gCCqRl",
        "outputId": "acf77eb8-301e-457d-eaaa-8b84f9a6f24d"
      },
      "execution_count": 45,
      "outputs": [
        {
          "output_type": "stream",
          "name": "stdout",
          "text": [
            " name : Pavani\n",
            " age : 25\n",
            " profession : Senior Data Analyst\n",
            "None\n",
            "<class 'NoneType'>\n"
          ]
        }
      ]
    },
    {
      "cell_type": "code",
      "source": [
        "def  information(name,age,profession):\n",
        "\n",
        "  print(\" name :\", name )\n",
        "  print(\" age :\", age )\n",
        "  print(\" profession :\", profession )\n",
        "\n",
        "ret_val = information(age=25 ,profession= \"Senior Data Analyst\",name=\"Pavani\" )\n",
        "#even though we gave in diff index it prints crct values bcz we are passinf keywordarguments\n",
        "print(ret_val)\n",
        "print(type(ret_val))"
      ],
      "metadata": {
        "colab": {
          "base_uri": "https://localhost:8080/"
        },
        "id": "ap7rGjKoDvmj",
        "outputId": "4e19f706-64cd-4fd1-ad1e-e2496ae8abaf"
      },
      "execution_count": 46,
      "outputs": [
        {
          "output_type": "stream",
          "name": "stdout",
          "text": [
            " name : Pavani\n",
            " age : 25\n",
            " profession : Senior Data Analyst\n",
            "None\n",
            "<class 'NoneType'>\n"
          ]
        }
      ]
    },
    {
      "cell_type": "code",
      "source": [
        "def  information(name,age,profession):\n",
        "\n",
        "  print(\" name :\", name )\n",
        "  print(\" age :\", age )\n",
        "  print(\" profession :\", profession )\n",
        "\n",
        "ret_val = information(name_2=25 ,profession= \"Senior Data Analyst\",name=\"Pavani\" )\n",
        "#if we give wrong name that is not passsed in func it will give error\n",
        "print(ret_val)\n",
        "print(type(ret_val))"
      ],
      "metadata": {
        "colab": {
          "base_uri": "https://localhost:8080/",
          "height": 238
        },
        "id": "gsZPRHDYEYCV",
        "outputId": "52a8d705-182d-4695-f036-5c050db99b1b"
      },
      "execution_count": 47,
      "outputs": [
        {
          "output_type": "error",
          "ename": "TypeError",
          "evalue": "information() got an unexpected keyword argument 'name_2'",
          "traceback": [
            "\u001b[0;31m---------------------------------------------------------------------------\u001b[0m",
            "\u001b[0;31mTypeError\u001b[0m                                 Traceback (most recent call last)",
            "\u001b[0;32m<ipython-input-47-9c6e965e7e0b>\u001b[0m in \u001b[0;36m<cell line: 7>\u001b[0;34m()\u001b[0m\n\u001b[1;32m      5\u001b[0m   \u001b[0mprint\u001b[0m\u001b[0;34m(\u001b[0m\u001b[0;34m\" profession :\"\u001b[0m\u001b[0;34m,\u001b[0m \u001b[0mprofession\u001b[0m \u001b[0;34m)\u001b[0m\u001b[0;34m\u001b[0m\u001b[0;34m\u001b[0m\u001b[0m\n\u001b[1;32m      6\u001b[0m \u001b[0;34m\u001b[0m\u001b[0m\n\u001b[0;32m----> 7\u001b[0;31m \u001b[0mret_val\u001b[0m \u001b[0;34m=\u001b[0m \u001b[0minformation\u001b[0m\u001b[0;34m(\u001b[0m\u001b[0mname_2\u001b[0m\u001b[0;34m=\u001b[0m\u001b[0;36m25\u001b[0m \u001b[0;34m,\u001b[0m\u001b[0mprofession\u001b[0m\u001b[0;34m=\u001b[0m \u001b[0;34m\"Senior Data Analyst\"\u001b[0m\u001b[0;34m,\u001b[0m\u001b[0mname\u001b[0m\u001b[0;34m=\u001b[0m\u001b[0;34m\"Pavani\"\u001b[0m \u001b[0;34m)\u001b[0m\u001b[0;34m\u001b[0m\u001b[0;34m\u001b[0m\u001b[0m\n\u001b[0m\u001b[1;32m      8\u001b[0m \u001b[0mprint\u001b[0m\u001b[0;34m(\u001b[0m\u001b[0mret_val\u001b[0m\u001b[0;34m)\u001b[0m\u001b[0;34m\u001b[0m\u001b[0;34m\u001b[0m\u001b[0m\n\u001b[1;32m      9\u001b[0m \u001b[0mprint\u001b[0m\u001b[0;34m(\u001b[0m\u001b[0mtype\u001b[0m\u001b[0;34m(\u001b[0m\u001b[0mret_val\u001b[0m\u001b[0;34m)\u001b[0m\u001b[0;34m)\u001b[0m\u001b[0;34m\u001b[0m\u001b[0;34m\u001b[0m\u001b[0m\n",
            "\u001b[0;31mTypeError\u001b[0m: information() got an unexpected keyword argument 'name_2'"
          ]
        }
      ]
    },
    {
      "cell_type": "markdown",
      "source": [
        "#**we dont know how many keyword arguments were there , i.e keyword arguments is unknown**"
      ],
      "metadata": {
        "id": "3iq9HkcDFG0_"
      }
    },
    {
      "cell_type": "markdown",
      "source": [
        "****k**\n",
        "* **args means we can pass any number of keyword arguments\n",
        "* give output type as -- dict"
      ],
      "metadata": {
        "id": "O5PCNRLXFrJa"
      }
    },
    {
      "cell_type": "code",
      "source": [
        "def  information(**k):\n",
        "  print(k)\n",
        "  print(type(k))\n",
        "\n",
        "information(age=25 ,profession= \"Senior Data Analyst\",name=\"Pavani\" )\n"
      ],
      "metadata": {
        "colab": {
          "base_uri": "https://localhost:8080/"
        },
        "id": "C7YRXbyMEu44",
        "outputId": "a9cd4123-9685-4c0c-c723-198441975719"
      },
      "execution_count": 49,
      "outputs": [
        {
          "output_type": "stream",
          "name": "stdout",
          "text": [
            "{'age': 25, 'profession': 'Senior Data Analyst', 'name': 'Pavani'}\n",
            "<class 'dict'>\n"
          ]
        }
      ]
    },
    {
      "cell_type": "code",
      "source": [
        "def  information(**k):\n",
        "  print(k)\n",
        "  print(type(k))\n",
        "\n",
        "information(age=25 ,profession= \"Senior Data Analyst\",name=\"Pavani\",technical_skills=[\"SQL\" , \"Pyhton\" ,\" Power BI\" ,\" Git\"] )"
      ],
      "metadata": {
        "colab": {
          "base_uri": "https://localhost:8080/"
        },
        "id": "BZ0lHPvzF1N1",
        "outputId": "e428f362-90eb-4e52-ce17-c1d39396483d"
      },
      "execution_count": 50,
      "outputs": [
        {
          "output_type": "stream",
          "name": "stdout",
          "text": [
            "{'age': 25, 'profession': 'Senior Data Analyst', 'name': 'Pavani', 'technical_skills': ['SQL', 'Pyhton', ' Power BI', ' Git']}\n",
            "<class 'dict'>\n"
          ]
        }
      ]
    },
    {
      "cell_type": "code",
      "source": [
        "def  information(**k):\n",
        "  print(k)\n",
        "  print(type(k))\n",
        "\n",
        "information(25 , \"Senior Data Analyst\",\"Pavani\",[\"SQL\" , \"Pyhton\" ,\" Power BI\" ,\" Git\"] )"
      ],
      "metadata": {
        "colab": {
          "base_uri": "https://localhost:8080/",
          "height": 201
        },
        "id": "0sg2RMjCGnPW",
        "outputId": "782793bf-bc1b-49cb-ffc8-245f75fe059d"
      },
      "execution_count": 51,
      "outputs": [
        {
          "output_type": "error",
          "ename": "TypeError",
          "evalue": "information() takes 0 positional arguments but 4 were given",
          "traceback": [
            "\u001b[0;31m---------------------------------------------------------------------------\u001b[0m",
            "\u001b[0;31mTypeError\u001b[0m                                 Traceback (most recent call last)",
            "\u001b[0;32m<ipython-input-51-e4416424210b>\u001b[0m in \u001b[0;36m<cell line: 5>\u001b[0;34m()\u001b[0m\n\u001b[1;32m      3\u001b[0m   \u001b[0mprint\u001b[0m\u001b[0;34m(\u001b[0m\u001b[0mtype\u001b[0m\u001b[0;34m(\u001b[0m\u001b[0mk\u001b[0m\u001b[0;34m)\u001b[0m\u001b[0;34m)\u001b[0m\u001b[0;34m\u001b[0m\u001b[0;34m\u001b[0m\u001b[0m\n\u001b[1;32m      4\u001b[0m \u001b[0;34m\u001b[0m\u001b[0m\n\u001b[0;32m----> 5\u001b[0;31m \u001b[0minformation\u001b[0m\u001b[0;34m(\u001b[0m\u001b[0;36m25\u001b[0m \u001b[0;34m,\u001b[0m \u001b[0;34m\"Senior Data Analyst\"\u001b[0m\u001b[0;34m,\u001b[0m\u001b[0;34m\"Pavani\"\u001b[0m\u001b[0;34m,\u001b[0m\u001b[0;34m[\u001b[0m\u001b[0;34m\"SQL\"\u001b[0m \u001b[0;34m,\u001b[0m \u001b[0;34m\"Pyhton\"\u001b[0m \u001b[0;34m,\u001b[0m\u001b[0;34m\" Power BI\"\u001b[0m \u001b[0;34m,\u001b[0m\u001b[0;34m\" Git\"\u001b[0m\u001b[0;34m]\u001b[0m \u001b[0;34m)\u001b[0m\u001b[0;34m\u001b[0m\u001b[0;34m\u001b[0m\u001b[0m\n\u001b[0m",
            "\u001b[0;31mTypeError\u001b[0m: information() takes 0 positional arguments but 4 were given"
          ]
        }
      ]
    },
    {
      "cell_type": "markdown",
      "source": [
        "#**Default parameter value**"
      ],
      "metadata": {
        "id": "I3N9FqQdHqlq"
      }
    },
    {
      "cell_type": "code",
      "source": [
        "def info(country):\n",
        "  print(\"I'm from : \", country)\n",
        "\n",
        "info()"
      ],
      "metadata": {
        "colab": {
          "base_uri": "https://localhost:8080/",
          "height": 183
        },
        "id": "OiXmK35dHtnH",
        "outputId": "390e1301-65ca-43b8-a9ed-ce2f842e9f18"
      },
      "execution_count": 54,
      "outputs": [
        {
          "output_type": "error",
          "ename": "TypeError",
          "evalue": "info() missing 1 required positional argument: 'country'",
          "traceback": [
            "\u001b[0;31m---------------------------------------------------------------------------\u001b[0m",
            "\u001b[0;31mTypeError\u001b[0m                                 Traceback (most recent call last)",
            "\u001b[0;32m<ipython-input-54-534bd2aebb24>\u001b[0m in \u001b[0;36m<cell line: 4>\u001b[0;34m()\u001b[0m\n\u001b[1;32m      2\u001b[0m   \u001b[0mprint\u001b[0m\u001b[0;34m(\u001b[0m\u001b[0;34m\"I'm from : \"\u001b[0m\u001b[0;34m,\u001b[0m \u001b[0mcountry\u001b[0m\u001b[0;34m)\u001b[0m\u001b[0;34m\u001b[0m\u001b[0;34m\u001b[0m\u001b[0m\n\u001b[1;32m      3\u001b[0m \u001b[0;34m\u001b[0m\u001b[0m\n\u001b[0;32m----> 4\u001b[0;31m \u001b[0minfo\u001b[0m\u001b[0;34m(\u001b[0m\u001b[0;34m)\u001b[0m\u001b[0;34m\u001b[0m\u001b[0;34m\u001b[0m\u001b[0m\n\u001b[0m",
            "\u001b[0;31mTypeError\u001b[0m: info() missing 1 required positional argument: 'country'"
          ]
        }
      ]
    },
    {
      "cell_type": "code",
      "source": [
        "def info(country=\"India\"): # here we are giving and it will take\n",
        "  print(\"I'm from : \", country)\n",
        "\n",
        "print(info())\n",
        "print(info(\"Russia\"))"
      ],
      "metadata": {
        "colab": {
          "base_uri": "https://localhost:8080/"
        },
        "id": "gaWJgCopIJW3",
        "outputId": "ee7a037b-5e28-4625-ba3a-39be218515e4"
      },
      "execution_count": 58,
      "outputs": [
        {
          "output_type": "stream",
          "name": "stdout",
          "text": [
            "I'm from :  India\n",
            "None\n",
            "I'm from :  Russia\n",
            "None\n"
          ]
        }
      ]
    },
    {
      "cell_type": "code",
      "source": [
        "def info(country=\"India\"): # here we are giving and it will take\n",
        "  print(\"I'm from : \", country)\n",
        "  return \"hello\"\n",
        "print(info())\n",
        "print(info(\"Russia\"))"
      ],
      "metadata": {
        "colab": {
          "base_uri": "https://localhost:8080/"
        },
        "id": "C7Y50vxrKHbf",
        "outputId": "d4d699b5-4d9d-43c3-96f3-1a6b7f1f1024"
      },
      "execution_count": 64,
      "outputs": [
        {
          "output_type": "stream",
          "name": "stdout",
          "text": [
            "I'm from :  India\n",
            "hello\n",
            "I'm from :  Russia\n",
            "hello\n"
          ]
        }
      ]
    },
    {
      "cell_type": "code",
      "source": [
        "def info(country=\"India\"):\n",
        "  print(\"I'm from : \", country)\n",
        "\n",
        "print(info(\"Russia\"))"
      ],
      "metadata": {
        "colab": {
          "base_uri": "https://localhost:8080/"
        },
        "id": "H7FnY1lWIpj2",
        "outputId": "5a525c97-cdd1-425e-a55a-edba90a55505"
      },
      "execution_count": 59,
      "outputs": [
        {
          "output_type": "stream",
          "name": "stdout",
          "text": [
            "I'm from :  Russia\n",
            "None\n"
          ]
        }
      ]
    },
    {
      "cell_type": "code",
      "source": [
        "def info(country=\"India\"):\n",
        "  print(\"I'm from : \", country)\n",
        "  return \"hello\"\n",
        "print(info(\"Russia\"))"
      ],
      "metadata": {
        "colab": {
          "base_uri": "https://localhost:8080/"
        },
        "id": "Gr-Zeo3cKQxB",
        "outputId": "5b2abfce-22a9-4003-bad0-e4e7c791c345"
      },
      "execution_count": 65,
      "outputs": [
        {
          "output_type": "stream",
          "name": "stdout",
          "text": [
            "I'm from :  Russia\n",
            "hello\n"
          ]
        }
      ]
    },
    {
      "cell_type": "code",
      "source": [
        "def info(country=\"India\",name):\n",
        "  print(\"I'm {} and I'm from {}\",country,name)\n",
        "\n",
        "print(info(\"Russia\",\"Pavani\"))"
      ],
      "metadata": {
        "colab": {
          "base_uri": "https://localhost:8080/",
          "height": 110
        },
        "id": "2dLiT44MI79t",
        "outputId": "24ae6b22-5a47-4bbd-a8ca-c0feaff4dd16"
      },
      "execution_count": 63,
      "outputs": [
        {
          "output_type": "error",
          "ename": "SyntaxError",
          "evalue": "non-default argument follows default argument (<ipython-input-63-2ee0f742f61b>, line 1)",
          "traceback": [
            "\u001b[0;36m  File \u001b[0;32m\"<ipython-input-63-2ee0f742f61b>\"\u001b[0;36m, line \u001b[0;32m1\u001b[0m\n\u001b[0;31m    def info(country=\"India\",name):\u001b[0m\n\u001b[0m                             ^\u001b[0m\n\u001b[0;31mSyntaxError\u001b[0m\u001b[0;31m:\u001b[0m non-default argument follows default argument\n"
          ]
        }
      ]
    },
    {
      "cell_type": "code",
      "source": [
        "def info(name,country=\"India\"):\n",
        "  #always default arguments should come last , non default arguments should come 1st\n",
        "  print(\"I'm \",name,  \"and I'm from \",country)\n",
        "\n",
        "print(info(\"Pavani\",\"Russia\")) #india will be printed watever we have given in function call it will be print as final output"
      ],
      "metadata": {
        "colab": {
          "base_uri": "https://localhost:8080/"
        },
        "id": "AKS2wvUPKaCp",
        "outputId": "38c6f9d3-edf3-4912-d262-02c6c7e4be92"
      },
      "execution_count": 69,
      "outputs": [
        {
          "output_type": "stream",
          "name": "stdout",
          "text": [
            "I'm  Pavani and I'm from  Russia\n",
            "None\n"
          ]
        }
      ]
    },
    {
      "cell_type": "code",
      "source": [
        "#above can also write as in this format\n",
        "def info(name,country=\"India\"):\n",
        "  print(\"I'm {} and I'm from {}\".format(name, country))\n",
        "\n",
        "print(info(\"Pavani\",\"Russia\"))"
      ],
      "metadata": {
        "colab": {
          "base_uri": "https://localhost:8080/"
        },
        "id": "ktFpP_nGLCbU",
        "outputId": "6e335721-7dae-4ea6-f3cb-f2ec9716d78c"
      },
      "execution_count": 70,
      "outputs": [
        {
          "output_type": "stream",
          "name": "stdout",
          "text": [
            "I'm Pavani and I'm from Russia\n",
            "None\n"
          ]
        }
      ]
    },
    {
      "cell_type": "code",
      "source": [
        "def info(name=\"maira\",country=\"India\"):\n",
        "  print(\"I'm {} and I'm from {}\".format(name, country))\n",
        "\n",
        "print(info(\"Pavani\",\"Russia\"))"
      ],
      "metadata": {
        "colab": {
          "base_uri": "https://localhost:8080/"
        },
        "id": "WYiOhIZSL0ID",
        "outputId": "b3eaa3d9-fbbe-4162-e5ea-6f92398b1dc9"
      },
      "execution_count": 71,
      "outputs": [
        {
          "output_type": "stream",
          "name": "stdout",
          "text": [
            "I'm Pavani and I'm from Russia\n",
            "None\n"
          ]
        }
      ]
    },
    {
      "cell_type": "code",
      "source": [
        "def info(name=\"maira\",country=\"India\"):\n",
        "  print(\"I'm {} and I'm from {}\".format(name, country))\n",
        "\n",
        "print(info()) #wen we dnt give anything it takes default values"
      ],
      "metadata": {
        "colab": {
          "base_uri": "https://localhost:8080/"
        },
        "id": "dlMmpjnUNfdE",
        "outputId": "e1a65c73-75de-481b-e028-5fc3868eda0b"
      },
      "execution_count": 73,
      "outputs": [
        {
          "output_type": "stream",
          "name": "stdout",
          "text": [
            "I'm maira and I'm from India\n",
            "None\n"
          ]
        }
      ]
    },
    {
      "cell_type": "code",
      "source": [
        "def info(name=\"maira\",country=\"India\"):\n",
        "  print(\"I'm {} and I'm from {}\".format(name, country))\n",
        "\n",
        "print(info(\"Russia\",\"Pavani\"))#here its printing russia as name so give in that order"
      ],
      "metadata": {
        "colab": {
          "base_uri": "https://localhost:8080/"
        },
        "id": "0DU3GFIqMePn",
        "outputId": "773d0a7b-6a7c-4c61-c5d8-a70c46c79144"
      },
      "execution_count": 72,
      "outputs": [
        {
          "output_type": "stream",
          "name": "stdout",
          "text": [
            "I'm Russia and I'm from Pavani\n",
            "None\n"
          ]
        }
      ]
    },
    {
      "cell_type": "markdown",
      "source": [
        "**pass statements**"
      ],
      "metadata": {
        "id": "SGOzXI0NOIwe"
      }
    },
    {
      "cell_type": "code",
      "source": [
        "def sample_pass_func(*s):\n",
        "  pass\n",
        "#suppose we want to call a function in future we can use pass it wont throw an error\n",
        "sample_pass_func()"
      ],
      "metadata": {
        "id": "v7sABWKIMuY2"
      },
      "execution_count": 78,
      "outputs": []
    },
    {
      "cell_type": "markdown",
      "source": [
        "# **Positional -Only Arguments**"
      ],
      "metadata": {
        "id": "PpzqmGO3O3B3"
      }
    },
    {
      "cell_type": "code",
      "source": [
        "def sample_func(a):\n",
        "  print(a)\n",
        "\n",
        "sample_func(3)"
      ],
      "metadata": {
        "colab": {
          "base_uri": "https://localhost:8080/"
        },
        "id": "jq5WENEzPqgv",
        "outputId": "801b9aa3-7140-47ac-eb6b-ebd1cda65557"
      },
      "execution_count": 80,
      "outputs": [
        {
          "output_type": "stream",
          "name": "stdout",
          "text": [
            "3\n"
          ]
        }
      ]
    },
    {
      "cell_type": "code",
      "source": [
        "#we can also write by passing def arguments\n",
        "def sample_func(a=3):\n",
        " print(a)\n",
        "sample_func()\n",
        "\n"
      ],
      "metadata": {
        "colab": {
          "base_uri": "https://localhost:8080/"
        },
        "id": "4eNRE__PRzpF",
        "outputId": "68e6256d-c5d8-4816-ad3b-ee4fc4165f53"
      },
      "execution_count": 85,
      "outputs": [
        {
          "output_type": "stream",
          "name": "stdout",
          "text": [
            "3\n"
          ]
        }
      ]
    },
    {
      "cell_type": "markdown",
      "source": [
        "**suppose we want everthing to be positional argument**"
      ],
      "metadata": {
        "id": "bOmlZPmESH5L"
      }
    },
    {
      "cell_type": "markdown",
      "source": [
        "**we need to add \"  ,/  \" after the positional arguments to indicate the function takes only positional arguments**"
      ],
      "metadata": {
        "id": "8arywIGdSM_F"
      }
    },
    {
      "cell_type": "code",
      "source": [
        "def samplef (a,/):\n",
        "  print(a)\n",
        "samplef(10)"
      ],
      "metadata": {
        "colab": {
          "base_uri": "https://localhost:8080/"
        },
        "id": "Z8zijmiZSFfG",
        "outputId": "d012aa64-c083-4e75-ac5b-92bf3af17114"
      },
      "execution_count": 87,
      "outputs": [
        {
          "output_type": "stream",
          "name": "stdout",
          "text": [
            "10\n"
          ]
        }
      ]
    },
    {
      "cell_type": "code",
      "source": [
        "def samplef (a,/):\n",
        "  print(a)\n",
        "samplef(10,3)"
      ],
      "metadata": {
        "colab": {
          "base_uri": "https://localhost:8080/",
          "height": 183
        },
        "id": "wbf18-AvS9pO",
        "outputId": "a4d8b25d-5e65-4df7-d702-7d793e9e21db"
      },
      "execution_count": 88,
      "outputs": [
        {
          "output_type": "error",
          "ename": "TypeError",
          "evalue": "samplef() takes 1 positional argument but 2 were given",
          "traceback": [
            "\u001b[0;31m---------------------------------------------------------------------------\u001b[0m",
            "\u001b[0;31mTypeError\u001b[0m                                 Traceback (most recent call last)",
            "\u001b[0;32m<ipython-input-88-0ae79188f628>\u001b[0m in \u001b[0;36m<cell line: 3>\u001b[0;34m()\u001b[0m\n\u001b[1;32m      1\u001b[0m \u001b[0;32mdef\u001b[0m \u001b[0msamplef\u001b[0m \u001b[0;34m(\u001b[0m\u001b[0ma\u001b[0m\u001b[0;34m,\u001b[0m\u001b[0;34m/\u001b[0m\u001b[0;34m)\u001b[0m\u001b[0;34m:\u001b[0m\u001b[0;34m\u001b[0m\u001b[0;34m\u001b[0m\u001b[0m\n\u001b[1;32m      2\u001b[0m   \u001b[0mprint\u001b[0m\u001b[0;34m(\u001b[0m\u001b[0ma\u001b[0m\u001b[0;34m)\u001b[0m\u001b[0;34m\u001b[0m\u001b[0;34m\u001b[0m\u001b[0m\n\u001b[0;32m----> 3\u001b[0;31m \u001b[0msamplef\u001b[0m\u001b[0;34m(\u001b[0m\u001b[0;36m10\u001b[0m\u001b[0;34m,\u001b[0m\u001b[0;36m3\u001b[0m\u001b[0;34m)\u001b[0m\u001b[0;34m\u001b[0m\u001b[0;34m\u001b[0m\u001b[0m\n\u001b[0m",
            "\u001b[0;31mTypeError\u001b[0m: samplef() takes 1 positional argument but 2 were given"
          ]
        }
      ]
    },
    {
      "cell_type": "code",
      "source": [
        "def samplef (a,/):\n",
        "  print(a)\n",
        "samplef(a=10) #here we are passing keyword argument thats why error cuz \"  ,/ \" will accept only positional arguments"
      ],
      "metadata": {
        "colab": {
          "base_uri": "https://localhost:8080/",
          "height": 201
        },
        "id": "LTLKZ1FDTAOj",
        "outputId": "8a76e897-73f1-4548-c71e-091cffa4f998"
      },
      "execution_count": 89,
      "outputs": [
        {
          "output_type": "error",
          "ename": "TypeError",
          "evalue": "samplef() got some positional-only arguments passed as keyword arguments: 'a'",
          "traceback": [
            "\u001b[0;31m---------------------------------------------------------------------------\u001b[0m",
            "\u001b[0;31mTypeError\u001b[0m                                 Traceback (most recent call last)",
            "\u001b[0;32m<ipython-input-89-97565be2e073>\u001b[0m in \u001b[0;36m<cell line: 3>\u001b[0;34m()\u001b[0m\n\u001b[1;32m      1\u001b[0m \u001b[0;32mdef\u001b[0m \u001b[0msamplef\u001b[0m \u001b[0;34m(\u001b[0m\u001b[0ma\u001b[0m\u001b[0;34m,\u001b[0m\u001b[0;34m/\u001b[0m\u001b[0;34m)\u001b[0m\u001b[0;34m:\u001b[0m\u001b[0;34m\u001b[0m\u001b[0;34m\u001b[0m\u001b[0m\n\u001b[1;32m      2\u001b[0m   \u001b[0mprint\u001b[0m\u001b[0;34m(\u001b[0m\u001b[0ma\u001b[0m\u001b[0;34m)\u001b[0m\u001b[0;34m\u001b[0m\u001b[0;34m\u001b[0m\u001b[0m\n\u001b[0;32m----> 3\u001b[0;31m \u001b[0msamplef\u001b[0m\u001b[0;34m(\u001b[0m\u001b[0ma\u001b[0m\u001b[0;34m=\u001b[0m\u001b[0;36m10\u001b[0m\u001b[0;34m)\u001b[0m\u001b[0;34m\u001b[0m\u001b[0;34m\u001b[0m\u001b[0m\n\u001b[0m",
            "\u001b[0;31mTypeError\u001b[0m: samplef() got some positional-only arguments passed as keyword arguments: 'a'"
          ]
        }
      ]
    },
    {
      "cell_type": "markdown",
      "source": [
        "#**Keyword only arguments**"
      ],
      "metadata": {
        "id": "KpIK0ecAToC_"
      }
    },
    {
      "cell_type": "markdown",
      "source": [
        "**we need to add \"  *,  \" before the  arguments to indicate the function takes only keyword arguments**"
      ],
      "metadata": {
        "id": "0M6U062ST7J9"
      }
    },
    {
      "cell_type": "code",
      "source": [
        "def samplefunc(*,x):\n",
        "  print(x)\n",
        "samplefunc(4)"
      ],
      "metadata": {
        "colab": {
          "base_uri": "https://localhost:8080/",
          "height": 183
        },
        "id": "x4r2jjhITY4L",
        "outputId": "d5e7c036-c831-4f27-a51f-e7fa2835a320"
      },
      "execution_count": 90,
      "outputs": [
        {
          "output_type": "error",
          "ename": "TypeError",
          "evalue": "samplefunc() takes 0 positional arguments but 1 was given",
          "traceback": [
            "\u001b[0;31m---------------------------------------------------------------------------\u001b[0m",
            "\u001b[0;31mTypeError\u001b[0m                                 Traceback (most recent call last)",
            "\u001b[0;32m<ipython-input-90-010613982a44>\u001b[0m in \u001b[0;36m<cell line: 3>\u001b[0;34m()\u001b[0m\n\u001b[1;32m      1\u001b[0m \u001b[0;32mdef\u001b[0m \u001b[0msamplefunc\u001b[0m\u001b[0;34m(\u001b[0m\u001b[0;34m*\u001b[0m\u001b[0;34m,\u001b[0m\u001b[0mx\u001b[0m\u001b[0;34m)\u001b[0m\u001b[0;34m:\u001b[0m\u001b[0;34m\u001b[0m\u001b[0;34m\u001b[0m\u001b[0m\n\u001b[1;32m      2\u001b[0m   \u001b[0mprint\u001b[0m\u001b[0;34m(\u001b[0m\u001b[0mx\u001b[0m\u001b[0;34m)\u001b[0m\u001b[0;34m\u001b[0m\u001b[0;34m\u001b[0m\u001b[0m\n\u001b[0;32m----> 3\u001b[0;31m \u001b[0msamplefunc\u001b[0m\u001b[0;34m(\u001b[0m\u001b[0;36m4\u001b[0m\u001b[0;34m)\u001b[0m\u001b[0;34m\u001b[0m\u001b[0;34m\u001b[0m\u001b[0m\n\u001b[0m",
            "\u001b[0;31mTypeError\u001b[0m: samplefunc() takes 0 positional arguments but 1 was given"
          ]
        }
      ]
    },
    {
      "cell_type": "code",
      "source": [
        "def samplefunc(*,x):\n",
        "  print(x)\n",
        "samplefunc(x=4)\n",
        "\n",
        "#similar to\n",
        "def samplefunc(x=4):\n",
        "  print(x)\n",
        "samplefunc()"
      ],
      "metadata": {
        "colab": {
          "base_uri": "https://localhost:8080/"
        },
        "id": "txZAzRDxUSyY",
        "outputId": "17d51c9c-a7f1-48a8-ac2e-85d4f5f5edbc"
      },
      "execution_count": 92,
      "outputs": [
        {
          "output_type": "stream",
          "name": "stdout",
          "text": [
            "4\n",
            "4\n"
          ]
        }
      ]
    },
    {
      "cell_type": "markdown",
      "source": [
        "# **combining positional only arguments and keyword only arguments**\n"
      ],
      "metadata": {
        "id": "Kesevun3UxsB"
      }
    },
    {
      "cell_type": "code",
      "source": [
        "def poskeyf(a,b,/,*,c,d):\n",
        "  #here a and b are positional arguments and c and d are keyword arguments\n",
        "  #a and b cannot be passed as jeyword and c and d cannot be passed as positional arguments\n",
        "  print(\"values of a{} b{} c{} d{}\".format(a,b,c,d))\n",
        "poskeyf(10,5,12,14)"
      ],
      "metadata": {
        "colab": {
          "base_uri": "https://localhost:8080/",
          "height": 201
        },
        "id": "oBaVKDO6UqXZ",
        "outputId": "9de00633-e789-4fcc-cd45-482edd3b94c6"
      },
      "execution_count": 94,
      "outputs": [
        {
          "output_type": "error",
          "ename": "TypeError",
          "evalue": "poskeyf() takes 2 positional arguments but 4 were given",
          "traceback": [
            "\u001b[0;31m---------------------------------------------------------------------------\u001b[0m",
            "\u001b[0;31mTypeError\u001b[0m                                 Traceback (most recent call last)",
            "\u001b[0;32m<ipython-input-94-0c4b072525e6>\u001b[0m in \u001b[0;36m<cell line: 5>\u001b[0;34m()\u001b[0m\n\u001b[1;32m      3\u001b[0m   \u001b[0;31m#a and b cannot be passed as jeyword and c and d cannot be passed as positional arguments\u001b[0m\u001b[0;34m\u001b[0m\u001b[0;34m\u001b[0m\u001b[0m\n\u001b[1;32m      4\u001b[0m   \u001b[0mprint\u001b[0m\u001b[0;34m(\u001b[0m\u001b[0;34m\"values of a{} b{} c{} d{}\"\u001b[0m\u001b[0;34m.\u001b[0m\u001b[0mformat\u001b[0m\u001b[0;34m(\u001b[0m\u001b[0ma\u001b[0m\u001b[0;34m,\u001b[0m\u001b[0mb\u001b[0m\u001b[0;34m,\u001b[0m\u001b[0mc\u001b[0m\u001b[0;34m,\u001b[0m\u001b[0md\u001b[0m\u001b[0;34m)\u001b[0m\u001b[0;34m)\u001b[0m\u001b[0;34m\u001b[0m\u001b[0;34m\u001b[0m\u001b[0m\n\u001b[0;32m----> 5\u001b[0;31m \u001b[0mposkeyf\u001b[0m\u001b[0;34m(\u001b[0m\u001b[0;36m10\u001b[0m\u001b[0;34m,\u001b[0m\u001b[0;36m5\u001b[0m\u001b[0;34m,\u001b[0m\u001b[0;36m12\u001b[0m\u001b[0;34m,\u001b[0m\u001b[0;36m14\u001b[0m\u001b[0;34m)\u001b[0m\u001b[0;34m\u001b[0m\u001b[0;34m\u001b[0m\u001b[0m\n\u001b[0m",
            "\u001b[0;31mTypeError\u001b[0m: poskeyf() takes 2 positional arguments but 4 were given"
          ]
        }
      ]
    },
    {
      "cell_type": "code",
      "source": [
        "def poskeyf(a,b,/,*,c,d):\n",
        "  print(\"values of a{} b{} c{} d{}\".format(a,b,c,d))\n",
        "poskeyf(10,5)"
      ],
      "metadata": {
        "colab": {
          "base_uri": "https://localhost:8080/",
          "height": 183
        },
        "id": "Cj7r3mLrXkx4",
        "outputId": "39367c34-8487-4639-8dcd-53fa5c7c94ae"
      },
      "execution_count": 95,
      "outputs": [
        {
          "output_type": "error",
          "ename": "TypeError",
          "evalue": "poskeyf() missing 2 required keyword-only arguments: 'c' and 'd'",
          "traceback": [
            "\u001b[0;31m---------------------------------------------------------------------------\u001b[0m",
            "\u001b[0;31mTypeError\u001b[0m                                 Traceback (most recent call last)",
            "\u001b[0;32m<ipython-input-95-a19b244ad0ee>\u001b[0m in \u001b[0;36m<cell line: 3>\u001b[0;34m()\u001b[0m\n\u001b[1;32m      1\u001b[0m \u001b[0;32mdef\u001b[0m \u001b[0mposkeyf\u001b[0m\u001b[0;34m(\u001b[0m\u001b[0ma\u001b[0m\u001b[0;34m,\u001b[0m\u001b[0mb\u001b[0m\u001b[0;34m,\u001b[0m\u001b[0;34m/\u001b[0m\u001b[0;34m,\u001b[0m\u001b[0;34m*\u001b[0m\u001b[0;34m,\u001b[0m\u001b[0mc\u001b[0m\u001b[0;34m,\u001b[0m\u001b[0md\u001b[0m\u001b[0;34m)\u001b[0m\u001b[0;34m:\u001b[0m\u001b[0;34m\u001b[0m\u001b[0;34m\u001b[0m\u001b[0m\n\u001b[1;32m      2\u001b[0m   \u001b[0mprint\u001b[0m\u001b[0;34m(\u001b[0m\u001b[0;34m\"values of a{} b{} c{} d{}\"\u001b[0m\u001b[0;34m.\u001b[0m\u001b[0mformat\u001b[0m\u001b[0;34m(\u001b[0m\u001b[0ma\u001b[0m\u001b[0;34m,\u001b[0m\u001b[0mb\u001b[0m\u001b[0;34m,\u001b[0m\u001b[0mc\u001b[0m\u001b[0;34m,\u001b[0m\u001b[0md\u001b[0m\u001b[0;34m)\u001b[0m\u001b[0;34m)\u001b[0m\u001b[0;34m\u001b[0m\u001b[0;34m\u001b[0m\u001b[0m\n\u001b[0;32m----> 3\u001b[0;31m \u001b[0mposkeyf\u001b[0m\u001b[0;34m(\u001b[0m\u001b[0;36m10\u001b[0m\u001b[0;34m,\u001b[0m\u001b[0;36m5\u001b[0m\u001b[0;34m)\u001b[0m\u001b[0;34m\u001b[0m\u001b[0;34m\u001b[0m\u001b[0m\n\u001b[0m",
            "\u001b[0;31mTypeError\u001b[0m: poskeyf() missing 2 required keyword-only arguments: 'c' and 'd'"
          ]
        }
      ]
    },
    {
      "cell_type": "code",
      "source": [
        "def poskeyf(a,b,/,*,c,d):\n",
        "  print(\"values of a{} b{} c{} d{}\".format(a,b,c,d))\n",
        "poskeyf(10,5,c=12,d=10)"
      ],
      "metadata": {
        "colab": {
          "base_uri": "https://localhost:8080/"
        },
        "id": "yDImLJROXtEK",
        "outputId": "caec0b44-1e39-4b9f-ff65-e54a06ddc97e"
      },
      "execution_count": 96,
      "outputs": [
        {
          "output_type": "stream",
          "name": "stdout",
          "text": [
            "values of a10 b5 c12 d10\n"
          ]
        }
      ]
    },
    {
      "cell_type": "code",
      "source": [
        "def poskeyf(a,b,/,*,c,d):\n",
        "  print(\"values of a{} b{} c{} d{}\".format(a,b,c,d))\n",
        "poskeyf(10,5,d=10,c=12)"
      ],
      "metadata": {
        "colab": {
          "base_uri": "https://localhost:8080/"
        },
        "id": "nquhIeOuX-Ec",
        "outputId": "61dbc511-7cd2-424f-9cb7-fedeb71d81ec"
      },
      "execution_count": 97,
      "outputs": [
        {
          "output_type": "stream",
          "name": "stdout",
          "text": [
            "values of a10 b5 c12 d10\n"
          ]
        }
      ]
    },
    {
      "cell_type": "code",
      "source": [
        "def poskeyf(a,b,/,*,c,d):\n",
        "  print(\"values of a{} b{} c{} d{}\".format(a,b,c,d))\n",
        "poskeyf(c=12,d=10,5,10)"
      ],
      "metadata": {
        "colab": {
          "base_uri": "https://localhost:8080/",
          "height": 110
        },
        "id": "RB0w8bXWYD4L",
        "outputId": "6439ce8a-e0b6-4f40-a70e-b5a3a504ca9b"
      },
      "execution_count": 98,
      "outputs": [
        {
          "output_type": "error",
          "ename": "SyntaxError",
          "evalue": "positional argument follows keyword argument (<ipython-input-98-beba10a36a40>, line 3)",
          "traceback": [
            "\u001b[0;36m  File \u001b[0;32m\"<ipython-input-98-beba10a36a40>\"\u001b[0;36m, line \u001b[0;32m3\u001b[0m\n\u001b[0;31m    poskeyf(c=12,d=10,5,10)\u001b[0m\n\u001b[0m                          ^\u001b[0m\n\u001b[0;31mSyntaxError\u001b[0m\u001b[0;31m:\u001b[0m positional argument follows keyword argument\n"
          ]
        }
      ]
    },
    {
      "cell_type": "code",
      "source": [
        "#any number of positiional and keyword arguments"
      ],
      "metadata": {
        "id": "Xa5U-bnBYKbL"
      },
      "execution_count": null,
      "outputs": []
    },
    {
      "cell_type": "code",
      "source": [
        "def func(*s, **k):\n",
        "  print(s)\n",
        "  print(type(s))\n",
        "  print(k)\n",
        "  print(type(k))"
      ],
      "metadata": {
        "id": "U5kAAGbuYryu"
      },
      "execution_count": 105,
      "outputs": []
    },
    {
      "cell_type": "code",
      "source": [
        "func(1.5,1,True,[124],(1,2,3),name=\"Pavani\",age=25)"
      ],
      "metadata": {
        "colab": {
          "base_uri": "https://localhost:8080/"
        },
        "id": "NoH31It1ZRtT",
        "outputId": "b2778c7a-5640-4b7b-d622-ca11672ae46f"
      },
      "execution_count": 106,
      "outputs": [
        {
          "output_type": "stream",
          "name": "stdout",
          "text": [
            "(1.5, 1, True, [124], (1, 2, 3))\n",
            "<class 'tuple'>\n",
            "{'name': 'Pavani', 'age': 25}\n",
            "<class 'dict'>\n"
          ]
        }
      ]
    },
    {
      "cell_type": "code",
      "source": [
        "def posKeyFunc(a,b,c,d):\n",
        "  print(\"Values of a {} b {} c {} d {}\".format(a,b,c,d))\n",
        "\n",
        "posKeyFunc(10,5,  d=12,c=10)"
      ],
      "metadata": {
        "colab": {
          "base_uri": "https://localhost:8080/"
        },
        "id": "IbBwr7ChaI4V",
        "outputId": "780326e3-2a6d-422b-e97f-c8f695e33bc2"
      },
      "execution_count": 109,
      "outputs": [
        {
          "output_type": "stream",
          "name": "stdout",
          "text": [
            "Values of a 10 b 5 c 10 d 12\n"
          ]
        }
      ]
    },
    {
      "cell_type": "markdown",
      "source": [
        "#**docstring**  -- \"\"\"  description \"\"\""
      ],
      "metadata": {
        "id": "NRV8oEqcahlN"
      }
    },
    {
      "cell_type": "code",
      "source": [
        "def pythonOperators(a,b):\n",
        "  \"\"\"\n",
        "  Description: This function prints basic python operations like addtion, sub, mul and remainder operators\n",
        "  Inputs: a, b\n",
        "  Returns: None\n",
        "  \"\"\"\n",
        "\n",
        "  print(\"Addition: {}\".format(a+b))\n",
        "  print(\"Sub: {}\".format(a-b))\n",
        "  print(\"Mul: {}\".format(a*b))\n",
        "  print(\"Remainder: {}\".format(a%b))\n",
        "  print(\"Div: {}\".format(a/b))\n",
        "\n",
        "pythonOperators(10,2)"
      ],
      "metadata": {
        "colab": {
          "base_uri": "https://localhost:8080/"
        },
        "id": "fof8tRtravyy",
        "outputId": "e360c092-e605-492d-c00b-51303aefb032"
      },
      "execution_count": 121,
      "outputs": [
        {
          "output_type": "stream",
          "name": "stdout",
          "text": [
            "Addition: 12\n",
            "Sub: 8\n",
            "Mul: 20\n",
            "Remainder: 0\n",
            "Div: 5.0\n"
          ]
        }
      ]
    },
    {
      "cell_type": "code",
      "source": [
        "pythonOperators"
      ],
      "metadata": {
        "colab": {
          "base_uri": "https://localhost:8080/",
          "height": 158
        },
        "id": "HgOtRVaMcIc2",
        "outputId": "430de1f2-4e98-4484-81d6-2cdf0c98a7b0"
      },
      "execution_count": 124,
      "outputs": [
        {
          "output_type": "execute_result",
          "data": {
            "text/plain": [
              "<function __main__.pythonOperators(a, b)>"
            ],
            "text/html": [
              "<div style=\"max-width:800px; border: 1px solid var(--colab-border-color);\"><style>\n",
              "      pre.function-repr-contents {\n",
              "        overflow-x: auto;\n",
              "        padding: 8px 12px;\n",
              "        max-height: 500px;\n",
              "      }\n",
              "\n",
              "      pre.function-repr-contents.function-repr-contents-collapsed {\n",
              "        cursor: pointer;\n",
              "        max-height: 100px;\n",
              "      }\n",
              "    </style>\n",
              "    <pre style=\"white-space: initial; background:\n",
              "         var(--colab-secondary-surface-color); padding: 8px 12px;\n",
              "         border-bottom: 1px solid var(--colab-border-color);\"><b>pythonOperators</b><br/>def pythonOperators(a, b)</pre><pre class=\"function-repr-contents function-repr-contents-collapsed\" style=\"\"><a class=\"filepath\" style=\"display:none\" href=\"#\">/content/&lt;ipython-input-121-98065fd0986f&gt;</a>Description: This function prints basic python operations like addtion, sub, mul and remainder operators\n",
              "Inputs: a, b\n",
              "Returns: None</pre></div>"
            ]
          },
          "metadata": {},
          "execution_count": 124
        }
      ]
    },
    {
      "cell_type": "code",
      "source": [
        "def pythonOperators(a,b):\n",
        "  \"\"\"\n",
        "  Description: This function prints basic python operations like addtion, sub, mul and remainder operators\n",
        "  Inputs: a, b\n",
        "  Returns: None\n",
        "  \"\"\"\n",
        "\n",
        "  print(\"Addition: {}\".format(a+b))\n",
        "  print(\"Sub: {}\".format(a-b))\n",
        "  print(\"Mul: {}\".format(a*b))\n",
        "  print(\"Remainder: {}\".format(a%b))\n",
        "  print(\"Div: {}\".format(a/b))\n",
        "  \"\"\"\n",
        "  print statements gets printed\n",
        "  \"\"\"\n",
        "pythonOperators(10,2)"
      ],
      "metadata": {
        "colab": {
          "base_uri": "https://localhost:8080/"
        },
        "id": "eFURMaOVctXd",
        "outputId": "de9c02f9-f401-4036-9e09-5000a118a978"
      },
      "execution_count": 125,
      "outputs": [
        {
          "output_type": "stream",
          "name": "stdout",
          "text": [
            "Addition: 12\n",
            "Sub: 8\n",
            "Mul: 20\n",
            "Remainder: 0\n",
            "Div: 5.0\n"
          ]
        }
      ]
    },
    {
      "cell_type": "code",
      "source": [
        "pythonOperators\n",
        "#docstring acts as comments inside func call and it will not print that so we have to write at starting only"
      ],
      "metadata": {
        "colab": {
          "base_uri": "https://localhost:8080/",
          "height": 158
        },
        "id": "T94_K9c5c1Yy",
        "outputId": "5c054507-efd5-4fa6-ce29-4ca13ba7d063"
      },
      "execution_count": 126,
      "outputs": [
        {
          "output_type": "execute_result",
          "data": {
            "text/plain": [
              "<function __main__.pythonOperators(a, b)>"
            ],
            "text/html": [
              "<div style=\"max-width:800px; border: 1px solid var(--colab-border-color);\"><style>\n",
              "      pre.function-repr-contents {\n",
              "        overflow-x: auto;\n",
              "        padding: 8px 12px;\n",
              "        max-height: 500px;\n",
              "      }\n",
              "\n",
              "      pre.function-repr-contents.function-repr-contents-collapsed {\n",
              "        cursor: pointer;\n",
              "        max-height: 100px;\n",
              "      }\n",
              "    </style>\n",
              "    <pre style=\"white-space: initial; background:\n",
              "         var(--colab-secondary-surface-color); padding: 8px 12px;\n",
              "         border-bottom: 1px solid var(--colab-border-color);\"><b>pythonOperators</b><br/>def pythonOperators(a, b)</pre><pre class=\"function-repr-contents function-repr-contents-collapsed\" style=\"\"><a class=\"filepath\" style=\"display:none\" href=\"#\">/content/&lt;ipython-input-125-c547a3a003f3&gt;</a>Description: This function prints basic python operations like addtion, sub, mul and remainder operators\n",
              "Inputs: a, b\n",
              "Returns: None</pre></div>"
            ]
          },
          "metadata": {},
          "execution_count": 126
        }
      ]
    },
    {
      "cell_type": "markdown",
      "source": [
        "#**Passing Variables to the function**"
      ],
      "metadata": {
        "id": "qSlMqtaWch0m"
      }
    },
    {
      "cell_type": "code",
      "source": [
        "def func(a):\n",
        "  print(\"Inside function\")\n",
        "  print(a)\n",
        "  print(type(a))\n",
        "  print(id(a))\n",
        "  print(\"Returning from function\")\n",
        "  return a\n",
        "\n",
        "b= 100\n",
        "print(b)\n",
        "print(id(b))\n",
        "c= func(b)\n",
        "print (\"inside call\")\n",
        "print(c)\n",
        "print(id(c))\n"
      ],
      "metadata": {
        "colab": {
          "base_uri": "https://localhost:8080/"
        },
        "id": "7CMqiXa0dGsN",
        "outputId": "1cb6a4a2-f599-4ba3-e26b-1d1ff2956bcb"
      },
      "execution_count": 131,
      "outputs": [
        {
          "output_type": "stream",
          "name": "stdout",
          "text": [
            "100\n",
            "134494294904144\n",
            "Inside function\n",
            "100\n",
            "<class 'int'>\n",
            "134494294904144\n",
            "Returning from function\n",
            "inside call\n",
            "100\n",
            "134494294904144\n"
          ]
        }
      ]
    },
    {
      "cell_type": "code",
      "source": [
        "def myFunc(a): # a = b\n",
        "  print(\"Inside Function\")\n",
        "  print(\"a: {}, id: {}\".format(a,id(a)))\n",
        "  a += 120\n",
        "  print(\"a: {}, id: {}\".format(a,id(a)))\n",
        "  print(\"Returning From Function\")\n",
        "  return a\n",
        "\n",
        "b = 100\n",
        "print(\"b: {}, id: {}\".format(b,id(b)))\n",
        "c = myFunc(b) # c = a\n",
        "print(\"c: {}, id: {}\".format(c,id(c)))\n",
        "print(\"b: {}, id: {}\".format(b,id(b)))\n",
        "#here b values doesnt changed coz Integers are immutable in Python: When a += 120 is executed, a new integer 220 is created, and a now refers to this new integer. The original integer 100 remains unchanged.\n",
        "# The variable b still holds the value 100 after the function call because the integer b is passed by value, and modifying a does not affect b."
      ],
      "metadata": {
        "colab": {
          "base_uri": "https://localhost:8080/"
        },
        "id": "q9mhbBp2lbD-",
        "outputId": "de57c572-5a22-4b99-9efb-b4e99140c75b"
      },
      "execution_count": 132,
      "outputs": [
        {
          "output_type": "stream",
          "name": "stdout",
          "text": [
            "b: 100, id: 134494294904144\n",
            "Inside Function\n",
            "a: 100, id: 134494294904144\n",
            "a: 220, id: 134494294907984\n",
            "Returning From Function\n",
            "c: 220, id: 134494294907984\n",
            "b: 100, id: 134494294904144\n"
          ]
        }
      ]
    },
    {
      "cell_type": "code",
      "source": [
        "def myFunc(a): # a = b\n",
        "  print(\"Inside Function\")\n",
        "  print(\"a: {}, id: {}\".format(a,id(a)))\n",
        "  a[2] = 2000000\n",
        "  print(\"a: {}, id: {}\".format(a,id(a)))\n",
        "  print(\"Returning From Function\")\n",
        "  return a\n",
        "\n",
        "b = [10,20,30,40]\n",
        "print(\"b: {}, id: {}\".format(b,id(b)))\n",
        "c = myFunc(b) # c = a\n",
        "print(\"c: {}, id: {}\".format(c,id(c)))\n",
        "print(\"b: {}, id: {}\".format(b,id(b)))\n",
        "#here b changed bcz Since lists are mutable, any modification inside the function affects the original list (b), and the memory address (id) of the list remains unchanged throughout."
      ],
      "metadata": {
        "colab": {
          "base_uri": "https://localhost:8080/"
        },
        "id": "ZPBERWvTl-2I",
        "outputId": "b9c696c9-9118-4bb5-f0a9-16db3a03415a"
      },
      "execution_count": 133,
      "outputs": [
        {
          "output_type": "stream",
          "name": "stdout",
          "text": [
            "b: [10, 20, 30, 40], id: 134493009437248\n",
            "Inside Function\n",
            "a: [10, 20, 30, 40], id: 134493009437248\n",
            "a: [10, 20, 2000000, 40], id: 134493009437248\n",
            "Returning From Function\n",
            "c: [10, 20, 2000000, 40], id: 134493009437248\n",
            "b: [10, 20, 2000000, 40], id: 134493009437248\n"
          ]
        }
      ]
    },
    {
      "cell_type": "markdown",
      "source": [
        "* when we are passing  mutable variable to function any changes to the function will effect outside as well\n",
        "* when we are passing  immutable variable to function any changes to the function will not effect outside as well"
      ],
      "metadata": {
        "id": "npLWyCNzpEPw"
      }
    },
    {
      "cell_type": "code",
      "source": [
        "def samplefunc(a):\n",
        "  print(\"Before variable update in function: {}\".format(a))\n",
        "  a = 100\n",
        "  print(\"Inside Function: {}\".format(a))\n",
        "\n",
        "a = 200\n",
        "print(\"Before calling function: {}\".format(a))\n",
        "samplefunc(a)\n",
        "print(\"After calling function, Outside the function: {}\".format(a))"
      ],
      "metadata": {
        "colab": {
          "base_uri": "https://localhost:8080/"
        },
        "id": "23DGtLDJpatx",
        "outputId": "d6e07219-ae8b-414f-8d06-379f97c190e5"
      },
      "execution_count": 134,
      "outputs": [
        {
          "output_type": "stream",
          "name": "stdout",
          "text": [
            "Before calling function: 200\n",
            "Before variable update in function: 200\n",
            "Inside Function: 100\n",
            "After calling function, Outside the function: 200\n"
          ]
        }
      ]
    },
    {
      "cell_type": "code",
      "source": [
        "def myfun(_c):\n",
        "  print(\"Before variable update in function: {}\".format(_c))\n",
        "  _c = 100\n",
        "  print(\"Inside Function: {}\".format(_c))\n",
        "\n",
        "b = 200\n",
        "print(\"Before calling function: {}\".format(b))\n",
        "myfun(b)\n",
        "print(\"After calling function, Outside the function: {}\".format(_c))\n",
        "#c not defined bcz you try to print _c after calling the function. This is because the variable _c is local to the function myfun. Outside the function, _c does not exist unless it is defined in the global scope."
      ],
      "metadata": {
        "colab": {
          "base_uri": "https://localhost:8080/",
          "height": 238
        },
        "id": "bmi77fw3p_gK",
        "outputId": "cfc34165-76ca-4c50-acd5-b64d9ee1e1d5"
      },
      "execution_count": 136,
      "outputs": [
        {
          "output_type": "stream",
          "name": "stdout",
          "text": [
            "Before calling function: 200\n",
            "Before variable update in function: 200\n",
            "Inside Function: 100\n"
          ]
        },
        {
          "output_type": "error",
          "ename": "NameError",
          "evalue": "name '_c' is not defined",
          "traceback": [
            "\u001b[0;31m---------------------------------------------------------------------------\u001b[0m",
            "\u001b[0;31mNameError\u001b[0m                                 Traceback (most recent call last)",
            "\u001b[0;32m<ipython-input-136-4cdc07149dce>\u001b[0m in \u001b[0;36m<cell line: 9>\u001b[0;34m()\u001b[0m\n\u001b[1;32m      7\u001b[0m \u001b[0mprint\u001b[0m\u001b[0;34m(\u001b[0m\u001b[0;34m\"Before calling function: {}\"\u001b[0m\u001b[0;34m.\u001b[0m\u001b[0mformat\u001b[0m\u001b[0;34m(\u001b[0m\u001b[0mb\u001b[0m\u001b[0;34m)\u001b[0m\u001b[0;34m)\u001b[0m\u001b[0;34m\u001b[0m\u001b[0;34m\u001b[0m\u001b[0m\n\u001b[1;32m      8\u001b[0m \u001b[0mmyfun\u001b[0m\u001b[0;34m(\u001b[0m\u001b[0mb\u001b[0m\u001b[0;34m)\u001b[0m\u001b[0;34m\u001b[0m\u001b[0;34m\u001b[0m\u001b[0m\n\u001b[0;32m----> 9\u001b[0;31m \u001b[0mprint\u001b[0m\u001b[0;34m(\u001b[0m\u001b[0;34m\"After calling function, Outside the function: {}\"\u001b[0m\u001b[0;34m.\u001b[0m\u001b[0mformat\u001b[0m\u001b[0;34m(\u001b[0m\u001b[0m_c\u001b[0m\u001b[0;34m)\u001b[0m\u001b[0;34m)\u001b[0m\u001b[0;34m\u001b[0m\u001b[0;34m\u001b[0m\u001b[0m\n\u001b[0m",
            "\u001b[0;31mNameError\u001b[0m: name '_c' is not defined"
          ]
        }
      ]
    },
    {
      "cell_type": "code",
      "source": [
        "\n",
        "def samplef(a):\n",
        "  print(id(a))\n",
        "  a = 2457\n",
        "  print(\"ID Inside function: {}\".format(id(a)))\n",
        "\n",
        "a = 2457\n",
        "samplef(a)\n",
        "print(\"ID Outside function: {}\".format(id(a)))\n",
        "#n Python, integers are immutable, meaning when you assign a new value to a inside the function, a new reference is created, but outside the function, the original reference remains unchanged.\n",
        "# Since the integer 2457 is used both inside and outside the function, Python internally reuses the same object (for efficiency), so the id() values will be the same."
      ],
      "metadata": {
        "colab": {
          "base_uri": "https://localhost:8080/"
        },
        "id": "21MgwADgrguO",
        "outputId": "f420695c-822c-4233-cd15-5fbe67ec5823"
      },
      "execution_count": 137,
      "outputs": [
        {
          "output_type": "stream",
          "name": "stdout",
          "text": [
            "134493009337328\n",
            "ID Inside function: 134493009345584\n",
            "ID Outside function: 134493009337328\n"
          ]
        }
      ]
    },
    {
      "cell_type": "code",
      "source": [
        "a = 2457\n",
        "b = 2457\n",
        "\n",
        "print(id(a))\n",
        "print(id(b))"
      ],
      "metadata": {
        "colab": {
          "base_uri": "https://localhost:8080/"
        },
        "id": "lxZNVh7Psdwj",
        "outputId": "8dcce88d-3fc8-4e01-c9a6-acb25be2b8c8"
      },
      "execution_count": 138,
      "outputs": [
        {
          "output_type": "stream",
          "name": "stdout",
          "text": [
            "134493009340720\n",
            "134493009343600\n"
          ]
        }
      ]
    },
    {
      "cell_type": "code",
      "source": [
        "\n",
        "def func():\n",
        "  print(\"inside func\")\n",
        "\n",
        "  a = 248900000\n",
        "  b = 248900000\n",
        "  print(id(a))\n",
        "  print(id(b))\n",
        "\n",
        "func()\n",
        "print(\"outside func\")\n",
        "print(id(a))\n",
        "print(id(b))"
      ],
      "metadata": {
        "colab": {
          "base_uri": "https://localhost:8080/"
        },
        "id": "kCa_KZ2KspSF",
        "outputId": "a5398efc-c8b9-4542-f4eb-9b1c135c7713"
      },
      "execution_count": 140,
      "outputs": [
        {
          "output_type": "stream",
          "name": "stdout",
          "text": [
            "inside func\n",
            "134493009343888\n",
            "134493009343888\n",
            "outside func\n",
            "134493009340720\n",
            "134493009343600\n"
          ]
        }
      ]
    },
    {
      "cell_type": "code",
      "source": [
        "def func(a):\n",
        "  a[0] = 100  #we passed tuple and tuple doesnt support updating\n",
        "  return a\n",
        "b = (10,20,30) #instead if we pass list it will not throw any error\n",
        "c = func(b)\n",
        "print(b)\n",
        "print(c)"
      ],
      "metadata": {
        "colab": {
          "base_uri": "https://localhost:8080/",
          "height": 365
        },
        "id": "7WiADt591yga",
        "outputId": "b6148082-1212-4e49-a02e-07ca6bd663b9"
      },
      "execution_count": 145,
      "outputs": [
        {
          "output_type": "error",
          "ename": "TypeError",
          "evalue": "'tuple' object does not support item assignment",
          "traceback": [
            "\u001b[0;31m---------------------------------------------------------------------------\u001b[0m",
            "\u001b[0;31mTypeError\u001b[0m                                 Traceback (most recent call last)",
            "\u001b[0;32m<ipython-input-145-c611c9388bc5>\u001b[0m in \u001b[0;36m<cell line: 5>\u001b[0;34m()\u001b[0m\n\u001b[1;32m      3\u001b[0m   \u001b[0;32mreturn\u001b[0m \u001b[0ma\u001b[0m\u001b[0;34m\u001b[0m\u001b[0;34m\u001b[0m\u001b[0m\n\u001b[1;32m      4\u001b[0m \u001b[0mb\u001b[0m \u001b[0;34m=\u001b[0m \u001b[0;34m(\u001b[0m\u001b[0;36m10\u001b[0m\u001b[0;34m,\u001b[0m\u001b[0;36m20\u001b[0m\u001b[0;34m,\u001b[0m\u001b[0;36m30\u001b[0m\u001b[0;34m)\u001b[0m\u001b[0;34m\u001b[0m\u001b[0;34m\u001b[0m\u001b[0m\n\u001b[0;32m----> 5\u001b[0;31m \u001b[0mc\u001b[0m \u001b[0;34m=\u001b[0m \u001b[0mfunc\u001b[0m\u001b[0;34m(\u001b[0m\u001b[0mb\u001b[0m\u001b[0;34m)\u001b[0m\u001b[0;34m\u001b[0m\u001b[0;34m\u001b[0m\u001b[0m\n\u001b[0m\u001b[1;32m      6\u001b[0m \u001b[0mprint\u001b[0m\u001b[0;34m(\u001b[0m\u001b[0mb\u001b[0m\u001b[0;34m)\u001b[0m\u001b[0;34m\u001b[0m\u001b[0;34m\u001b[0m\u001b[0m\n\u001b[1;32m      7\u001b[0m \u001b[0mprint\u001b[0m\u001b[0;34m(\u001b[0m\u001b[0mc\u001b[0m\u001b[0;34m)\u001b[0m\u001b[0;34m\u001b[0m\u001b[0;34m\u001b[0m\u001b[0m\n",
            "\u001b[0;32m<ipython-input-145-c611c9388bc5>\u001b[0m in \u001b[0;36mfunc\u001b[0;34m(a)\u001b[0m\n\u001b[1;32m      1\u001b[0m \u001b[0;32mdef\u001b[0m \u001b[0mfunc\u001b[0m\u001b[0;34m(\u001b[0m\u001b[0ma\u001b[0m\u001b[0;34m)\u001b[0m\u001b[0;34m:\u001b[0m\u001b[0;34m\u001b[0m\u001b[0;34m\u001b[0m\u001b[0m\n\u001b[0;32m----> 2\u001b[0;31m   \u001b[0ma\u001b[0m\u001b[0;34m[\u001b[0m\u001b[0;36m0\u001b[0m\u001b[0;34m]\u001b[0m \u001b[0;34m=\u001b[0m \u001b[0;36m100\u001b[0m  \u001b[0;31m# scope of this variable a is limited to this particular function, outside the function if you call this variable, u will get error\u001b[0m\u001b[0;34m\u001b[0m\u001b[0;34m\u001b[0m\u001b[0m\n\u001b[0m\u001b[1;32m      3\u001b[0m   \u001b[0;32mreturn\u001b[0m \u001b[0ma\u001b[0m\u001b[0;34m\u001b[0m\u001b[0;34m\u001b[0m\u001b[0m\n\u001b[1;32m      4\u001b[0m \u001b[0mb\u001b[0m \u001b[0;34m=\u001b[0m \u001b[0;34m(\u001b[0m\u001b[0;36m10\u001b[0m\u001b[0;34m,\u001b[0m\u001b[0;36m20\u001b[0m\u001b[0;34m,\u001b[0m\u001b[0;36m30\u001b[0m\u001b[0;34m)\u001b[0m\u001b[0;34m\u001b[0m\u001b[0;34m\u001b[0m\u001b[0m\n\u001b[1;32m      5\u001b[0m \u001b[0mc\u001b[0m \u001b[0;34m=\u001b[0m \u001b[0mfunc\u001b[0m\u001b[0;34m(\u001b[0m\u001b[0mb\u001b[0m\u001b[0;34m)\u001b[0m\u001b[0;34m\u001b[0m\u001b[0;34m\u001b[0m\u001b[0m\n",
            "\u001b[0;31mTypeError\u001b[0m: 'tuple' object does not support item assignment"
          ]
        }
      ]
    },
    {
      "cell_type": "code",
      "source": [
        "def func(a):\n",
        "  a[0] = 100\n",
        "  return a\n",
        "b = [10,20,30] #instead if we pass list it will not throw any error\n",
        "c = func(b)\n",
        "print(b)\n",
        "print(c)"
      ],
      "metadata": {
        "colab": {
          "base_uri": "https://localhost:8080/"
        },
        "id": "LhG5adVz2THO",
        "outputId": "35c10567-6c4b-414c-a106-a548bb241b73"
      },
      "execution_count": 147,
      "outputs": [
        {
          "output_type": "stream",
          "name": "stdout",
          "text": [
            "[100, 20, 30]\n",
            "[100, 20, 30]\n"
          ]
        }
      ]
    },
    {
      "cell_type": "code",
      "source": [
        "def func(a):\n",
        "  a = list(a)\n",
        "  a[0] = 100  # scope of this variable a is limited to this particular function, outside the function if you call this variable, u will get error\n",
        "  return tuple(a)\n",
        "\n",
        "b = (10,20,30)\n",
        "c = func(b)\n",
        "print(b)\n",
        "print(c)"
      ],
      "metadata": {
        "colab": {
          "base_uri": "https://localhost:8080/"
        },
        "id": "zRpUp1qbtJSh",
        "outputId": "1afdc808-f0a9-410e-cec3-283a008e2ffd"
      },
      "execution_count": 146,
      "outputs": [
        {
          "output_type": "stream",
          "name": "stdout",
          "text": [
            "(10, 20, 30)\n",
            "(100, 20, 30)\n"
          ]
        }
      ]
    },
    {
      "cell_type": "code",
      "source": [
        "def myfunc():\n",
        "  a = [1,2,3]\n",
        "  b = a\n",
        "  print(id(a))\n",
        "  print(id(b))\n",
        "  b[0] = 100\n",
        "  print(b)\n",
        "  print(a)\n",
        "\n",
        "myfunc()"
      ],
      "metadata": {
        "colab": {
          "base_uri": "https://localhost:8080/"
        },
        "id": "k4mGyaZztoqY",
        "outputId": "248d413a-5d14-4464-c2f1-c4cee8c6a6e6"
      },
      "execution_count": 142,
      "outputs": [
        {
          "output_type": "stream",
          "name": "stdout",
          "text": [
            "134493010449280\n",
            "134493010449280\n",
            "[100, 2, 3]\n",
            "[100, 2, 3]\n"
          ]
        }
      ]
    },
    {
      "cell_type": "code",
      "source": [
        "a = [1,2,3]\n",
        "b = [1,2,3]\n",
        "b[0]= 100\n",
        "\n",
        "print(b)\n",
        "print(a)\n",
        ""
      ],
      "metadata": {
        "colab": {
          "base_uri": "https://localhost:8080/"
        },
        "id": "3XISGQWst0ye",
        "outputId": "fd54cfdc-3590-48d3-9797-0b01ef9f82a0"
      },
      "execution_count": 143,
      "outputs": [
        {
          "output_type": "stream",
          "name": "stdout",
          "text": [
            "[100, 2, 3]\n",
            "[1, 2, 3]\n"
          ]
        }
      ]
    },
    {
      "cell_type": "code",
      "source": [
        "a = [1,2,3,4]\n",
        "b = a\n",
        "\n",
        "b[0] = 100\n",
        "\n",
        "print(a)\n",
        "print(b)"
      ],
      "metadata": {
        "colab": {
          "base_uri": "https://localhost:8080/"
        },
        "id": "Y--PGkMFt6eI",
        "outputId": "bd552d49-fe88-41b0-cedf-d6f85fd3e4a6"
      },
      "execution_count": 144,
      "outputs": [
        {
          "output_type": "stream",
          "name": "stdout",
          "text": [
            "[100, 2, 3, 4]\n",
            "[100, 2, 3, 4]\n"
          ]
        }
      ]
    }
  ]
}